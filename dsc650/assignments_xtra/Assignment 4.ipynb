{
 "cells": [
  {
   "cell_type": "code",
   "execution_count": 2,
   "metadata": {},
   "outputs": [],
   "source": [
    "import os\n",
    "import json\n",
    "from pathlib import Path\n",
    "import zipfile\n",
    "import email\n",
    "from email.policy import default\n",
    "from email.parser import Parser\n",
    "from datetime import timezone\n",
    "from collections import namedtuple\n",
    "\n",
    "import pandas as pd\n",
    "import s3fs\n",
    "from bs4 import BeautifulSoup\n",
    "from dateutil.parser import parse\n",
    "from chardet.universaldetector import UniversalDetector\n",
    "\n",
    "from pyspark.ml import Pipeline\n",
    "from pyspark.ml.feature import CountVectorizer\n",
    "from pyspark.ml.feature import HashingTF, Tokenizer\n",
    "from pyspark.sql import SparkSession\n",
    "from pyspark.sql.functions import col\n",
    "from pyspark.ml.pipeline import Transformer\n",
    "from pyspark.sql.functions import udf\n",
    "from pyspark.sql.types import StructType, StringType"
   ]
  },
  {
   "cell_type": "code",
   "execution_count": 3,
   "metadata": {},
   "outputs": [
    {
     "name": "stdout",
     "output_type": "stream",
     "text": [
      "C:\\Users\\saman\\git_repos\\dsc650\\dsc650\\assignments\\assignment04\n",
      "C:\\Users\\saman\\git_repos\\dsc650\\dsc650\\assignments\\assignment04\\results\n",
      "C:\\Users\\saman\\git_repos\\dsc650\\dsc650\\assignments\\assignment04\\data\\enron\n"
     ]
    }
   ],
   "source": [
    "current_dir = Path(os.getcwd()).absolute()\n",
    "results_dir = current_dir.joinpath('results')\n",
    "results_dir.mkdir(parents=True, exist_ok=True)\n",
    "data_dir = current_dir.joinpath('data')\n",
    "data_dir.mkdir(parents=True, exist_ok=True)\n",
    "enron_data_dir = data_dir.joinpath('enron')\n",
    "\n",
    "print(current_dir)\n",
    "print(results_dir)\n",
    "print(enron_data_dir)"
   ]
  },
  {
   "cell_type": "markdown",
   "metadata": {},
   "source": [
    "The following code loads data to your local JupyterHub instance. You only need to run this once. "
   ]
  },
  {
   "cell_type": "markdown",
   "metadata": {},
   "source": [
    "This code reads emails and creates a Spark dataframe with three columns. "
   ]
  },
  {
   "cell_type": "markdown",
   "metadata": {},
   "source": [
    "## Assignment 4.1"
   ]
  },
  {
   "cell_type": "code",
   "execution_count": 4,
   "metadata": {},
   "outputs": [],
   "source": [
    "def read_raw_email(email_path):\n",
    "    detector = UniversalDetector()\n",
    "    \n",
    "    try:\n",
    "        with open(email_path) as f:\n",
    "            original_msg = f.read()\n",
    "    except UnicodeDecodeError:\n",
    "        detector.reset()\n",
    "        with open(email_path, 'rb') as f:\n",
    "            for line in f.readlines():\n",
    "                detector.feed(line)\n",
    "                if detector.done:\n",
    "                    break\n",
    "        detector.close()\n",
    "        encoding = detector.result['encoding']\n",
    "        with open(email_path, encoding=encoding) as f:\n",
    "            original_msg = f.read()\n",
    "            \n",
    "    return original_msg "
   ]
  },
  {
   "cell_type": "code",
   "execution_count": 5,
   "metadata": {},
   "outputs": [],
   "source": [
    "spark = SparkSession\\\n",
    "    .builder\\\n",
    "    .appName(\"Assignment04\")\\\n",
    "    .getOrCreate()"
   ]
  },
  {
   "cell_type": "code",
   "execution_count": 6,
   "metadata": {},
   "outputs": [],
   "source": [
    "def sub_str(curr_dir, data_dir):\n",
    "    \"\"\" \n",
    "    This function is to cut the relative\n",
    "    path from the current path\n",
    "    \"\"\"\n",
    "    curr_dir = f'{curr_dir}'\n",
    "    data_dir = f'{data_dir}'\n",
    "    # print(curr_dir)\n",
    "    # print(len(curr_dir))\n",
    "    start = 0\n",
    "    end = len(curr_dir)\n",
    "    # print(data_dir)\n",
    "    # print(len(data_dir))\n",
    "    rel_path = data_dir[end+1:]\n",
    "    \n",
    "    return rel_path"
   ]
  },
  {
   "cell_type": "code",
   "execution_count": 22,
   "metadata": {},
   "outputs": [],
   "source": [
    "def make_spark_df():\n",
    "    records = []\n",
    "    message_path = []\n",
    "    root_folder = []\n",
    "    message_id = []\n",
    "    for root, dirs, files in os.walk(enron_data_dir):\n",
    "        for file_path in files:\n",
    "            ## Current path is now the file path to the current email.  \n",
    "            ## Use this path to read the following information\n",
    "            ## original_msg\n",
    "            ## username (Hint: It is the root folder)\n",
    "            ## id (The relative path of the email message)\n",
    "            current_path = Path(root).joinpath(file_path)\n",
    "            id = sub_str(enron_data_dir,current_path)\n",
    "            uname = f'{id}'[:f'{id}'.find('\\\\')]\n",
    "            org_msg = read_raw_email(current_path)\n",
    "            message_path.append(org_msg)\n",
    "            root_folder.append(uname)\n",
    "            message_id.append(id)\n",
    "    \n",
    "    ## TODO: Complete the code to code to create the Spark dataframe\n",
    "    records = list(zip(message_id,root_folder,message_path))\n",
    "    columns = [\"id\",\"username\",\"original_msg\"]\n",
    "    return spark.createDataFrame(records).toDF(*columns)"
   ]
  },
  {
   "cell_type": "code",
   "execution_count": 23,
   "metadata": {
    "scrolled": false
   },
   "outputs": [
    {
     "name": "stdout",
     "output_type": "stream",
     "text": [
      "+--------------------+--------+--------------------+\n",
      "|                  id|username|        original_msg|\n",
      "+--------------------+--------+--------------------+\n",
      "|  davis-d\\2_trash\\1_| davis-d|Message-ID: <1774...|\n",
      "|  davis-d\\2_trash\\2_| davis-d|Message-ID: <2467...|\n",
      "|  davis-d\\2_trash\\3_| davis-d|Message-ID: <2833...|\n",
      "|  davis-d\\2_trash\\4_| davis-d|Message-ID: <1972...|\n",
      "|davis-d\\2_trash\\c...| davis-d|Message-ID: <1807...|\n",
      "|davis-d\\2_trash\\c...| davis-d|Message-ID: <2705...|\n",
      "|davis-d\\2_trash\\c...| davis-d|Message-ID: <2977...|\n",
      "|davis-d\\2_trash\\c...| davis-d|Message-ID: <3065...|\n",
      "|davis-d\\2_trash\\c...| davis-d|Message-ID: <2913...|\n",
      "|davis-d\\2_trash\\c...| davis-d|Message-ID: <1612...|\n",
      "|davis-d\\2_trash\\c...| davis-d|Message-ID: <6700...|\n",
      "|davis-d\\2_trash\\c...| davis-d|Message-ID: <1108...|\n",
      "|  davis-d\\accting\\1_| davis-d|Message-ID: <3109...|\n",
      "|  davis-d\\accting\\2_| davis-d|Message-ID: <1243...|\n",
      "|  davis-d\\accting\\3_| davis-d|Message-ID: <2387...|\n",
      "|davis-d\\all_docum...| davis-d|Message-ID: <2518...|\n",
      "|davis-d\\all_docum...| davis-d|Message-ID: <4942...|\n",
      "|davis-d\\all_docum...| davis-d|Message-ID: <1544...|\n",
      "|davis-d\\all_docum...| davis-d|Message-ID: <1047...|\n",
      "|davis-d\\all_docum...| davis-d|Message-ID: <4217...|\n",
      "+--------------------+--------+--------------------+\n",
      "only showing top 20 rows\n",
      "\n"
     ]
    }
   ],
   "source": [
    "df = make_spark_df()\n",
    "df.show()"
   ]
  },
  {
   "cell_type": "code",
   "execution_count": 24,
   "metadata": {},
   "outputs": [
    {
     "name": "stdout",
     "output_type": "stream",
     "text": [
      "root\n",
      " |-- id: string (nullable = true)\n",
      " |-- username: string (nullable = true)\n",
      " |-- original_msg: string (nullable = true)\n",
      "\n"
     ]
    }
   ],
   "source": [
    "df.printSchema()"
   ]
  },
  {
   "cell_type": "code",
   "execution_count": 15,
   "metadata": {},
   "outputs": [],
   "source": [
    "def read_dir():\n",
    "    records = []\n",
    "    message_path = []\n",
    "    root_folder = []\n",
    "    message_id = []\n",
    "    for root, dirs, files in os.walk(enron_data_dir):\n",
    "        for file_path in files:\n",
    "          current_path = Path(root).joinpath(file_path)\n",
    "          id = sub_str(enron_data_dir,current_path)\n",
    "          # org_msg = read_raw_email(current_path)\n",
    "          org_msg = \"message\"\n",
    "          message_path.append(org_msg)\n",
    "          root_folder.append(root)\n",
    "          message_id.append(id)\n",
    "\n",
    "    records = list(zip(message_id,root_folder,message_path))\n",
    "    return pd.DataFrame(records, columns = ['message_id','username','original_message'])\n",
    "\n",
    "df = read_dir()"
   ]
  },
  {
   "cell_type": "code",
   "execution_count": 16,
   "metadata": {},
   "outputs": [
    {
     "name": "stdout",
     "output_type": "stream",
     "text": [
      "(69, 3)\n"
     ]
    },
    {
     "data": {
      "text/html": [
       "<div>\n",
       "<style scoped>\n",
       "    .dataframe tbody tr th:only-of-type {\n",
       "        vertical-align: middle;\n",
       "    }\n",
       "\n",
       "    .dataframe tbody tr th {\n",
       "        vertical-align: top;\n",
       "    }\n",
       "\n",
       "    .dataframe thead th {\n",
       "        text-align: right;\n",
       "    }\n",
       "</style>\n",
       "<table border=\"1\" class=\"dataframe\">\n",
       "  <thead>\n",
       "    <tr style=\"text-align: right;\">\n",
       "      <th></th>\n",
       "      <th>message_id</th>\n",
       "      <th>username</th>\n",
       "      <th>original_message</th>\n",
       "    </tr>\n",
       "  </thead>\n",
       "  <tbody>\n",
       "    <tr>\n",
       "      <th>0</th>\n",
       "      <td>davis-d\\2_trash\\1_</td>\n",
       "      <td>C:\\Users\\saman\\git_repos\\dsc650\\dsc650\\assignments\\assignment04\\data\\enron\\davis-d\\2_trash</td>\n",
       "      <td>message</td>\n",
       "    </tr>\n",
       "    <tr>\n",
       "      <th>1</th>\n",
       "      <td>davis-d\\2_trash\\2_</td>\n",
       "      <td>C:\\Users\\saman\\git_repos\\dsc650\\dsc650\\assignments\\assignment04\\data\\enron\\davis-d\\2_trash</td>\n",
       "      <td>message</td>\n",
       "    </tr>\n",
       "    <tr>\n",
       "      <th>2</th>\n",
       "      <td>davis-d\\2_trash\\3_</td>\n",
       "      <td>C:\\Users\\saman\\git_repos\\dsc650\\dsc650\\assignments\\assignment04\\data\\enron\\davis-d\\2_trash</td>\n",
       "      <td>message</td>\n",
       "    </tr>\n",
       "    <tr>\n",
       "      <th>3</th>\n",
       "      <td>davis-d\\2_trash\\4_</td>\n",
       "      <td>C:\\Users\\saman\\git_repos\\dsc650\\dsc650\\assignments\\assignment04\\data\\enron\\davis-d\\2_trash</td>\n",
       "      <td>message</td>\n",
       "    </tr>\n",
       "    <tr>\n",
       "      <th>4</th>\n",
       "      <td>davis-d\\2_trash\\candis\\1_</td>\n",
       "      <td>C:\\Users\\saman\\git_repos\\dsc650\\dsc650\\assignments\\assignment04\\data\\enron\\davis-d\\2_trash\\candis</td>\n",
       "      <td>message</td>\n",
       "    </tr>\n",
       "    <tr>\n",
       "      <th>5</th>\n",
       "      <td>davis-d\\2_trash\\candis\\2_</td>\n",
       "      <td>C:\\Users\\saman\\git_repos\\dsc650\\dsc650\\assignments\\assignment04\\data\\enron\\davis-d\\2_trash\\candis</td>\n",
       "      <td>message</td>\n",
       "    </tr>\n",
       "    <tr>\n",
       "      <th>6</th>\n",
       "      <td>davis-d\\2_trash\\candis\\3_</td>\n",
       "      <td>C:\\Users\\saman\\git_repos\\dsc650\\dsc650\\assignments\\assignment04\\data\\enron\\davis-d\\2_trash\\candis</td>\n",
       "      <td>message</td>\n",
       "    </tr>\n",
       "    <tr>\n",
       "      <th>7</th>\n",
       "      <td>davis-d\\2_trash\\candis\\4_</td>\n",
       "      <td>C:\\Users\\saman\\git_repos\\dsc650\\dsc650\\assignments\\assignment04\\data\\enron\\davis-d\\2_trash\\candis</td>\n",
       "      <td>message</td>\n",
       "    </tr>\n",
       "    <tr>\n",
       "      <th>8</th>\n",
       "      <td>davis-d\\2_trash\\charles\\1_</td>\n",
       "      <td>C:\\Users\\saman\\git_repos\\dsc650\\dsc650\\assignments\\assignment04\\data\\enron\\davis-d\\2_trash\\charles</td>\n",
       "      <td>message</td>\n",
       "    </tr>\n",
       "    <tr>\n",
       "      <th>9</th>\n",
       "      <td>davis-d\\2_trash\\charles\\2_</td>\n",
       "      <td>C:\\Users\\saman\\git_repos\\dsc650\\dsc650\\assignments\\assignment04\\data\\enron\\davis-d\\2_trash\\charles</td>\n",
       "      <td>message</td>\n",
       "    </tr>\n",
       "  </tbody>\n",
       "</table>\n",
       "</div>"
      ],
      "text/plain": [
       "                   message_id                                                                                            username original_message\n",
       "0          davis-d\\2_trash\\1_          C:\\Users\\saman\\git_repos\\dsc650\\dsc650\\assignments\\assignment04\\data\\enron\\davis-d\\2_trash          message\n",
       "1          davis-d\\2_trash\\2_          C:\\Users\\saman\\git_repos\\dsc650\\dsc650\\assignments\\assignment04\\data\\enron\\davis-d\\2_trash          message\n",
       "2          davis-d\\2_trash\\3_          C:\\Users\\saman\\git_repos\\dsc650\\dsc650\\assignments\\assignment04\\data\\enron\\davis-d\\2_trash          message\n",
       "3          davis-d\\2_trash\\4_          C:\\Users\\saman\\git_repos\\dsc650\\dsc650\\assignments\\assignment04\\data\\enron\\davis-d\\2_trash          message\n",
       "4   davis-d\\2_trash\\candis\\1_   C:\\Users\\saman\\git_repos\\dsc650\\dsc650\\assignments\\assignment04\\data\\enron\\davis-d\\2_trash\\candis          message\n",
       "5   davis-d\\2_trash\\candis\\2_   C:\\Users\\saman\\git_repos\\dsc650\\dsc650\\assignments\\assignment04\\data\\enron\\davis-d\\2_trash\\candis          message\n",
       "6   davis-d\\2_trash\\candis\\3_   C:\\Users\\saman\\git_repos\\dsc650\\dsc650\\assignments\\assignment04\\data\\enron\\davis-d\\2_trash\\candis          message\n",
       "7   davis-d\\2_trash\\candis\\4_   C:\\Users\\saman\\git_repos\\dsc650\\dsc650\\assignments\\assignment04\\data\\enron\\davis-d\\2_trash\\candis          message\n",
       "8  davis-d\\2_trash\\charles\\1_  C:\\Users\\saman\\git_repos\\dsc650\\dsc650\\assignments\\assignment04\\data\\enron\\davis-d\\2_trash\\charles          message\n",
       "9  davis-d\\2_trash\\charles\\2_  C:\\Users\\saman\\git_repos\\dsc650\\dsc650\\assignments\\assignment04\\data\\enron\\davis-d\\2_trash\\charles          message"
      ]
     },
     "execution_count": 16,
     "metadata": {},
     "output_type": "execute_result"
    }
   ],
   "source": [
    "pd.set_option('display.max_columns', None)\n",
    "pd.set_option('display.expand_frame_repr', False)\n",
    "pd.set_option('max_colwidth', None)\n",
    "\n",
    "print(df.shape)\n",
    "df.head(10)"
   ]
  },
  {
   "cell_type": "code",
   "execution_count": null,
   "metadata": {},
   "outputs": [],
   "source": [
    "email_path = \"[c:\\Users\\saman\\git_repos\\dsc650\\dsc650\\assignments\\assignment04\\data\\enron\\davis-d\\2_trash\\1]\"\n",
    "print(email_path)\n",
    "read_raw_email(email_path)"
   ]
  },
  {
   "cell_type": "code",
   "execution_count": null,
   "metadata": {},
   "outputs": [],
   "source": [
    "sub_str(current_dir,enron_data_dir)"
   ]
  },
  {
   "cell_type": "code",
   "execution_count": 19,
   "metadata": {},
   "outputs": [
    {
     "name": "stdout",
     "output_type": "stream",
     "text": [
      "C:\\Users\\saman\\git_repos\\dsc650\\dsc650\\assignments\\assignment04\n"
     ]
    },
    {
     "data": {
      "text/plain": [
       "['C:']"
      ]
     },
     "execution_count": 19,
     "metadata": {},
     "output_type": "execute_result"
    }
   ],
   "source": [
    "print(current_dir)\n",
    "output_1 = [f'{current_dir}'[:f'{current_dir}'.find('\\\\')] ]\n",
    "output_1"
   ]
  },
  {
   "cell_type": "code",
   "execution_count": null,
   "metadata": {},
   "outputs": [],
   "source": [
    "list1 = [1,2,3,4,5]\n",
    "list2 = ['a','b','c','d','e']\n",
    "list3 = []\n",
    "list3.append(list1)\n",
    "list3.append(list2)\n",
    "df = pd.DataFrame(list3)\n",
    "df"
   ]
  },
  {
   "cell_type": "code",
   "execution_count": null,
   "metadata": {},
   "outputs": [],
   "source": [
    "output_columns = [\n",
    "        'payload',\n",
    "        'text',\n",
    "        'Message_D',\n",
    "        'Date',\n",
    "        'From',\n",
    "        'To',\n",
    "        'Subject',\n",
    "        'Mime-Version',\n",
    "        'Content-Type',\n",
    "        'Content-Transfer-Encoding',\n",
    "        'X-From',\n",
    "        'X-To',\n",
    "        'X-cc',\n",
    "        'X-bcc',\n",
    "        'X-Folder',\n",
    "        'X-Origin',\n",
    "        'X-FileName',\n",
    "        'Cc',\n",
    "        'Bcc' \n",
    "]\n",
    "\n",
    "columns = [column.replace('-', '_') for column in output_columns]\n",
    "\n",
    "ParsedEmail = namedtuple('ParsedEmail', columns)"
   ]
  },
  {
   "cell_type": "code",
   "execution_count": null,
   "metadata": {},
   "outputs": [],
   "source": [
    "listOfNames =  ['jack','jack','Riti','Riti','Riti', 'Aadi','None']\n",
    "listOfAge   =  [34,34, 30,30,30, 16, 10]\n",
    "listOfCity  =  ['Sydney','Sydney', 'Delhi','Delhi','Delhi', 'New york','Omaha']\n",
    "# Create a zipped list of tuples from above lists\n",
    "zippedList =  list(zip(listOfNames, listOfAge, listOfCity))\n",
    "# Create a dataframe from zipped list\n",
    "df = pd.DataFrame(zippedList, columns = ['Name' , 'Age', 'City'], index=[1, 2, 3,4,5,6,7]) "
   ]
  },
  {
   "cell_type": "code",
   "execution_count": null,
   "metadata": {
    "scrolled": false
   },
   "outputs": [],
   "source": [
    "def read_raw_email(email_path):\n",
    "    detector = UniversalDetector()\n",
    "    \n",
    "    try:\n",
    "        with open(email_path) as f:\n",
    "            original_msg = f.read()\n",
    "    except UnicodeDecodeError:\n",
    "        detector.reset()\n",
    "        with open(email_path, 'rb') as f:\n",
    "            for line in f.readlines():\n",
    "                detector.feed(line)\n",
    "                if detector.done:\n",
    "                    break\n",
    "        detector.close()\n",
    "        encoding = detector.result['encoding']\n",
    "        with open(email_path, encoding=encoding) as f:\n",
    "            original_msg = f.read()\n",
    "            \n",
    "    return original_msg \n",
    "\n",
    "def make_spark_df():\n",
    "    records = []\n",
    "    for root, dirs, files in os.walk(enron_data_dir):\n",
    "        for file_path in files:\n",
    "            ## Current path is now the file path to the current email.  \n",
    "            ## Use this path to read the following information\n",
    "            ## original_msg\n",
    "            ## username (Hint: It is the root folder)\n",
    "            ## id (The relative path of the email message)\n",
    "            current_path = Path(root).joinpath(file_path)\n",
    "            \n",
    "    ## TODO: Complete the code to code to create the Spark dataframe\n",
    "    return spark.createDataFrame()\n",
    "\n",
    "df = make_spark_df()"
   ]
  },
  {
   "cell_type": "markdown",
   "metadata": {},
   "source": [
    "## Assignment 4.2\n",
    "\n",
    "Use `plain_msg_example` and `html_msg_example` to create a function that parses an email message. "
   ]
  },
  {
   "cell_type": "code",
   "execution_count": null,
   "metadata": {},
   "outputs": [],
   "source": [
    "plain_msg_example = \"\"\"\n",
    "Message-ID: <6742786.1075845426893.JavaMail.evans@thyme>\n",
    "Date: Thu, 7 Jun 2001 11:05:33 -0700 (PDT)\n",
    "From: jeffrey.hammad@enron.com\n",
    "To: andy.zipper@enron.com\n",
    "Subject: Thanks for the interview\n",
    "Mime-Version: 1.0\n",
    "Content-Type: text/plain; charset=us-ascii\n",
    "Content-Transfer-Encoding: 7bit\n",
    "X-From: Hammad, Jeffrey </O=ENRON/OU=NA/CN=RECIPIENTS/CN=NOTESADDR/CN=CBBE377A-24F58854-862567DD-591AE7>\n",
    "X-To: Zipper, Andy </O=ENRON/OU=NA/CN=RECIPIENTS/CN=AZIPPER>\n",
    "X-cc: \n",
    "X-bcc: \n",
    "X-Folder: \\Zipper, Andy\\Zipper, Andy\\Inbox\n",
    "X-Origin: ZIPPER-A\n",
    "X-FileName: Zipper, Andy.pst\n",
    "\n",
    "Andy,\n",
    "\n",
    "Thanks for giving me the opportunity to meet with you about the Analyst/ Associate program.  I enjoyed talking to you, and look forward to contributing to the success that the program has enjoyed.  \n",
    "\n",
    "Thanks and Best Regards,\n",
    "\n",
    "Jeff Hammad\n",
    "\"\"\"\n",
    "\n",
    "html_msg_example = \"\"\"\n",
    "Message-ID: <21013632.1075862392611.JavaMail.evans@thyme>\n",
    "Date: Mon, 19 Nov 2001 12:15:44 -0800 (PST)\n",
    "From: insynconline.6jy5ympb.d@insync-palm.com\n",
    "To: tstaab@enron.com\n",
    "Subject: Last chance for special offer on Palm OS Upgrade!\n",
    "Mime-Version: 1.0\n",
    "Content-Type: text/plain; charset=us-ascii\n",
    "Content-Transfer-Encoding: 7bit\n",
    "X-From: InSync Online <InSyncOnline.6jy5ympb.d@insync-palm.com>\n",
    "X-To: THERESA STAAB <tstaab@enron.com>\n",
    "X-cc: \n",
    "X-bcc: \n",
    "X-Folder: \\TSTAAB (Non-Privileged)\\Staab, Theresa\\Deleted Items\n",
    "X-Origin: Staab-T\n",
    "X-FileName: TSTAAB (Non-Privileged).pst\n",
    "\n",
    "<html>\n",
    "\n",
    "<html>\n",
    "<head>\n",
    "<title>Paprika</title>\n",
    "<meta http-equiv=\"Content-Type\" content=\"text/html;\">\n",
    "</head>\n",
    "<body bgcolor=\"#FFFFFF\" TEXT=\"#333333\" LINK=\"#336699\" VLINK=\"#6699cc\" ALINK=\"#ff9900\">\n",
    "<table border=\"0\" cellpadding=\"0\" cellspacing=\"0\" width=\"582\">\n",
    "<tr valign=\"top\">\n",
    "  <td width=\"582\" colspan=\"9\"><nobr><a href=\"http://insync-online.p04.com/u.d?BEReaQA5eczXB=1\"><img src=\"http://images4.postdirect.com/master-images/404707/upper_left.gif\" alt=\"\" width=\"103\" height=\"110\" hspace=\"0\" vspace=\"0\" border=\"0\"></a><a href=\"http://insync-online.p04.com/u.d?AkReaQA5eczXE=11\"><img src=\"http://images4.postdirect.com/master-images/404707/upper_right.gif\" alt=\"\" width=\"479\" height=\"110\" hspace=\"0\" vspace=\"0\" border=\"0\"></a></nobr></td>\n",
    "</tr>\n",
    "<tr valign=\"top\">\n",
    "  <td width=\"4\" bgcolor=\"#CCCCCC\"><img src=\"http://images4.postdirect.com/master-images/404707/clear.gif\" width=\"4\" height=\"1\" hspace=\"0\" vspace=\"0\" border=\"0\" alt=\"\"></td>\n",
    "  <td width=\"20\"><img src=\"http://images4.postdirect.com/master-images/404707/clear.gif\" width=\"20\" height=\"1\" hspace=\"0\" vspace=\"0\" border=\"0\" alt=\"\"></td>\n",
    "  <td width=\"165\"><br><a href=\"http://insync-online.p04.com/u.d?LkReaQA5eczXL=21\"><img src=\"http://images4.postdirect.com/master-images/404707/screen1.gif\" alt=\"\" width=\"165\" height=\"159\" hspace=\"0\" vspace=\"0\" border=\"0\"></a><br><img src=\"http://images4.postdirect.com/master-images/404707/screen1_text.gif\" alt=\"\" width=\"93\" height=\"26\" hspace=\"0\" vspace=\"0\" border=\"0\"></td>\n",
    "  <td width=\"20\"><img src=\"http://images4.postdirect.com/master-images/404707/clear.gif\" width=\"20\" height=\"1\" hspace=\"0\" vspace=\"0\" border=\"0\" alt=\"\"></td>\n",
    "  <td width=\"165\"><br><a href=\"http://insync-online.p04.com/u.d?BkReaQA5eczXO=31\"><img src=\"http://images4.postdirect.com/master-images/404707/screen2.gif\" alt=\"\" width=\"165\" height=\"159\" hspace=\"0\" vspace=\"0\" border=\"0\"></a><br><img src=\"http://images4.postdirect.com/master-images/404707/screen2_text.gif\" alt=\"\" width=\"93\" height=\"26\" hspace=\"0\" vspace=\"0\" border=\"0\"></td>\n",
    "  <td width=\"20\"><img src=\"http://images4.postdirect.com/master-images/404707/clear.gif\" width=\"20\" height=\"1\" hspace=\"0\" vspace=\"0\" border=\"0\" alt=\"\"></td>\n",
    "  <td width=\"165\"><br><a href=\"http://insync-online.p04.com/u.d?JkReaQA5eczXRs=41\"><img src=\"http://images4.postdirect.com/master-images/404707/screen3.gif\" alt=\"\" width=\"165\" height=\"159\" hspace=\"0\" vspace=\"0\" border=\"0\"></a><br><img src=\"http://images4.postdirect.com/master-images/404707/screen3_text.gif\" alt=\"\" width=\"93\" height=\"26\" hspace=\"0\" vspace=\"0\" border=\"0\"></td>\n",
    "  <td width=\"19\"><img src=\"http://images4.postdirect.com/master-images/404707/clear.gif\" width=\"19\" height=\"1\" hspace=\"0\" vspace=\"0\" border=\"0\" alt=\"\"></td>\n",
    "  <td width=\"4\" bgcolor=\"#CCCCCC\"><img src=\"http://images4.postdirect.com/master-images/404707/clear.gif\" width=\"4\" height=\"1\" hspace=\"0\" vspace=\"0\" border=\"0\" alt=\"\"></td>\n",
    "</tr>\n",
    "</table>\n",
    "<table border=\"0\" cellpadding=\"0\" cellspacing=\"0\" width=\"582\">\n",
    "<tr valign=\"top\">\n",
    "  <td width=\"4\" bgcolor=\"#CCCCCC\"><img src=\"http://images4.postdirect.com/master-images/404707/clear.gif\" width=\"4\" height=\"1\" hspace=\"0\" vspace=\"0\" border=\"0\" alt=\"\"></td>\n",
    "  <td width=\"574\"><br>\n",
    "    <table border=\"0\" cellpadding=\"0\" cellspacing=\"0\" width=\"574\" bgcolor=\"#99ccff\">\n",
    "    <tr>\n",
    "      <td width=\"50\"><img src=\"http://images4.postdirect.com/master-images/404707/clear.gif\" width=\"50\" height=\"1\" hspace=\"0\" vspace=\"0\" border=\"0\" alt=\"\"></td>\n",
    "      <td width=\"474\"><font face=\"verdana, arial\" size=\"-2\"color=\"#000000\">\n",
    "        <br>\n",
    "        Dear THERESA,\n",
    "        <br><br>\n",
    "        Due to overwhelming demand for the Palm OS&#174; v4.1 Upgrade with Mobile Connectivity, we are \n",
    "        extending the special offer of 25% off through November 30, 2001. So there's still time to significantly \n",
    "        increase the functionality of your Palm&#153; III, IIIx, IIIxe, IIIc, V or Vx handheld. Step up to the \n",
    "        new Palm OS v4.1 through this extended special offer. You'll receive the brand new Palm OS v4.1 \n",
    "        <b>for just $29.95 when you use Promo Code <font color=\"#FF0000\">OS41WAVE</font></b>. That's a \n",
    "        <b>$10 savings</b> off the list price. \n",
    "        <br><br>\n",
    "        <a href=\"http://insync-online.p04.com/u.d?NkReaQA5eczXRh=51\">Click here to view a full product demo now</a>.\n",
    "        <br><br>\n",
    "        <a href=\"http://insync-online.p04.com/u.d?MkReaQA5eczXRm=61\"><img src=\"http://images4.postdirect.com/master-images/404707/title1.gif\" alt=\"\" width=\"336\" height=\"20\" hspace=\"0\" vspace=\"0\" border=\"0\"></a>\n",
    "        <br><br>\n",
    "        You can do a lot more with your Palm&#153; handheld when you upgrade to the Palm OS v4.1. All your \n",
    "        favorite features just got even better and there are some terrific new additions:\n",
    "        <br><br>\n",
    "        <LI> Handwrite notes and even draw pictures right on your Palm&#153 handheld</LI>\n",
    "        <LI> Tap letters with your stylus and use Graffiti&#174; at the same time with the enhanced onscreen keyboard</LI>\n",
    "        <LI> Improved Date Book functionality lets you view, snooze or clear multiple alarms all with a single tap </LI>\n",
    "        <LI> You can easily change time-zone settings</LI>\n",
    "        \n",
    "        <br><br>\n",
    "        <a href=\"http://insync-online.p04.com/u.d?WkReaQA5eczXRb=71\"><img src=\"http://images4.postdirect.com/master-images/404707/title2.gif\" alt=\"\" width=\"460\" height=\"20\" hspace=\"0\" vspace=\"0\" border=\"0\"></a>\n",
    "        <br><br>\n",
    "        <LI> <nobr>Mask/unmask</nobr> private records or hide/unhide directly within the application</LI>\n",
    "        <LI> Lock your device automatically at a designated time using the new Autolocking feature</LI>\n",
    "        <LI> Always remember your password with our new Hint feature*</LI>\n",
    "        \n",
    "        <br><br>\n",
    "        <a href=\"http://insync-online.p04.com/u.d?VEReaQA5eczXRQ=81\"><img src=\"http://images4.postdirect.com/master-images/404707/title3.gif\" alt=\"\" width=\"461\" height=\"31\" hspace=\"0\" vspace=\"0\" border=\"0\"></a>\n",
    "        <br><br>\n",
    "        <LI> Use your GSM compatible mobile phone or modem to get online and access the web</LI>\n",
    "        <LI> Stay connected with email, instant messaging and text messaging to GSM mobile phones</LI>\n",
    "        <LI> Send applications or records through your cell phone to schedule meetings and even \"beam\" \n",
    "             important information to others</LI>\n",
    "        \n",
    "        <br><br>\n",
    "        All this comes in a new operating system that can be yours for just $29.95! <a href=\"http://insync-online.p04.com/u.d?MkReaQA5eczXRV=91\">Click here to \n",
    "        upgrade to the new Palm&#153; OS v4.1</a> and you'll also get the latest Palm desktop software. Or call \n",
    "        <nobr>1-800-881-7256</nobr> to order via phone. \n",
    "        <br><br>\n",
    "        Sincerely,<br>\n",
    "        The Palm Team\n",
    "        <br><br>\n",
    "        P.S. Remember, this extended offer opportunity of 25% savings absolutely ends on November 30, 2001 \n",
    "        and is only available through the Palm Store when you use Promo Code <b><font color=\"#FF0000\">OS41WAVE</font></b>.\n",
    "        <br><br>\n",
    "        <img src=\"http://images4.postdirect.com/master-images/404707/bottom_button.gif\" align=\"right\" alt=\"\" width=\"295\" height=\"60\" hspace=\"0\" vspace=\"0\" border=\"0\">\n",
    "        <br><img src=\"http://images4.postdirect.com/master-images/404707/clear.gif\" width=\"474\" height=\"1\" hspace=\"0\" vspace=\"0\" border=\"0\" alt=\"\">\n",
    "        </font></td>\n",
    "      <td width=\"50\"><img src=\"http://images4.postdirect.com/master-images/404707/clear.gif\" width=\"50\" height=\"1\" hspace=\"0\" vspace=\"0\" border=\"0\" alt=\"\"></td>\n",
    "    </tr>\n",
    "    </table></td>\n",
    "    <td width=\"4\" bgcolor=\"#CCCCCC\"><img src=\"http://images4.postdirect.com/master-images/404707/clear.gif\" width=\"4\" height=\"1\" hspace=\"0\" vspace=\"0\" border=\"0\" alt=\"\"></td>\n",
    "  </tr>\n",
    "  <tr>\n",
    "  <td colspan=\"3\"><img src=\"http://images4.postdirect.com/master-images/404707/bottom.gif\" width=\"582\" height=\"67\" hspace=\"0\" vspace=\"0\" border=\"0\"></td>\n",
    "  </tr>\n",
    "</table>\n",
    "<table border=\"0\" cellpadding=\"0\" cellspacing=\"0\" width=\"582\">\n",
    "  <tr>\n",
    "    <td width=\"54\"><img src=\"http://images4.postdirect.com/master-images/404707/clear.gif\" width=\"54\" height=\"1\" hspace=\"0\" vspace=\"0\" border=\"0\" alt=\"\"></td>\n",
    "    <td width=\"474\"><font face=\"arial, verdana\" size=\"-2\" color=\"#000000\"><br>\n",
    "    * This feature is available on the Palm&#153; IIIx, Palm&#153; IIIxe, and Palm&#153; Vx. <br><br>\n",
    "    ** Note: To use the MIK functionality, you need either a Palm OS&#174; compatible modem or a phone \n",
    "    with  <nobr>built-in</nobr> modem or data capability that has either an infrared port or cable exits.  If you \n",
    "    are using a phone, you must have data services from your mobile service provider.  <a href=\"http://insync-online.p04.com/u.d?RkReaQA5eczXRK=101\">Click here</a> for \n",
    "    a list of tested and supported phones that you can use with the MIK. Cable not provided.\n",
    "    <br><br>\n",
    "    ------------------<br>\n",
    "    To modify your profile or unsubscribe from Palm newsletters, <a href=\"http://insync-online.p04.com/u.d?KkReaQA5eczXRE=121\">click here</a>. \n",
    "    Or, unsubscribe by replying to this message, with \"unsubscribe\" as the subject line of the message. \n",
    "    <br><br>\n",
    "    ------------------<br>\n",
    "    Copyright&#169; 2001 Palm, Inc. Palm OS, Palm Computing, HandFAX, HandSTAMP, HandWEB, Graffiti, \n",
    "    HotSync, iMessenger, MultiMail, Palm.Net, PalmConnect, PalmGlove, PalmModem, PalmPoint, PalmPrint, \n",
    "    and the Palm Platform Compatible Logo are registered trademarks of Palm, Inc. Palm, the Palm logo, \n",
    "    AnyDay, EventClub, HandMAIL, the HotSync Logo, PalmGear, PalmGlove, PalmPix, Palm Powered, the Palm \n",
    "    trade dress, PalmSource, Smartcode, and Simply Palm are trademarks of Palm, Inc. All other brands and \n",
    "    product names may be trademarks or registered trademarks of their respective owners.</font>\n",
    "    <img src=\"http://images4.postdirect.com/master-images/404707/clear.gif\" width=\"474\" height=\"1\" hspace=\"0\" vspace=\"0\" border=\"0\" alt=\"\"></td>\n",
    "    <td width=\"54\"><img src=\"http://images4.postdirect.com/master-images/404707/clear.gif\" width=\"54\" height=\"1\" hspace=\"0\" vspace=\"0\" border=\"0\" alt=\"\"></td>\n",
    "  </tr>\n",
    "</table><br><br><br><br>\n",
    "<!-- The following image is included for message detection -->\n",
    "<img src=\"http://p04.com/1x1.dyn\" border=\"0\" alt=\"\" width=\"1\" height=\"1\">\n",
    "<img src=\"http://p04.com/1x1.dyn?0vEGou8Ig30ba2L2bLn\" width=1 height=1></body>\n",
    "</html>\n",
    "\n",
    "</html>\n",
    "\"\"\"\n",
    "plain_msg_example = plain_msg_example.strip()\n",
    "html_msg_example = html_msg_example.strip()"
   ]
  },
  {
   "cell_type": "code",
   "execution_count": null,
   "metadata": {},
   "outputs": [],
   "source": [
    "def parse_html_payload(payload):\n",
    "    \"\"\"\n",
    "    This function uses Beautiful Soup to read HTML data\n",
    "    and return the text.  If the payload is plain text, then\n",
    "    Beautiful Soup will return the original content\n",
    "    \"\"\"\n",
    "    soup = BeautifulSoup(payload, 'html.parser')\n",
    "    return str(soup.get_text()).encode('utf-8').decode('utf-8')\n",
    "\n",
    "def parse_email(original_msg):\n",
    "    result = {}\n",
    "    msg = Parser(policy=default).parsestr(original_msg)\n",
    "    ## TODO: Use Python's email library to read the payload and the headers\n",
    "    ## https://docs.python.org/3/library/email.examples.html\n",
    "    tuple_result = tuple([str(result.get(column, None)) for column in columns])\n",
    "    return ParsedEmail(*tuple_result)"
   ]
  },
  {
   "cell_type": "code",
   "execution_count": null,
   "metadata": {
    "scrolled": false
   },
   "outputs": [],
   "source": [
    "parsed_msg = parse_email(plain_msg_example)"
   ]
  },
  {
   "cell_type": "code",
   "execution_count": null,
   "metadata": {},
   "outputs": [],
   "source": [
    "print(parsed_msg.text)"
   ]
  },
  {
   "cell_type": "code",
   "execution_count": null,
   "metadata": {
    "scrolled": false
   },
   "outputs": [],
   "source": [
    "parsed_html_msg = parse_email(html_msg_example)"
   ]
  },
  {
   "cell_type": "code",
   "execution_count": null,
   "metadata": {
    "scrolled": true
   },
   "outputs": [],
   "source": [
    "print(parsed_html_msg.text)"
   ]
  },
  {
   "cell_type": "markdown",
   "metadata": {},
   "source": [
    "## Assignment 4.3"
   ]
  },
  {
   "cell_type": "code",
   "execution_count": null,
   "metadata": {},
   "outputs": [],
   "source": [
    "## This creates a schema for the email data\n",
    "email_struct = StructType()\n",
    "\n",
    "for column in columns:\n",
    "    email_struct.add(column, StringType(), True)"
   ]
  },
  {
   "cell_type": "code",
   "execution_count": null,
   "metadata": {
    "scrolled": false
   },
   "outputs": [],
   "source": [
    "## This creates a user-defined function which can be used in Spark\n",
    "parse_email_func = udf(lambda z: parse_email(z), email_struct)\n",
    "\n",
    "def parse_emails(input_df):\n",
    "    new_df = input_df.select(\n",
    "        'username', 'id', 'original_msg', parse_email_func('original_msg').alias('parsed_email')\n",
    "    )\n",
    "    for column in columns:\n",
    "        new_df = new_df.withColumn(column, new_df.parsed_email[column])\n",
    "    \n",
    "    new_df = new_df.drop('parsed_email')\n",
    "    return new_df\n",
    "        \n",
    "class ParseEmailsTransformer(Transformer):\n",
    "    def _transform(self, dataset):\n",
    "        \"\"\"\n",
    "        Transforms the input dataset.\n",
    "\n",
    "        :param dataset: input dataset, which is an instance of :py:class:`pyspark.sql.DataFrame`\n",
    "        :returns: transformed dataset\n",
    "        \"\"\"\n",
    "        return dataset.transform(parse_emails)\n",
    "\n",
    "## Use the custom ParseEmailsTransformer, Tokenizer, and CountVectorizer \n",
    "## to create a spark pipeline \n",
    "email_pipeline = Pipeline(\n",
    "    ## TODO: Complete code\n",
    ")\n",
    "model = email_pipeline.fit(df)\n",
    "result = model.transform(df)"
   ]
  },
  {
   "cell_type": "code",
   "execution_count": null,
   "metadata": {},
   "outputs": [],
   "source": [
    "result.select('id', 'words', 'features').show()"
   ]
  }
 ],
 "metadata": {
  "kernelspec": {
   "display_name": "Python 3",
   "language": "python",
   "name": "python3"
  },
  "language_info": {
   "codemirror_mode": {
    "name": "ipython",
    "version": 3
   },
   "file_extension": ".py",
   "mimetype": "text/x-python",
   "name": "python",
   "nbconvert_exporter": "python",
   "pygments_lexer": "ipython3",
   "version": "3.6.10"
  }
 },
 "nbformat": 4,
 "nbformat_minor": 4
}
