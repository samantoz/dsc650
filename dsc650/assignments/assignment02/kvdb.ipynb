{
 "cells": [
  {
   "cell_type": "code",
   "execution_count": 6,
   "metadata": {},
   "outputs": [
    {
     "name": "stdout",
     "output_type": "stream",
     "text": [
      "c:\\Users\\saman\\git_repos\\dsc650\\dsc650\\assignments\\assignment02\n",
      "c:\\Users\\saman\\git_repos\\dsc650\\dsc650\\assignments\\assignment02\\results\n",
      "c:\\Users\\saman\\git_repos\\dsc650\\dsc650\\assignments\\assignment02\\results\\kvdb\n",
      "c:\\Users\\saman\\git_repos\\dsc650\\data\\external\\tidynomicon\n"
     ]
    }
   ],
   "source": [
    "import json\n",
    "from pathlib import Path\n",
    "import os\n",
    "\n",
    "import pandas as pd\n",
    "# import s3fs\n",
    "\n",
    "\n",
    "# def read_cluster_csv(file_path, endpoint_url='https://storage.budsc.midwest-datascience.com'):\n",
    "#     s3 = s3fs.S3FileSystem(\n",
    "#         anon=True,\n",
    "#         client_kwargs={\n",
    "#             'endpoint_url': endpoint_url\n",
    "#         }\n",
    "#     )\n",
    "#     return pd.read_csv(s3.open(file_path, mode='rb'))\n",
    "\n",
    "current_dir = Path(os.getcwd()).absolute()\n",
    "results_dir = current_dir.joinpath('results')\n",
    "kv_data_dir = results_dir.joinpath('kvdb')\n",
    "kv_data_dir.mkdir(parents=True, exist_ok=True)\n",
    "\n",
    "src_data_dir = current_dir.parent.parent.parent.joinpath('data\\external\\\\tidynomicon')\n",
    "\n",
    "people_json = kv_data_dir.joinpath('people.json')\n",
    "visited_json = kv_data_dir.joinpath('visited.json')\n",
    "sites_json = kv_data_dir.joinpath('sites.json')\n",
    "measurements_json = kv_data_dir.joinpath('measurements.json')\n",
    "\n",
    "print(current_dir)\n",
    "print(results_dir)\n",
    "print(kv_data_dir)\n",
    "print(src_data_dir)\n"
   ]
  },
  {
   "cell_type": "code",
   "execution_count": 7,
   "metadata": {},
   "outputs": [],
   "source": [
    "class KVDB(object):\n",
    "    def __init__(self, db_path):\n",
    "        self._db_path = Path(db_path)\n",
    "        self._db = {}\n",
    "        self._load_db()\n",
    "\n",
    "    def _load_db(self):\n",
    "        if self._db_path.exists():\n",
    "            with open(self._db_path) as f:\n",
    "                self._db = json.load(f)\n",
    "\n",
    "    def get_value(self, key):\n",
    "        return self._db.get(key)\n",
    "\n",
    "    def set_value(self, key, value):\n",
    "        self._db[key] = value\n",
    "\n",
    "    def save(self):\n",
    "        with open(self._db_path, 'w') as f:\n",
    "            json.dump(self._db, f, indent=2)"
   ]
  },
  {
   "cell_type": "code",
   "execution_count": 11,
   "metadata": {},
   "outputs": [],
   "source": [
    "def create_sites_kvdb():\n",
    "    db = KVDB(sites_json)\n",
    "    # df = read_cluster_csv('data/external/tidynomicon/site.csv')\n",
    "    src_file_site = f\"{src_data_dir}/site.csv\"\n",
    "    df =pd.read_csv(src_file_site,sep=\",\",header=0)\n",
    "    for site_id, group_df in df.groupby('site_id'):\n",
    "        db.set_value(site_id, group_df.to_dict(orient='records')[0])\n",
    "    db.save()\n",
    "\n",
    "\n",
    "def create_people_kvdb():\n",
    "    db = KVDB(people_json)\n",
    "    src_file_person = f\"{src_data_dir}/person.csv\"\n",
    "    df = pd.read_csv(src_file_person, sep=\",\", header=0)\n",
    "    for person_id, group_df in df.groupby('person_id'):\n",
    "        db.set_value(person_id, group_df.to_dict(orient='records')[0])\n",
    "    db.save()\n",
    "\n",
    "\n",
    "def create_visits_kvdb():\n",
    "    db = KVDB(visited_json)\n",
    "    src_file_visited = f\"{src_data_dir}/visited.csv\"\n",
    "    df = pd.read_csv(src_file_visited, sep=\",\", header=0)\n",
    "    for key, group_df in df.groupby(['visit_id','site_id']):\n",
    "        db.set_value(str(key),group_df.to_dict(orient='records')[0])\n",
    "    db.save()\n",
    "\n",
    "\n",
    "def create_measurements_kvdb():\n",
    "    db = KVDB(measurements_json)\n",
    "    src_file_measurements = f\"{src_data_dir}/measurements.csv\"\n",
    "    df = pd.read_csv(src_file_measurements, sep=\",\", header=0)\n",
    "    for key, group_df in df.groupby(['visit_id', 'person_id']):\n",
    "        db.set_value(str(key), group_df.to_dict(orient='records')[0])\n",
    "    db.save()\n"
   ]
  },
  {
   "cell_type": "code",
   "execution_count": 12,
   "metadata": {},
   "outputs": [],
   "source": [
    "create_sites_kvdb()\n",
    "create_people_kvdb()\n",
    "create_visits_kvdb()\n",
    "create_measurements_kvdb()"
   ]
  },
  {
   "cell_type": "code",
   "execution_count": 9,
   "metadata": {},
   "outputs": [
    {
     "name": "stdout",
     "output_type": "stream",
     "text": [
      "(619, 'DR-1')\n",
      "   visit_id site_id  visit_date\n",
      "0       619    DR-1  1927-02-08\n",
      "(622, 'DR-1')\n",
      "   visit_id site_id  visit_date\n",
      "1       622    DR-1  1927-02-10\n",
      "(734, 'DR-3')\n",
      "   visit_id site_id  visit_date\n",
      "2       734    DR-3  1930-01-07\n",
      "(735, 'DR-3')\n",
      "   visit_id site_id  visit_date\n",
      "3       735    DR-3  1930-01-12\n",
      "(751, 'DR-3')\n",
      "   visit_id site_id  visit_date\n",
      "4       751    DR-3  1930-02-26\n",
      "(752, 'DR-3')\n",
      "   visit_id site_id visit_date\n",
      "5       752    DR-3        NaN\n",
      "(837, 'MSK-4')\n",
      "   visit_id site_id  visit_date\n",
      "6       837   MSK-4  1932-01-14\n",
      "(844, 'DR-1')\n",
      "   visit_id site_id  visit_date\n",
      "7       844    DR-1  1932-03-22\n"
     ]
    }
   ],
   "source": [
    "db = KVDB(visited_json)\n",
    "src_file_visited = f\"{src_data_dir}/visited.csv\"\n",
    "df = pd.read_csv(src_file_visited, sep=\",\", header=0)\n",
    "for key,value in df.groupby(['visit_id','site_id']):\n",
    "\tprint(key)\n",
    "\tprint(value)"
   ]
  }
 ],
 "metadata": {
  "kernelspec": {
   "display_name": "Python 3",
   "language": "python",
   "name": "python3"
  },
  "language_info": {
   "codemirror_mode": {
    "name": "ipython",
    "version": 3
   },
   "file_extension": ".py",
   "mimetype": "text/x-python",
   "name": "python",
   "nbconvert_exporter": "python",
   "pygments_lexer": "ipython3",
   "version": "3.9.7"
  }
 },
 "nbformat": 4,
 "nbformat_minor": 4
}
