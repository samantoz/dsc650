{
 "cells": [
  {
   "cell_type": "code",
   "execution_count": 1,
   "metadata": {},
   "outputs": [],
   "source": [
    "import os\n",
    "import json\n",
    "from pathlib import Path\n",
    "import gzip\n",
    "import hashlib\n",
    "import shutil\n",
    "\n",
    "import pandas as pd\n",
    "import pygeohash\n",
    "import s3fs\n",
    "\n",
    "import uuid\n",
    "import math"
   ]
  },
  {
   "cell_type": "code",
   "execution_count": 2,
   "metadata": {},
   "outputs": [],
   "source": [
    "endpoint_url = 'https://storage.budsc.midwest-datascience.com'"
   ]
  },
  {
   "cell_type": "code",
   "execution_count": 14,
   "metadata": {},
   "outputs": [],
   "source": [
    "current_dir = Path(os.getcwd()).absolute()\n",
    "results_dir = current_dir.joinpath('results')"
   ]
  },
  {
   "cell_type": "code",
   "execution_count": 15,
   "metadata": {},
   "outputs": [],
   "source": [
    "if results_dir.exists():\n",
    "    shutil.rmtree(results_dir)\n",
    "results_dir.mkdir(parents=True, exist_ok=True)\n",
    "kv_dir = results_dir.joinpath('kv')\n",
    "kv_dir.mkdir(parents=True, exist_ok=True)"
   ]
  },
  {
   "cell_type": "code",
   "execution_count": 16,
   "metadata": {},
   "outputs": [],
   "source": [
    "def read_jsonl_data():\n",
    "    s3 = s3fs.S3FileSystem(\n",
    "        anon=True,\n",
    "        client_kwargs={\n",
    "            'endpoint_url': endpoint_url\n",
    "        }\n",
    "    )\n",
    "    src_data_path = 'data/processed/openflights/routes.jsonl.gz'\n",
    "    with s3.open(src_data_path, 'rb') as f_gz:\n",
    "        with gzip.open(f_gz, 'rb') as f:\n",
    "            records = [json.loads(line) for line in f.readlines()]\n",
    "            \n",
    "    return records"
   ]
  },
  {
   "cell_type": "code",
   "execution_count": 17,
   "metadata": {},
   "outputs": [],
   "source": [
    "def flatten_record(record):\n",
    "    flat_record = dict()\n",
    "    for key, value in record.items():\n",
    "        if key in ['airline', 'src_airport', 'dst_airport']:\n",
    "            if isinstance(value, dict):\n",
    "                for child_key, child_value in value.items():\n",
    "                    flat_key = '{}_{}'.format(key, child_key)\n",
    "                    flat_record[flat_key] = child_value\n",
    "        else:\n",
    "            flat_record[key] = value\n",
    "            \n",
    "    return flat_record"
   ]
  },
  {
   "cell_type": "code",
   "execution_count": 18,
   "metadata": {},
   "outputs": [],
   "source": [
    "def create_flatten_dataset():\n",
    "    records = read_jsonl_data()\n",
    "    return pd.DataFrame.from_records([flatten_record(record) for record in records])"
   ]
  },
  {
   "cell_type": "code",
   "execution_count": 19,
   "metadata": {},
   "outputs": [],
   "source": [
    "df = create_flatten_dataset()\n",
    "df['key'] = df['src_airport_iata'].astype(str) + df['dst_airport_iata'].astype(str) + df['airline_iata'].astype(str)\n",
    "df['key_init'] = df['key'].astype(str).str[0]"
   ]
  },
  {
   "cell_type": "code",
   "execution_count": 20,
   "metadata": {},
   "outputs": [],
   "source": [
    "partitions = (\n",
    "    ('A', 'A'), ('B', 'B'), ('C', 'D'), ('E', 'F'),\n",
    "    ('G', 'H'), ('I', 'J'), ('K', 'L'), ('M', 'M'),\n",
    "    ('N', 'N'), ('O', 'P'), ('Q', 'R'), ('S', 'T'),\n",
    "    ('U', 'U'), ('V', 'V'), ('W', 'X'), ('Y', 'Z')\n",
    ")"
   ]
  },
  {
   "cell_type": "markdown",
   "metadata": {},
   "source": [
    "7.a"
   ]
  },
  {
   "cell_type": "code",
   "execution_count": 21,
   "metadata": {},
   "outputs": [],
   "source": [
    "def kv_key(row):\n",
    "    for letter in partitions:\n",
    "        if row['key_init'] in letter:\n",
    "            if letter[0] == letter[1]:\n",
    "                # return (print(letter[0]))\n",
    "                part = letter[0]\n",
    "            else:\n",
    "                # return (print(f'{letter[0]}-{letter[1]}'))\n",
    "                part = f'{letter[0]}-{letter[1]}'\n",
    "        \n",
    "            return part\n",
    "\n",
    "df['kv_key'] = df.apply(lambda row: kv_key(row), axis=1)\n",
    "# df"
   ]
  },
  {
   "cell_type": "code",
   "execution_count": 22,
   "metadata": {},
   "outputs": [],
   "source": [
    "import pyarrow as pa\n",
    "import pyarrow.parquet as pq \n",
    "\n",
    "table = pa.Table.from_pandas(df)"
   ]
  },
  {
   "cell_type": "code",
   "execution_count": 23,
   "metadata": {},
   "outputs": [],
   "source": [
    "pq.write_to_dataset(\n",
    "    table,\n",
    "    root_path=f'{kv_dir}',\n",
    "    partition_cols=['kv_key']\n",
    ")"
   ]
  },
  {
   "cell_type": "code",
   "execution_count": 24,
   "metadata": {},
   "outputs": [],
   "source": [
    "parquet_path = results_dir.joinpath('routes-flattened.parquet')\n",
    "# print(parquet_path)\n",
    "pq.write_table(table,f'{parquet_path}')"
   ]
  },
  {
   "cell_type": "markdown",
   "metadata": {},
   "source": [
    "7.b\n",
    "\n",
    "Next, we are going to partition the dataset again, but this time we will partition by the hash value of the key. The following is a function that will create a SHA256 hash of the input key and return a hexadecimal string representation of the hash."
   ]
  },
  {
   "cell_type": "code",
   "execution_count": 25,
   "metadata": {},
   "outputs": [],
   "source": [
    "import hashlib\n",
    "\n",
    "def hash_key(key):\n",
    "    m = hashlib.sha256()\n",
    "    m.update(str(key).encode('utf-8'))\n",
    "    return m.hexdigest().capitalize()"
   ]
  },
  {
   "cell_type": "code",
   "execution_count": 26,
   "metadata": {},
   "outputs": [
    {
     "data": {
      "text/html": [
       "<div>\n",
       "<style scoped>\n",
       "    .dataframe tbody tr th:only-of-type {\n",
       "        vertical-align: middle;\n",
       "    }\n",
       "\n",
       "    .dataframe tbody tr th {\n",
       "        vertical-align: top;\n",
       "    }\n",
       "\n",
       "    .dataframe thead th {\n",
       "        text-align: right;\n",
       "    }\n",
       "</style>\n",
       "<table border=\"1\" class=\"dataframe\">\n",
       "  <thead>\n",
       "    <tr style=\"text-align: right;\">\n",
       "      <th></th>\n",
       "      <th>key</th>\n",
       "      <th>key_init</th>\n",
       "      <th>kv_key</th>\n",
       "    </tr>\n",
       "  </thead>\n",
       "  <tbody>\n",
       "    <tr>\n",
       "      <th>0</th>\n",
       "      <td>AERKZN2B</td>\n",
       "      <td>A</td>\n",
       "      <td>A</td>\n",
       "    </tr>\n",
       "    <tr>\n",
       "      <th>1</th>\n",
       "      <td>ASFKZN2B</td>\n",
       "      <td>A</td>\n",
       "      <td>A</td>\n",
       "    </tr>\n",
       "    <tr>\n",
       "      <th>2</th>\n",
       "      <td>ASFMRV2B</td>\n",
       "      <td>A</td>\n",
       "      <td>A</td>\n",
       "    </tr>\n",
       "    <tr>\n",
       "      <th>3</th>\n",
       "      <td>CEKKZN2B</td>\n",
       "      <td>C</td>\n",
       "      <td>C-D</td>\n",
       "    </tr>\n",
       "    <tr>\n",
       "      <th>4</th>\n",
       "      <td>CEKOVB2B</td>\n",
       "      <td>C</td>\n",
       "      <td>C-D</td>\n",
       "    </tr>\n",
       "    <tr>\n",
       "      <th>...</th>\n",
       "      <td>...</td>\n",
       "      <td>...</td>\n",
       "      <td>...</td>\n",
       "    </tr>\n",
       "    <tr>\n",
       "      <th>67658</th>\n",
       "      <td>WYAADLZL</td>\n",
       "      <td>W</td>\n",
       "      <td>W-X</td>\n",
       "    </tr>\n",
       "    <tr>\n",
       "      <th>67659</th>\n",
       "      <td>DMEFRUZM</td>\n",
       "      <td>D</td>\n",
       "      <td>C-D</td>\n",
       "    </tr>\n",
       "    <tr>\n",
       "      <th>67660</th>\n",
       "      <td>FRUDMEZM</td>\n",
       "      <td>F</td>\n",
       "      <td>E-F</td>\n",
       "    </tr>\n",
       "    <tr>\n",
       "      <th>67661</th>\n",
       "      <td>FRUOSSZM</td>\n",
       "      <td>F</td>\n",
       "      <td>E-F</td>\n",
       "    </tr>\n",
       "    <tr>\n",
       "      <th>67662</th>\n",
       "      <td>OSSFRUZM</td>\n",
       "      <td>O</td>\n",
       "      <td>O-P</td>\n",
       "    </tr>\n",
       "  </tbody>\n",
       "</table>\n",
       "<p>67663 rows × 3 columns</p>\n",
       "</div>"
      ],
      "text/plain": [
       "            key key_init kv_key\n",
       "0      AERKZN2B        A      A\n",
       "1      ASFKZN2B        A      A\n",
       "2      ASFMRV2B        A      A\n",
       "3      CEKKZN2B        C    C-D\n",
       "4      CEKOVB2B        C    C-D\n",
       "...         ...      ...    ...\n",
       "67658  WYAADLZL        W    W-X\n",
       "67659  DMEFRUZM        D    C-D\n",
       "67660  FRUDMEZM        F    E-F\n",
       "67661  FRUOSSZM        F    E-F\n",
       "67662  OSSFRUZM        O    O-P\n",
       "\n",
       "[67663 rows x 3 columns]"
      ]
     },
     "execution_count": 26,
     "metadata": {},
     "output_type": "execute_result"
    }
   ],
   "source": [
    "df[['key','key_init','kv_key']]"
   ]
  },
  {
   "cell_type": "code",
   "execution_count": 27,
   "metadata": {},
   "outputs": [],
   "source": [
    "df['hashed'] = df.apply(lambda row: hash_key(row['key']), axis=1)"
   ]
  },
  {
   "cell_type": "code",
   "execution_count": 28,
   "metadata": {},
   "outputs": [
    {
     "data": {
      "text/html": [
       "<div>\n",
       "<style scoped>\n",
       "    .dataframe tbody tr th:only-of-type {\n",
       "        vertical-align: middle;\n",
       "    }\n",
       "\n",
       "    .dataframe tbody tr th {\n",
       "        vertical-align: top;\n",
       "    }\n",
       "\n",
       "    .dataframe thead th {\n",
       "        text-align: right;\n",
       "    }\n",
       "</style>\n",
       "<table border=\"1\" class=\"dataframe\">\n",
       "  <thead>\n",
       "    <tr style=\"text-align: right;\">\n",
       "      <th></th>\n",
       "      <th>key</th>\n",
       "      <th>key_init</th>\n",
       "      <th>kv_key</th>\n",
       "      <th>hashed</th>\n",
       "    </tr>\n",
       "  </thead>\n",
       "  <tbody>\n",
       "    <tr>\n",
       "      <th>0</th>\n",
       "      <td>AERKZN2B</td>\n",
       "      <td>A</td>\n",
       "      <td>A</td>\n",
       "      <td>652cdec02010381f175efe499e070c8cbaac1522bac59a...</td>\n",
       "    </tr>\n",
       "    <tr>\n",
       "      <th>1</th>\n",
       "      <td>ASFKZN2B</td>\n",
       "      <td>A</td>\n",
       "      <td>A</td>\n",
       "      <td>9eea5dd88177f8d835b2bb9cb27fb01268122b635b241a...</td>\n",
       "    </tr>\n",
       "    <tr>\n",
       "      <th>2</th>\n",
       "      <td>ASFMRV2B</td>\n",
       "      <td>A</td>\n",
       "      <td>A</td>\n",
       "      <td>161143856af25bd4475f62c80c19f68936a139f653c1d3...</td>\n",
       "    </tr>\n",
       "    <tr>\n",
       "      <th>3</th>\n",
       "      <td>CEKKZN2B</td>\n",
       "      <td>C</td>\n",
       "      <td>C-D</td>\n",
       "      <td>39aa99e6ae2757341bede9584473906ef1089e30820c90...</td>\n",
       "    </tr>\n",
       "    <tr>\n",
       "      <th>4</th>\n",
       "      <td>CEKOVB2B</td>\n",
       "      <td>C</td>\n",
       "      <td>C-D</td>\n",
       "      <td>143b3389bce68eea3a13ac26a9c76c1fa583ec2bd26ea8...</td>\n",
       "    </tr>\n",
       "    <tr>\n",
       "      <th>...</th>\n",
       "      <td>...</td>\n",
       "      <td>...</td>\n",
       "      <td>...</td>\n",
       "      <td>...</td>\n",
       "    </tr>\n",
       "    <tr>\n",
       "      <th>67658</th>\n",
       "      <td>WYAADLZL</td>\n",
       "      <td>W</td>\n",
       "      <td>W-X</td>\n",
       "      <td>F31527be84c36208c05cac57dfac8a46b48a87dda151f8...</td>\n",
       "    </tr>\n",
       "    <tr>\n",
       "      <th>67659</th>\n",
       "      <td>DMEFRUZM</td>\n",
       "      <td>D</td>\n",
       "      <td>C-D</td>\n",
       "      <td>880fc35ca283ad034c90becc4e331b72ee894b9eb69f76...</td>\n",
       "    </tr>\n",
       "    <tr>\n",
       "      <th>67660</th>\n",
       "      <td>FRUDMEZM</td>\n",
       "      <td>F</td>\n",
       "      <td>E-F</td>\n",
       "      <td>E976939986fbf947bb9318018cef717c0b34dff91e5e67...</td>\n",
       "    </tr>\n",
       "    <tr>\n",
       "      <th>67661</th>\n",
       "      <td>FRUOSSZM</td>\n",
       "      <td>F</td>\n",
       "      <td>E-F</td>\n",
       "      <td>8b0c0b835a58a4250e020d51ec2a896e4ef3f5c3543b8e...</td>\n",
       "    </tr>\n",
       "    <tr>\n",
       "      <th>67662</th>\n",
       "      <td>OSSFRUZM</td>\n",
       "      <td>O</td>\n",
       "      <td>O-P</td>\n",
       "      <td>629f14f3fb6f94ebd1522d33a3c50675942e3148d028b4...</td>\n",
       "    </tr>\n",
       "  </tbody>\n",
       "</table>\n",
       "<p>67663 rows × 4 columns</p>\n",
       "</div>"
      ],
      "text/plain": [
       "            key key_init kv_key  \\\n",
       "0      AERKZN2B        A      A   \n",
       "1      ASFKZN2B        A      A   \n",
       "2      ASFMRV2B        A      A   \n",
       "3      CEKKZN2B        C    C-D   \n",
       "4      CEKOVB2B        C    C-D   \n",
       "...         ...      ...    ...   \n",
       "67658  WYAADLZL        W    W-X   \n",
       "67659  DMEFRUZM        D    C-D   \n",
       "67660  FRUDMEZM        F    E-F   \n",
       "67661  FRUOSSZM        F    E-F   \n",
       "67662  OSSFRUZM        O    O-P   \n",
       "\n",
       "                                                  hashed  \n",
       "0      652cdec02010381f175efe499e070c8cbaac1522bac59a...  \n",
       "1      9eea5dd88177f8d835b2bb9cb27fb01268122b635b241a...  \n",
       "2      161143856af25bd4475f62c80c19f68936a139f653c1d3...  \n",
       "3      39aa99e6ae2757341bede9584473906ef1089e30820c90...  \n",
       "4      143b3389bce68eea3a13ac26a9c76c1fa583ec2bd26ea8...  \n",
       "...                                                  ...  \n",
       "67658  F31527be84c36208c05cac57dfac8a46b48a87dda151f8...  \n",
       "67659  880fc35ca283ad034c90becc4e331b72ee894b9eb69f76...  \n",
       "67660  E976939986fbf947bb9318018cef717c0b34dff91e5e67...  \n",
       "67661  8b0c0b835a58a4250e020d51ec2a896e4ef3f5c3543b8e...  \n",
       "67662  629f14f3fb6f94ebd1522d33a3c50675942e3148d028b4...  \n",
       "\n",
       "[67663 rows x 4 columns]"
      ]
     },
     "execution_count": 28,
     "metadata": {},
     "output_type": "execute_result"
    }
   ],
   "source": [
    "df[['key','key_init','kv_key','hashed']]"
   ]
  },
  {
   "cell_type": "code",
   "execution_count": 29,
   "metadata": {},
   "outputs": [
    {
     "data": {
      "text/html": [
       "<div>\n",
       "<style scoped>\n",
       "    .dataframe tbody tr th:only-of-type {\n",
       "        vertical-align: middle;\n",
       "    }\n",
       "\n",
       "    .dataframe tbody tr th {\n",
       "        vertical-align: top;\n",
       "    }\n",
       "\n",
       "    .dataframe thead th {\n",
       "        text-align: right;\n",
       "    }\n",
       "</style>\n",
       "<table border=\"1\" class=\"dataframe\">\n",
       "  <thead>\n",
       "    <tr style=\"text-align: right;\">\n",
       "      <th></th>\n",
       "      <th>key</th>\n",
       "      <th>key_init</th>\n",
       "      <th>kv_key</th>\n",
       "      <th>hashed</th>\n",
       "      <th>hash_key</th>\n",
       "    </tr>\n",
       "  </thead>\n",
       "  <tbody>\n",
       "    <tr>\n",
       "      <th>0</th>\n",
       "      <td>AERKZN2B</td>\n",
       "      <td>A</td>\n",
       "      <td>A</td>\n",
       "      <td>652cdec02010381f175efe499e070c8cbaac1522bac59a...</td>\n",
       "      <td>6</td>\n",
       "    </tr>\n",
       "    <tr>\n",
       "      <th>1</th>\n",
       "      <td>ASFKZN2B</td>\n",
       "      <td>A</td>\n",
       "      <td>A</td>\n",
       "      <td>9eea5dd88177f8d835b2bb9cb27fb01268122b635b241a...</td>\n",
       "      <td>9</td>\n",
       "    </tr>\n",
       "    <tr>\n",
       "      <th>2</th>\n",
       "      <td>ASFMRV2B</td>\n",
       "      <td>A</td>\n",
       "      <td>A</td>\n",
       "      <td>161143856af25bd4475f62c80c19f68936a139f653c1d3...</td>\n",
       "      <td>1</td>\n",
       "    </tr>\n",
       "    <tr>\n",
       "      <th>3</th>\n",
       "      <td>CEKKZN2B</td>\n",
       "      <td>C</td>\n",
       "      <td>C-D</td>\n",
       "      <td>39aa99e6ae2757341bede9584473906ef1089e30820c90...</td>\n",
       "      <td>3</td>\n",
       "    </tr>\n",
       "    <tr>\n",
       "      <th>4</th>\n",
       "      <td>CEKOVB2B</td>\n",
       "      <td>C</td>\n",
       "      <td>C-D</td>\n",
       "      <td>143b3389bce68eea3a13ac26a9c76c1fa583ec2bd26ea8...</td>\n",
       "      <td>1</td>\n",
       "    </tr>\n",
       "    <tr>\n",
       "      <th>...</th>\n",
       "      <td>...</td>\n",
       "      <td>...</td>\n",
       "      <td>...</td>\n",
       "      <td>...</td>\n",
       "      <td>...</td>\n",
       "    </tr>\n",
       "    <tr>\n",
       "      <th>67658</th>\n",
       "      <td>WYAADLZL</td>\n",
       "      <td>W</td>\n",
       "      <td>W-X</td>\n",
       "      <td>F31527be84c36208c05cac57dfac8a46b48a87dda151f8...</td>\n",
       "      <td>F</td>\n",
       "    </tr>\n",
       "    <tr>\n",
       "      <th>67659</th>\n",
       "      <td>DMEFRUZM</td>\n",
       "      <td>D</td>\n",
       "      <td>C-D</td>\n",
       "      <td>880fc35ca283ad034c90becc4e331b72ee894b9eb69f76...</td>\n",
       "      <td>8</td>\n",
       "    </tr>\n",
       "    <tr>\n",
       "      <th>67660</th>\n",
       "      <td>FRUDMEZM</td>\n",
       "      <td>F</td>\n",
       "      <td>E-F</td>\n",
       "      <td>E976939986fbf947bb9318018cef717c0b34dff91e5e67...</td>\n",
       "      <td>E</td>\n",
       "    </tr>\n",
       "    <tr>\n",
       "      <th>67661</th>\n",
       "      <td>FRUOSSZM</td>\n",
       "      <td>F</td>\n",
       "      <td>E-F</td>\n",
       "      <td>8b0c0b835a58a4250e020d51ec2a896e4ef3f5c3543b8e...</td>\n",
       "      <td>8</td>\n",
       "    </tr>\n",
       "    <tr>\n",
       "      <th>67662</th>\n",
       "      <td>OSSFRUZM</td>\n",
       "      <td>O</td>\n",
       "      <td>O-P</td>\n",
       "      <td>629f14f3fb6f94ebd1522d33a3c50675942e3148d028b4...</td>\n",
       "      <td>6</td>\n",
       "    </tr>\n",
       "  </tbody>\n",
       "</table>\n",
       "<p>67663 rows × 5 columns</p>\n",
       "</div>"
      ],
      "text/plain": [
       "            key key_init kv_key  \\\n",
       "0      AERKZN2B        A      A   \n",
       "1      ASFKZN2B        A      A   \n",
       "2      ASFMRV2B        A      A   \n",
       "3      CEKKZN2B        C    C-D   \n",
       "4      CEKOVB2B        C    C-D   \n",
       "...         ...      ...    ...   \n",
       "67658  WYAADLZL        W    W-X   \n",
       "67659  DMEFRUZM        D    C-D   \n",
       "67660  FRUDMEZM        F    E-F   \n",
       "67661  FRUOSSZM        F    E-F   \n",
       "67662  OSSFRUZM        O    O-P   \n",
       "\n",
       "                                                  hashed hash_key  \n",
       "0      652cdec02010381f175efe499e070c8cbaac1522bac59a...        6  \n",
       "1      9eea5dd88177f8d835b2bb9cb27fb01268122b635b241a...        9  \n",
       "2      161143856af25bd4475f62c80c19f68936a139f653c1d3...        1  \n",
       "3      39aa99e6ae2757341bede9584473906ef1089e30820c90...        3  \n",
       "4      143b3389bce68eea3a13ac26a9c76c1fa583ec2bd26ea8...        1  \n",
       "...                                                  ...      ...  \n",
       "67658  F31527be84c36208c05cac57dfac8a46b48a87dda151f8...        F  \n",
       "67659  880fc35ca283ad034c90becc4e331b72ee894b9eb69f76...        8  \n",
       "67660  E976939986fbf947bb9318018cef717c0b34dff91e5e67...        E  \n",
       "67661  8b0c0b835a58a4250e020d51ec2a896e4ef3f5c3543b8e...        8  \n",
       "67662  629f14f3fb6f94ebd1522d33a3c50675942e3148d028b4...        6  \n",
       "\n",
       "[67663 rows x 5 columns]"
      ]
     },
     "execution_count": 29,
     "metadata": {},
     "output_type": "execute_result"
    }
   ],
   "source": [
    "df['hash_key'] = df['hashed'].astype(str).str[0]\n",
    "df[['key','key_init','kv_key','hashed','hash_key']]"
   ]
  },
  {
   "cell_type": "code",
   "execution_count": 30,
   "metadata": {},
   "outputs": [],
   "source": [
    "hash_dir = results_dir.joinpath('hash')\n",
    "hash_dir.mkdir(parents=True, exist_ok=True)"
   ]
  },
  {
   "cell_type": "code",
   "execution_count": 31,
   "metadata": {},
   "outputs": [],
   "source": [
    "table = pa.Table.from_pandas(df)\n",
    "\n",
    "pq.write_to_dataset(\n",
    "    table,\n",
    "    root_path=f'{hash_dir}',\n",
    "    partition_cols=['hash_key']\n",
    ")"
   ]
  },
  {
   "cell_type": "markdown",
   "metadata": {},
   "source": [
    "#### 7.1.c\n",
    "\n",
    "#### In the next few cells doing some EDA on the dataset and was planning to take in the US only airport locations."
   ]
  },
  {
   "cell_type": "code",
   "execution_count": 32,
   "metadata": {},
   "outputs": [],
   "source": [
    "# df.info()"
   ]
  },
  {
   "cell_type": "code",
   "execution_count": 33,
   "metadata": {},
   "outputs": [],
   "source": [
    "# df.src_airport_country.value_counts()"
   ]
  },
  {
   "cell_type": "code",
   "execution_count": 34,
   "metadata": {},
   "outputs": [],
   "source": [
    "#  total number of missing values in each column\n",
    "# df.isna().sum()"
   ]
  },
  {
   "cell_type": "code",
   "execution_count": 35,
   "metadata": {},
   "outputs": [],
   "source": [
    "# us_airports = df[df['src_airport_country'] == 'United States']\n",
    "# us_airports.src_airport_city.value_counts()"
   ]
  },
  {
   "cell_type": "code",
   "execution_count": 36,
   "metadata": {},
   "outputs": [],
   "source": [
    "# us_airports.info()"
   ]
  },
  {
   "cell_type": "code",
   "execution_count": 37,
   "metadata": {},
   "outputs": [],
   "source": [
    "# us_airports[['src_airport_name','src_airport_city','src_airport_country','src_airport_latitude','src_airport_longitude']]"
   ]
  },
  {
   "cell_type": "code",
   "execution_count": 38,
   "metadata": {},
   "outputs": [],
   "source": [
    "# def airport_search(latitude, longitude):\n",
    "#    geohash = pygeohash.encode(latitude, longitude)\n",
    "#    dist_dict = {}\n",
    "#    for record in records:\n",
    "#        dist = pygeohash.geohash_approximate_distance(str(geohash), str(record.get('geohash')))\n",
    "#        dist_dict[dist] = record.get('src_airport')\n",
    "#        \n",
    "#        print(list(sorted(dist_dict.items()))[0][1]['name'])\n",
    "#        pass\n",
    "    \n",
    "# airport_search(41.1499988, -95.91779)"
   ]
  },
  {
   "cell_type": "code",
   "execution_count": 39,
   "metadata": {},
   "outputs": [],
   "source": [
    "# Adding a new column to the dataframe keeping all the rows for the geohash\n",
    "\n",
    "df['src_airport_geohash'] = df.apply( lambda row: pygeohash.encode(row.src_airport_latitude, row.src_airport_longitude), axis=1)"
   ]
  },
  {
   "cell_type": "code",
   "execution_count": 40,
   "metadata": {},
   "outputs": [
    {
     "data": {
      "text/html": [
       "<div>\n",
       "<style scoped>\n",
       "    .dataframe tbody tr th:only-of-type {\n",
       "        vertical-align: middle;\n",
       "    }\n",
       "\n",
       "    .dataframe tbody tr th {\n",
       "        vertical-align: top;\n",
       "    }\n",
       "\n",
       "    .dataframe thead th {\n",
       "        text-align: right;\n",
       "    }\n",
       "</style>\n",
       "<table border=\"1\" class=\"dataframe\">\n",
       "  <thead>\n",
       "    <tr style=\"text-align: right;\">\n",
       "      <th></th>\n",
       "      <th>src_airport_name</th>\n",
       "      <th>src_airport_city</th>\n",
       "      <th>src_airport_country</th>\n",
       "      <th>src_airport_latitude</th>\n",
       "      <th>src_airport_longitude</th>\n",
       "      <th>src_airport_geohash</th>\n",
       "    </tr>\n",
       "  </thead>\n",
       "  <tbody>\n",
       "    <tr>\n",
       "      <th>0</th>\n",
       "      <td>Sochi International Airport</td>\n",
       "      <td>Sochi</td>\n",
       "      <td>Russia</td>\n",
       "      <td>43.449902</td>\n",
       "      <td>39.956600</td>\n",
       "      <td>szsrjjzd02b3</td>\n",
       "    </tr>\n",
       "    <tr>\n",
       "      <th>1</th>\n",
       "      <td>Astrakhan Airport</td>\n",
       "      <td>Astrakhan</td>\n",
       "      <td>Russia</td>\n",
       "      <td>46.283298</td>\n",
       "      <td>48.006302</td>\n",
       "      <td>v04pk3t5gbjj</td>\n",
       "    </tr>\n",
       "    <tr>\n",
       "      <th>2</th>\n",
       "      <td>Astrakhan Airport</td>\n",
       "      <td>Astrakhan</td>\n",
       "      <td>Russia</td>\n",
       "      <td>46.283298</td>\n",
       "      <td>48.006302</td>\n",
       "      <td>v04pk3t5gbjj</td>\n",
       "    </tr>\n",
       "    <tr>\n",
       "      <th>3</th>\n",
       "      <td>Chelyabinsk Balandino Airport</td>\n",
       "      <td>Chelyabinsk</td>\n",
       "      <td>Russia</td>\n",
       "      <td>55.305801</td>\n",
       "      <td>61.503300</td>\n",
       "      <td>v3gdxs17du83</td>\n",
       "    </tr>\n",
       "    <tr>\n",
       "      <th>4</th>\n",
       "      <td>Chelyabinsk Balandino Airport</td>\n",
       "      <td>Chelyabinsk</td>\n",
       "      <td>Russia</td>\n",
       "      <td>55.305801</td>\n",
       "      <td>61.503300</td>\n",
       "      <td>v3gdxs17du83</td>\n",
       "    </tr>\n",
       "    <tr>\n",
       "      <th>...</th>\n",
       "      <td>...</td>\n",
       "      <td>...</td>\n",
       "      <td>...</td>\n",
       "      <td>...</td>\n",
       "      <td>...</td>\n",
       "      <td>...</td>\n",
       "    </tr>\n",
       "    <tr>\n",
       "      <th>67658</th>\n",
       "      <td>Whyalla Airport</td>\n",
       "      <td>Whyalla</td>\n",
       "      <td>Australia</td>\n",
       "      <td>-33.058899</td>\n",
       "      <td>137.514008</td>\n",
       "      <td>r41gcjy9uwef</td>\n",
       "    </tr>\n",
       "    <tr>\n",
       "      <th>67659</th>\n",
       "      <td>Domodedovo International Airport</td>\n",
       "      <td>Moscow</td>\n",
       "      <td>Russia</td>\n",
       "      <td>55.408798</td>\n",
       "      <td>37.906300</td>\n",
       "      <td>ucfgnwfe8u9e</td>\n",
       "    </tr>\n",
       "    <tr>\n",
       "      <th>67660</th>\n",
       "      <td>Manas International Airport</td>\n",
       "      <td>Bishkek</td>\n",
       "      <td>Kyrgyzstan</td>\n",
       "      <td>43.061298</td>\n",
       "      <td>74.477600</td>\n",
       "      <td>txsuyz0fjzgd</td>\n",
       "    </tr>\n",
       "    <tr>\n",
       "      <th>67661</th>\n",
       "      <td>Manas International Airport</td>\n",
       "      <td>Bishkek</td>\n",
       "      <td>Kyrgyzstan</td>\n",
       "      <td>43.061298</td>\n",
       "      <td>74.477600</td>\n",
       "      <td>txsuyz0fjzgd</td>\n",
       "    </tr>\n",
       "    <tr>\n",
       "      <th>67662</th>\n",
       "      <td>Osh Airport</td>\n",
       "      <td>Osh</td>\n",
       "      <td>Kyrgyzstan</td>\n",
       "      <td>40.609001</td>\n",
       "      <td>72.793297</td>\n",
       "      <td>tx5z02wkwf2p</td>\n",
       "    </tr>\n",
       "  </tbody>\n",
       "</table>\n",
       "<p>67663 rows × 6 columns</p>\n",
       "</div>"
      ],
      "text/plain": [
       "                       src_airport_name src_airport_city src_airport_country  \\\n",
       "0           Sochi International Airport            Sochi              Russia   \n",
       "1                     Astrakhan Airport        Astrakhan              Russia   \n",
       "2                     Astrakhan Airport        Astrakhan              Russia   \n",
       "3         Chelyabinsk Balandino Airport      Chelyabinsk              Russia   \n",
       "4         Chelyabinsk Balandino Airport      Chelyabinsk              Russia   \n",
       "...                                 ...              ...                 ...   \n",
       "67658                   Whyalla Airport          Whyalla           Australia   \n",
       "67659  Domodedovo International Airport           Moscow              Russia   \n",
       "67660       Manas International Airport          Bishkek          Kyrgyzstan   \n",
       "67661       Manas International Airport          Bishkek          Kyrgyzstan   \n",
       "67662                       Osh Airport              Osh          Kyrgyzstan   \n",
       "\n",
       "       src_airport_latitude  src_airport_longitude src_airport_geohash  \n",
       "0                 43.449902              39.956600        szsrjjzd02b3  \n",
       "1                 46.283298              48.006302        v04pk3t5gbjj  \n",
       "2                 46.283298              48.006302        v04pk3t5gbjj  \n",
       "3                 55.305801              61.503300        v3gdxs17du83  \n",
       "4                 55.305801              61.503300        v3gdxs17du83  \n",
       "...                     ...                    ...                 ...  \n",
       "67658            -33.058899             137.514008        r41gcjy9uwef  \n",
       "67659             55.408798              37.906300        ucfgnwfe8u9e  \n",
       "67660             43.061298              74.477600        txsuyz0fjzgd  \n",
       "67661             43.061298              74.477600        txsuyz0fjzgd  \n",
       "67662             40.609001              72.793297        tx5z02wkwf2p  \n",
       "\n",
       "[67663 rows x 6 columns]"
      ]
     },
     "execution_count": 40,
     "metadata": {},
     "output_type": "execute_result"
    }
   ],
   "source": [
    "df[['src_airport_name','src_airport_city','src_airport_country','src_airport_latitude','src_airport_longitude','src_airport_geohash']]"
   ]
  },
  {
   "cell_type": "code",
   "execution_count": 41,
   "metadata": {},
   "outputs": [],
   "source": [
    "# Creating a function to determine the airport location based on geohash key\n",
    "def determine_location(src_airport_geohash):\n",
    "    locations = dict(\n",
    "        central=pygeohash.encode(41.1544433, -96.0422378),\n",
    "        west=pygeohash.encode(45.5945645, -121.1786823),\n",
    "        east=pygeohash.encode(39.08344, -77.6497145)\n",
    "    )\n",
    "    \n",
    "    distances = []\n",
    "    for key in locations:\n",
    "        distance = pygeohash.geohash_haversine_distance(src_airport_geohash,locations[key])\n",
    "        distances.append([distance,key])\n",
    "    \n",
    "    distances.sort()\n",
    "    return distances[0][1]"
   ]
  },
  {
   "cell_type": "code",
   "execution_count": 42,
   "metadata": {},
   "outputs": [],
   "source": [
    "df['location'] = df['src_airport_geohash'].apply(determine_location)"
   ]
  },
  {
   "cell_type": "code",
   "execution_count": 43,
   "metadata": {},
   "outputs": [
    {
     "data": {
      "text/html": [
       "<div>\n",
       "<style scoped>\n",
       "    .dataframe tbody tr th:only-of-type {\n",
       "        vertical-align: middle;\n",
       "    }\n",
       "\n",
       "    .dataframe tbody tr th {\n",
       "        vertical-align: top;\n",
       "    }\n",
       "\n",
       "    .dataframe thead th {\n",
       "        text-align: right;\n",
       "    }\n",
       "</style>\n",
       "<table border=\"1\" class=\"dataframe\">\n",
       "  <thead>\n",
       "    <tr style=\"text-align: right;\">\n",
       "      <th></th>\n",
       "      <th>src_airport_name</th>\n",
       "      <th>src_airport_city</th>\n",
       "      <th>src_airport_country</th>\n",
       "      <th>src_airport_geohash</th>\n",
       "      <th>location</th>\n",
       "    </tr>\n",
       "  </thead>\n",
       "  <tbody>\n",
       "    <tr>\n",
       "      <th>0</th>\n",
       "      <td>Sochi International Airport</td>\n",
       "      <td>Sochi</td>\n",
       "      <td>Russia</td>\n",
       "      <td>szsrjjzd02b3</td>\n",
       "      <td>east</td>\n",
       "    </tr>\n",
       "    <tr>\n",
       "      <th>1</th>\n",
       "      <td>Astrakhan Airport</td>\n",
       "      <td>Astrakhan</td>\n",
       "      <td>Russia</td>\n",
       "      <td>v04pk3t5gbjj</td>\n",
       "      <td>east</td>\n",
       "    </tr>\n",
       "    <tr>\n",
       "      <th>2</th>\n",
       "      <td>Astrakhan Airport</td>\n",
       "      <td>Astrakhan</td>\n",
       "      <td>Russia</td>\n",
       "      <td>v04pk3t5gbjj</td>\n",
       "      <td>east</td>\n",
       "    </tr>\n",
       "    <tr>\n",
       "      <th>3</th>\n",
       "      <td>Chelyabinsk Balandino Airport</td>\n",
       "      <td>Chelyabinsk</td>\n",
       "      <td>Russia</td>\n",
       "      <td>v3gdxs17du83</td>\n",
       "      <td>west</td>\n",
       "    </tr>\n",
       "    <tr>\n",
       "      <th>4</th>\n",
       "      <td>Chelyabinsk Balandino Airport</td>\n",
       "      <td>Chelyabinsk</td>\n",
       "      <td>Russia</td>\n",
       "      <td>v3gdxs17du83</td>\n",
       "      <td>west</td>\n",
       "    </tr>\n",
       "    <tr>\n",
       "      <th>...</th>\n",
       "      <td>...</td>\n",
       "      <td>...</td>\n",
       "      <td>...</td>\n",
       "      <td>...</td>\n",
       "      <td>...</td>\n",
       "    </tr>\n",
       "    <tr>\n",
       "      <th>67658</th>\n",
       "      <td>Whyalla Airport</td>\n",
       "      <td>Whyalla</td>\n",
       "      <td>Australia</td>\n",
       "      <td>r41gcjy9uwef</td>\n",
       "      <td>west</td>\n",
       "    </tr>\n",
       "    <tr>\n",
       "      <th>67659</th>\n",
       "      <td>Domodedovo International Airport</td>\n",
       "      <td>Moscow</td>\n",
       "      <td>Russia</td>\n",
       "      <td>ucfgnwfe8u9e</td>\n",
       "      <td>east</td>\n",
       "    </tr>\n",
       "    <tr>\n",
       "      <th>67660</th>\n",
       "      <td>Manas International Airport</td>\n",
       "      <td>Bishkek</td>\n",
       "      <td>Kyrgyzstan</td>\n",
       "      <td>txsuyz0fjzgd</td>\n",
       "      <td>west</td>\n",
       "    </tr>\n",
       "    <tr>\n",
       "      <th>67661</th>\n",
       "      <td>Manas International Airport</td>\n",
       "      <td>Bishkek</td>\n",
       "      <td>Kyrgyzstan</td>\n",
       "      <td>txsuyz0fjzgd</td>\n",
       "      <td>west</td>\n",
       "    </tr>\n",
       "    <tr>\n",
       "      <th>67662</th>\n",
       "      <td>Osh Airport</td>\n",
       "      <td>Osh</td>\n",
       "      <td>Kyrgyzstan</td>\n",
       "      <td>tx5z02wkwf2p</td>\n",
       "      <td>west</td>\n",
       "    </tr>\n",
       "  </tbody>\n",
       "</table>\n",
       "<p>67663 rows × 5 columns</p>\n",
       "</div>"
      ],
      "text/plain": [
       "                       src_airport_name src_airport_city src_airport_country  \\\n",
       "0           Sochi International Airport            Sochi              Russia   \n",
       "1                     Astrakhan Airport        Astrakhan              Russia   \n",
       "2                     Astrakhan Airport        Astrakhan              Russia   \n",
       "3         Chelyabinsk Balandino Airport      Chelyabinsk              Russia   \n",
       "4         Chelyabinsk Balandino Airport      Chelyabinsk              Russia   \n",
       "...                                 ...              ...                 ...   \n",
       "67658                   Whyalla Airport          Whyalla           Australia   \n",
       "67659  Domodedovo International Airport           Moscow              Russia   \n",
       "67660       Manas International Airport          Bishkek          Kyrgyzstan   \n",
       "67661       Manas International Airport          Bishkek          Kyrgyzstan   \n",
       "67662                       Osh Airport              Osh          Kyrgyzstan   \n",
       "\n",
       "      src_airport_geohash location  \n",
       "0            szsrjjzd02b3     east  \n",
       "1            v04pk3t5gbjj     east  \n",
       "2            v04pk3t5gbjj     east  \n",
       "3            v3gdxs17du83     west  \n",
       "4            v3gdxs17du83     west  \n",
       "...                   ...      ...  \n",
       "67658        r41gcjy9uwef     west  \n",
       "67659        ucfgnwfe8u9e     east  \n",
       "67660        txsuyz0fjzgd     west  \n",
       "67661        txsuyz0fjzgd     west  \n",
       "67662        tx5z02wkwf2p     west  \n",
       "\n",
       "[67663 rows x 5 columns]"
      ]
     },
     "execution_count": 43,
     "metadata": {},
     "output_type": "execute_result"
    }
   ],
   "source": [
    "df[['src_airport_name','src_airport_city','src_airport_country','src_airport_geohash','location']]"
   ]
  },
  {
   "cell_type": "code",
   "execution_count": 44,
   "metadata": {},
   "outputs": [],
   "source": [
    "df.to_parquet('results/geo', partition_cols=['location'])"
   ]
  },
  {
   "cell_type": "code",
   "execution_count": null,
   "metadata": {},
   "outputs": [],
   "source": [
    "# determine_location('szsrjjzd02b3')"
   ]
  },
  {
   "cell_type": "code",
   "execution_count": 29,
   "metadata": {},
   "outputs": [
    {
     "data": {
      "text/plain": [
       "9628959.589672396"
      ]
     },
     "execution_count": 29,
     "metadata": {},
     "output_type": "execute_result"
    }
   ],
   "source": [
    "# distances = pygeohash.geohash_haversine_distance('szsrjjzd02b3','9z7dnebnj8kb')\n",
    "# distances"
   ]
  },
  {
   "cell_type": "code",
   "execution_count": 45,
   "metadata": {},
   "outputs": [],
   "source": [
    "# locations = dict(\n",
    "#     central=pygeohash.encode(41.1544433, -96.0422378),\n",
    "#    west=pygeohash.encode(45.5945645, -121.1786823),\n",
    "#    east=pygeohash.encode(39.08344, -77.6497145)\n",
    "# )"
   ]
  },
  {
   "cell_type": "code",
   "execution_count": 46,
   "metadata": {},
   "outputs": [],
   "source": [
    "# locations"
   ]
  },
  {
   "cell_type": "code",
   "execution_count": 47,
   "metadata": {},
   "outputs": [],
   "source": [
    "# distances = []\n",
    "# for key in locations:\n",
    "#    distance = pygeohash.geohash_haversine_distance('szsrjjzd02b3',locations[key])\n",
    "#    distances.append([distance,key])\n",
    "    # print(key, '->', locations[key])\n",
    "\n",
    "# distances"
   ]
  },
  {
   "cell_type": "code",
   "execution_count": 48,
   "metadata": {},
   "outputs": [],
   "source": [
    "# distances.sort()\n",
    "# distances[0][1]"
   ]
  },
  {
   "cell_type": "markdown",
   "metadata": {},
   "source": [
    "#### 7.1.d\n",
    "\n",
    "Create a Python function that takes as input a list of keys and the number of partitions and returns a list of keys sorted into the specified number of partitions. The partitions should be roughly equal in size. Furthermore, the partitions should have the property that each partition contains all the keys between the least key in the partition and the greatest key in the partition. In other words, the partitions should be ordered."
   ]
  },
  {
   "cell_type": "code",
   "execution_count": 62,
   "metadata": {},
   "outputs": [],
   "source": [
    "import numpy as np\n",
    "\n",
    "def balance_partitions(keys, num_partitions):\n",
    "    partitions = []\n",
    "    \n",
    "    partitions.append([np.array_split(keys, num_partitions)])\n",
    "    return partitions\n"
   ]
  },
  {
   "cell_type": "code",
   "execution_count": 64,
   "metadata": {},
   "outputs": [
    {
     "data": {
      "text/plain": [
       "[[[array(['k1', 'k2', 'k3'], dtype='<U3'),\n",
       "   array(['k4', 'k5', 'k6'], dtype='<U3'),\n",
       "   array(['k7', 'k8'], dtype='<U3'),\n",
       "   array(['k9', 'k10'], dtype='<U3')]]]"
      ]
     },
     "execution_count": 64,
     "metadata": {},
     "output_type": "execute_result"
    }
   ],
   "source": [
    "keys = ['k1','k2','k3','k4','k5','k6','k7','k8','k9','k10']\n",
    "num_partitions = 4\n",
    "\n",
    "balance_partitions(keys,num_partitions)"
   ]
  },
  {
   "cell_type": "code",
   "execution_count": 65,
   "metadata": {},
   "outputs": [
    {
     "data": {
      "text/plain": [
       "[[[array(['k1', 'k2', 'k3', 'k4'], dtype='<U3'),\n",
       "   array(['k5', 'k6', 'k7'], dtype='<U3'),\n",
       "   array(['k8', 'k9', 'k10'], dtype='<U3')]]]"
      ]
     },
     "execution_count": 65,
     "metadata": {},
     "output_type": "execute_result"
    }
   ],
   "source": [
    "keys = ['k1','k2','k3','k4','k5','k6','k7','k8','k9','k10']\n",
    "num_partitions = 3\n",
    "\n",
    "balance_partitions(keys,num_partitions)"
   ]
  },
  {
   "cell_type": "code",
   "execution_count": 66,
   "metadata": {},
   "outputs": [
    {
     "data": {
      "text/plain": [
       "[[[array(['k1', 'k2'], dtype='<U3'),\n",
       "   array(['k3', 'k4'], dtype='<U3'),\n",
       "   array(['k5', 'k6'], dtype='<U3'),\n",
       "   array(['k7', 'k8'], dtype='<U3'),\n",
       "   array(['k9', 'k10'], dtype='<U3')]]]"
      ]
     },
     "execution_count": 66,
     "metadata": {},
     "output_type": "execute_result"
    }
   ],
   "source": [
    "keys = ['k1','k2','k3','k4','k5','k6','k7','k8','k9','k10']\n",
    "num_partitions = 5\n",
    "\n",
    "balance_partitions(keys,num_partitions)"
   ]
  }
 ],
 "metadata": {
  "kernelspec": {
   "display_name": "Python 3",
   "language": "python",
   "name": "python3"
  },
  "language_info": {
   "codemirror_mode": {
    "name": "ipython",
    "version": 3
   },
   "file_extension": ".py",
   "mimetype": "text/x-python",
   "name": "python",
   "nbconvert_exporter": "python",
   "pygments_lexer": "ipython3",
   "version": "3.8.3"
  }
 },
 "nbformat": 4,
 "nbformat_minor": 4
}
