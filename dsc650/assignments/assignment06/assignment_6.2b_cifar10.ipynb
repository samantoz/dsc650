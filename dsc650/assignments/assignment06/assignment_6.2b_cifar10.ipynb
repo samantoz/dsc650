{
 "cells": [
  {
   "cell_type": "markdown",
   "metadata": {},
   "source": [
    "### Assignment 6.2b\n",
    "Using section 5.2 in Deep Learning with Python as a guide, create a ConvNet model that classifies images CIFAR10 small images classification dataset\n",
    "\n",
    "-- This time includes dropout and data-augmentation. \n",
    "\n",
    "-- Save the model, predictions, metrics, and validation plots in the dsc650/assignments/assignment06/results directory."
   ]
  },
  {
   "cell_type": "code",
   "execution_count": 1,
   "metadata": {},
   "outputs": [
    {
     "name": "stdout",
     "output_type": "stream",
     "text": [
      "c:\\Users\\saman\\git_repos\\dsc650\\dsc650\\assignments\\assignment06\n",
      "c:\\Users\\saman\\git_repos\\dsc650\\dsc650\\assignments\\assignment06\\results\n"
     ]
    }
   ],
   "source": [
    "import json\n",
    "from pathlib import Path\n",
    "import os\n",
    "\n",
    "current_dir = Path(os.getcwd()).absolute()\n",
    "results_dir = current_dir.joinpath('results')\n",
    "\n",
    "print(current_dir)\n",
    "print(results_dir)"
   ]
  },
  {
   "cell_type": "code",
   "execution_count": 2,
   "metadata": {},
   "outputs": [
    {
     "name": "stderr",
     "output_type": "stream",
     "text": [
      "Using TensorFlow backend.\n"
     ]
    }
   ],
   "source": [
    "# loading the required libraries and packages\n",
    "import keras\n",
    "from keras.models import Sequential\n",
    "from keras.layers import Dense\n",
    "from keras.utils import to_categorical\n",
    "import matplotlib.pyplot as plt\n",
    "\n",
    "from keras.datasets import cifar10\n",
    "\n",
    "from keras.layers import Dropout\n",
    "from keras.layers import Flatten\n",
    "\n",
    "from keras.layers.convolutional import Conv2D\n",
    "from keras.layers.convolutional import MaxPooling2D\n",
    "\n",
    "from keras.utils import np_utils\n",
    "from keras.preprocessing.image import ImageDataGenerator\n"
   ]
  },
  {
   "cell_type": "markdown",
   "metadata": {},
   "source": [
    "## Data\n",
    "Here we are using the CIFAR10 small images dataset to classify the images.\n",
    "\n",
    "This is a dataset of 50,000 32X32 color training images and 10,000 test images labeled over 10 categories."
   ]
  },
  {
   "cell_type": "code",
   "execution_count": 3,
   "metadata": {},
   "outputs": [],
   "source": [
    "# Data preparation is required before training the model\n",
    "def load_dataset():\n",
    "\n",
    "\t# loading the CIFAR10 dataset and create the training and test arrays\n",
    "\t(X_train, y_train), (X_test, y_test) = cifar10.load_data()\n",
    "\n",
    "\t# Lines 1 and 2 reshapes the inputs\n",
    "\tX_train = X_train.reshape((X_train.shape[0], 32, 32, 3)).astype('float32')\n",
    "\tX_test = X_test.reshape((X_test.shape[0], 32, 32, 3)).astype('float32')\n",
    "\n",
    "\t# Lines 3 and 4\n",
    "\t# Normalization of the input values (image pixels) from 0 and 255 to 0.1\n",
    "\tX_train = X_train / 255\n",
    "\tX_test = X_test / 255\n",
    "\n",
    "\t# Lines 5 and 6\n",
    "\t# one-hot encoding of the target variables\n",
    "\ty_train = np_utils.to_categorical(y_train)\n",
    "\ty_test = np_utils.to_categorical(y_test)\n",
    "\n",
    "\tnum_classes = y_test.shape[1]\n",
    "\n",
    "\treturn X_train, X_test, y_train, y_test"
   ]
  },
  {
   "cell_type": "code",
   "execution_count": 8,
   "metadata": {},
   "outputs": [],
   "source": [
    "# loading the CIFAR10 dataset and create the training and test arrays\n",
    "(X_train, y_train), (X_test, y_test) = cifar10.load_data()\n",
    "\n",
    "# Lines 1 and 2 reshapes the inputs\n",
    "X_train = X_train.reshape((X_train.shape[0], 32, 32, 3)).astype('float32')\n",
    "X_test = X_test.reshape((X_test.shape[0], 32, 32, 3)).astype('float32')\n",
    "\n",
    "# Lines 3 and 4\n",
    "# Normalization of the input values (image pixels) from 0 and 255 to 0.1\n",
    "X_train = X_train / 255\n",
    "X_test = X_test / 255\n",
    "\n",
    "# Lines 5 and 6\n",
    "# one-hot encoding of the target variables\n",
    "y_train = np_utils.to_categorical(y_train)\n",
    "y_test = np_utils.to_categorical(y_test)\n",
    "\n",
    "num_classes = y_test.shape[1]\n"
   ]
  },
  {
   "cell_type": "code",
   "execution_count": 9,
   "metadata": {},
   "outputs": [
    {
     "name": "stdout",
     "output_type": "stream",
     "text": [
      "Training set: (50000, 32, 32, 3)\n"
     ]
    }
   ],
   "source": [
    "# load_dataset()\n",
    "print(f'Training set: {X_train.shape}')\n"
   ]
  },
  {
   "cell_type": "code",
   "execution_count": 11,
   "metadata": {},
   "outputs": [],
   "source": [
    "def cnn_model_dropout():\n",
    "\t# function to create the CNN model\n",
    "\t# Create model\n",
    "\tmodel = Sequential()  # model type is sequetial\n",
    "\t# Stacking convolutional layers with small 3 X 3 filters\n",
    "\t# It is followed by a max pooling layer.\n",
    "\t# Each of the above blocks are repeated where the number of filters in each block is increased.\n",
    "\t# Also the depth of the network such as 32,64 are also increased\n",
    "\t# Rectified Linear Activation ReLu is most widely used. It makes the network sparse and efficient\n",
    "\tmodel.add(Conv2D(32, (3, 3), input_shape=(32, 32, 3), activation='relu'))\n",
    "#\tmodel.add(Conv2D(32, (3, 3), activation='relu'))\n",
    "\t# Adding the pooling layer\n",
    "\tmodel.add(MaxPooling2D())\n",
    "\tmodel.add(Dropout(0.2))\n",
    "\n",
    "\tmodel.add(Conv2D(64, (3, 3), activation='relu'))\n",
    "#\tmodel.add(Conv2D(64, (3, 3), activation='relu'))\n",
    "\t# Adding the pooling layer\n",
    "\tmodel.add(MaxPooling2D())\n",
    "\tmodel.add(Dropout(0.2))\n",
    "\n",
    "\tmodel.add(Conv2D(128, (3, 3), activation='relu'))\n",
    "#\tmodel.add(Conv2D(128, (3, 3), activation='relu'))\n",
    "\t# Adding the pooling layer\n",
    "\tmodel.add(MaxPooling2D())\n",
    "\tmodel.add(Dropout(0.2))\n",
    "\n",
    "\t# Flatten layer converts the 2D matrix data to a vector\n",
    "\tmodel.add(Flatten())\n",
    "\t# Fully connected dense layer with 128 neurons\n",
    "\tmodel.add(Dense(128, activation='relu'))\n",
    "\tmodel.add(Dropout(0.2))\n",
    "\t# output layer which has 10 neurons for the 10 classes\n",
    "\tmodel.add(Dense(10, activation='softmax'))\n",
    "\n",
    "\n",
    "\treturn model\n"
   ]
  },
  {
   "cell_type": "code",
   "execution_count": 21,
   "metadata": {},
   "outputs": [],
   "source": [
    "# Plotting the results\n",
    "def summary_plot(history):\n",
    "\n",
    "\tacc = history.history['accuracy']\n",
    "\tval_acc = history.history['val_accuracy']\n",
    "\tloss = history.history['loss']\n",
    "\tval_loss = history.history['val_loss']\n",
    "\n",
    "\tepochs = range(1, len(acc) + 1)\n",
    "\n",
    "\tplt.plot(epochs, acc, 'bo', label='Training acc')\n",
    "\tplt.plot(epochs, val_acc, 'b', label='Validation acc')\n",
    "\tplt.title('Training and validation accuracy')\n",
    "\tplt.legend()\n",
    "\n",
    "\tplt.figure()\n",
    "\n",
    "\tplt.plot(epochs, loss, 'bo', label='Training loss')\n",
    "\tplt.plot(epochs, val_loss, 'b', label='Validation loss')\n",
    "\tplt.title('Training and validation loss')\n",
    "\tplt.legend()\n",
    "\n",
    "\tplt.show()\n"
   ]
  },
  {
   "cell_type": "code",
   "execution_count": 5,
   "metadata": {},
   "outputs": [],
   "source": [
    "def summarize_diagnostics(history):\n",
    "\tplt.subplot(211)\n",
    "\tplt.title('Cross Entropy Loss')\n",
    "\tplt.plot(history.history['loss'], color='blue', label='train')\n",
    "\tplt.plot(history.history['val_loss'], color='orange', label='test')\n",
    "\t# plot accuracy\n",
    "\tplt.subplot(212)\n",
    "\tplt.title('Classification Accuracy')\n",
    "\tplt.plot(history.history['accuracy'], color='blue', label='train')\n",
    "\tplt.plot(history.history['val_accuracy'], color='orange', label='test')\n",
    "\t# save plot to file\n",
    "\tplt.savefig(f'{results_dir}\\\\2_plot.png')\n",
    "\tplt.show()\n",
    "\tplt.close()\n"
   ]
  },
  {
   "cell_type": "code",
   "execution_count": 17,
   "metadata": {},
   "outputs": [],
   "source": [
    "def run_model():\n",
    "\n",
    "\tprint('Load dataset')\n",
    "\tload_dataset()\n",
    "\n",
    "\tprint('dataset loaded')\n",
    "\tprint(f'Training set: {X_train.shape}')\n",
    "\tprint(f'Test Set: {X_test.shape}')\n",
    "\tprint(f'Number of categories : {num_classes}')\n",
    "\n",
    "\tprint('Build model')\n",
    "\t# model = cnn_model()\n",
    "\tmodel = cnn_model_dropout()\n",
    "\tprint('Model is defined')\n",
    "\tprint('Summary of the model.')\n",
    "\tmodel.summary()\n",
    "\n",
    "\tprint('Compile Model')\n",
    "\tmodel.compile(loss='categorical_crossentropy', optimizer='rmsprop', metrics=['accuracy'])\n",
    "\tprint('Model compiled')\n",
    "\n",
    "\t# Create data generator\n",
    "\tdatagen = ImageDataGenerator(\n",
    "            rotation_range=40,\n",
    "            width_shift_range=0.2,\n",
    "            height_shift_range=0.2,\n",
    "            shear_range=0.2,\n",
    "            zoom_range=0.2,\n",
    "            horizontal_flip=True,\n",
    "            fill_mode='nearest')\n",
    "\t# prepare iterator\n",
    "\tit_train = datagen.flow(X_train, y_train, batch_size=64)\n",
    "\tsteps = int(X_train.shape[0]/64)\n",
    "\tprint('Model fitting')\n",
    "\thistory = model.fit_generator(it_train, steps_per_epoch = steps, validation_data=(X_test, y_test), epochs=15)\n",
    "\n",
    "\tprint('Saving the model')\n",
    "\tmodel.save(f'{results_dir}\\\\assignment_6.2b_cifar10.h5')\n",
    "\n",
    "\tprint('Evaluating the model on the test data')\n",
    "\tscores = model.evaluate(X_test, y_test, verbose=0)\n",
    "\n",
    "\tprint(\"CNN Accuracy: %.3f%%\" % (scores[1]*100.0))\n",
    "\n",
    "\tprint('Output summary')\n",
    "\t# summary_plot(history)\n",
    "\tsummarize_diagnostics(history)\n"
   ]
  },
  {
   "cell_type": "code",
   "execution_count": 18,
   "metadata": {},
   "outputs": [
    {
     "name": "stdout",
     "output_type": "stream",
     "text": [
      "Load dataset\n",
      "dataset loaded\n",
      "Training set: (50000, 32, 32, 3)\n",
      "Test Set: (10000, 32, 32, 3)\n",
      "Number of categories : 10\n",
      "Build model\n",
      "Model is defined\n",
      "Summary of the model.\n",
      "Model: \"sequential_4\"\n",
      "_________________________________________________________________\n",
      "Layer (type)                 Output Shape              Param #   \n",
      "=================================================================\n",
      "conv2d_13 (Conv2D)           (None, 30, 30, 32)        896       \n",
      "_________________________________________________________________\n",
      "max_pooling2d_10 (MaxPooling (None, 15, 15, 32)        0         \n",
      "_________________________________________________________________\n",
      "dropout_11 (Dropout)         (None, 15, 15, 32)        0         \n",
      "_________________________________________________________________\n",
      "conv2d_14 (Conv2D)           (None, 13, 13, 64)        18496     \n",
      "_________________________________________________________________\n",
      "max_pooling2d_11 (MaxPooling (None, 6, 6, 64)          0         \n",
      "_________________________________________________________________\n",
      "dropout_12 (Dropout)         (None, 6, 6, 64)          0         \n",
      "_________________________________________________________________\n",
      "conv2d_15 (Conv2D)           (None, 4, 4, 128)         73856     \n",
      "_________________________________________________________________\n",
      "max_pooling2d_12 (MaxPooling (None, 2, 2, 128)         0         \n",
      "_________________________________________________________________\n",
      "dropout_13 (Dropout)         (None, 2, 2, 128)         0         \n",
      "_________________________________________________________________\n",
      "flatten_3 (Flatten)          (None, 512)               0         \n",
      "_________________________________________________________________\n",
      "dense_5 (Dense)              (None, 128)               65664     \n",
      "_________________________________________________________________\n",
      "dropout_14 (Dropout)         (None, 128)               0         \n",
      "_________________________________________________________________\n",
      "dense_6 (Dense)              (None, 10)                1290      \n",
      "=================================================================\n",
      "Total params: 160,202\n",
      "Trainable params: 160,202\n",
      "Non-trainable params: 0\n",
      "_________________________________________________________________\n",
      "Compile Model\n",
      "Model compiled\n",
      "Model fitting\n",
      "Epoch 1/15\n",
      "781/781 [==============================] - 60s 76ms/step - loss: 1.9537 - accuracy: 0.2730 - val_loss: 1.6748 - val_accuracy: 0.3796\n",
      "Epoch 2/15\n",
      "781/781 [==============================] - 59s 76ms/step - loss: 1.7110 - accuracy: 0.3750 - val_loss: 1.3704 - val_accuracy: 0.5188\n",
      "Epoch 3/15\n",
      "781/781 [==============================] - 68s 88ms/step - loss: 1.6033 - accuracy: 0.4203 - val_loss: 1.3661 - val_accuracy: 0.5096\n",
      "Epoch 4/15\n",
      "781/781 [==============================] - 65s 83ms/step - loss: 1.5326 - accuracy: 0.4498 - val_loss: 1.4312 - val_accuracy: 0.4861\n",
      "Epoch 5/15\n",
      "781/781 [==============================] - 63s 80ms/step - loss: 1.4827 - accuracy: 0.4683 - val_loss: 1.1713 - val_accuracy: 0.5802\n",
      "Epoch 6/15\n",
      "781/781 [==============================] - 67s 86ms/step - loss: 1.4497 - accuracy: 0.4844 - val_loss: 1.1538 - val_accuracy: 0.5875\n",
      "Epoch 7/15\n",
      "781/781 [==============================] - 65s 83ms/step - loss: 1.4273 - accuracy: 0.4917 - val_loss: 1.1986 - val_accuracy: 0.5708\n",
      "Epoch 8/15\n",
      "781/781 [==============================] - 64s 81ms/step - loss: 1.4080 - accuracy: 0.5003 - val_loss: 1.1596 - val_accuracy: 0.5884\n",
      "Epoch 9/15\n",
      "781/781 [==============================] - 67s 86ms/step - loss: 1.3886 - accuracy: 0.5076 - val_loss: 1.1374 - val_accuracy: 0.5951\n",
      "Epoch 10/15\n",
      "781/781 [==============================] - 64s 82ms/step - loss: 1.3890 - accuracy: 0.5099 - val_loss: 1.0909 - val_accuracy: 0.6222\n",
      "Epoch 11/15\n",
      "781/781 [==============================] - 66s 85ms/step - loss: 1.3741 - accuracy: 0.5144 - val_loss: 1.0623 - val_accuracy: 0.6231\n",
      "Epoch 12/15\n",
      "781/781 [==============================] - 65s 83ms/step - loss: 1.3646 - accuracy: 0.5205 - val_loss: 1.1935 - val_accuracy: 0.5840\n",
      "Epoch 13/15\n",
      "781/781 [==============================] - 63s 81ms/step - loss: 1.3537 - accuracy: 0.5226 - val_loss: 1.0272 - val_accuracy: 0.6479\n",
      "Epoch 14/15\n",
      "781/781 [==============================] - 76s 97ms/step - loss: 1.3585 - accuracy: 0.5218 - val_loss: 1.0183 - val_accuracy: 0.6468\n",
      "Epoch 15/15\n",
      "781/781 [==============================] - 63s 80ms/step - loss: 1.3541 - accuracy: 0.5245 - val_loss: 1.0227 - val_accuracy: 0.6403\n",
      "Saving the model\n",
      "Evaluating the model on the test data\n",
      "CNN Accuracy: 64.030%\n",
      "Output summary\n"
     ]
    },
    {
     "data": {
      "image/png": "[encoded data removed]",
      "text/plain": [
       "<Figure size 432x288 with 2 Axes>"
      ]
     },
     "metadata": {
      "needs_background": "light"
     },
     "output_type": "display_data"
    }
   ],
   "source": [
    "run_model()"
   ]
  }
 ],
 "metadata": {
  "interpreter": {
   "hash": "d18a9889dea234ea0a2ae94165273cf00045647714b4daa7d07ae97b3e052eb7"
  },
  "kernelspec": {
   "display_name": "Python 3",
   "language": "python",
   "name": "python3"
  },
  "language_info": {
   "codemirror_mode": {
    "name": "ipython",
    "version": 3
   },
   "file_extension": ".py",
   "mimetype": "text/x-python",
   "name": "python",
   "nbconvert_exporter": "python",
   "pygments_lexer": "ipython3",
   "version": "3.6.10"
  }
 },
 "nbformat": 4,
 "nbformat_minor": 2
}
