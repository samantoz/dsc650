{
 "cells": [
  {
   "cell_type": "markdown",
   "metadata": {},
   "source": [
    "### Assignment 6.2a\n",
    "Using section 5.2 in Deep Learning with Python as a guide, create a ConvNet model that classifies images CIFAR10 small images classification dataset\n",
    "\n",
    "-- Do not use dropout or data-augmentation in this part. \n",
    "\n",
    "-- Save the model, predictions, metrics, and validation plots in the dsc650/assignments/assignment06/results directory."
   ]
  },
  {
   "cell_type": "code",
   "execution_count": 6,
   "metadata": {},
   "outputs": [
    {
     "name": "stdout",
     "output_type": "stream",
     "text": [
      "c:\\Users\\saman\\git_repos\\dsc650\\dsc650\\assignments\\assignment06\n",
      "c:\\Users\\saman\\git_repos\\dsc650\\dsc650\\assignments\\assignment06\\results\n"
     ]
    }
   ],
   "source": [
    "import json\n",
    "from pathlib import Path\n",
    "import os\n",
    "\n",
    "current_dir = Path(os.getcwd()).absolute()\n",
    "results_dir = current_dir.joinpath('results')\n",
    "\n",
    "print(current_dir)\n",
    "print(results_dir)"
   ]
  },
  {
   "cell_type": "code",
   "execution_count": 1,
   "metadata": {},
   "outputs": [],
   "source": [
    "# loading the required libraries and packages\n",
    "import keras\n",
    "from keras.models import Sequential\n",
    "from keras.layers import Dense\n",
    "from keras.utils import to_categorical\n",
    "import matplotlib.pyplot as plt\n",
    "\n",
    "from keras.datasets import cifar10\n",
    "\n",
    "from keras.layers import Dropout\n",
    "from keras.layers import Flatten\n",
    "\n",
    "from keras.layers.convolutional import Conv2D\n",
    "from keras.layers.convolutional import MaxPooling2D\n",
    "\n",
    "from keras.utils import np_utils\n"
   ]
  },
  {
   "cell_type": "markdown",
   "metadata": {},
   "source": [
    "## Data\n",
    "Here we are using the CIFAR10 small images dataset to classify the images.\n",
    "\n",
    "This is a dataset of 50,000 32X32 color training images and 10,000 test images labeled over 10 categories."
   ]
  },
  {
   "cell_type": "code",
   "execution_count": 2,
   "metadata": {},
   "outputs": [
    {
     "name": "stdout",
     "output_type": "stream",
     "text": [
      "Downloading data from https://www.cs.toronto.edu/~kriz/cifar-10-python.tar.gz\n",
      "170500096/170498071 [==============================] - 49s 0us/step\n"
     ]
    },
    {
     "data": {
      "text/plain": [
       "(32, 32, 3)"
      ]
     },
     "execution_count": 2,
     "metadata": {},
     "output_type": "execute_result"
    }
   ],
   "source": [
    "# loading the CIFAR10 dataset and create the training and test arrays\n",
    "(X_train, y_train), (X_test, y_test) = cifar10.load_data()\n",
    "# Checking the shape of the second image from the training set\n",
    "X_train[1].shape"
   ]
  },
  {
   "cell_type": "code",
   "execution_count": 3,
   "metadata": {},
   "outputs": [
    {
     "data": {
      "image/png": "[encoded data removed]",
      "text/plain": [
       "<Figure size 432x288 with 1 Axes>"
      ]
     },
     "metadata": {
      "needs_background": "light"
     },
     "output_type": "display_data"
    }
   ],
   "source": [
    "plt.imshow(X_train[3])\n",
    "plt.show()"
   ]
  },
  {
   "cell_type": "markdown",
   "metadata": {},
   "source": [
    "### Data Preparation"
   ]
  },
  {
   "cell_type": "code",
   "execution_count": 4,
   "metadata": {},
   "outputs": [
    {
     "data": {
      "text/plain": [
       "(50000, 32, 32, 3)"
      ]
     },
     "execution_count": 4,
     "metadata": {},
     "output_type": "execute_result"
    }
   ],
   "source": [
    "X_train.shape\n"
   ]
  },
  {
   "cell_type": "code",
   "execution_count": 5,
   "metadata": {},
   "outputs": [
    {
     "name": "stdout",
     "output_type": "stream",
     "text": [
      "(50000, 32, 32, 3)\n",
      "(10000, 32, 32, 3)\n",
      "10\n"
     ]
    }
   ],
   "source": [
    "# Data preparation is required before training the model\n",
    "# Lines 1 and 2 reshapes the inputs\n",
    "X_train = X_train.reshape((X_train.shape[0], 32, 32, 3)).astype('float32')\n",
    "X_test = X_test.reshape((X_test.shape[0], 32, 32, 3)).astype('float32')\n",
    "\n",
    "# Lines 3 and 4 \n",
    "# Normalization of the input values (image pixels) from 0 and 255 to 0.1\n",
    "X_train = X_train / 255\n",
    "X_test = X_test / 255\n",
    "\n",
    "# Lines 5 and 6 \n",
    "# one-hot encoding of the target variables\n",
    "y_train = np_utils.to_categorical(y_train)\n",
    "y_test = np_utils.to_categorical(y_test)\n",
    "\n",
    "num_classes = y_test.shape[1]\n",
    "print(X_train.shape); print(X_test.shape); print(num_classes)\n"
   ]
  },
  {
   "cell_type": "markdown",
   "metadata": {},
   "source": [
    "### Building the model"
   ]
  },
  {
   "cell_type": "code",
   "execution_count": 10,
   "metadata": {},
   "outputs": [],
   "source": [
    "def cnn_model():\n",
    "\t# function to train the CNN model\n",
    "\t# Create model\n",
    "\tmodel = Sequential()  #model type is sequetial\n",
    "\t# Addng layers to the model\n",
    "\t# First layer is Conv2D as the input images are 2-dimensional matrices\n",
    "\t# 32 nodes with a kernel size of 5\n",
    "\t# Rectified Linear Activation ReLu is most widely used. It makes the network sparse and efficient \n",
    "\tmodel.add(Conv2D(32, (5, 5), input_shape=(28, 28, 1), activation='relu'))\n",
    "\t# Adding the pooling layer\n",
    "\tmodel.add(MaxPooling2D())\n",
    "\t\n",
    "\t# adding the regularization layer\n",
    "\tmodel.add(Dropout(0.2))\n",
    "\t\n",
    "\t# Flatten layer converts the 2D matrix data to a vector\n",
    "\tmodel.add(Flatten())\n",
    "\t# Fully connected dense layer with 128 neurons\n",
    "\tmodel.add(Dense(128, activation='relu'))\n",
    "\t# output layer which has 10 neurons for the 10 classes\n",
    "\tmodel.add(Dense(num_classes, activation='softmax'))\n",
    "\n",
    "\t# Compile model\n",
    "\tmodel.compile(loss='categorical_crossentropy', optimizer='adam', metrics=['accuracy'])\n",
    "\treturn model\n",
    "\n",
    "\n",
    "model = cnn_model()\n"
   ]
  },
  {
   "cell_type": "markdown",
   "metadata": {},
   "source": [
    "### Fitting and Evaluating the model"
   ]
  },
  {
   "cell_type": "code",
   "execution_count": 11,
   "metadata": {},
   "outputs": [
    {
     "name": "stdout",
     "output_type": "stream",
     "text": [
      "Train on 60000 samples, validate on 10000 samples\n",
      "Epoch 1/5\n",
      "60000/60000 [==============================] - 15s 251us/step - loss: 0.2291 - accuracy: 0.9330 - val_loss: 0.0754 - val_accuracy: 0.9773\n",
      "Epoch 2/5\n",
      "60000/60000 [==============================] - 15s 253us/step - loss: 0.0722 - accuracy: 0.9783 - val_loss: 0.0503 - val_accuracy: 0.9818\n",
      "Epoch 3/5\n",
      "60000/60000 [==============================] - 18s 305us/step - loss: 0.0508 - accuracy: 0.9847 - val_loss: 0.0404 - val_accuracy: 0.9869\n",
      "Epoch 4/5\n",
      "60000/60000 [==============================] - 16s 272us/step - loss: 0.0385 - accuracy: 0.9882 - val_loss: 0.0361 - val_accuracy: 0.9884\n",
      "Epoch 5/5\n",
      "60000/60000 [==============================] - 17s 282us/step - loss: 0.0305 - accuracy: 0.9900 - val_loss: 0.0380 - val_accuracy: 0.9873\n",
      "CNN Error: 1.27%\n"
     ]
    }
   ],
   "source": [
    "# Considering 5 epochs and a batch size of 150\n",
    "history = model.fit(X_train, y_train, validation_data=(X_test, y_test), epochs=5, batch_size=150)\n",
    "# evaluating the model on the test data\n",
    "scores = model.evaluate(X_test, y_test, verbose=0)\n",
    "\n",
    "print(\"CNN Error: %.2f%%\" % (100-scores[1]*100))"
   ]
  },
  {
   "cell_type": "markdown",
   "metadata": {},
   "source": [
    "#### The above output shows that with only five epochs we have achieved accuracy of 98.73% on our validation data set."
   ]
  },
  {
   "cell_type": "code",
   "execution_count": null,
   "metadata": {},
   "outputs": [],
   "source": [
    "# saving the model\n",
    "model.save(f'{results_dir}\\\\assignment_6.2a_cifar10.h5')\n"
   ]
  },
  {
   "cell_type": "code",
   "execution_count": null,
   "metadata": {},
   "outputs": [],
   "source": [
    "# Plotting the results\n",
    "acc = history.history['accuracy']\n",
    "val_acc = history.history['val_accuracy']\n",
    "loss = history.history['loss']\n",
    "val_loss = history.history['val_loss']\n",
    "\n",
    "epochs = range(1, len(acc) + 1)\n",
    "\n",
    "plt.plot(epochs, acc, 'bo', label='Training acc')\n",
    "plt.plot(epochs, val_acc, 'b', label='Validation acc')\n",
    "plt.title('Training and validation accuracy')\n",
    "plt.legend()\n",
    "\n",
    "plt.figure()\n",
    "\n",
    "plt.plot(epochs, loss, 'bo', label='Training loss')\n",
    "plt.plot(epochs, val_loss, 'b', label='Validation loss')\n",
    "plt.title('Training and validation loss')\n",
    "plt.legend()\n",
    "\n",
    "plt.show()"
   ]
  },
  {
   "cell_type": "markdown",
   "metadata": {},
   "source": [
    "#### These plots are characteristics of overfitting. The training accuracy increases until it reaches 100% whereas the validation accuracy stalls a little above 99%.\n",
    "#### The validation loss reaches its minimum around 3 epochs and then stays almost the same, whereas the training loss keeps decreasing until it reaches nearly 0"
   ]
  }
 ],
 "metadata": {
  "interpreter": {
   "hash": "d18a9889dea234ea0a2ae94165273cf00045647714b4daa7d07ae97b3e052eb7"
  },
  "kernelspec": {
   "display_name": "Python 3.6.10 64-bit ('BU_DSC': conda)",
   "language": "python",
   "name": "python3"
  },
  "language_info": {
   "codemirror_mode": {
    "name": "ipython",
    "version": 3
   },
   "file_extension": ".py",
   "mimetype": "text/x-python",
   "name": "python",
   "nbconvert_exporter": "python",
   "pygments_lexer": "ipython3",
   "version": "3.6.10"
  },
  "orig_nbformat": 4
 },
 "nbformat": 4,
 "nbformat_minor": 2
}
