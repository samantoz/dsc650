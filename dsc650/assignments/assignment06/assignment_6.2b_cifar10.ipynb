{
 "cells": [
  {
   "cell_type": "markdown",
   "metadata": {},
   "source": [
    "### Assignment 6.2b\n",
    "Using section 5.2 in Deep Learning with Python as a guide, create a ConvNet model that classifies images CIFAR10 small images classification dataset\n",
    "\n",
    "-- This time includes dropout and data-augmentation. \n",
    "\n",
    "-- Save the model, predictions, metrics, and validation plots in the dsc650/assignments/assignment06/results directory."
   ]
  },
  {
   "cell_type": "code",
   "execution_count": 1,
   "metadata": {},
   "outputs": [
    {
     "name": "stdout",
     "output_type": "stream",
     "text": [
      "c:\\Users\\saman\\git_repos\\dsc650\\dsc650\\assignments\\assignment06\n",
      "c:\\Users\\saman\\git_repos\\dsc650\\dsc650\\assignments\\assignment06\\results\n"
     ]
    }
   ],
   "source": [
    "import json\n",
    "from pathlib import Path\n",
    "import os\n",
    "\n",
    "current_dir = Path(os.getcwd()).absolute()\n",
    "results_dir = current_dir.joinpath('results')\n",
    "\n",
    "print(current_dir)\n",
    "print(results_dir)"
   ]
  },
  {
   "cell_type": "code",
   "execution_count": 2,
   "metadata": {},
   "outputs": [
    {
     "name": "stderr",
     "output_type": "stream",
     "text": [
      "Using TensorFlow backend.\n"
     ]
    }
   ],
   "source": [
    "# loading the required libraries and packages\n",
    "import keras\n",
    "from keras.models import Sequential\n",
    "from keras.layers import Dense\n",
    "from keras.utils import to_categorical\n",
    "import matplotlib.pyplot as plt\n",
    "\n",
    "from keras.datasets import cifar10\n",
    "\n",
    "from keras.layers import Dropout\n",
    "from keras.layers import Flatten\n",
    "\n",
    "from keras.layers.convolutional import Conv2D\n",
    "from keras.layers.convolutional import MaxPooling2D\n",
    "\n",
    "from keras.utils import np_utils\n",
    "from keras.preprocessing.image import ImageDataGenerator\n"
   ]
  },
  {
   "cell_type": "markdown",
   "metadata": {},
   "source": [
    "## Data\n",
    "Here we are using the CIFAR10 small images dataset to classify the images.\n",
    "\n",
    "This is a dataset of 50,000 32X32 color training images and 10,000 test images labeled over 10 categories."
   ]
  },
  {
   "cell_type": "code",
   "execution_count": 3,
   "metadata": {},
   "outputs": [],
   "source": [
    "datagen = ImageDataGenerator(\n",
    "    rotation_range=40,\n",
    "    width_shift_range=0.2,\n",
    "    height_shift_range=0.2,\n",
    "    shear_range=0.2,\n",
    "    zoom_range=0.2,\n",
    "    horizontal_flip=True,\n",
    "    fill_mode='nearest')\n"
   ]
  },
  {
   "cell_type": "code",
   "execution_count": 19,
   "metadata": {},
   "outputs": [],
   "source": [
    "# Data preparation is required before training the model\n",
    "def load_dataset():\n",
    "\n",
    "\t# loading the CIFAR10 dataset and create the training and test arrays\n",
    "\t(X_train, y_train), (X_test, y_test) = cifar10.load_data()\n",
    "\n",
    "\t# Lines 1 and 2 reshapes the inputs\n",
    "\tX_train = X_train.reshape((X_train.shape[0], 32, 32, 3)).astype('float32')\n",
    "\tX_test = X_test.reshape((X_test.shape[0], 32, 32, 3)).astype('float32')\n",
    "\n",
    "\t# Lines 3 and 4\n",
    "\t# Normalization of the input values (image pixels) from 0 and 255 to 0.1\n",
    "\tX_train = X_train / 255\n",
    "\tX_test = X_test / 255\n",
    "\n",
    "\t# Lines 5 and 6\n",
    "\t# one-hot encoding of the target variables\n",
    "\ty_train = np_utils.to_categorical(y_train)\n",
    "\ty_test = np_utils.to_categorical(y_test)\n",
    "\n",
    "\tnum_classes = y_test.shape[1]\n",
    "\n",
    "\treturn X_train, X_test, y_train, y_test"
   ]
  },
  {
   "cell_type": "code",
   "execution_count": 15,
   "metadata": {},
   "outputs": [],
   "source": [
    "# loading the CIFAR10 dataset and create the training and test arrays\n",
    "(X_train, y_train), (X_test, y_test) = cifar10.load_data()\n",
    "\n",
    "# Lines 1 and 2 reshapes the inputs\n",
    "X_train = X_train.reshape((X_train.shape[0], 32, 32, 3)).astype('float32')\n",
    "X_test = X_test.reshape((X_test.shape[0], 32, 32, 3)).astype('float32')\n",
    "\n",
    "# Lines 3 and 4\n",
    "# Normalization of the input values (image pixels) from 0 and 255 to 0.1\n",
    "X_train = X_train / 255\n",
    "X_test = X_test / 255\n",
    "\n",
    "# Lines 5 and 6\n",
    "# one-hot encoding of the target variables\n",
    "y_train = np_utils.to_categorical(y_train)\n",
    "y_test = np_utils.to_categorical(y_test)\n",
    "\n",
    "num_classes = y_test.shape[1]\n"
   ]
  },
  {
   "cell_type": "code",
   "execution_count": 18,
   "metadata": {},
   "outputs": [
    {
     "name": "stdout",
     "output_type": "stream",
     "text": [
      "Training set: (50000, 32, 32, 3)\n"
     ]
    }
   ],
   "source": [
    "load_dataset()\n",
    "print(f'Training set: {X_train.shape}')\n"
   ]
  },
  {
   "cell_type": "code",
   "execution_count": 5,
   "metadata": {},
   "outputs": [],
   "source": [
    "def cnn_model():\n",
    "\t# function to create the CNN model\n",
    "\t# Create model\n",
    "\tmodel = Sequential()  # model type is sequetial\n",
    "\t# Stacking convolutional layers with small 3 X 3 filters\n",
    "\t# It is followed by a max pooling layer.\n",
    "\t# Each of the above blocks are repeated where the number of filters in each block is increased.\n",
    "\t# Also the depth of the network such as 32,64 are also increased\n",
    "\t# Rectified Linear Activation ReLu is most widely used. It makes the network sparse and efficient\n",
    "\tmodel.add(Conv2D(32, (3, 3), input_shape=(32, 32, 3), activation='relu'))\n",
    "\t# Adding the pooling layer\n",
    "\tmodel.add(MaxPooling2D(2, 2))\n",
    "\n",
    "\tmodel.add(Conv2D(64, (3, 3), activation='relu'))\n",
    "\t# Adding the pooling layer\n",
    "\tmodel.add(MaxPooling2D(2, 2))\n",
    "\t# Flatten layer converts the 2D matrix data to a vector\n",
    "\tmodel.add(Flatten())\n",
    "\t# Fully connected dense layer with 128 neurons\n",
    "\tmodel.add(Dense(128, activation='relu'))\n",
    "\t# output layer which has 10 neurons for the 10 classes\n",
    "\tmodel.add(Dense(num_classes, activation='softmax'))\n",
    "\n",
    "\treturn model\n"
   ]
  },
  {
   "cell_type": "code",
   "execution_count": 20,
   "metadata": {},
   "outputs": [],
   "source": [
    "def cnn_model_dropout():\n",
    "\t# function to create the CNN model\n",
    "\t# Create model\n",
    "\tmodel = Sequential()  # model type is sequetial\n",
    "\t# Stacking convolutional layers with small 3 X 3 filters\n",
    "\t# It is followed by a max pooling layer.\n",
    "\t# Each of the above blocks are repeated where the number of filters in each block is increased.\n",
    "\t# Also the depth of the network such as 32,64 are also increased\n",
    "\t# Rectified Linear Activation ReLu is most widely used. It makes the network sparse and efficient\n",
    "\tmodel.add(Conv2D(32, (3, 3), input_shape=(32, 32, 3), activation='relu'))\n",
    "\t# Adding the pooling layer\n",
    "\tmodel.add(MaxPooling2D(2, 2))\n",
    "\t# Adding dropout layer with a fixed dropout rate of 20% after each max pooling layer\n",
    "\tmodel.add(Dropout(0.2))\n",
    "\n",
    "\tmodel.add(Conv2D(64, (3, 3), activation='relu'))\n",
    "\t# Adding the pooling layer\n",
    "\tmodel.add(MaxPooling2D(2, 2))\n",
    "\tmodel.add(Dropout(0.2))\n",
    "\t# Flatten layer converts the 2D matrix data to a vector\n",
    "\tmodel.add(Flatten())\n",
    "\t# Fully connected dense layer with 128 neurons\n",
    "\tmodel.add(Dense(128, activation='relu'))\n",
    "\tmodel.add(Dropout(0.2))\n",
    "\t# output layer which has 10 neurons for the 10 classes\n",
    "\tmodel.add(Dense(num_classes, activation='softmax'))\n",
    "\n",
    "\treturn model\n"
   ]
  },
  {
   "cell_type": "code",
   "execution_count": 21,
   "metadata": {},
   "outputs": [],
   "source": [
    "# Plotting the results\n",
    "def summary_plot(history):\n",
    "\n",
    "\tacc = history.history['accuracy']\n",
    "\tval_acc = history.history['val_accuracy']\n",
    "\tloss = history.history['loss']\n",
    "\tval_loss = history.history['val_loss']\n",
    "\n",
    "\tepochs = range(1, len(acc) + 1)\n",
    "\n",
    "\tplt.plot(epochs, acc, 'bo', label='Training acc')\n",
    "\tplt.plot(epochs, val_acc, 'b', label='Validation acc')\n",
    "\tplt.title('Training and validation accuracy')\n",
    "\tplt.legend()\n",
    "\n",
    "\tplt.figure()\n",
    "\n",
    "\tplt.plot(epochs, loss, 'bo', label='Training loss')\n",
    "\tplt.plot(epochs, val_loss, 'b', label='Validation loss')\n",
    "\tplt.title('Training and validation loss')\n",
    "\tplt.legend()\n",
    "\n",
    "\tplt.show()\n"
   ]
  },
  {
   "cell_type": "code",
   "execution_count": null,
   "metadata": {},
   "outputs": [],
   "source": [
    "def summarize_diagnostics(history):\n",
    "\tplt.subplot(211)\n",
    "\tplt.title('Cross Entropy Loss')\n",
    "\tplt.plot(history.history['loss'], color='blue', label='train')\n",
    "\tplt.plot(history.history['val_loss'], color='orange', label='test')\n",
    "\t# plot accuracy\n",
    "\tplt.subplot(212)\n",
    "\tplt.title('Classification Accuracy')\n",
    "\tplt.plot(history.history['accuracy'], color='blue', label='train')\n",
    "\tplt.plot(history.history['val_accuracy'], color='orange', label='test')\n",
    "\t# save plot to file\n",
    "\tplt.savefig(f'{results_dir}\\\\2_plot.png')\n",
    "\tplt.show()\n",
    "\tplt.close()\n"
   ]
  },
  {
   "cell_type": "code",
   "execution_count": 22,
   "metadata": {},
   "outputs": [],
   "source": [
    "def run_model():\n",
    "\n",
    "\tprint('Load dataset')\n",
    "\tload_dataset()\n",
    "\n",
    "\tprint('dataset loaded')\n",
    "\tprint(f'Training set: {X_train.shape}')\n",
    "\tprint(f'Test Set: {X_test.shape}')\n",
    "\tprint(f'Number of categories : {num_classes}')\n",
    "\n",
    "\tprint('Build model')\n",
    "\t# model = cnn_model()\n",
    "\tmodel = cnn_model_dropout()\n",
    "\tprint('Model is defined')\n",
    "\tprint('Summary of the model.')\n",
    "\tmodel.summary()\n",
    "\n",
    "\tprint('Compile Model')\n",
    "\tmodel.compile(loss='categorical_crossentropy', optimizer='rmsprop', metrics=['accuracy'])\n",
    "\tprint('Model compiled')\n",
    "\n",
    "\tprint('Model fitting Considering 5 epochs and a batch size of 150')\n",
    "\thistory = model.fit(X_train, y_train, validation_data=(X_test, y_test), epochs=5, batch_size=150, verbose=0)\n",
    "\n",
    "\tprint('Saving the model')\n",
    "\tmodel.save(f'{results_dir}\\\\assignment_6.2b_cifar10.h5')\n",
    "\n",
    "\tprint('Evaluating the model on the test data')\n",
    "\tscores = model.evaluate(X_test, y_test, verbose=0)\n",
    "\n",
    "\tprint(\"CNN Accuracy: %.3f%%\" % (scores[1]*100.0))\n",
    "\n",
    "\tprint('Output summary')\n",
    "\t# summary_plot(history)\n",
    "\tsummarize_diagnostics(history)\n"
   ]
  },
  {
   "cell_type": "code",
   "execution_count": 23,
   "metadata": {},
   "outputs": [
    {
     "name": "stdout",
     "output_type": "stream",
     "text": [
      "Load dataset\n",
      "dataset loaded\n",
      "Training set: (50000, 32, 32, 3)\n",
      "Test Set: (10000, 32, 32, 3)\n",
      "Number of categories : 10\n",
      "Build model\n",
      "Model is defined\n",
      "Summary of the model.\n",
      "Model: \"sequential_1\"\n",
      "_________________________________________________________________\n",
      "Layer (type)                 Output Shape              Param #   \n",
      "=================================================================\n",
      "conv2d_1 (Conv2D)            (None, 30, 30, 32)        896       \n",
      "_________________________________________________________________\n",
      "max_pooling2d_1 (MaxPooling2 (None, 15, 15, 32)        0         \n",
      "_________________________________________________________________\n",
      "dropout_1 (Dropout)          (None, 15, 15, 32)        0         \n",
      "_________________________________________________________________\n",
      "conv2d_2 (Conv2D)            (None, 13, 13, 64)        18496     \n",
      "_________________________________________________________________\n",
      "max_pooling2d_2 (MaxPooling2 (None, 6, 6, 64)          0         \n",
      "_________________________________________________________________\n",
      "dropout_2 (Dropout)          (None, 6, 6, 64)          0         \n",
      "_________________________________________________________________\n",
      "flatten_1 (Flatten)          (None, 2304)              0         \n",
      "_________________________________________________________________\n",
      "dense_1 (Dense)              (None, 128)               295040    \n",
      "_________________________________________________________________\n",
      "dropout_3 (Dropout)          (None, 128)               0         \n",
      "_________________________________________________________________\n",
      "dense_2 (Dense)              (None, 10)                1290      \n",
      "=================================================================\n",
      "Total params: 315,722\n",
      "Trainable params: 315,722\n",
      "Non-trainable params: 0\n",
      "_________________________________________________________________\n",
      "Compile Model\n",
      "Model compiled\n",
      "Model fitting Considering 5 epochs and a batch size of 150\n",
      "Saving the model\n",
      "Evaluating the model on the test data\n",
      "CNN Accuracy: 62.430%\n",
      "Output summary\n"
     ]
    },
    {
     "data": {
      "image/png": "[encoded data removed]",
      "text/plain": [
       "<Figure size 432x288 with 1 Axes>"
      ]
     },
     "metadata": {
      "needs_background": "light"
     },
     "output_type": "display_data"
    },
    {
     "data": {
      "image/png": "[encoded data removed]",
      "text/plain": [
       "<Figure size 432x288 with 1 Axes>"
      ]
     },
     "metadata": {
      "needs_background": "light"
     },
     "output_type": "display_data"
    }
   ],
   "source": [
    "run_model()"
   ]
  }
 ],
 "metadata": {
  "interpreter": {
   "hash": "d18a9889dea234ea0a2ae94165273cf00045647714b4daa7d07ae97b3e052eb7"
  },
  "kernelspec": {
   "display_name": "Python 3.6.10 64-bit ('BU_DSC': conda)",
   "language": "python",
   "name": "python3"
  },
  "language_info": {
   "codemirror_mode": {
    "name": "ipython",
    "version": 3
   },
   "file_extension": ".py",
   "mimetype": "text/x-python",
   "name": "python",
   "nbconvert_exporter": "python",
   "pygments_lexer": "ipython3",
   "version": "3.6.10"
  },
  "orig_nbformat": 4
 },
 "nbformat": 4,
 "nbformat_minor": 2
}
