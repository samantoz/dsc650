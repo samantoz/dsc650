{
 "cells": [
  {
   "cell_type": "markdown",
   "metadata": {},
   "source": [
    "### Assignment 6.2b\n",
    "Using section 5.2 in Deep Learning with Python as a guide, create a ConvNet model that classifies images CIFAR10 small images classification dataset\n",
    "\n",
    "-- This time includes dropout and data-augmentation. \n",
    "\n",
    "-- Save the model, predictions, metrics, and validation plots in the dsc650/assignments/assignment06/results directory."
   ]
  },
  {
   "cell_type": "code",
   "execution_count": 1,
   "metadata": {},
   "outputs": [
    {
     "name": "stdout",
     "output_type": "stream",
     "text": [
      "c:\\Users\\saman\\git_repos\\dsc650\\dsc650\\assignments\\assignment06\n",
      "c:\\Users\\saman\\git_repos\\dsc650\\dsc650\\assignments\\assignment06\\results\n"
     ]
    }
   ],
   "source": [
    "import json\n",
    "from pathlib import Path\n",
    "import os\n",
    "\n",
    "current_dir = Path(os.getcwd()).absolute()\n",
    "results_dir = current_dir.joinpath('results')\n",
    "\n",
    "print(current_dir)\n",
    "print(results_dir)"
   ]
  },
  {
   "cell_type": "code",
   "execution_count": 1,
   "metadata": {},
   "outputs": [
    {
     "name": "stderr",
     "output_type": "stream",
     "text": [
      "Using TensorFlow backend.\n"
     ]
    }
   ],
   "source": [
    "# loading the required libraries and packages\n",
    "import keras\n",
    "from keras.models import Sequential\n",
    "from keras.layers import Dense\n",
    "from keras.utils import to_categorical\n",
    "import matplotlib.pyplot as plt\n",
    "\n",
    "from keras.datasets import cifar10\n",
    "\n",
    "from keras.layers import Dropout\n",
    "from keras.layers import Flatten\n",
    "\n",
    "from keras.layers.convolutional import Conv2D\n",
    "from keras.layers.convolutional import MaxPooling2D\n",
    "\n",
    "from keras.utils import np_utils\n",
    "from keras.preprocessing.image import ImageDataGenerator\n"
   ]
  },
  {
   "cell_type": "markdown",
   "metadata": {},
   "source": [
    "## Data\n",
    "Here we are using the CIFAR10 small images dataset to classify the images.\n",
    "\n",
    "This is a dataset of 50,000 32X32 color training images and 10,000 test images labeled over 10 categories."
   ]
  },
  {
   "cell_type": "code",
   "execution_count": 3,
   "metadata": {},
   "outputs": [
    {
     "data": {
      "text/plain": [
       "(32, 32, 3)"
      ]
     },
     "execution_count": 3,
     "metadata": {},
     "output_type": "execute_result"
    }
   ],
   "source": [
    "# loading the CIFAR10 dataset and create the training and test arrays\n",
    "(X_train, y_train), (X_test, y_test) = cifar10.load_data()\n",
    "# Checking the shape of the second image from the training set\n",
    "X_train[1].shape"
   ]
  },
  {
   "cell_type": "code",
   "execution_count": 4,
   "metadata": {},
   "outputs": [
    {
     "data": {
      "image/png": "[encoded data removed]",
      "text/plain": [
       "<Figure size 432x288 with 1 Axes>"
      ]
     },
     "metadata": {
      "needs_background": "light"
     },
     "output_type": "display_data"
    }
   ],
   "source": [
    "plt.imshow(X_train[5])\n",
    "plt.show()"
   ]
  },
  {
   "cell_type": "markdown",
   "metadata": {},
   "source": [
    "### Data Preparation"
   ]
  },
  {
   "cell_type": "code",
   "execution_count": 5,
   "metadata": {},
   "outputs": [
    {
     "data": {
      "text/plain": [
       "(50000, 32, 32, 3)"
      ]
     },
     "execution_count": 5,
     "metadata": {},
     "output_type": "execute_result"
    }
   ],
   "source": [
    "X_train.shape\n"
   ]
  },
  {
   "cell_type": "code",
   "execution_count": 6,
   "metadata": {},
   "outputs": [
    {
     "name": "stdout",
     "output_type": "stream",
     "text": [
      "(50000, 32, 32, 3)\n",
      "(10000, 32, 32, 3)\n",
      "10\n"
     ]
    }
   ],
   "source": [
    "# Data preparation is required before training the model\n",
    "# Lines 1 and 2 reshapes the inputs\n",
    "X_train = X_train.reshape((X_train.shape[0], 32, 32, 3)).astype('float32')\n",
    "X_test = X_test.reshape((X_test.shape[0], 32, 32, 3)).astype('float32')\n",
    "\n",
    "# Lines 3 and 4 \n",
    "# Normalization of the input values (image pixels) from 0 and 255 to 0.1\n",
    "X_train = X_train / 255\n",
    "X_test = X_test / 255\n",
    "\n",
    "# Lines 5 and 6 \n",
    "# one-hot encoding of the target variables\n",
    "y_train = np_utils.to_categorical(y_train)\n",
    "y_test = np_utils.to_categorical(y_test)\n",
    "\n",
    "num_classes = y_test.shape[1]\n",
    "print(X_train.shape); print(X_test.shape); print(num_classes)"
   ]
  },
  {
   "cell_type": "code",
   "execution_count": 2,
   "metadata": {},
   "outputs": [],
   "source": [
    "datagen = ImageDataGenerator(\n",
    "    rotation_range=40,\n",
    "    width_shift_range=0.2,\n",
    "    height_shift_range=0.2,\n",
    "    shear_range=0.2,\n",
    "    zoom_range=0.2,\n",
    "    horizontal_flip=True,\n",
    "    fill_mode='nearest')\n"
   ]
  },
  {
   "cell_type": "markdown",
   "metadata": {},
   "source": [
    "### Building the model"
   ]
  },
  {
   "cell_type": "code",
   "execution_count": 21,
   "metadata": {},
   "outputs": [],
   "source": [
    "def cnn_model():\n",
    "\t# function to create the CNN model\n",
    "\t# Create model\n",
    "\tmodel = Sequential()  #model type is sequetial\n",
    "\t# Addng layers to the model\n",
    "\t# First layer is Conv2D as the input images are 2-dimensional matrices\n",
    "\t# 32 nodes with a kernel size of 5\n",
    "\t# Rectified Linear Activation ReLu is most widely used. It makes the network sparse and efficient \n",
    "\tmodel.add(Conv2D(64, (5, 5), input_shape=(32, 32, 3), activation='relu'))\n",
    "\t# Adding the pooling layer\n",
    "\tmodel.add(MaxPooling2D(2,2))\n",
    "\n",
    "\tmodel.add(Conv2D(128, (5, 5), activation='relu'))\n",
    "\t# Adding the pooling layer\n",
    "\tmodel.add(MaxPooling2D(2,2))\n",
    "\t# Flatten layer converts the 2D matrix data to a vector\n",
    "\tmodel.add(Flatten())\n",
    "\t# Fully connected dense layer with 128 neurons\n",
    "\tmodel.add(Dense(512, activation='relu'))\n",
    "\t# output layer which has 10 neurons for the 10 classes\n",
    "\tmodel.add(Dense(num_classes, activation='softmax'))\n",
    "\t\n",
    "\treturn model\n",
    "\n",
    "\n",
    "model = cnn_model()\n"
   ]
  },
  {
   "cell_type": "code",
   "execution_count": 22,
   "metadata": {},
   "outputs": [
    {
     "name": "stdout",
     "output_type": "stream",
     "text": [
      "Model: \"sequential_7\"\n",
      "_________________________________________________________________\n",
      "Layer (type)                 Output Shape              Param #   \n",
      "=================================================================\n",
      "conv2d_23 (Conv2D)           (None, 28, 28, 64)        4864      \n",
      "_________________________________________________________________\n",
      "max_pooling2d_22 (MaxPooling (None, 14, 14, 64)        0         \n",
      "_________________________________________________________________\n",
      "conv2d_24 (Conv2D)           (None, 10, 10, 128)       204928    \n",
      "_________________________________________________________________\n",
      "max_pooling2d_23 (MaxPooling (None, 5, 5, 128)         0         \n",
      "_________________________________________________________________\n",
      "flatten_4 (Flatten)          (None, 3200)              0         \n",
      "_________________________________________________________________\n",
      "dense_7 (Dense)              (None, 512)               1638912   \n",
      "_________________________________________________________________\n",
      "dense_8 (Dense)              (None, 10)                5130      \n",
      "=================================================================\n",
      "Total params: 1,853,834\n",
      "Trainable params: 1,853,834\n",
      "Non-trainable params: 0\n",
      "_________________________________________________________________\n"
     ]
    }
   ],
   "source": [
    "model.summary()"
   ]
  },
  {
   "cell_type": "markdown",
   "metadata": {},
   "source": [
    "### We see from the summary report that our input (5, 5, 128) outputs were flattened into vectors of shape (3200,), before going through two Dense layers."
   ]
  },
  {
   "cell_type": "code",
   "execution_count": 23,
   "metadata": {},
   "outputs": [],
   "source": [
    "# Compile the model\n",
    "model.compile(loss='categorical_crossentropy', optimizer='rmsprop', metrics=['accuracy'])\n"
   ]
  },
  {
   "cell_type": "markdown",
   "metadata": {},
   "source": [
    "### Fitting and Evaluating the model"
   ]
  },
  {
   "cell_type": "code",
   "execution_count": 24,
   "metadata": {},
   "outputs": [
    {
     "name": "stdout",
     "output_type": "stream",
     "text": [
      "Train on 50000 samples, validate on 10000 samples\n",
      "Epoch 1/30\n",
      "50000/50000 [==============================] - 86s 2ms/step - loss: 1.7040 - accuracy: 0.4035 - val_loss: 1.2678 - val_accuracy: 0.5583\n",
      "Epoch 2/30\n",
      "50000/50000 [==============================] - 88s 2ms/step - loss: 1.1784 - accuracy: 0.5906 - val_loss: 1.0638 - val_accuracy: 0.6313\n",
      "Epoch 3/30\n",
      "50000/50000 [==============================] - 88s 2ms/step - loss: 0.9569 - accuracy: 0.6711 - val_loss: 0.9790 - val_accuracy: 0.6654\n",
      "Epoch 4/30\n",
      "50000/50000 [==============================] - 89s 2ms/step - loss: 0.7816 - accuracy: 0.7316 - val_loss: 0.8860 - val_accuracy: 0.7015\n",
      "Epoch 5/30\n",
      "50000/50000 [==============================] - 92s 2ms/step - loss: 0.6366 - accuracy: 0.7821 - val_loss: 0.9889 - val_accuracy: 0.6807\n",
      "Epoch 6/30\n",
      "50000/50000 [==============================] - 99s 2ms/step - loss: 0.5033 - accuracy: 0.8269 - val_loss: 0.9743 - val_accuracy: 0.7067\n",
      "Epoch 7/30\n",
      "50000/50000 [==============================] - 101s 2ms/step - loss: 0.3854 - accuracy: 0.8667 - val_loss: 1.1051 - val_accuracy: 0.7041\n",
      "Epoch 8/30\n",
      "50000/50000 [==============================] - 101s 2ms/step - loss: 0.2851 - accuracy: 0.9010 - val_loss: 1.3031 - val_accuracy: 0.6822\n",
      "Epoch 9/30\n",
      "50000/50000 [==============================] - 89s 2ms/step - loss: 0.2137 - accuracy: 0.9274 - val_loss: 1.3318 - val_accuracy: 0.6998\n",
      "Epoch 10/30\n",
      "50000/50000 [==============================] - 87s 2ms/step - loss: 0.1688 - accuracy: 0.9432 - val_loss: 1.4108 - val_accuracy: 0.6982\n",
      "Epoch 11/30\n",
      "50000/50000 [==============================] - 89s 2ms/step - loss: 0.1440 - accuracy: 0.9517 - val_loss: 1.6935 - val_accuracy: 0.7001\n",
      "Epoch 12/30\n",
      "50000/50000 [==============================] - 95s 2ms/step - loss: 0.1220 - accuracy: 0.9596 - val_loss: 1.8030 - val_accuracy: 0.6904\n",
      "Epoch 13/30\n",
      "50000/50000 [==============================] - 95s 2ms/step - loss: 0.1173 - accuracy: 0.9624 - val_loss: 1.9759 - val_accuracy: 0.6887\n",
      "Epoch 14/30\n",
      "50000/50000 [==============================] - 87s 2ms/step - loss: 0.1032 - accuracy: 0.9670 - val_loss: 2.1824 - val_accuracy: 0.6951\n",
      "Epoch 15/30\n",
      "50000/50000 [==============================] - 91s 2ms/step - loss: 0.0958 - accuracy: 0.9692 - val_loss: 2.2513 - val_accuracy: 0.6960\n",
      "Epoch 16/30\n",
      "50000/50000 [==============================] - 84s 2ms/step - loss: 0.0942 - accuracy: 0.9709 - val_loss: 2.4150 - val_accuracy: 0.7133\n",
      "Epoch 17/30\n",
      "50000/50000 [==============================] - 83s 2ms/step - loss: 0.0955 - accuracy: 0.9713 - val_loss: 2.5001 - val_accuracy: 0.6926\n",
      "Epoch 18/30\n",
      "50000/50000 [==============================] - 81s 2ms/step - loss: 0.0928 - accuracy: 0.9729 - val_loss: 2.5149 - val_accuracy: 0.7038\n",
      "Epoch 19/30\n",
      "50000/50000 [==============================] - 86s 2ms/step - loss: 0.0841 - accuracy: 0.9751 - val_loss: 2.5826 - val_accuracy: 0.6843\n",
      "Epoch 20/30\n",
      "50000/50000 [==============================] - 100s 2ms/step - loss: 0.0892 - accuracy: 0.9747 - val_loss: 2.6962 - val_accuracy: 0.7155\n",
      "Epoch 21/30\n",
      "50000/50000 [==============================] - 100s 2ms/step - loss: 0.0873 - accuracy: 0.9762 - val_loss: 3.0272 - val_accuracy: 0.7039\n",
      "Epoch 22/30\n",
      "50000/50000 [==============================] - 100s 2ms/step - loss: 0.0866 - accuracy: 0.9758 - val_loss: 3.1487 - val_accuracy: 0.70289 - ac\n",
      "Epoch 23/30\n",
      "50000/50000 [==============================] - 101s 2ms/step - loss: 0.0807 - accuracy: 0.9778 - val_loss: 3.5745 - val_accuracy: 0.6969\n",
      "Epoch 24/30\n",
      "50000/50000 [==============================] - 100s 2ms/step - loss: 0.0913 - accuracy: 0.9756 - val_loss: 3.2782 - val_accuracy: 0.6960\n",
      "Epoch 25/30\n",
      "50000/50000 [==============================] - 100s 2ms/step - loss: 0.0873 - accuracy: 0.9772 - val_loss: 3.6570 - val_accuracy: 0.6976\n",
      "Epoch 26/30\n",
      "50000/50000 [==============================] - 99s 2ms/step - loss: 0.0827 - accuracy: 0.9782 - val_loss: 2.9727 - val_accuracy: 0.6818\n",
      "Epoch 27/30\n",
      "50000/50000 [==============================] - 99s 2ms/step - loss: 0.0777 - accuracy: 0.9797 - val_loss: 3.6472 - val_accuracy: 0.7012\n",
      "Epoch 28/30\n",
      "50000/50000 [==============================] - 99s 2ms/step - loss: 0.0790 - accuracy: 0.9799 - val_loss: 3.5838 - val_accuracy: 0.7077\n",
      "Epoch 29/30\n",
      "50000/50000 [==============================] - 92s 2ms/step - loss: 0.0760 - accuracy: 0.9809 - val_loss: 3.7834 - val_accuracy: 0.6960\n",
      "Epoch 30/30\n",
      "50000/50000 [==============================] - 76s 2ms/step - loss: 0.0809 - accuracy: 0.9796 - val_loss: 3.2934 - val_accuracy: 0.6830\n",
      "CNN Error: 31.70%\n"
     ]
    }
   ],
   "source": [
    "# Considering 5 epochs and a batch size of 150\n",
    "history = model.fit(X_train, y_train, validation_data=(X_test, y_test), epochs=30, batch_size=100)\n",
    "# evaluating the model on the test data\n",
    "scores = model.evaluate(X_test, y_test, verbose=0)\n",
    "\n",
    "print(\"CNN Error: %.2f%%\" % (100-scores[1]*100))"
   ]
  },
  {
   "cell_type": "markdown",
   "metadata": {},
   "source": [
    "#### The above output shows that with only five epochs we have achieved accuracy of 98.73% on our validation data set."
   ]
  },
  {
   "cell_type": "code",
   "execution_count": 25,
   "metadata": {},
   "outputs": [],
   "source": [
    "# saving the model\n",
    "model.save(f'{results_dir}\\\\assignment_6.2a_cifar10.h5')\n"
   ]
  },
  {
   "cell_type": "code",
   "execution_count": 26,
   "metadata": {},
   "outputs": [
    {
     "data": {
      "image/png": "[encoded data removed]",
      "text/plain": [
       "<Figure size 432x288 with 1 Axes>"
      ]
     },
     "metadata": {
      "needs_background": "light"
     },
     "output_type": "display_data"
    },
    {
     "data": {
      "image/png": "[encoded data removed]",
      "text/plain": [
       "<Figure size 432x288 with 1 Axes>"
      ]
     },
     "metadata": {
      "needs_background": "light"
     },
     "output_type": "display_data"
    }
   ],
   "source": [
    "# Plotting the results\n",
    "acc = history.history['accuracy']\n",
    "val_acc = history.history['val_accuracy']\n",
    "loss = history.history['loss']\n",
    "val_loss = history.history['val_loss']\n",
    "\n",
    "epochs = range(1, len(acc) + 1)\n",
    "\n",
    "plt.plot(epochs, acc, 'bo', label='Training acc')\n",
    "plt.plot(epochs, val_acc, 'b', label='Validation acc')\n",
    "plt.title('Training and validation accuracy')\n",
    "plt.legend()\n",
    "\n",
    "plt.figure()\n",
    "\n",
    "plt.plot(epochs, loss, 'bo', label='Training loss')\n",
    "plt.plot(epochs, val_loss, 'b', label='Validation loss')\n",
    "plt.title('Training and validation loss')\n",
    "plt.legend()\n",
    "\n",
    "plt.show()"
   ]
  },
  {
   "cell_type": "markdown",
   "metadata": {},
   "source": [
    "#### These plots are characteristics of overfitting. The training accuracy increases until it reaches 100% whereas the validation accuracy stalls a little above 99%.\n",
    "#### The validation loss reaches its minimum around 3 epochs and then stays almost the same, whereas the training loss keeps decreasing until it reaches nearly 0"
   ]
  }
 ],
 "metadata": {
  "interpreter": {
   "hash": "d18a9889dea234ea0a2ae94165273cf00045647714b4daa7d07ae97b3e052eb7"
  },
  "kernelspec": {
   "display_name": "Python 3.6.10 64-bit ('BU_DSC': conda)",
   "language": "python",
   "name": "python3"
  },
  "language_info": {
   "codemirror_mode": {
    "name": "ipython",
    "version": 3
   },
   "file_extension": ".py",
   "mimetype": "text/x-python",
   "name": "python",
   "nbconvert_exporter": "python",
   "pygments_lexer": "ipython3",
   "version": "3.6.10"
  },
  "orig_nbformat": 4
 },
 "nbformat": 4,
 "nbformat_minor": 2
}
