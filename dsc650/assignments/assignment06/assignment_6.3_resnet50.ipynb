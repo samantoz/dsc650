{
 "cells": [
  {
   "cell_type": "markdown",
   "metadata": {},
   "source": [
    "### Assignment 6.3\n",
    "Load the ResNet50 model. Perform image classification on five to ten images of your choice.\n",
    "\n",
    "-- Include the images in dsc650/assignments/assignment06/images/ \n",
    "\n",
    "-- Save the predictions dsc650/assignments/assignment06/results/predictions/resnet50 directory."
   ]
  },
  {
   "cell_type": "code",
   "execution_count": 1,
   "metadata": {},
   "outputs": [
    {
     "name": "stdout",
     "output_type": "stream",
     "text": [
      "c:\\Users\\saman\\git_repos\\dsc650\\dsc650\\assignments\\assignment06\n",
      "c:\\Users\\saman\\git_repos\\dsc650\\dsc650\\assignments\\assignment06\\results\n",
      "c:\\Users\\saman\\git_repos\\dsc650\\dsc650\\assignments\\assignment06\\images\n"
     ]
    }
   ],
   "source": [
    "import json\n",
    "from pathlib import Path\n",
    "import os\n",
    "\n",
    "current_dir = Path(os.getcwd()).absolute()\n",
    "results_dir = current_dir.joinpath('results')\n",
    "image_dir = current_dir.joinpath('images')\n",
    "image_dir.mkdir(parents=True, exist_ok=True)\n",
    "\n",
    "# src_data_dir = current_dir.parent.parent.parent.joinpath('data\\external\\\\tidynomicon')\n",
    "\n",
    "print(current_dir)\n",
    "print(results_dir)\n",
    "print(image_dir)"
   ]
  },
  {
   "cell_type": "code",
   "execution_count": 2,
   "metadata": {},
   "outputs": [],
   "source": [
    "# Classify ImageNet classes with ResNet50\n",
    "# https://keras.io/api/applications/\n",
    "\n",
    "from tensorflow.keras.applications.resnet50 import ResNet50\n",
    "from tensorflow.keras.preprocessing import image\n",
    "from tensorflow.keras.applications.resnet50 import preprocess_input, decode_predictions\n",
    "import numpy as np\n",
    "\n",
    "model = ResNet50(weights='imagenet')\n"
   ]
  },
  {
   "cell_type": "code",
   "execution_count": 3,
   "metadata": {},
   "outputs": [],
   "source": [
    "# defining a function to predict the input and print the prediction\n",
    "def pred_image(image_file):\n",
    "\timg = image.load_img(image_file, target_size=(224, 224))\n",
    "\n",
    "\tx = image.img_to_array(img)\n",
    "\tx = np.expand_dims(x, axis=0)\n",
    "\tx = preprocess_input(x)\n",
    "\n",
    "\tpreds = model.predict(x)\n",
    "\t# decode the results into a list of tuples (class, description, probability)\n",
    "\t# (one such list for each sample in the batch)\n",
    "\tprint('Predicted:', decode_predictions(preds, top=3)[0])\n"
   ]
  },
  {
   "cell_type": "code",
   "execution_count": 6,
   "metadata": {},
   "outputs": [
    {
     "name": "stdout",
     "output_type": "stream",
     "text": [
      "Predicted: [('n09193705', 'alp', 0.9691843), ('n09468604', 'valley', 0.023586366), ('n03792972', 'mountain_tent', 0.002100797)]\n"
     ]
    }
   ],
   "source": [
    "image_file = f'{image_dir}\\mountains.jpeg'\n",
    "\n",
    "pred_image(image_file)"
   ]
  },
  {
   "cell_type": "code",
   "execution_count": 4,
   "metadata": {},
   "outputs": [
    {
     "name": "stdout",
     "output_type": "stream",
     "text": [
      "Predicted: [('n02123045', 'tabby', 0.8573125), ('n02124075', 'Egyptian_cat', 0.04626846), ('n02123159', 'tiger_cat', 0.025576176)]\n"
     ]
    }
   ],
   "source": [
    "image_file = f'{image_dir}\\cat.jpg'\n",
    "\n",
    "pred_image(image_file)\n"
   ]
  },
  {
   "cell_type": "code",
   "execution_count": 5,
   "metadata": {},
   "outputs": [
    {
     "name": "stdout",
     "output_type": "stream",
     "text": [
      "Predicted: [('n02108422', 'bull_mastiff', 0.88610816), ('n02110958', 'pug', 0.054304935), ('n02108089', 'boxer', 0.016958967)]\n"
     ]
    }
   ],
   "source": [
    "image_file = f'{image_dir}\\dog2.jpg'\n",
    "\n",
    "pred_image(image_file)\n"
   ]
  },
  {
   "cell_type": "code",
   "execution_count": 6,
   "metadata": {},
   "outputs": [
    {
     "name": "stdout",
     "output_type": "stream",
     "text": [
      "Predicted: [('n02504458', 'African_elephant', 0.955127), ('n01871265', 'tusker', 0.028732905), ('n02504013', 'Indian_elephant', 0.016140157)]\n"
     ]
    }
   ],
   "source": [
    "image_file = f'{image_dir}\\elephant.jpg'\n",
    "\n",
    "pred_image(image_file)\n"
   ]
  },
  {
   "cell_type": "code",
   "execution_count": 9,
   "metadata": {},
   "outputs": [
    {
     "name": "stdout",
     "output_type": "stream",
     "text": [
      "Predicted: [('n02129604', 'tiger', 0.9155154), ('n02123159', 'tiger_cat', 0.083713815), ('n02128925', 'jaguar', 0.00016676295)]\n"
     ]
    }
   ],
   "source": [
    "image_file = f'{image_dir}\\\\tiger.jpg'\n",
    "\n",
    "pred_image(image_file)\n"
   ]
  },
  {
   "cell_type": "code",
   "execution_count": 10,
   "metadata": {},
   "outputs": [
    {
     "name": "stdout",
     "output_type": "stream",
     "text": [
      "Predicted: [('n09332890', 'lakeside', 0.39498907), ('n02793495', 'barn', 0.17764492), ('n04604644', 'worm_fence', 0.08433946)]\n"
     ]
    }
   ],
   "source": [
    "image_file = f'{image_dir}\\\\tree.jpg'\n",
    "\n",
    "pred_image(image_file)\n"
   ]
  }
 ],
 "metadata": {
  "interpreter": {
   "hash": "d18a9889dea234ea0a2ae94165273cf00045647714b4daa7d07ae97b3e052eb7"
  },
  "kernelspec": {
   "display_name": "Python 3",
   "language": "python",
   "name": "python3"
  },
  "language_info": {
   "codemirror_mode": {
    "name": "ipython",
    "version": 3
   },
   "file_extension": ".py",
   "mimetype": "text/x-python",
   "name": "python",
   "nbconvert_exporter": "python",
   "pygments_lexer": "ipython3",
   "version": "3.6.10"
  }
 },
 "nbformat": 4,
 "nbformat_minor": 2
}
