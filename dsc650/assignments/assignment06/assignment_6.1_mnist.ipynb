{
 "cells": [
  {
   "cell_type": "markdown",
   "metadata": {},
   "source": [
    "### Assignment 6.1\n",
    "Using section 5.1 in Deep Learning with Python as a guide (listing 5.3 in particular)\n",
    "\n",
    "-- create a ConvNet model that classifies images in the MNIST digit dataset. \n",
    "\n",
    "-- Save the model, predictions, metrics, and validation plots in the dsc650/assignments/assignment06/results directory. \n",
    "\n",
    "If you are using JupyterHub, you can include those plots in your Jupyter notebook."
   ]
  },
  {
   "cell_type": "code",
   "execution_count": 15,
   "metadata": {},
   "outputs": [
    {
     "name": "stdout",
     "output_type": "stream",
     "text": [
      "c:\\Users\\saman\\git_repos\\dsc650\\dsc650\\assignments\\assignment06\n",
      "c:\\Users\\saman\\git_repos\\dsc650\\dsc650\\assignments\\assignment06\\results\n"
     ]
    }
   ],
   "source": [
    "import json\n",
    "from pathlib import Path\n",
    "import os\n",
    "\n",
    "current_dir = Path(os.getcwd()).absolute()\n",
    "results_dir = current_dir.joinpath('results')\n",
    "\n",
    "print(current_dir)\n",
    "print(results_dir)"
   ]
  },
  {
   "cell_type": "code",
   "execution_count": 2,
   "metadata": {},
   "outputs": [
    {
     "name": "stderr",
     "output_type": "stream",
     "text": [
      "Using TensorFlow backend.\n"
     ]
    }
   ],
   "source": [
    "# loading the required libraries and packages\n",
    "import keras\n",
    "from keras.models import Sequential\n",
    "from keras.layers import Dense\n",
    "from keras.utils import to_categorical\n",
    "import matplotlib.pyplot as plt\n",
    "\n",
    "from keras.datasets import mnist\n",
    "\n",
    "from keras.layers import Dropout\n",
    "from keras.layers import Flatten\n",
    "\n",
    "from keras.layers.convolutional import Conv2D\n",
    "from keras.layers.convolutional import MaxPooling2D\n",
    "\n",
    "from keras.utils import np_utils\n"
   ]
  },
  {
   "cell_type": "markdown",
   "metadata": {},
   "source": [
    "## Data\n",
    "Here we are using the popular MNIST dataset to classify the images.\n",
    "\tEach image in this dataset has a dimension of 28X28 pixels and contains a grayscale digit\n",
    "\tInput to the model is the image and the output would be ten possible digits (0 to 9)\n",
    "\tout of 70,000 data, 60,000 will be used for training the model and the rest 10000 for validating\n",
    "\t"
   ]
  },
  {
   "cell_type": "code",
   "execution_count": 3,
   "metadata": {},
   "outputs": [
    {
     "data": {
      "text/plain": [
       "(28, 28)"
      ]
     },
     "execution_count": 3,
     "metadata": {},
     "output_type": "execute_result"
    }
   ],
   "source": [
    "# loading the MNIST dataset and create the training and test arrays\n",
    "(X_train, y_train), (X_test, y_test) = mnist.load_data()\n",
    "# Checking the shape of the second image from the training set\n",
    "X_train[3].shape"
   ]
  },
  {
   "cell_type": "code",
   "execution_count": 4,
   "metadata": {},
   "outputs": [
    {
     "data": {
      "image/png": "[encoded data removed]",
      "text/plain": [
       "<Figure size 432x288 with 1 Axes>"
      ]
     },
     "metadata": {
      "needs_background": "light"
     },
     "output_type": "display_data"
    }
   ],
   "source": [
    "plt.imshow(X_train[3])\n",
    "plt.show()"
   ]
  },
  {
   "cell_type": "markdown",
   "metadata": {},
   "source": [
    "### Data Preparation"
   ]
  },
  {
   "cell_type": "code",
   "execution_count": 5,
   "metadata": {},
   "outputs": [
    {
     "data": {
      "text/plain": [
       "(60000, 28, 28)"
      ]
     },
     "execution_count": 5,
     "metadata": {},
     "output_type": "execute_result"
    }
   ],
   "source": [
    "X_train.shape\n"
   ]
  },
  {
   "cell_type": "code",
   "execution_count": 6,
   "metadata": {},
   "outputs": [
    {
     "name": "stdout",
     "output_type": "stream",
     "text": [
      "(60000, 28, 28, 1)\n",
      "(10000, 28, 28, 1)\n",
      "10\n"
     ]
    }
   ],
   "source": [
    "# Data preparation is required before training the model\n",
    "# Lines 1 and 2 reshapes the inputs\n",
    "X_train = X_train.reshape((X_train.shape[0], 28, 28, 1)).astype('float32')\n",
    "X_test = X_test.reshape((X_test.shape[0], 28, 28, 1)).astype('float32')\n",
    "\n",
    "# Lines 3 and 4 \n",
    "# Normalization of the input values (image pixels) from 0 and 255 to 0.1\n",
    "X_train = X_train / 255\n",
    "X_test = X_test / 255\n",
    "\n",
    "# Lines 5 and 6 \n",
    "# one-hot encoding of the target variables\n",
    "y_train = np_utils.to_categorical(y_train)\n",
    "y_test = np_utils.to_categorical(y_test)\n",
    "\n",
    "num_classes = y_test.shape[1]\n",
    "print(X_train.shape); print(X_test.shape); print(num_classes)\n"
   ]
  },
  {
   "cell_type": "markdown",
   "metadata": {},
   "source": [
    "### Building the model"
   ]
  },
  {
   "cell_type": "code",
   "execution_count": 7,
   "metadata": {},
   "outputs": [],
   "source": [
    "def cnn_model():\n",
    "\t# function to train the CNN model\n",
    "\t# Create model\n",
    "\tmodel = Sequential()  #model type is sequetial\n",
    "\t# Addng layers to the model\n",
    "\t# First layer is Conv2D as the input images are 2-dimensional matrices\n",
    "\t# 32 nodes with a kernel size of 5\n",
    "\t# Rectified Linear Activation ReLu is most widely used. It makes the network sparse and efficient \n",
    "\tmodel.add(Conv2D(32, (5, 5), input_shape=(28, 28, 1), activation='relu'))\n",
    "\t# Adding the pooling layer\n",
    "\tmodel.add(MaxPooling2D())\n",
    "\t\n",
    "\t# adding the regularization layer\n",
    "\tmodel.add(Dropout(0.2))\n",
    "\t\n",
    "\t# Flatten layer converts the 2D matrix data to a vector\n",
    "\tmodel.add(Flatten())\n",
    "\t# Fully connected dense layer with 128 neurons\n",
    "\tmodel.add(Dense(128, activation='relu'))\n",
    "\t# output layer which has 10 neurons for the 10 classes\n",
    "\tmodel.add(Dense(num_classes, activation='softmax'))\n",
    "\n",
    "\t# Compile model\n",
    "\tmodel.compile(loss='categorical_crossentropy', optimizer='adam', metrics=['accuracy'])\n",
    "\treturn model\n",
    "\n",
    "\n",
    "model = cnn_model()\n"
   ]
  },
  {
   "cell_type": "markdown",
   "metadata": {},
   "source": [
    "### Fitting and Evaluating the model"
   ]
  },
  {
   "cell_type": "code",
   "execution_count": 12,
   "metadata": {},
   "outputs": [
    {
     "name": "stdout",
     "output_type": "stream",
     "text": [
      "Train on 60000 samples, validate on 10000 samples\n",
      "Epoch 1/20\n",
      "60000/60000 [==============================] - 13s 224us/step - loss: 0.0238 - accuracy: 0.9923 - val_loss: 0.0346 - val_accuracy: 0.9886\n",
      "Epoch 2/20\n",
      "60000/60000 [==============================] - 15s 248us/step - loss: 0.0197 - accuracy: 0.9938 - val_loss: 0.0290 - val_accuracy: 0.9899\n",
      "Epoch 3/20\n",
      "60000/60000 [==============================] - 16s 266us/step - loss: 0.0160 - accuracy: 0.9950 - val_loss: 0.0343 - val_accuracy: 0.9892\n",
      "Epoch 4/20\n",
      "60000/60000 [==============================] - 17s 280us/step - loss: 0.0142 - accuracy: 0.9953 - val_loss: 0.0364 - val_accuracy: 0.9882\n",
      "Epoch 5/20\n",
      "60000/60000 [==============================] - 15s 257us/step - loss: 0.0116 - accuracy: 0.9962 - val_loss: 0.0336 - val_accuracy: 0.9886\n",
      "Epoch 6/20\n",
      "60000/60000 [==============================] - 15s 257us/step - loss: 0.0095 - accuracy: 0.9972 - val_loss: 0.0402 - val_accuracy: 0.9885\n",
      "Epoch 7/20\n",
      "60000/60000 [==============================] - 16s 259us/step - loss: 0.0101 - accuracy: 0.9966 - val_loss: 0.0319 - val_accuracy: 0.9906\n",
      "Epoch 8/20\n",
      "60000/60000 [==============================] - 16s 261us/step - loss: 0.0086 - accuracy: 0.9970 - val_loss: 0.0383 - val_accuracy: 0.9898\n",
      "Epoch 9/20\n",
      "60000/60000 [==============================] - 16s 263us/step - loss: 0.0084 - accuracy: 0.9972 - val_loss: 0.0409 - val_accuracy: 0.9886\n",
      "Epoch 10/20\n",
      "60000/60000 [==============================] - 16s 262us/step - loss: 0.0076 - accuracy: 0.9972 - val_loss: 0.0359 - val_accuracy: 0.9903\n",
      "Epoch 11/20\n",
      "60000/60000 [==============================] - 16s 267us/step - loss: 0.0060 - accuracy: 0.9978 - val_loss: 0.0382 - val_accuracy: 0.9900\n",
      "Epoch 12/20\n",
      "60000/60000 [==============================] - 15s 257us/step - loss: 0.0057 - accuracy: 0.9981 - val_loss: 0.0339 - val_accuracy: 0.9906\n",
      "Epoch 13/20\n",
      "60000/60000 [==============================] - 16s 266us/step - loss: 0.0047 - accuracy: 0.9985 - val_loss: 0.0362 - val_accuracy: 0.9904\n",
      "Epoch 14/20\n",
      "60000/60000 [==============================] - 16s 266us/step - loss: 0.0054 - accuracy: 0.9982 - val_loss: 0.0475 - val_accuracy: 0.9878\n",
      "Epoch 15/20\n",
      "60000/60000 [==============================] - 17s 289us/step - loss: 0.0042 - accuracy: 0.9984 - val_loss: 0.0414 - val_accuracy: 0.9899\n",
      "Epoch 16/20\n",
      "60000/60000 [==============================] - 16s 263us/step - loss: 0.0046 - accuracy: 0.9985 - val_loss: 0.0394 - val_accuracy: 0.9892\n",
      "Epoch 17/20\n",
      "60000/60000 [==============================] - 16s 261us/step - loss: 0.0040 - accuracy: 0.9985 - val_loss: 0.0462 - val_accuracy: 0.9891\n",
      "Epoch 18/20\n",
      "60000/60000 [==============================] - 16s 262us/step - loss: 0.0046 - accuracy: 0.9981 - val_loss: 0.0405 - val_accuracy: 0.9910\n",
      "Epoch 19/20\n",
      "60000/60000 [==============================] - 16s 262us/step - loss: 0.0037 - accuracy: 0.9986 - val_loss: 0.0486 - val_accuracy: 0.9900\n",
      "Epoch 20/20\n",
      "60000/60000 [==============================] - 16s 260us/step - loss: 0.0045 - accuracy: 0.9984 - val_loss: 0.0430 - val_accuracy: 0.9916\n",
      "CNN Error: 0.84%\n"
     ]
    }
   ],
   "source": [
    "# Considering 5 epochs and a batch size of 150\n",
    "history = model.fit(X_train, y_train, validation_data=(X_test, y_test), epochs=20, batch_size=150)\n",
    "# evaluating the model on the test data\n",
    "scores = model.evaluate(X_test, y_test, verbose=0)\n",
    "\n",
    "print(\"CNN Error: %.2f%%\" % (100-scores[1]*100))"
   ]
  },
  {
   "cell_type": "markdown",
   "metadata": {},
   "source": [
    "#### The above output shows that with only five epochs we have achieved accuracy of 98.73% on our validation data set.\n",
    "#### The above output shows that with only 20 epochs we have achieved accuracy of 99.16% on our validation data set."
   ]
  },
  {
   "cell_type": "code",
   "execution_count": 16,
   "metadata": {},
   "outputs": [],
   "source": [
    "# saving the model\n",
    "model.save(f'{results_dir}\\\\assignment_6.1_mnist.h5')"
   ]
  },
  {
   "cell_type": "code",
   "execution_count": 13,
   "metadata": {},
   "outputs": [
    {
     "data": {
      "image/png": "[encoded data removed]",
      "text/plain": [
       "<Figure size 432x288 with 1 Axes>"
      ]
     },
     "metadata": {
      "needs_background": "light"
     },
     "output_type": "display_data"
    },
    {
     "data": {
      "image/png": "[encoded data removed]",
      "text/plain": [
       "<Figure size 432x288 with 1 Axes>"
      ]
     },
     "metadata": {
      "needs_background": "light"
     },
     "output_type": "display_data"
    }
   ],
   "source": [
    "# Plotting the results\n",
    "acc = history.history['accuracy']\n",
    "val_acc = history.history['val_accuracy']\n",
    "loss = history.history['loss']\n",
    "val_loss = history.history['val_loss']\n",
    "\n",
    "epochs = range(1, len(acc) + 1)\n",
    "\n",
    "plt.plot(epochs, acc, 'bo', label='Training acc')\n",
    "plt.plot(epochs, val_acc, 'b', label='Validation acc')\n",
    "plt.title('Training and validation accuracy')\n",
    "plt.legend()\n",
    "\n",
    "plt.figure()\n",
    "\n",
    "plt.plot(epochs, loss, 'bo', label='Training loss')\n",
    "plt.plot(epochs, val_loss, 'b', label='Validation loss')\n",
    "plt.title('Training and validation loss')\n",
    "plt.legend()\n",
    "\n",
    "plt.show()"
   ]
  },
  {
   "cell_type": "markdown",
   "metadata": {},
   "source": [
    "#### These plots are characteristics of overfitting. The training accuracy increases until it reaches 100% whereas the validation accuracy stalls a little above 99%.\n",
    "#### The validation loss reaches its minimum around 3 epochs and then stays almost the same, whereas the training loss keeps decreasing until it reaches nearly 0"
   ]
  }
 ],
 "metadata": {
  "interpreter": {
   "hash": "d18a9889dea234ea0a2ae94165273cf00045647714b4daa7d07ae97b3e052eb7"
  },
  "kernelspec": {
   "display_name": "Python 3.6.10 64-bit ('BU_DSC': conda)",
   "language": "python",
   "name": "python3"
  },
  "language_info": {
   "codemirror_mode": {
    "name": "ipython",
    "version": 3
   },
   "file_extension": ".py",
   "mimetype": "text/x-python",
   "name": "python",
   "nbconvert_exporter": "python",
   "pygments_lexer": "ipython3",
   "version": "3.6.10"
  },
  "orig_nbformat": 4
 },
 "nbformat": 4,
 "nbformat_minor": 2
}
