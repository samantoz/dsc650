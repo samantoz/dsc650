{
 "cells": [
  {
   "cell_type": "code",
   "execution_count": 3,
   "metadata": {},
   "outputs": [],
   "source": [
    "import os\n",
    "import json\n",
    "from pathlib import Path\n",
    "import zipfile\n",
    "import email\n",
    "from email.policy import default\n",
    "from email.parser import Parser\n",
    "from datetime import timezone\n",
    "from collections import namedtuple\n",
    "\n",
    "import pandas as pd\n",
    "import s3fs\n",
    "from bs4 import BeautifulSoup\n",
    "from dateutil.parser import parse\n",
    "from chardet.universaldetector import UniversalDetector\n",
    "\n",
    "from pyspark.ml import Pipeline\n",
    "from pyspark.ml.feature import CountVectorizer\n",
    "from pyspark.ml.feature import HashingTF, Tokenizer\n",
    "from pyspark.sql import SparkSession\n",
    "from pyspark.sql.functions import col\n",
    "from pyspark.ml.pipeline import Transformer\n",
    "from pyspark.sql.functions import udf\n",
    "from pyspark.sql.types import StructType, StringType"
   ]
  },
  {
   "cell_type": "code",
   "execution_count": 71,
   "metadata": {},
   "outputs": [
    {
     "name": "stdout",
     "output_type": "stream",
     "text": [
      "c:\\Users\\saman\\git_repos\\dsc650\\dsc650\\assignments\\assignment04\n",
      "c:\\Users\\saman\\git_repos\\dsc650\\dsc650\\assignments\\assignment04\\results\n",
      "c:\\Users\\saman\\git_repos\\dsc650\\dsc650\\assignments\\assignment04\\data\\enron\n"
     ]
    }
   ],
   "source": [
    "current_dir = Path(os.getcwd()).absolute()\n",
    "results_dir = current_dir.joinpath('results')\n",
    "results_dir.mkdir(parents=True, exist_ok=True)\n",
    "data_dir = current_dir.joinpath('data')\n",
    "data_dir.mkdir(parents=True, exist_ok=True)\n",
    "enron_data_dir = data_dir.joinpath('enron')\n",
    "\n",
    "print(current_dir)\n",
    "print(results_dir)\n",
    "print(enron_data_dir)"
   ]
  },
  {
   "cell_type": "code",
   "execution_count": null,
   "metadata": {},
   "outputs": [],
   "source": [
    "output_columns = [\n",
    "        'payload',\n",
    "        'text',\n",
    "        'Message_D',\n",
    "        'Date',\n",
    "        'From',\n",
    "        'To',\n",
    "        'Subject',\n",
    "        'Mime-Version',\n",
    "        'Content-Type',\n",
    "        'Content-Transfer-Encoding',\n",
    "        'X-From',\n",
    "        'X-To',\n",
    "        'X-cc',\n",
    "        'X-bcc',\n",
    "        'X-Folder',\n",
    "        'X-Origin',\n",
    "        'X-FileName',\n",
    "        'Cc',\n",
    "        'Bcc' \n",
    "]\n",
    "\n",
    "columns = [column.replace('-', '_') for column in output_columns]\n",
    "\n",
    "ParsedEmail = namedtuple('ParsedEmail', columns)\n",
    "\n",
    "spark = SparkSession\\\n",
    "    .builder\\\n",
    "    .appName(\"Assignment04\")\\\n",
    "    .getOrCreate()"
   ]
  },
  {
   "cell_type": "markdown",
   "metadata": {},
   "source": [
    "The following code loads data to your local JupyterHub instance. You only need to run this once. "
   ]
  },
  {
   "cell_type": "markdown",
   "metadata": {},
   "source": [
    "This code reads emails and creates a Spark dataframe with three columns. "
   ]
  },
  {
   "cell_type": "markdown",
   "metadata": {},
   "source": [
    "## Assignment 4.1"
   ]
  },
  {
   "cell_type": "code",
   "execution_count": null,
   "metadata": {
    "scrolled": false
   },
   "outputs": [],
   "source": [
    "def read_raw_email(email_path):\n",
    "    detector = UniversalDetector()\n",
    "    \n",
    "    try:\n",
    "        with open(email_path) as f:\n",
    "            original_msg = f.read()\n",
    "    except UnicodeDecodeError:\n",
    "        detector.reset()\n",
    "        with open(email_path, 'rb') as f:\n",
    "            for line in f.readlines():\n",
    "                detector.feed(line)\n",
    "                if detector.done:\n",
    "                    break\n",
    "        detector.close()\n",
    "        encoding = detector.result['encoding']\n",
    "        with open(email_path, encoding=encoding) as f:\n",
    "            original_msg = f.read()\n",
    "            \n",
    "    return original_msg \n",
    "\n",
    "def make_spark_df():\n",
    "    records = []\n",
    "    for root, dirs, files in os.walk(enron_data_dir):\n",
    "        for file_path in files:\n",
    "            ## Current path is now the file path to the current email.  \n",
    "            ## Use this path to read the following information\n",
    "            ## original_msg\n",
    "            ## username (Hint: It is the root folder)\n",
    "            ## id (The relative path of the email message)\n",
    "            current_path = Path(root).joinpath(file_path)\n",
    "            \n",
    "    ## TODO: Complete the code to code to create the Spark dataframe\n",
    "    return spark.createDataFrame()\n",
    "\n",
    "df = make_spark_df()"
   ]
  },
  {
   "cell_type": "code",
   "execution_count": 126,
   "metadata": {},
   "outputs": [],
   "source": [
    "def read_dir():\n",
    "    records = []\n",
    "    message_path = []\n",
    "    root_folder = []\n",
    "    message_id = []\n",
    "    for root, dirs, files in os.walk(enron_data_dir):\n",
    "        for file_path in files:\n",
    "          current_path = Path(root).joinpath(file_path)\n",
    "          id = sub_str(enron_data_dir,current_path)\n",
    "          org_msg = read_raw_email(current_path)\n",
    "          message_path.append(org_msg)\n",
    "          root_folder.append(root)\n",
    "          message_id.append(id)\n",
    "\n",
    "    records = list(zip(message_id,root_folder,message_path))\n",
    "    return pd.DataFrame(records, columns = ['message_id','username','message_path'])\n",
    "\n",
    "df = read_dir()"
   ]
  },
  {
   "cell_type": "code",
   "execution_count": 117,
   "metadata": {},
   "outputs": [],
   "source": [
    "def read_raw_email(email_path):\n",
    "    detector = UniversalDetector()\n",
    "    \n",
    "    try:\n",
    "        with open(email_path) as f:\n",
    "            original_msg = f.read()\n",
    "    except UnicodeDecodeError:\n",
    "        detector.reset()\n",
    "        with open(email_path, 'rb') as f:\n",
    "            for line in f.readlines():\n",
    "                detector.feed(line)\n",
    "                if detector.done:\n",
    "                    break\n",
    "        detector.close()\n",
    "        encoding = detector.result['encoding']\n",
    "        with open(email_path, encoding=encoding) as f:\n",
    "            original_msg = f.read()\n",
    "            \n",
    "    return original_msg "
   ]
  },
  {
   "cell_type": "code",
   "execution_count": 125,
   "metadata": {},
   "outputs": [
    {
     "ename": "SyntaxError",
     "evalue": "(unicode error) 'unicodeescape' codec can't decode bytes in position 3-4: truncated \\UXXXXXXXX escape (<ipython-input-125-9e8c50e597b2>, line 1)",
     "output_type": "error",
     "traceback": [
      "\u001b[1;36m  File \u001b[1;32m\"<ipython-input-125-9e8c50e597b2>\"\u001b[1;36m, line \u001b[1;32m1\u001b[0m\n\u001b[1;33m    email_path = \"[c:\\Users\\saman\\git_repos\\dsc650\\dsc650\\assignments\\assignment04\\data\\enron\\davis-d\\2_trash\\1]\"\u001b[0m\n\u001b[1;37m                ^\u001b[0m\n\u001b[1;31mSyntaxError\u001b[0m\u001b[1;31m:\u001b[0m (unicode error) 'unicodeescape' codec can't decode bytes in position 3-4: truncated \\UXXXXXXXX escape\n"
     ]
    }
   ],
   "source": [
    "email_path = \"[c:\\Users\\saman\\git_repos\\dsc650\\dsc650\\assignments\\assignment04\\data\\enron\\davis-d\\2_trash\\1]\"\n",
    "print(email_path)\n",
    "read_raw_email(email_path)"
   ]
  },
  {
   "cell_type": "code",
   "execution_count": 115,
   "metadata": {},
   "outputs": [
    {
     "data": {
      "text/plain": [
       "'data\\\\enron'"
      ]
     },
     "execution_count": 115,
     "metadata": {},
     "output_type": "execute_result"
    }
   ],
   "source": [
    "sub_str(current_dir,enron_data_dir)"
   ]
  },
  {
   "cell_type": "code",
   "execution_count": 43,
   "metadata": {},
   "outputs": [
    {
     "data": {
      "text/html": [
       "<div>\n",
       "<style scoped>\n",
       "    .dataframe tbody tr th:only-of-type {\n",
       "        vertical-align: middle;\n",
       "    }\n",
       "\n",
       "    .dataframe tbody tr th {\n",
       "        vertical-align: top;\n",
       "    }\n",
       "\n",
       "    .dataframe thead th {\n",
       "        text-align: right;\n",
       "    }\n",
       "</style>\n",
       "<table border=\"1\" class=\"dataframe\">\n",
       "  <thead>\n",
       "    <tr style=\"text-align: right;\">\n",
       "      <th></th>\n",
       "      <th>0</th>\n",
       "      <th>1</th>\n",
       "      <th>2</th>\n",
       "      <th>3</th>\n",
       "      <th>4</th>\n",
       "    </tr>\n",
       "  </thead>\n",
       "  <tbody>\n",
       "    <tr>\n",
       "      <th>0</th>\n",
       "      <td>1</td>\n",
       "      <td>2</td>\n",
       "      <td>3</td>\n",
       "      <td>4</td>\n",
       "      <td>5</td>\n",
       "    </tr>\n",
       "    <tr>\n",
       "      <th>1</th>\n",
       "      <td>a</td>\n",
       "      <td>b</td>\n",
       "      <td>c</td>\n",
       "      <td>d</td>\n",
       "      <td>e</td>\n",
       "    </tr>\n",
       "  </tbody>\n",
       "</table>\n",
       "</div>"
      ],
      "text/plain": [
       "   0  1  2  3  4\n",
       "0  1  2  3  4  5\n",
       "1  a  b  c  d  e"
      ]
     },
     "execution_count": 43,
     "metadata": {},
     "output_type": "execute_result"
    }
   ],
   "source": [
    "list1 = [1,2,3,4,5]\n",
    "list2 = ['a','b','c','d','e']\n",
    "list3 = []\n",
    "list3.append(list1)\n",
    "list3.append(list2)\n",
    "df = pd.DataFrame(list3)\n",
    "df"
   ]
  },
  {
   "cell_type": "code",
   "execution_count": 60,
   "metadata": {},
   "outputs": [],
   "source": [
    "listOfNames =  ['jack','jack','Riti','Riti','Riti', 'Aadi','None']\n",
    "listOfAge   =  [34,34, 30,30,30, 16, 10]\n",
    "listOfCity  =  ['Sydney','Sydney', 'Delhi','Delhi','Delhi', 'New york','Omaha']\n",
    "# Create a zipped list of tuples from above lists\n",
    "zippedList =  list(zip(listOfNames, listOfAge, listOfCity))\n",
    "# Create a dataframe from zipped list\n",
    "df = pd.DataFrame(zippedList, columns = ['Name' , 'Age', 'City'], index=[1, 2, 3,4,5,6,7]) "
   ]
  },
  {
   "cell_type": "code",
   "execution_count": 108,
   "metadata": {},
   "outputs": [],
   "source": [
    "def sub_str(curr_dir, data_dir):\n",
    "\t\n",
    "\tcurr_dir = f'{curr_dir}'\n",
    "\tdata_dir = f'{data_dir}'\n",
    "\t# print(curr_dir)\n",
    "\t# print(len(curr_dir))\n",
    "\tstart = 0\n",
    "\tend = len(curr_dir)\n",
    "\t# print(data_dir)\n",
    "\t# print(len(data_dir))\n",
    "\trel_path = data_dir[end+1:]\n",
    "\t\n",
    "\treturn rel_path"
   ]
  },
  {
   "cell_type": "code",
   "execution_count": 127,
   "metadata": {},
   "outputs": [
    {
     "name": "stdout",
     "output_type": "stream",
     "text": [
      "(69, 3)\n"
     ]
    },
    {
     "data": {
      "text/html": [
       "<div>\n",
       "<style scoped>\n",
       "    .dataframe tbody tr th:only-of-type {\n",
       "        vertical-align: middle;\n",
       "    }\n",
       "\n",
       "    .dataframe tbody tr th {\n",
       "        vertical-align: top;\n",
       "    }\n",
       "\n",
       "    .dataframe thead th {\n",
       "        text-align: right;\n",
       "    }\n",
       "</style>\n",
       "<table border=\"1\" class=\"dataframe\">\n",
       "  <thead>\n",
       "    <tr style=\"text-align: right;\">\n",
       "      <th></th>\n",
       "      <th>message_id</th>\n",
       "      <th>username</th>\n",
       "      <th>message_path</th>\n",
       "    </tr>\n",
       "  </thead>\n",
       "  <tbody>\n",
       "    <tr>\n",
       "      <th>0</th>\n",
       "      <td>davis-d\\2_trash\\1_</td>\n",
       "      <td>c:\\Users\\saman\\git_repos\\dsc650\\dsc650\\assignments\\assignment04\\data\\enron\\davis-d\\2_trash</td>\n",
       "      <td>Message-ID: &lt;17743970.1075853922176.JavaMail.evans@thyme&gt;\\nDate: Fri, 16 Jun 2000 07:02:00 -0700 (PDT)\\nFrom: james.houston@compaq.com\\nTo: akyles@hcde-texas.org, bekyles@aol.com, bridgette_anderson@enron.com, \\n\\tcthomas@midcoastenergy.com, ckyles@hotmail.com, dana.davis@enron.com, \\n\\tdemetria.m.dixon@m1.irs.gov, blaire@kochind.com, gflowers@tsp-tx.com, \\n\\tggoodman@freshadvantage.com, jamescoleman@stic.net, jglenn@wm.com, \\n\\tkbledsoe@swd.ci.houston.tx.us, ken.mccauley@compaq.com, \\n\\tklovepalmer@netscape.net, ksmith@sjgs.org, ljohnson@dxpe.com, \\n\\tmorgdd@swbell.net, phillipg@texasmill.com, realrider@email.msn.com, \\n\\tstan.johnson@compaq.com, steven.moses@enron.com, thouston@swbell.net, \\n\\tmelvit@texaco.com\\nSubject: \\nMime-Version: 1.0\\nContent-Type: text/plain; charset=us-ascii\\nContent-Transfer-Encoding: 7bit\\nX-From: \"Houston, James\" &lt;James.Houston@compaq.com&gt;\\nX-To: \"Akyles (E-mail)\" &lt;akyles@hcde-texas.org&gt;, \"BEKYLES (E-mail)\" &lt;BEKYLES@AOL.COM&gt;, \"Bridgette Anderson (E-mail)\" &lt;Bridgette_Anderson@enron.com&gt;, \"Christopher K. Thomas (E-mail)\" &lt;cthomas@midcoastenergy.com&gt;, \"Ckyles (E-mail)\" &lt;ckyles@hotmail.com&gt;, Dana Davis, \"'Demetria. m. dixon (E-mail)\" &lt;Demetria.m.dixon@m1.irs.gov&gt;, \"Eric Blair (E-mail)\" &lt;BlairE@kochind.com&gt;, \"Gflowers (E-mail)\" &lt;gflowers@tsp-tx.com&gt;, \"Ggoodman (E-mail)\" &lt;ggoodman@freshadvantage.com&gt;, \"James Coleman (E-mail)\" &lt;jamescoleman@stic.net&gt;, \"Jeremy Glenn (E-mail)\" &lt;jglenn@wm.com&gt;, \"'Kbledsoe (E-mail)\" &lt;kbledsoe@swd.ci.houston.tx.us&gt;, \"McCauley, Ken\" &lt;Ken.McCauley@compaq.com&gt;, \"KLOVEPALMER (E-mail)\" &lt;KLOVEPALMER@NETSCAPE.NET&gt;, \"KSMITH (E-mail)\" &lt;KSMITH@SJGS.ORG&gt;, \"Lavon Johnson (E-mail)\" &lt;ljohnson@dxpe.com&gt;, \"Morgdd (E-mail)\" &lt;morgdd@swbell.net&gt;, \"Phillipg (E-mail)\" &lt;phillipg@texasmill.com&gt;, \"Realrider (E-mail)\" &lt;realrider@email.msn.com&gt;, \"Johnson, Stan (Networks)\" &lt;Stan.Johnson@compaq.com&gt;, Steven Moses, \"Thouston (E-mail)\" &lt;thouston@swbell.net&gt;, \"Tomiya Melvin [PRIMARY] (E-mail)\" &lt;melvit@texaco.com&gt;\\nX-cc: \\nX-bcc: \\nX-Folder: \\Dana_Davis_Dec2000\\Notes Folders\\2 trash\\nX-Origin: Davis-D\\nX-FileName: ddavis2.nsf\\n\\n &gt;\\n    &gt; &gt; &gt; &gt;: UNUSUAL WORDS TO LIVE BY\\n    &gt; &gt; &gt; &gt;&gt;\\n    &gt; &gt; &gt; &gt;&gt;     1.  Love is grand; divorce is a\\nhundred\\n &gt; grand.\\n    &gt; &gt; &gt; &gt;&gt;     2.  I am in shape. Round is a\\nshape.\\n    &gt; &gt; &gt; &gt;&gt;     3.  Time may be a great healer,\\nbut it's\\n &gt; also a\\n    &gt; &gt; &gt; &gt;lousy beautician.\\n    &gt; &gt; &gt; &gt;&gt;     4.  Never be afraid to try\\nsomething new.\\n    &gt; &gt; &gt; &gt;Remember, amateurs built the\\n    &gt; &gt; &gt; &gt;&gt;          ark.  Professionals built\\nthe\\n &gt; Titanic.\\n    &gt; &gt; &gt; &gt;&gt;     5.  Conscience is what hurts\\nwhen\\n &gt; everything\\n    &gt; &gt; &gt; &gt;else feels so good.\\n    &gt; &gt; &gt; &gt;&gt;     6.  Talk is cheap because\\nsupply exceeds\\n &gt; demand.\\n    &gt; &gt; &gt; &gt;&gt;     7.  Stupidity got us into this\\nmess-\\n &gt; why can't\\n    &gt; &gt; &gt; &gt;it get us out?\\n    &gt; &gt; &gt; &gt;&gt;     8.  Even if you are on the\\nright track,\\n &gt; you'll\\n    &gt; &gt; &gt; &gt;get run over if you just\\n    &gt; &gt; &gt; &gt;&gt;          sit  there.\\n    &gt; &gt; &gt; &gt;&gt;     9.  Politicians and diapers\\nhave one\\n &gt; thing in\\n    &gt; &gt; &gt; &gt;common.  They should both\\n    &gt; &gt; &gt; &gt;&gt;          be changed regularly and\\nfor the\\n &gt; same\\n    &gt; &gt; &gt; &gt;reason.\\n    &gt; &gt; &gt; &gt;&gt;     10. An optimist thinks that\\nthis is the\\n &gt; best\\n    &gt; &gt; &gt; &gt;possible world. A pessimist\\n    &gt; &gt; &gt; &gt;&gt;           fears that this is true.\\n    &gt; &gt; &gt; &gt;&gt;     11. There is always death and\\ntaxes;\\n &gt; however,\\n    &gt; &gt; &gt; &gt;death doesn't get worse\\n    &gt; &gt; &gt; &gt;&gt;           every  year.\\n    &gt; &gt; &gt; &gt;&gt;     12.  People will accept your\\nideas much\\n &gt; more\\n    &gt; &gt; &gt; &gt;readily if you tell them\\n    &gt; &gt; &gt; &gt;&gt;           that  Benjamin Franklin\\nsaid it\\n &gt; first.\\n    &gt; &gt; &gt; &gt;&gt;     13. It's easier to fight for\\none's\\n &gt; principles\\n    &gt; &gt; &gt; &gt;than to live up to them.\\n    &gt; &gt; &gt; &gt;&gt;     14. I don't mind going nowhere\\nas long as\\n &gt; it's\\n    &gt; &gt; &gt; &gt;an interesting path.\\n    &gt; &gt; &gt; &gt;&gt;     15. Anything free is worth what\\nyou pay\\n &gt; for it.\\n    &gt; &gt; &gt; &gt;&gt;     16. Indecision is the key to\\nflexibility.\\n    &gt; &gt; &gt; &gt;&gt;     17. It hurts to be on the\\ncutting edge.\\n    &gt; &gt; &gt; &gt;&gt;     18. If it ain't broke, fix it\\ntill it is.\\n    &gt; &gt; &gt; &gt;&gt;     19. I don't get even, I get\\nodder.\\n    &gt; &gt; &gt; &gt;&gt;     20.In just two days, tomorrow\\nwill be\\n &gt; yesterday.\\n    &gt; &gt; &gt; &gt;&gt;     21. I always wanted to be a\\n &gt; procrastinator,\\n    &gt; &gt; &gt; &gt;never got around to it.\\n    &gt; &gt; &gt; &gt;&gt;     22. Dijon vu-the same mustard\\nas\\n &gt; before.\\n    &gt; &gt; &gt; &gt;&gt;     23. I am a nutritional\\noverachiever.\\n    &gt; &gt; &gt; &gt;&gt;     24. My inferiority complex is\\nnot as good\\n &gt; as\\n    &gt; &gt; &gt; &gt;yours.\\n    &gt; &gt; &gt; &gt;&gt;     25. I am having an out of money\\n &gt; experience.\\n    &gt; &gt; &gt; &gt;&gt;     26. I plan on living forever.\\nSo far, so\\n &gt; good.\\n    &gt; &gt; &gt; &gt;&gt;     27. Not afraid of\\nheights-afraid of\\n &gt; widths.\\n    &gt; &gt; &gt; &gt;&gt;     28. Practice safe eating-always\\nuse\\n    &gt; &gt; &gt; &gt;condiments.\\n    &gt; &gt; &gt; &gt;&gt;     29. A day without sunshine is\\nlike night.\\n    &gt; &gt; &gt; &gt;&gt;     30. I have kleptomania, but\\nwhen it gets\\n &gt; bad, I\\n    &gt; &gt; &gt; &gt;take something for it.\\n    &gt; &gt; &gt; &gt;&gt;     31. If marriage were outlawed,\\nonly\\n &gt; outlaws\\n    &gt; &gt; &gt; &gt;would have in-laws.\\n    &gt; &gt; &gt; &gt;&gt;     32. I am not a perfectionist.\\nMy parents\\n &gt; were,\\n    &gt; &gt; &gt; &gt;though.\\n    &gt; &gt; &gt; &gt;&gt;     33. Life is an endless struggle\\nfull of\\n    &gt; &gt; &gt; &gt;frustrations and challenges, but\\n    &gt; &gt; &gt; &gt;&gt;          eventually you find a hair\\nstylist\\n &gt; you\\n    &gt; &gt; &gt; &gt;like.\\n    &gt; &gt; &gt; &gt;&gt;     34. You're getting old when you\\nget the\\n &gt; same\\n    &gt; &gt; &gt; &gt;sensation from a rocking\\n    &gt; &gt; &gt; &gt;&gt;           chair  that you once got\\nfrom a\\n &gt; roller\\n    &gt; &gt; &gt; &gt;coaster.\\n    &gt; &gt; &gt; &gt;&gt;     35. One of life's mysteries is\\nhow a\\n &gt; two-pound\\n    &gt; &gt; &gt; &gt;box of candy can make a\\n    &gt; &gt; &gt; &gt;&gt;          woman  gain five pounds.\\n    &gt; &gt; &gt; &gt;&gt;     36. It's frustrating when you\\nknow all\\n &gt; the\\n    &gt; &gt; &gt; &gt;answers, but nobody bothers\\n    &gt; &gt; &gt; &gt;&gt;          to ask you the questions.\\n    &gt; &gt; &gt; &gt;&gt;     37. The real art of\\nconversation is not\\n &gt; only to\\n    &gt; &gt; &gt; &gt;say the right thing at\\n    &gt; &gt; &gt; &gt;&gt;           the  right time, but also\\nto leave\\n &gt; unsaid\\n    &gt; &gt; &gt; &gt;the wrong thing at the tempting\\n    &gt; &gt; &gt; &gt;&gt;           moment.\\n    &gt; &gt; &gt; &gt;&gt;     38.  Brain cells come and brain\\ncells go,\\n &gt; but\\n    &gt; &gt; &gt; &gt;fat cells live forever.\\n    &gt; &gt; &gt; &gt;&gt;     39. Age doesn't always bring\\nwisdom.\\n &gt; Sometimes\\n    &gt; &gt; &gt; &gt;age comes alone.\\n    &gt; &gt; &gt; &gt;&gt;     40. Life not only begins at\\nforty, it\\n &gt; begins to\\n    &gt; &gt; &gt; &gt;show.\\n    &gt; &gt; &gt; &gt;&gt;     41. You don't stop laughing\\nbecause you\\n &gt; grow\\n    &gt; &gt; &gt; &gt;old, you grow old because\\n    &gt; &gt; &gt; &gt;&gt;           you stopped laughing.\\n   &gt; &gt; &gt;\\n  &gt; &gt;\\n\\n\\n\\n_______________________________\\nJames D Houston (Technical Analyst)\\nIM-DSS Desktop\\Network Support\\nCompaq Computer Corporation\\nTel: 281-518-3935\\njames.houston@compaq.com</td>\n",
       "    </tr>\n",
       "    <tr>\n",
       "      <th>1</th>\n",
       "      <td>davis-d\\2_trash\\2_</td>\n",
       "      <td>c:\\Users\\saman\\git_repos\\dsc650\\dsc650\\assignments\\assignment04\\data\\enron\\davis-d\\2_trash</td>\n",
       "      <td>Message-ID: &lt;24679875.1075853922198.JavaMail.evans@thyme&gt;\\nDate: Tue, 30 May 2000 09:02:00 -0700 (PDT)\\nFrom: sharon.tanner@enron.com\\nTo: dana.davis@enron.com\\nSubject: ACT: New DSS Change Password Procedure\\nMime-Version: 1.0\\nContent-Type: text/plain; charset=us-ascii\\nContent-Transfer-Encoding: 7bit\\nX-From: Sharon Tanner\\nX-To: Dana Davis\\nX-cc: \\nX-bcc: \\nX-Folder: \\Dana_Davis_Dec2000\\Notes Folders\\2 trash\\nX-Origin: Davis-D\\nX-FileName: ddavis2.nsf\\n\\nfyi...\\nThanks.\\n---------------------- Forwarded by Sharon Tanner/GPGFIN/Enron on 05/30/2000 \\n04:02 PM ---------------------------\\n\\n\\nGPG DSS\\n05/08/2000 11:06 AM\\nTo: GPG Decision Support A-B, GPG Decision Support C-D, GPG Decision Support \\nE-HA, GPG Decision Support HE-MC, GPG Decision Support ME-Q, GPG Decision \\nSupport R-S, GPG Decision Support T-Z\\ncc:  \\n\\nSubject: ACT: New DSS Change Password Procedure  \\n\\n\\n\\nTo All DSS Users,\\n\\nCurrently there is no mechanism for changing your password on DSS.  \\n\\nOn May 15, 2000, we will be putting a new procedure into effect that will \\nfunction similarly to the LAN change password procedure.  Passwords for DSS \\nusers will begin to expire in early June, and every 60 days thereafter.  You \\nwill be receiving 5 Password Expiration e-mails as the deadline approaches.  \\nEach of these messages will notify you that your DSS password will expire in \\nthe specified time interval.\\n\\nThese e-mails will be sent as follows:\\nE-mail  #1 - 2 weeks before expiration date\\n #2 - 1 week before expiration date\\n #3 - 2 days before expiration date\\n #4 - 1 day before expiration date\\n #5 - The day the password expires\\n\\nWe now have a new module that will allow you to change your password.  When \\nthis module is executed, a window will display which will prompt you for your \\ncurrent password, New password, and repeat New password.  There are certain \\ncriteria that the new password must meet for it to successfully change.  \\nFollow the instructions on this window to choose a new password.  You may run \\nthis module anytime, but once you change your password, the module must be \\nclosed before it can be run again.\\n\\nPlease Detach (double-click) the following module and save it in the location \\nthat you normally save your DSS modules/databases.  This may be on your hard \\n(C:) drive or personal (H:) drive.  As long as you remember where it is, it \\nreally doesn't matter where you save it.  When the time comes, Execute \\n(double-click) the module to change your DSS password.\\n\\n\\n\\n\\n\\nIf you have any questions or problems, please call the DSS HelpDesk at \\nx31555, option 6 OR Lotus Notes e-mail at GPG DSS.\\n\\nThank you.\\n\\n</td>\n",
       "    </tr>\n",
       "    <tr>\n",
       "      <th>2</th>\n",
       "      <td>davis-d\\2_trash\\3_</td>\n",
       "      <td>c:\\Users\\saman\\git_repos\\dsc650\\dsc650\\assignments\\assignment04\\data\\enron\\davis-d\\2_trash</td>\n",
       "      <td>Message-ID: &lt;28330880.1075853922220.JavaMail.evans@thyme&gt;\\nDate: Thu, 16 Mar 2000 06:10:00 -0800 (PST)\\nFrom: rebecca.sanchez@enron.com\\nTo: dana.davis@enron.com\\nSubject: Fwd: La voz de tu conciencia\\nMime-Version: 1.0\\nContent-Type: text/plain; charset=us-ascii\\nContent-Transfer-Encoding: 7bit\\nX-From: Rebecca Sanchez\\nX-To: Dana Davis\\nX-cc: \\nX-bcc: \\nX-Folder: \\Dana_Davis_Dec2000\\Notes Folders\\2 trash\\nX-Origin: Davis-D\\nX-FileName: ddavis2.nsf\\n\\n---------------------- Forwarded by Rebecca Sanchez/HOU/ECT on 03/16/2000 \\n02:09 PM ---------------------------\\n\\n\\nRufino Doroteo\\n03/16/2000 07:46 AM\\nTo: Rebecca Sanchez/HOU/ECT@ECT\\ncc:  \\nSubject: Fwd: La voz de tu conciencia\\n\\nsee if you understand what this thing says.  turn down the volume down a bit!\\n\\n---------------------- Forwarded by Rufino Doroteo/HOU/ECT on 03/16/2000 \\n07:43 AM ---------------------------\\n\\n\\ndavid doroteo &lt;david_doroteo@yahoo.com&gt; on 03/15/2000 09:50:55 PM\\nTo: rufino.doroteo@enron.com\\ncc:  \\nSubject: Fwd: La voz de tu conciencia\\n\\n\\n\\n\\nNote: forwarded message attached.\\n\\n\\n__________________________________________________\\nDo You Yahoo!?\\nTalk to your friends online with Yahoo! Messenger.\\nhttp://im.yahoo.com\\nX-Apparently-To: david_doroteo@yahoo.com via web126.yahoomail.com\\nX-Track2: 2\\nX-Track: -20\\nReceived: from pimout8-ext.prodigy.net (HELO pimout8-int.prodigy.net) \\n(207.115.59.137)  by mta-pc2.yahoomail.com with SMTP; 16 Mar 2000 00:57:34 \\n-0000\\nReceived: from default (HSTNA010-0273.splitrock.net [209.255.161.19]) by \\npimout8-int.prodigy.net (8.8.5/8.8.5) with SMTP id TAA315416; Wed, 15 Mar \\n2000 19:55:09 -0500\\nMessage-ID: &lt;002201bf8ee1$97b26560$13a1ffd1@default&gt;\\nFrom: \"GUERA\" &lt;GUERA-DELCAST@prodigy.net&gt;\\nTo: \"osorio\" &lt;osorio2@ix.netcom.com&gt;, \"Mark Fertitta\" \\n&lt;mark_fertitta@msn.com&gt;,        \"'David Doroteo'\" \\n&lt;david_doroteo@yahoomail.com&gt;,        \"R-Mando\" &lt;mando-ang@hotmail.com&gt;, \\n\"Daniel Mendez\" &lt;MysterioD@aol.com&gt;,        \"Saul Martinez\" \\n&lt;elangelit0@aol.com&gt;,        \"xavier lopez\" \\n&lt;lopezxavier@latinmail.com&gt;,        \"visente Lopez\" &lt;rockkkkk@excite.com&gt;, \\n\"gs\" &lt;luis_danielc@hotmail.com&gt;,        \"Alexander Gil\" \\n&lt;akg9908@hotmail.com&gt;,        \"Rildon de la O\" &lt;delaor@prodigy.net&gt;,        \\n\"Peter De La O\" &lt;agent003@hotmail.com&gt;,        \"Jesus De La Cerda\" \\n&lt;jdlc009@yahoo.com&gt;,        \"Juan Pablo Castellano\" \\n&lt;octubre1972@hotmail.com&gt;,        \"32_Support\" &lt;32_Support@panda-law.com&gt;\\nSubject: La voz de tu conciencia\\nDate: Wed, 15 Mar 2000 18:50:08 -0600\\nMIME-Version: 1.0\\nX-Priority: 3\\nX-MSMail-Priority: Normal\\nX-Mailer: Microsoft Outlook Express 4.72.3110.1\\nContent-Type: multipart/mixed; \\nboundary=\"----=_NextPart_000_0019_01BF8EAF.48FFAE00\"\\nX-Mimeole: Produced By Microsoft MimeOLE V4.72.3110.3\\nContent-Length: 343469\\n\\n\\n\\n - La voz de tu conciencia.wav\\n\\n\\n</td>\n",
       "    </tr>\n",
       "    <tr>\n",
       "      <th>3</th>\n",
       "      <td>davis-d\\2_trash\\4_</td>\n",
       "      <td>c:\\Users\\saman\\git_repos\\dsc650\\dsc650\\assignments\\assignment04\\data\\enron\\davis-d\\2_trash</td>\n",
       "      <td>Message-ID: &lt;19726058.1075853922242.JavaMail.evans@thyme&gt;\\nDate: Thu, 9 Mar 2000 00:42:00 -0800 (PST)\\nFrom: cmontgomery@kmg.com\\nTo: ddavis@enron.com\\nSubject: FW: This is Cute!\\nMime-Version: 1.0\\nContent-Type: text/plain; charset=us-ascii\\nContent-Transfer-Encoding: 7bit\\nX-From: \"Montgomery, Claudette\" &lt;Cmontgomery@kmg.com&gt;\\nX-To: \"'ddavis@enron.com'\" &lt;ddavis@enron.com&gt;\\nX-cc: \\nX-bcc: \\nX-Folder: \\Dana_Davis_Dec2000\\Notes Folders\\2 trash\\nX-Origin: Davis-D\\nX-FileName: ddavis2.nsf\\n\\n-----Original Message-----\\nFrom: Cornell McGee [mailto:cmcgee@viant.com]\\nSent: Wednesday, March 08, 2000 10:00 AM\\nTo: Tara Abbott\\nSubject: This is Cute!\\n\\n\\n\\n\\n\\n\\nHope you have a sound card on this one....\\n\\n\\nMessage-ID: &lt;5C1861CCF191D31186F300508B6F7018397DB6@adntex02.excel.com&gt;\\nFrom: Antoinette Bowler &lt;ABowler@excel.com&gt;\\nTo: mraduenz@wjade.com\\nSubject: FW: This is Cute!\\nDate: Wed, 8 Mar 2000 10:38:53 -0600\\nMIME-Version: 1.0\\nX-Mailer: Internet Mail Service (5.5.2650.10)\\nContent-Type: multipart/mixed; \\nboundary=\"----_=_NextPart_002_01BF89D5.C392DEC8\"\\n\\nIn case you are missing Asea...she told me to send you this\\n\\n &lt;&lt;cute.exe&gt;&gt;\\n\\n\\n\\n - cute.exe</td>\n",
       "    </tr>\n",
       "    <tr>\n",
       "      <th>4</th>\n",
       "      <td>davis-d\\2_trash\\candis\\1_</td>\n",
       "      <td>c:\\Users\\saman\\git_repos\\dsc650\\dsc650\\assignments\\assignment04\\data\\enron\\davis-d\\2_trash\\candis</td>\n",
       "      <td>Message-ID: &lt;18073527.1075853922263.JavaMail.evans@thyme&gt;\\nDate: Tue, 10 Oct 2000 08:55:00 -0700 (PDT)\\nFrom: dana.davis@enron.com\\nTo: kdavis2075@aol.com\\nSubject: KEVIN!\\nMime-Version: 1.0\\nContent-Type: text/plain; charset=us-ascii\\nContent-Transfer-Encoding: 7bit\\nX-From: Dana Davis\\nX-To: kdavis2075@aol.com\\nX-cc: \\nX-bcc: \\nX-Folder: \\Dana_Davis_Dec2000\\Notes Folders\\2 trash\\Candis\\nX-Origin: Davis-D\\nX-FileName: ddavis2.nsf\\n\\nAre you on the internet?  Email me.</td>\n",
       "    </tr>\n",
       "    <tr>\n",
       "      <th>5</th>\n",
       "      <td>davis-d\\2_trash\\candis\\2_</td>\n",
       "      <td>c:\\Users\\saman\\git_repos\\dsc650\\dsc650\\assignments\\assignment04\\data\\enron\\davis-d\\2_trash\\candis</td>\n",
       "      <td>Message-ID: &lt;27055743.1075853922284.JavaMail.evans@thyme&gt;\\nDate: Mon, 9 Oct 2000 06:52:00 -0700 (PDT)\\nFrom: dana.davis@enron.com\\nTo: kdavis2075@aol.com\\nSubject: Re: lunch!!!!!\\nMime-Version: 1.0\\nContent-Type: text/plain; charset=us-ascii\\nContent-Transfer-Encoding: 7bit\\nX-From: Dana Davis\\nX-To: KDavis2075@aol.com @ ENRON\\nX-cc: \\nX-bcc: \\nX-Folder: \\Dana_Davis_Dec2000\\Notes Folders\\2 trash\\Candis\\nX-Origin: Davis-D\\nX-FileName: ddavis2.nsf\\n\\nListen Girly!  I'm back from lunch and an email and I want it now!\\n\\n\\n\\n\\nKDavis2075@aol.com on 10/09/2000 01:03:45 PM\\nTo: Dana.Davis@enron.com\\ncc:  \\nSubject: lunch!!!!!\\n\\n\\nHi\\ndon't call because I'm on my\\nlunch break so if you need\\nme email me!\\nbuh-bye!!!!![Unable to display image]look!!!! \\n\\n</td>\n",
       "    </tr>\n",
       "    <tr>\n",
       "      <th>6</th>\n",
       "      <td>davis-d\\2_trash\\candis\\3_</td>\n",
       "      <td>c:\\Users\\saman\\git_repos\\dsc650\\dsc650\\assignments\\assignment04\\data\\enron\\davis-d\\2_trash\\candis</td>\n",
       "      <td>Message-ID: &lt;29778961.1075853922306.JavaMail.evans@thyme&gt;\\nDate: Mon, 9 Oct 2000 05:46:00 -0700 (PDT)\\nFrom: dana.davis@enron.com\\nTo: kdavis2075@aol.com\\nSubject: Re: mome\\nMime-Version: 1.0\\nContent-Type: text/plain; charset=us-ascii\\nContent-Transfer-Encoding: 7bit\\nX-From: Dana Davis\\nX-To: KDavis2075@aol.com @ ENRON\\nX-cc: \\nX-bcc: \\nX-Folder: \\Dana_Davis_Dec2000\\Notes Folders\\2 trash\\Candis\\nX-Origin: Davis-D\\nX-FileName: ddavis2.nsf\\n\\nCandis\\nAll you have to do is set the heater between 75 and 80.  I am about to go to \\nlunch right now so call me on the cell phone if you need me.  I'll email you \\nagain when I get back.  If you eat some soup, please be careful with the \\nstove.  Love you\\n\\n\\n\\n\\nKDavis2075@aol.com on 10/09/2000 12:41:01 PM\\nTo: Dana.Davis@enron.com\\ncc:  \\nSubject: mome\\n\\n\\n\\nSorry I didn't email you.I was doing something.\\nI kinda like this emailing thing,what about you?\\nplease respond.It is so cold I had on five coats\\non.SORRY!!!!!!!!!!!!!!!!!!!!!!!!!!!!!!!!!!!!!!!!!!!!!!!!!!!!!!!!!!!!!!!!!!!!\\n\\n</td>\n",
       "    </tr>\n",
       "    <tr>\n",
       "      <th>7</th>\n",
       "      <td>davis-d\\2_trash\\candis\\4_</td>\n",
       "      <td>c:\\Users\\saman\\git_repos\\dsc650\\dsc650\\assignments\\assignment04\\data\\enron\\davis-d\\2_trash\\candis</td>\n",
       "      <td>Message-ID: &lt;30655247.1075853922328.JavaMail.evans@thyme&gt;\\nDate: Mon, 9 Oct 2000 05:25:00 -0700 (PDT)\\nFrom: dana.davis@enron.com\\nTo: kdavis2075@aol.com\\nSubject: Little Rascal\\nMime-Version: 1.0\\nContent-Type: text/plain; charset=us-ascii\\nContent-Transfer-Encoding: 7bit\\nX-From: Dana Davis\\nX-To: KDavis2075@aol.com\\nX-cc: \\nX-bcc: \\nX-Folder: \\Dana_Davis_Dec2000\\Notes Folders\\2 trash\\Candis\\nX-Origin: Davis-D\\nX-FileName: ddavis2.nsf\\n\\nWhat is your problem?  Why aren't you responding to my emails?</td>\n",
       "    </tr>\n",
       "    <tr>\n",
       "      <th>8</th>\n",
       "      <td>davis-d\\2_trash\\charles\\1_</td>\n",
       "      <td>c:\\Users\\saman\\git_repos\\dsc650\\dsc650\\assignments\\assignment04\\data\\enron\\davis-d\\2_trash\\charles</td>\n",
       "      <td>Message-ID: &lt;29131245.1075853922687.JavaMail.evans@thyme&gt;\\nDate: Thu, 12 Oct 2000 07:56:00 -0700 (PDT)\\nFrom: charles200064@aol.com\\nTo: dana.davis@enron.com\\nSubject: Re:\\nMime-Version: 1.0\\nContent-Type: text/plain; charset=us-ascii\\nContent-Transfer-Encoding: 7bit\\nX-From: CHARLES200064@aol.com\\nX-To: Dana.Davis@enron.com\\nX-cc: \\nX-bcc: \\nX-Folder: \\Dana_Davis_Dec2000\\Notes Folders\\2 trash\\Charles\\nX-Origin: Davis-D\\nX-FileName: ddavis2.nsf\\n\\nIf I wasn't there what would you do? Yes, I received your e-mails, I can only\\nhope that somehow our relationship will never subside, because you mean a lot\\nto my life.\\n\\n                                                        Charles</td>\n",
       "    </tr>\n",
       "    <tr>\n",
       "      <th>9</th>\n",
       "      <td>davis-d\\2_trash\\charles\\2_</td>\n",
       "      <td>c:\\Users\\saman\\git_repos\\dsc650\\dsc650\\assignments\\assignment04\\data\\enron\\davis-d\\2_trash\\charles</td>\n",
       "      <td>Message-ID: &lt;16125771.1075853922708.JavaMail.evans@thyme&gt;\\nDate: Tue, 10 Oct 2000 09:23:00 -0700 (PDT)\\nFrom: dana.davis@enron.com\\nTo: charles200064@aol.com\\nSubject: \\nMime-Version: 1.0\\nContent-Type: text/plain; charset=us-ascii\\nContent-Transfer-Encoding: 7bit\\nX-From: Dana Davis\\nX-To: CHARLES200064@aol.com\\nX-cc: \\nX-bcc: \\nX-Folder: \\Dana_Davis_Dec2000\\Notes Folders\\2 trash\\Charles\\nX-Origin: Davis-D\\nX-FileName: ddavis2.nsf\\n\\nYou are crazy.  Did you download that stuff like I told you?  Call me.\\n\\n\\nTo: Dana.Davis@enron.com\\ncc:  \\nSubject: Re: This email contains a attachment that will need to be\\n\\n\\nHi Honey, I am sorry that I did not respond sooner, but I had to reinstall\\nthe software, hopefully I have solved the problem. Will you marry me!!! 0)</td>\n",
       "    </tr>\n",
       "  </tbody>\n",
       "</table>\n",
       "</div>"
      ],
      "text/plain": [
       "                   message_id                                                                                            username                                                                                                                                                                                                                                                                                                                                                                                                                                                                                                                                                                                                                                                                                                                                                                                                                                                                                                                                                                                                                                                                                                                                                                                                                                                                                                                                                                                                                                                                                                                                                                                                                                                                                                                                                                                                                                                                                                                                                                                                                                                                                                                                                                                                                                                                                                                                                                                                                                                                                                                                                                                                                                                                                                                                                                                                                                                                                                                                                                                                                                                                                                                                                                                                                                                                                                                                                                                                                                                                                                                                                                                                                                                                                                                                                                                                                                                                                                                                                                                                                                                                                                                                                                                                                                                                                                                                                                                                                                                                                                                                                                                                                                                                                                                                                                                                                                                                                                                                                                                                                                                                                                                                                                                                                                                                                                                                                                                                                                                                                                                                                                                                                                                                                                                                                                                                                                                                                                                                                                                                                                                                                                                                                                                                                                                                                                                                                                                                                                                                                                                                                                                                                                                                                                                                                                                                                                                                                                                                                                                                      message_path\n",
       "0          davis-d\\2_trash\\1_          c:\\Users\\saman\\git_repos\\dsc650\\dsc650\\assignments\\assignment04\\data\\enron\\davis-d\\2_trash  Message-ID: <17743970.1075853922176.JavaMail.evans@thyme>\\nDate: Fri, 16 Jun 2000 07:02:00 -0700 (PDT)\\nFrom: james.houston@compaq.com\\nTo: akyles@hcde-texas.org, bekyles@aol.com, bridgette_anderson@enron.com, \\n\\tcthomas@midcoastenergy.com, ckyles@hotmail.com, dana.davis@enron.com, \\n\\tdemetria.m.dixon@m1.irs.gov, blaire@kochind.com, gflowers@tsp-tx.com, \\n\\tggoodman@freshadvantage.com, jamescoleman@stic.net, jglenn@wm.com, \\n\\tkbledsoe@swd.ci.houston.tx.us, ken.mccauley@compaq.com, \\n\\tklovepalmer@netscape.net, ksmith@sjgs.org, ljohnson@dxpe.com, \\n\\tmorgdd@swbell.net, phillipg@texasmill.com, realrider@email.msn.com, \\n\\tstan.johnson@compaq.com, steven.moses@enron.com, thouston@swbell.net, \\n\\tmelvit@texaco.com\\nSubject: \\nMime-Version: 1.0\\nContent-Type: text/plain; charset=us-ascii\\nContent-Transfer-Encoding: 7bit\\nX-From: \"Houston, James\" <James.Houston@compaq.com>\\nX-To: \"Akyles (E-mail)\" <akyles@hcde-texas.org>, \"BEKYLES (E-mail)\" <BEKYLES@AOL.COM>, \"Bridgette Anderson (E-mail)\" <Bridgette_Anderson@enron.com>, \"Christopher K. Thomas (E-mail)\" <cthomas@midcoastenergy.com>, \"Ckyles (E-mail)\" <ckyles@hotmail.com>, Dana Davis, \"'Demetria. m. dixon (E-mail)\" <Demetria.m.dixon@m1.irs.gov>, \"Eric Blair (E-mail)\" <BlairE@kochind.com>, \"Gflowers (E-mail)\" <gflowers@tsp-tx.com>, \"Ggoodman (E-mail)\" <ggoodman@freshadvantage.com>, \"James Coleman (E-mail)\" <jamescoleman@stic.net>, \"Jeremy Glenn (E-mail)\" <jglenn@wm.com>, \"'Kbledsoe (E-mail)\" <kbledsoe@swd.ci.houston.tx.us>, \"McCauley, Ken\" <Ken.McCauley@compaq.com>, \"KLOVEPALMER (E-mail)\" <KLOVEPALMER@NETSCAPE.NET>, \"KSMITH (E-mail)\" <KSMITH@SJGS.ORG>, \"Lavon Johnson (E-mail)\" <ljohnson@dxpe.com>, \"Morgdd (E-mail)\" <morgdd@swbell.net>, \"Phillipg (E-mail)\" <phillipg@texasmill.com>, \"Realrider (E-mail)\" <realrider@email.msn.com>, \"Johnson, Stan (Networks)\" <Stan.Johnson@compaq.com>, Steven Moses, \"Thouston (E-mail)\" <thouston@swbell.net>, \"Tomiya Melvin [PRIMARY] (E-mail)\" <melvit@texaco.com>\\nX-cc: \\nX-bcc: \\nX-Folder: \\Dana_Davis_Dec2000\\Notes Folders\\2 trash\\nX-Origin: Davis-D\\nX-FileName: ddavis2.nsf\\n\\n >\\n    > > > >: UNUSUAL WORDS TO LIVE BY\\n    > > > >>\\n    > > > >>     1.  Love is grand; divorce is a\\nhundred\\n > grand.\\n    > > > >>     2.  I am in shape. Round is a\\nshape.\\n    > > > >>     3.  Time may be a great healer,\\nbut it's\\n > also a\\n    > > > >lousy beautician.\\n    > > > >>     4.  Never be afraid to try\\nsomething new.\\n    > > > >Remember, amateurs built the\\n    > > > >>          ark.  Professionals built\\nthe\\n > Titanic.\\n    > > > >>     5.  Conscience is what hurts\\nwhen\\n > everything\\n    > > > >else feels so good.\\n    > > > >>     6.  Talk is cheap because\\nsupply exceeds\\n > demand.\\n    > > > >>     7.  Stupidity got us into this\\nmess-\\n > why can't\\n    > > > >it get us out?\\n    > > > >>     8.  Even if you are on the\\nright track,\\n > you'll\\n    > > > >get run over if you just\\n    > > > >>          sit  there.\\n    > > > >>     9.  Politicians and diapers\\nhave one\\n > thing in\\n    > > > >common.  They should both\\n    > > > >>          be changed regularly and\\nfor the\\n > same\\n    > > > >reason.\\n    > > > >>     10. An optimist thinks that\\nthis is the\\n > best\\n    > > > >possible world. A pessimist\\n    > > > >>           fears that this is true.\\n    > > > >>     11. There is always death and\\ntaxes;\\n > however,\\n    > > > >death doesn't get worse\\n    > > > >>           every  year.\\n    > > > >>     12.  People will accept your\\nideas much\\n > more\\n    > > > >readily if you tell them\\n    > > > >>           that  Benjamin Franklin\\nsaid it\\n > first.\\n    > > > >>     13. It's easier to fight for\\none's\\n > principles\\n    > > > >than to live up to them.\\n    > > > >>     14. I don't mind going nowhere\\nas long as\\n > it's\\n    > > > >an interesting path.\\n    > > > >>     15. Anything free is worth what\\nyou pay\\n > for it.\\n    > > > >>     16. Indecision is the key to\\nflexibility.\\n    > > > >>     17. It hurts to be on the\\ncutting edge.\\n    > > > >>     18. If it ain't broke, fix it\\ntill it is.\\n    > > > >>     19. I don't get even, I get\\nodder.\\n    > > > >>     20.In just two days, tomorrow\\nwill be\\n > yesterday.\\n    > > > >>     21. I always wanted to be a\\n > procrastinator,\\n    > > > >never got around to it.\\n    > > > >>     22. Dijon vu-the same mustard\\nas\\n > before.\\n    > > > >>     23. I am a nutritional\\noverachiever.\\n    > > > >>     24. My inferiority complex is\\nnot as good\\n > as\\n    > > > >yours.\\n    > > > >>     25. I am having an out of money\\n > experience.\\n    > > > >>     26. I plan on living forever.\\nSo far, so\\n > good.\\n    > > > >>     27. Not afraid of\\nheights-afraid of\\n > widths.\\n    > > > >>     28. Practice safe eating-always\\nuse\\n    > > > >condiments.\\n    > > > >>     29. A day without sunshine is\\nlike night.\\n    > > > >>     30. I have kleptomania, but\\nwhen it gets\\n > bad, I\\n    > > > >take something for it.\\n    > > > >>     31. If marriage were outlawed,\\nonly\\n > outlaws\\n    > > > >would have in-laws.\\n    > > > >>     32. I am not a perfectionist.\\nMy parents\\n > were,\\n    > > > >though.\\n    > > > >>     33. Life is an endless struggle\\nfull of\\n    > > > >frustrations and challenges, but\\n    > > > >>          eventually you find a hair\\nstylist\\n > you\\n    > > > >like.\\n    > > > >>     34. You're getting old when you\\nget the\\n > same\\n    > > > >sensation from a rocking\\n    > > > >>           chair  that you once got\\nfrom a\\n > roller\\n    > > > >coaster.\\n    > > > >>     35. One of life's mysteries is\\nhow a\\n > two-pound\\n    > > > >box of candy can make a\\n    > > > >>          woman  gain five pounds.\\n    > > > >>     36. It's frustrating when you\\nknow all\\n > the\\n    > > > >answers, but nobody bothers\\n    > > > >>          to ask you the questions.\\n    > > > >>     37. The real art of\\nconversation is not\\n > only to\\n    > > > >say the right thing at\\n    > > > >>           the  right time, but also\\nto leave\\n > unsaid\\n    > > > >the wrong thing at the tempting\\n    > > > >>           moment.\\n    > > > >>     38.  Brain cells come and brain\\ncells go,\\n > but\\n    > > > >fat cells live forever.\\n    > > > >>     39. Age doesn't always bring\\nwisdom.\\n > Sometimes\\n    > > > >age comes alone.\\n    > > > >>     40. Life not only begins at\\nforty, it\\n > begins to\\n    > > > >show.\\n    > > > >>     41. You don't stop laughing\\nbecause you\\n > grow\\n    > > > >old, you grow old because\\n    > > > >>           you stopped laughing.\\n   > > >\\n  > >\\n\\n\\n\\n_______________________________\\nJames D Houston (Technical Analyst)\\nIM-DSS Desktop\\Network Support\\nCompaq Computer Corporation\\nTel: 281-518-3935\\njames.houston@compaq.com\n",
       "1          davis-d\\2_trash\\2_          c:\\Users\\saman\\git_repos\\dsc650\\dsc650\\assignments\\assignment04\\data\\enron\\davis-d\\2_trash                                                                                                                                                                                                                                                                                                                                                                                                                                                                                                                                                                                                                                                                                                                                                                                                                                                                                                                                                                                                                                                                                                                                                                                                                                                                                                                                                                                                                                                                                                                                                                                                                                                                                                                                                                                                                                                                                                                                                                                                                                                                                                                                                                                                                                                                                                                                                                                                                                                                                                                                                                                                                                                                                                                                                                                                                                                                                                                                                                                                                                                                                                                                                                                                                                                                                                                                                                                                                                                                                                                                                                                                                                                                                                                                                                                                                                                                                                                                                                                                                                                                                                                                                                                                                                           Message-ID: <24679875.1075853922198.JavaMail.evans@thyme>\\nDate: Tue, 30 May 2000 09:02:00 -0700 (PDT)\\nFrom: sharon.tanner@enron.com\\nTo: dana.davis@enron.com\\nSubject: ACT: New DSS Change Password Procedure\\nMime-Version: 1.0\\nContent-Type: text/plain; charset=us-ascii\\nContent-Transfer-Encoding: 7bit\\nX-From: Sharon Tanner\\nX-To: Dana Davis\\nX-cc: \\nX-bcc: \\nX-Folder: \\Dana_Davis_Dec2000\\Notes Folders\\2 trash\\nX-Origin: Davis-D\\nX-FileName: ddavis2.nsf\\n\\nfyi...\\nThanks.\\n---------------------- Forwarded by Sharon Tanner/GPGFIN/Enron on 05/30/2000 \\n04:02 PM ---------------------------\\n\\n\\nGPG DSS\\n05/08/2000 11:06 AM\\nTo: GPG Decision Support A-B, GPG Decision Support C-D, GPG Decision Support \\nE-HA, GPG Decision Support HE-MC, GPG Decision Support ME-Q, GPG Decision \\nSupport R-S, GPG Decision Support T-Z\\ncc:  \\n\\nSubject: ACT: New DSS Change Password Procedure  \\n\\n\\n\\nTo All DSS Users,\\n\\nCurrently there is no mechanism for changing your password on DSS.  \\n\\nOn May 15, 2000, we will be putting a new procedure into effect that will \\nfunction similarly to the LAN change password procedure.  Passwords for DSS \\nusers will begin to expire in early June, and every 60 days thereafter.  You \\nwill be receiving 5 Password Expiration e-mails as the deadline approaches.  \\nEach of these messages will notify you that your DSS password will expire in \\nthe specified time interval.\\n\\nThese e-mails will be sent as follows:\\nE-mail  #1 - 2 weeks before expiration date\\n #2 - 1 week before expiration date\\n #3 - 2 days before expiration date\\n #4 - 1 day before expiration date\\n #5 - The day the password expires\\n\\nWe now have a new module that will allow you to change your password.  When \\nthis module is executed, a window will display which will prompt you for your \\ncurrent password, New password, and repeat New password.  There are certain \\ncriteria that the new password must meet for it to successfully change.  \\nFollow the instructions on this window to choose a new password.  You may run \\nthis module anytime, but once you change your password, the module must be \\nclosed before it can be run again.\\n\\nPlease Detach (double-click) the following module and save it in the location \\nthat you normally save your DSS modules/databases.  This may be on your hard \\n(C:) drive or personal (H:) drive.  As long as you remember where it is, it \\nreally doesn't matter where you save it.  When the time comes, Execute \\n(double-click) the module to change your DSS password.\\n\\n\\n\\n\\n\\nIf you have any questions or problems, please call the DSS HelpDesk at \\nx31555, option 6 OR Lotus Notes e-mail at GPG DSS.\\n\\nThank you.\\n\\n\n",
       "2          davis-d\\2_trash\\3_          c:\\Users\\saman\\git_repos\\dsc650\\dsc650\\assignments\\assignment04\\data\\enron\\davis-d\\2_trash                                                                                                                                                                                                                                                                                                                                                                                                                                                                                                                                                                                                                                                                                                                                                                                                                                                                                                                                                                                                                                                                                                                                                                                                                                                                                                                                                                                                                                                                                                                                                                                                                                                                                                                                                                                                                                                                                                                                                                                                                                                                                                                                                                                                                                                                                                                                                                                                                                                                                                                                                                                                                                                                                                                                                                                                                                                                                                                                                                                                                                                                                                                                                                                                                                                                                                                                                                                                                                                                                                                                                                                                                                                                                                                                                                                                                                                                                                                                                                                                                                                                Message-ID: <28330880.1075853922220.JavaMail.evans@thyme>\\nDate: Thu, 16 Mar 2000 06:10:00 -0800 (PST)\\nFrom: rebecca.sanchez@enron.com\\nTo: dana.davis@enron.com\\nSubject: Fwd: La voz de tu conciencia\\nMime-Version: 1.0\\nContent-Type: text/plain; charset=us-ascii\\nContent-Transfer-Encoding: 7bit\\nX-From: Rebecca Sanchez\\nX-To: Dana Davis\\nX-cc: \\nX-bcc: \\nX-Folder: \\Dana_Davis_Dec2000\\Notes Folders\\2 trash\\nX-Origin: Davis-D\\nX-FileName: ddavis2.nsf\\n\\n---------------------- Forwarded by Rebecca Sanchez/HOU/ECT on 03/16/2000 \\n02:09 PM ---------------------------\\n\\n\\nRufino Doroteo\\n03/16/2000 07:46 AM\\nTo: Rebecca Sanchez/HOU/ECT@ECT\\ncc:  \\nSubject: Fwd: La voz de tu conciencia\\n\\nsee if you understand what this thing says.  turn down the volume down a bit!\\n\\n---------------------- Forwarded by Rufino Doroteo/HOU/ECT on 03/16/2000 \\n07:43 AM ---------------------------\\n\\n\\ndavid doroteo <david_doroteo@yahoo.com> on 03/15/2000 09:50:55 PM\\nTo: rufino.doroteo@enron.com\\ncc:  \\nSubject: Fwd: La voz de tu conciencia\\n\\n\\n\\n\\nNote: forwarded message attached.\\n\\n\\n__________________________________________________\\nDo You Yahoo!?\\nTalk to your friends online with Yahoo! Messenger.\\nhttp://im.yahoo.com\\nX-Apparently-To: david_doroteo@yahoo.com via web126.yahoomail.com\\nX-Track2: 2\\nX-Track: -20\\nReceived: from pimout8-ext.prodigy.net (HELO pimout8-int.prodigy.net) \\n(207.115.59.137)  by mta-pc2.yahoomail.com with SMTP; 16 Mar 2000 00:57:34 \\n-0000\\nReceived: from default (HSTNA010-0273.splitrock.net [209.255.161.19]) by \\npimout8-int.prodigy.net (8.8.5/8.8.5) with SMTP id TAA315416; Wed, 15 Mar \\n2000 19:55:09 -0500\\nMessage-ID: <002201bf8ee1$97b26560$13a1ffd1@default>\\nFrom: \"GUERA\" <GUERA-DELCAST@prodigy.net>\\nTo: \"osorio\" <osorio2@ix.netcom.com>, \"Mark Fertitta\" \\n<mark_fertitta@msn.com>,        \"'David Doroteo'\" \\n<david_doroteo@yahoomail.com>,        \"R-Mando\" <mando-ang@hotmail.com>, \\n\"Daniel Mendez\" <MysterioD@aol.com>,        \"Saul Martinez\" \\n<elangelit0@aol.com>,        \"xavier lopez\" \\n<lopezxavier@latinmail.com>,        \"visente Lopez\" <rockkkkk@excite.com>, \\n\"gs\" <luis_danielc@hotmail.com>,        \"Alexander Gil\" \\n<akg9908@hotmail.com>,        \"Rildon de la O\" <delaor@prodigy.net>,        \\n\"Peter De La O\" <agent003@hotmail.com>,        \"Jesus De La Cerda\" \\n<jdlc009@yahoo.com>,        \"Juan Pablo Castellano\" \\n<octubre1972@hotmail.com>,        \"32_Support\" <32_Support@panda-law.com>\\nSubject: La voz de tu conciencia\\nDate: Wed, 15 Mar 2000 18:50:08 -0600\\nMIME-Version: 1.0\\nX-Priority: 3\\nX-MSMail-Priority: Normal\\nX-Mailer: Microsoft Outlook Express 4.72.3110.1\\nContent-Type: multipart/mixed; \\nboundary=\"----=_NextPart_000_0019_01BF8EAF.48FFAE00\"\\nX-Mimeole: Produced By Microsoft MimeOLE V4.72.3110.3\\nContent-Length: 343469\\n\\n\\n\\n - La voz de tu conciencia.wav\\n\\n\\n\n",
       "3          davis-d\\2_trash\\4_          c:\\Users\\saman\\git_repos\\dsc650\\dsc650\\assignments\\assignment04\\data\\enron\\davis-d\\2_trash                                                                                                                                                                                                                                                                                                                                                                                                                                                                                                                                                                                                                                                                                                                                                                                                                                                                                                                                                                                                                                                                                                                                                                                                                                                                                                                                                                                                                                                                                                                                                                                                                                                                                                                                                                                                                                                                                                                                                                                                                                                                                                                                                                                                                                                                                                                                                                                                                                                                                                                                                                                                                                                                                                                                                                                                                                                                                                                                                                                                                                                                                                                                                                                                                                                                                                                                                                                                                                                                                                                                                                                                                                                                                                                                                                                                                                                                                                                                                                                                                                                                                                                                                                                                                                                                                                                                                                                                                                                                                                                                                                                                                                                                                                                                                                                                                                                                                                                                                                                                                                                                                                                                                                                                                                                                                                                                                                                                                                                                                                                                                                                                                                                                                                                                                                                                    Message-ID: <19726058.1075853922242.JavaMail.evans@thyme>\\nDate: Thu, 9 Mar 2000 00:42:00 -0800 (PST)\\nFrom: cmontgomery@kmg.com\\nTo: ddavis@enron.com\\nSubject: FW: This is Cute!\\nMime-Version: 1.0\\nContent-Type: text/plain; charset=us-ascii\\nContent-Transfer-Encoding: 7bit\\nX-From: \"Montgomery, Claudette\" <Cmontgomery@kmg.com>\\nX-To: \"'ddavis@enron.com'\" <ddavis@enron.com>\\nX-cc: \\nX-bcc: \\nX-Folder: \\Dana_Davis_Dec2000\\Notes Folders\\2 trash\\nX-Origin: Davis-D\\nX-FileName: ddavis2.nsf\\n\\n-----Original Message-----\\nFrom: Cornell McGee [mailto:cmcgee@viant.com]\\nSent: Wednesday, March 08, 2000 10:00 AM\\nTo: Tara Abbott\\nSubject: This is Cute!\\n\\n\\n\\n\\n\\n\\nHope you have a sound card on this one....\\n\\n\\nMessage-ID: <5C1861CCF191D31186F300508B6F7018397DB6@adntex02.excel.com>\\nFrom: Antoinette Bowler <ABowler@excel.com>\\nTo: mraduenz@wjade.com\\nSubject: FW: This is Cute!\\nDate: Wed, 8 Mar 2000 10:38:53 -0600\\nMIME-Version: 1.0\\nX-Mailer: Internet Mail Service (5.5.2650.10)\\nContent-Type: multipart/mixed; \\nboundary=\"----_=_NextPart_002_01BF89D5.C392DEC8\"\\n\\nIn case you are missing Asea...she told me to send you this\\n\\n <<cute.exe>>\\n\\n\\n\\n - cute.exe\n",
       "4   davis-d\\2_trash\\candis\\1_   c:\\Users\\saman\\git_repos\\dsc650\\dsc650\\assignments\\assignment04\\data\\enron\\davis-d\\2_trash\\candis                                                                                                                                                                                                                                                                                                                                                                                                                                                                                                                                                                                                                                                                                                                                                                                                                                                                                                                                                                                                                                                                                                                                                                                                                                                                                                                                                                                                                                                                                                                                                                                                                                                                                                                                                                                                                                                                                                                                                                                                                                                                                                                                                                                                                                                                                                                                                                                                                                                                                                                                                                                                                                                                                                                                                                                                                                                                                                                                                                                                                                                                                                                                                                                                                                                                                                                                                                                                                                                                                                                                                                                                                                                                                                                                                                                                                                                                                                                                                                                                                                                                                                                                                                                                                                                                                                                                                                                                                                                                                                                                                                                                                                                                                                                                                                                                                                                                                                                                                                                                                                                                                                                                                                                                                                                                                                                                                                                                                                                                                                                                                                                                                                                                                                                                                                                                                                                                                                                                                                                                                                                                                                                                                                                                                                                                                                                                                                                                                                                                                                                         Message-ID: <18073527.1075853922263.JavaMail.evans@thyme>\\nDate: Tue, 10 Oct 2000 08:55:00 -0700 (PDT)\\nFrom: dana.davis@enron.com\\nTo: kdavis2075@aol.com\\nSubject: KEVIN!\\nMime-Version: 1.0\\nContent-Type: text/plain; charset=us-ascii\\nContent-Transfer-Encoding: 7bit\\nX-From: Dana Davis\\nX-To: kdavis2075@aol.com\\nX-cc: \\nX-bcc: \\nX-Folder: \\Dana_Davis_Dec2000\\Notes Folders\\2 trash\\Candis\\nX-Origin: Davis-D\\nX-FileName: ddavis2.nsf\\n\\nAre you on the internet?  Email me.\n",
       "5   davis-d\\2_trash\\candis\\2_   c:\\Users\\saman\\git_repos\\dsc650\\dsc650\\assignments\\assignment04\\data\\enron\\davis-d\\2_trash\\candis                                                                                                                                                                                                                                                                                                                                                                                                                                                                                                                                                                                                                                                                                                                                                                                                                                                                                                                                                                                                                                                                                                                                                                                                                                                                                                                                                                                                                                                                                                                                                                                                                                                                                                                                                                                                                                                                                                                                                                                                                                                                                                                                                                                                                                                                                                                                                                                                                                                                                                                                                                                                                                                                                                                                                                                                                                                                                                                                                                                                                                                                                                                                                                                                                                                                                                                                                                                                                                                                                                                                                                                                                                                                                                                                                                                                                                                                                                                                                                                                                                                                                                                                                                                                                                                                                                                                                                                                                                                                                                                                                                                                                                                                                                                                                                                                                                                                                                                                                                                                                                                                                                                                                                                                                                                                                                                                                                                                                                                                                                                                                                                                                                                                                                                                                                                                                                                                                                                                                                                                                                                                                                                                                                                                                           Message-ID: <27055743.1075853922284.JavaMail.evans@thyme>\\nDate: Mon, 9 Oct 2000 06:52:00 -0700 (PDT)\\nFrom: dana.davis@enron.com\\nTo: kdavis2075@aol.com\\nSubject: Re: lunch!!!!!\\nMime-Version: 1.0\\nContent-Type: text/plain; charset=us-ascii\\nContent-Transfer-Encoding: 7bit\\nX-From: Dana Davis\\nX-To: KDavis2075@aol.com @ ENRON\\nX-cc: \\nX-bcc: \\nX-Folder: \\Dana_Davis_Dec2000\\Notes Folders\\2 trash\\Candis\\nX-Origin: Davis-D\\nX-FileName: ddavis2.nsf\\n\\nListen Girly!  I'm back from lunch and an email and I want it now!\\n\\n\\n\\n\\nKDavis2075@aol.com on 10/09/2000 01:03:45 PM\\nTo: Dana.Davis@enron.com\\ncc:  \\nSubject: lunch!!!!!\\n\\n\\nHi\\ndon't call because I'm on my\\nlunch break so if you need\\nme email me!\\nbuh-bye!!!!![Unable to display image]look!!!! \\n\\n\n",
       "6   davis-d\\2_trash\\candis\\3_   c:\\Users\\saman\\git_repos\\dsc650\\dsc650\\assignments\\assignment04\\data\\enron\\davis-d\\2_trash\\candis                                                                                                                                                                                                                                                                                                                                                                                                                                                                                                                                                                                                                                                                                                                                                                                                                                                                                                                                                                                                                                                                                                                                                                                                                                                                                                                                                                                                                                                                                                                                                                                                                                                                                                                                                                                                                                                                                                                                                                                                                                                                                                                                                                                                                                                                                                                                                                                                                                                                                                                                                                                                                                                                                                                                                                                                                                                                                                                                                                                                                                                                                                                                                                                                                                                                                                                                                                                                                                                                                                                                                                                                                                                                                                                                                                                                                                                                                                                                                                                                                                                                                                                                                                                                                                                                                                                                                                                                                                                                                                                                                                                                                                                                                                                                                                                                                                                                                                                                                                                                                                                                                                                                                                                                                                                                                                                                                                                                                                                                                                                                                                                                                                                                                                                                                                                                                                                                                                                               Message-ID: <29778961.1075853922306.JavaMail.evans@thyme>\\nDate: Mon, 9 Oct 2000 05:46:00 -0700 (PDT)\\nFrom: dana.davis@enron.com\\nTo: kdavis2075@aol.com\\nSubject: Re: mome\\nMime-Version: 1.0\\nContent-Type: text/plain; charset=us-ascii\\nContent-Transfer-Encoding: 7bit\\nX-From: Dana Davis\\nX-To: KDavis2075@aol.com @ ENRON\\nX-cc: \\nX-bcc: \\nX-Folder: \\Dana_Davis_Dec2000\\Notes Folders\\2 trash\\Candis\\nX-Origin: Davis-D\\nX-FileName: ddavis2.nsf\\n\\nCandis\\nAll you have to do is set the heater between 75 and 80.  I am about to go to \\nlunch right now so call me on the cell phone if you need me.  I'll email you \\nagain when I get back.  If you eat some soup, please be careful with the \\nstove.  Love you\\n\\n\\n\\n\\nKDavis2075@aol.com on 10/09/2000 12:41:01 PM\\nTo: Dana.Davis@enron.com\\ncc:  \\nSubject: mome\\n\\n\\n\\nSorry I didn't email you.I was doing something.\\nI kinda like this emailing thing,what about you?\\nplease respond.It is so cold I had on five coats\\non.SORRY!!!!!!!!!!!!!!!!!!!!!!!!!!!!!!!!!!!!!!!!!!!!!!!!!!!!!!!!!!!!!!!!!!!!\\n\\n\n",
       "7   davis-d\\2_trash\\candis\\4_   c:\\Users\\saman\\git_repos\\dsc650\\dsc650\\assignments\\assignment04\\data\\enron\\davis-d\\2_trash\\candis                                                                                                                                                                                                                                                                                                                                                                                                                                                                                                                                                                                                                                                                                                                                                                                                                                                                                                                                                                                                                                                                                                                                                                                                                                                                                                                                                                                                                                                                                                                                                                                                                                                                                                                                                                                                                                                                                                                                                                                                                                                                                                                                                                                                                                                                                                                                                                                                                                                                                                                                                                                                                                                                                                                                                                                                                                                                                                                                                                                                                                                                                                                                                                                                                                                                                                                                                                                                                                                                                                                                                                                                                                                                                                                                                                                                                                                                                                                                                                                                                                                                                                                                                                                                                                                                                                                                                                                                                                                                                                                                                                                                                                                                                                                                                                                                                                                                                                                                                                                                                                                                                                                                                                                                                                                                                                                                                                                                                                                                                                                                                                                                                                                                                                                                                                                                                                                                                                                                                                                                                                                                                                                                                                                                                                                                                                                                                                                                                                                                                        Message-ID: <30655247.1075853922328.JavaMail.evans@thyme>\\nDate: Mon, 9 Oct 2000 05:25:00 -0700 (PDT)\\nFrom: dana.davis@enron.com\\nTo: kdavis2075@aol.com\\nSubject: Little Rascal\\nMime-Version: 1.0\\nContent-Type: text/plain; charset=us-ascii\\nContent-Transfer-Encoding: 7bit\\nX-From: Dana Davis\\nX-To: KDavis2075@aol.com\\nX-cc: \\nX-bcc: \\nX-Folder: \\Dana_Davis_Dec2000\\Notes Folders\\2 trash\\Candis\\nX-Origin: Davis-D\\nX-FileName: ddavis2.nsf\\n\\nWhat is your problem?  Why aren't you responding to my emails?\n",
       "8  davis-d\\2_trash\\charles\\1_  c:\\Users\\saman\\git_repos\\dsc650\\dsc650\\assignments\\assignment04\\data\\enron\\davis-d\\2_trash\\charles                                                                                                                                                                                                                                                                                                                                                                                                                                                                                                                                                                                                                                                                                                                                                                                                                                                                                                                                                                                                                                                                                                                                                                                                                                                                                                                                                                                                                                                                                                                                                                                                                                                                                                                                                                                                                                                                                                                                                                                                                                                                                                                                                                                                                                                                                                                                                                                                                                                                                                                                                                                                                                                                                                                                                                                                                                                                                                                                                                                                                                                                                                                                                                                                                                                                                                                                                                                                                                                                                                                                                                                                                                                                                                                                                                                                                                                                                                                                                                                                                                                                                                                                                                                                                                                                                                                                                                                                                                                                                                                                                                                                                                                                                                                                                                                                                                                                                                                                                                                                                                                                                                                                                                                                                                                                                                                                                                                                                                                                                                                                                                                                                                                                                                                                                                                                                                                                                                                                                                                                                                                                                                                                                                                                                                                                                                  Message-ID: <29131245.1075853922687.JavaMail.evans@thyme>\\nDate: Thu, 12 Oct 2000 07:56:00 -0700 (PDT)\\nFrom: charles200064@aol.com\\nTo: dana.davis@enron.com\\nSubject: Re:\\nMime-Version: 1.0\\nContent-Type: text/plain; charset=us-ascii\\nContent-Transfer-Encoding: 7bit\\nX-From: CHARLES200064@aol.com\\nX-To: Dana.Davis@enron.com\\nX-cc: \\nX-bcc: \\nX-Folder: \\Dana_Davis_Dec2000\\Notes Folders\\2 trash\\Charles\\nX-Origin: Davis-D\\nX-FileName: ddavis2.nsf\\n\\nIf I wasn't there what would you do? Yes, I received your e-mails, I can only\\nhope that somehow our relationship will never subside, because you mean a lot\\nto my life.\\n\\n                                                        Charles\n",
       "9  davis-d\\2_trash\\charles\\2_  c:\\Users\\saman\\git_repos\\dsc650\\dsc650\\assignments\\assignment04\\data\\enron\\davis-d\\2_trash\\charles                                                                                                                                                                                                                                                                                                                                                                                                                                                                                                                                                                                                                                                                                                                                                                                                                                                                                                                                                                                                                                                                                                                                                                                                                                                                                                                                                                                                                                                                                                                                                                                                                                                                                                                                                                                                                                                                                                                                                                                                                                                                                                                                                                                                                                                                                                                                                                                                                                                                                                                                                                                                                                                                                                                                                                                                                                                                                                                                                                                                                                                                                                                                                                                                                                                                                                                                                                                                                                                                                                                                                                                                                                                                                                                                                                                                                                                                                                                                                                                                                                                                                                                                                                                                                                                                                                                                                                                                                                                                                                                                                                                                                                                                                                                                                                                                                                                                                                                                                                                                                                                                                                                                                                                                                                                                                                                                                                                                                                                                                                                                                                                                                                                                                                                                                                                                                                                                                                                                                                                                                                                                                                                                                                                                                Message-ID: <16125771.1075853922708.JavaMail.evans@thyme>\\nDate: Tue, 10 Oct 2000 09:23:00 -0700 (PDT)\\nFrom: dana.davis@enron.com\\nTo: charles200064@aol.com\\nSubject: \\nMime-Version: 1.0\\nContent-Type: text/plain; charset=us-ascii\\nContent-Transfer-Encoding: 7bit\\nX-From: Dana Davis\\nX-To: CHARLES200064@aol.com\\nX-cc: \\nX-bcc: \\nX-Folder: \\Dana_Davis_Dec2000\\Notes Folders\\2 trash\\Charles\\nX-Origin: Davis-D\\nX-FileName: ddavis2.nsf\\n\\nYou are crazy.  Did you download that stuff like I told you?  Call me.\\n\\n\\nTo: Dana.Davis@enron.com\\ncc:  \\nSubject: Re: This email contains a attachment that will need to be\\n\\n\\nHi Honey, I am sorry that I did not respond sooner, but I had to reinstall\\nthe software, hopefully I have solved the problem. Will you marry me!!! 0)"
      ]
     },
     "execution_count": 127,
     "metadata": {},
     "output_type": "execute_result"
    }
   ],
   "source": [
    "pd.set_option('display.max_columns', None)\n",
    "pd.set_option('display.expand_frame_repr', False)\n",
    "pd.set_option('max_colwidth', None)\n",
    "\n",
    "print(df.shape)\n",
    "df.head(10)"
   ]
  },
  {
   "cell_type": "code",
   "execution_count": null,
   "metadata": {
    "scrolled": false
   },
   "outputs": [],
   "source": [
    "df.show()"
   ]
  },
  {
   "cell_type": "code",
   "execution_count": null,
   "metadata": {},
   "outputs": [],
   "source": [
    "df.printSchema()"
   ]
  },
  {
   "cell_type": "markdown",
   "metadata": {},
   "source": [
    "## Assignment 4.2\n",
    "\n",
    "Use `plain_msg_example` and `html_msg_example` to create a function that parses an email message. "
   ]
  },
  {
   "cell_type": "code",
   "execution_count": null,
   "metadata": {},
   "outputs": [],
   "source": [
    "plain_msg_example = \"\"\"\n",
    "Message-ID: <6742786.1075845426893.JavaMail.evans@thyme>\n",
    "Date: Thu, 7 Jun 2001 11:05:33 -0700 (PDT)\n",
    "From: jeffrey.hammad@enron.com\n",
    "To: andy.zipper@enron.com\n",
    "Subject: Thanks for the interview\n",
    "Mime-Version: 1.0\n",
    "Content-Type: text/plain; charset=us-ascii\n",
    "Content-Transfer-Encoding: 7bit\n",
    "X-From: Hammad, Jeffrey </O=ENRON/OU=NA/CN=RECIPIENTS/CN=NOTESADDR/CN=CBBE377A-24F58854-862567DD-591AE7>\n",
    "X-To: Zipper, Andy </O=ENRON/OU=NA/CN=RECIPIENTS/CN=AZIPPER>\n",
    "X-cc: \n",
    "X-bcc: \n",
    "X-Folder: \\Zipper, Andy\\Zipper, Andy\\Inbox\n",
    "X-Origin: ZIPPER-A\n",
    "X-FileName: Zipper, Andy.pst\n",
    "\n",
    "Andy,\n",
    "\n",
    "Thanks for giving me the opportunity to meet with you about the Analyst/ Associate program.  I enjoyed talking to you, and look forward to contributing to the success that the program has enjoyed.  \n",
    "\n",
    "Thanks and Best Regards,\n",
    "\n",
    "Jeff Hammad\n",
    "\"\"\"\n",
    "\n",
    "html_msg_example = \"\"\"\n",
    "Message-ID: <21013632.1075862392611.JavaMail.evans@thyme>\n",
    "Date: Mon, 19 Nov 2001 12:15:44 -0800 (PST)\n",
    "From: insynconline.6jy5ympb.d@insync-palm.com\n",
    "To: tstaab@enron.com\n",
    "Subject: Last chance for special offer on Palm OS Upgrade!\n",
    "Mime-Version: 1.0\n",
    "Content-Type: text/plain; charset=us-ascii\n",
    "Content-Transfer-Encoding: 7bit\n",
    "X-From: InSync Online <InSyncOnline.6jy5ympb.d@insync-palm.com>\n",
    "X-To: THERESA STAAB <tstaab@enron.com>\n",
    "X-cc: \n",
    "X-bcc: \n",
    "X-Folder: \\TSTAAB (Non-Privileged)\\Staab, Theresa\\Deleted Items\n",
    "X-Origin: Staab-T\n",
    "X-FileName: TSTAAB (Non-Privileged).pst\n",
    "\n",
    "<html>\n",
    "\n",
    "<html>\n",
    "<head>\n",
    "<title>Paprika</title>\n",
    "<meta http-equiv=\"Content-Type\" content=\"text/html;\">\n",
    "</head>\n",
    "<body bgcolor=\"#FFFFFF\" TEXT=\"#333333\" LINK=\"#336699\" VLINK=\"#6699cc\" ALINK=\"#ff9900\">\n",
    "<table border=\"0\" cellpadding=\"0\" cellspacing=\"0\" width=\"582\">\n",
    "<tr valign=\"top\">\n",
    "  <td width=\"582\" colspan=\"9\"><nobr><a href=\"http://insync-online.p04.com/u.d?BEReaQA5eczXB=1\"><img src=\"http://images4.postdirect.com/master-images/404707/upper_left.gif\" alt=\"\" width=\"103\" height=\"110\" hspace=\"0\" vspace=\"0\" border=\"0\"></a><a href=\"http://insync-online.p04.com/u.d?AkReaQA5eczXE=11\"><img src=\"http://images4.postdirect.com/master-images/404707/upper_right.gif\" alt=\"\" width=\"479\" height=\"110\" hspace=\"0\" vspace=\"0\" border=\"0\"></a></nobr></td>\n",
    "</tr>\n",
    "<tr valign=\"top\">\n",
    "  <td width=\"4\" bgcolor=\"#CCCCCC\"><img src=\"http://images4.postdirect.com/master-images/404707/clear.gif\" width=\"4\" height=\"1\" hspace=\"0\" vspace=\"0\" border=\"0\" alt=\"\"></td>\n",
    "  <td width=\"20\"><img src=\"http://images4.postdirect.com/master-images/404707/clear.gif\" width=\"20\" height=\"1\" hspace=\"0\" vspace=\"0\" border=\"0\" alt=\"\"></td>\n",
    "  <td width=\"165\"><br><a href=\"http://insync-online.p04.com/u.d?LkReaQA5eczXL=21\"><img src=\"http://images4.postdirect.com/master-images/404707/screen1.gif\" alt=\"\" width=\"165\" height=\"159\" hspace=\"0\" vspace=\"0\" border=\"0\"></a><br><img src=\"http://images4.postdirect.com/master-images/404707/screen1_text.gif\" alt=\"\" width=\"93\" height=\"26\" hspace=\"0\" vspace=\"0\" border=\"0\"></td>\n",
    "  <td width=\"20\"><img src=\"http://images4.postdirect.com/master-images/404707/clear.gif\" width=\"20\" height=\"1\" hspace=\"0\" vspace=\"0\" border=\"0\" alt=\"\"></td>\n",
    "  <td width=\"165\"><br><a href=\"http://insync-online.p04.com/u.d?BkReaQA5eczXO=31\"><img src=\"http://images4.postdirect.com/master-images/404707/screen2.gif\" alt=\"\" width=\"165\" height=\"159\" hspace=\"0\" vspace=\"0\" border=\"0\"></a><br><img src=\"http://images4.postdirect.com/master-images/404707/screen2_text.gif\" alt=\"\" width=\"93\" height=\"26\" hspace=\"0\" vspace=\"0\" border=\"0\"></td>\n",
    "  <td width=\"20\"><img src=\"http://images4.postdirect.com/master-images/404707/clear.gif\" width=\"20\" height=\"1\" hspace=\"0\" vspace=\"0\" border=\"0\" alt=\"\"></td>\n",
    "  <td width=\"165\"><br><a href=\"http://insync-online.p04.com/u.d?JkReaQA5eczXRs=41\"><img src=\"http://images4.postdirect.com/master-images/404707/screen3.gif\" alt=\"\" width=\"165\" height=\"159\" hspace=\"0\" vspace=\"0\" border=\"0\"></a><br><img src=\"http://images4.postdirect.com/master-images/404707/screen3_text.gif\" alt=\"\" width=\"93\" height=\"26\" hspace=\"0\" vspace=\"0\" border=\"0\"></td>\n",
    "  <td width=\"19\"><img src=\"http://images4.postdirect.com/master-images/404707/clear.gif\" width=\"19\" height=\"1\" hspace=\"0\" vspace=\"0\" border=\"0\" alt=\"\"></td>\n",
    "  <td width=\"4\" bgcolor=\"#CCCCCC\"><img src=\"http://images4.postdirect.com/master-images/404707/clear.gif\" width=\"4\" height=\"1\" hspace=\"0\" vspace=\"0\" border=\"0\" alt=\"\"></td>\n",
    "</tr>\n",
    "</table>\n",
    "<table border=\"0\" cellpadding=\"0\" cellspacing=\"0\" width=\"582\">\n",
    "<tr valign=\"top\">\n",
    "  <td width=\"4\" bgcolor=\"#CCCCCC\"><img src=\"http://images4.postdirect.com/master-images/404707/clear.gif\" width=\"4\" height=\"1\" hspace=\"0\" vspace=\"0\" border=\"0\" alt=\"\"></td>\n",
    "  <td width=\"574\"><br>\n",
    "    <table border=\"0\" cellpadding=\"0\" cellspacing=\"0\" width=\"574\" bgcolor=\"#99ccff\">\n",
    "    <tr>\n",
    "      <td width=\"50\"><img src=\"http://images4.postdirect.com/master-images/404707/clear.gif\" width=\"50\" height=\"1\" hspace=\"0\" vspace=\"0\" border=\"0\" alt=\"\"></td>\n",
    "      <td width=\"474\"><font face=\"verdana, arial\" size=\"-2\"color=\"#000000\">\n",
    "        <br>\n",
    "        Dear THERESA,\n",
    "        <br><br>\n",
    "        Due to overwhelming demand for the Palm OS&#174; v4.1 Upgrade with Mobile Connectivity, we are \n",
    "        extending the special offer of 25% off through November 30, 2001. So there's still time to significantly \n",
    "        increase the functionality of your Palm&#153; III, IIIx, IIIxe, IIIc, V or Vx handheld. Step up to the \n",
    "        new Palm OS v4.1 through this extended special offer. You'll receive the brand new Palm OS v4.1 \n",
    "        <b>for just $29.95 when you use Promo Code <font color=\"#FF0000\">OS41WAVE</font></b>. That's a \n",
    "        <b>$10 savings</b> off the list price. \n",
    "        <br><br>\n",
    "        <a href=\"http://insync-online.p04.com/u.d?NkReaQA5eczXRh=51\">Click here to view a full product demo now</a>.\n",
    "        <br><br>\n",
    "        <a href=\"http://insync-online.p04.com/u.d?MkReaQA5eczXRm=61\"><img src=\"http://images4.postdirect.com/master-images/404707/title1.gif\" alt=\"\" width=\"336\" height=\"20\" hspace=\"0\" vspace=\"0\" border=\"0\"></a>\n",
    "        <br><br>\n",
    "        You can do a lot more with your Palm&#153; handheld when you upgrade to the Palm OS v4.1. All your \n",
    "        favorite features just got even better and there are some terrific new additions:\n",
    "        <br><br>\n",
    "        <LI> Handwrite notes and even draw pictures right on your Palm&#153 handheld</LI>\n",
    "        <LI> Tap letters with your stylus and use Graffiti&#174; at the same time with the enhanced onscreen keyboard</LI>\n",
    "        <LI> Improved Date Book functionality lets you view, snooze or clear multiple alarms all with a single tap </LI>\n",
    "        <LI> You can easily change time-zone settings</LI>\n",
    "        \n",
    "        <br><br>\n",
    "        <a href=\"http://insync-online.p04.com/u.d?WkReaQA5eczXRb=71\"><img src=\"http://images4.postdirect.com/master-images/404707/title2.gif\" alt=\"\" width=\"460\" height=\"20\" hspace=\"0\" vspace=\"0\" border=\"0\"></a>\n",
    "        <br><br>\n",
    "        <LI> <nobr>Mask/unmask</nobr> private records or hide/unhide directly within the application</LI>\n",
    "        <LI> Lock your device automatically at a designated time using the new Autolocking feature</LI>\n",
    "        <LI> Always remember your password with our new Hint feature*</LI>\n",
    "        \n",
    "        <br><br>\n",
    "        <a href=\"http://insync-online.p04.com/u.d?VEReaQA5eczXRQ=81\"><img src=\"http://images4.postdirect.com/master-images/404707/title3.gif\" alt=\"\" width=\"461\" height=\"31\" hspace=\"0\" vspace=\"0\" border=\"0\"></a>\n",
    "        <br><br>\n",
    "        <LI> Use your GSM compatible mobile phone or modem to get online and access the web</LI>\n",
    "        <LI> Stay connected with email, instant messaging and text messaging to GSM mobile phones</LI>\n",
    "        <LI> Send applications or records through your cell phone to schedule meetings and even \"beam\" \n",
    "             important information to others</LI>\n",
    "        \n",
    "        <br><br>\n",
    "        All this comes in a new operating system that can be yours for just $29.95! <a href=\"http://insync-online.p04.com/u.d?MkReaQA5eczXRV=91\">Click here to \n",
    "        upgrade to the new Palm&#153; OS v4.1</a> and you'll also get the latest Palm desktop software. Or call \n",
    "        <nobr>1-800-881-7256</nobr> to order via phone. \n",
    "        <br><br>\n",
    "        Sincerely,<br>\n",
    "        The Palm Team\n",
    "        <br><br>\n",
    "        P.S. Remember, this extended offer opportunity of 25% savings absolutely ends on November 30, 2001 \n",
    "        and is only available through the Palm Store when you use Promo Code <b><font color=\"#FF0000\">OS41WAVE</font></b>.\n",
    "        <br><br>\n",
    "        <img src=\"http://images4.postdirect.com/master-images/404707/bottom_button.gif\" align=\"right\" alt=\"\" width=\"295\" height=\"60\" hspace=\"0\" vspace=\"0\" border=\"0\">\n",
    "        <br><img src=\"http://images4.postdirect.com/master-images/404707/clear.gif\" width=\"474\" height=\"1\" hspace=\"0\" vspace=\"0\" border=\"0\" alt=\"\">\n",
    "        </font></td>\n",
    "      <td width=\"50\"><img src=\"http://images4.postdirect.com/master-images/404707/clear.gif\" width=\"50\" height=\"1\" hspace=\"0\" vspace=\"0\" border=\"0\" alt=\"\"></td>\n",
    "    </tr>\n",
    "    </table></td>\n",
    "    <td width=\"4\" bgcolor=\"#CCCCCC\"><img src=\"http://images4.postdirect.com/master-images/404707/clear.gif\" width=\"4\" height=\"1\" hspace=\"0\" vspace=\"0\" border=\"0\" alt=\"\"></td>\n",
    "  </tr>\n",
    "  <tr>\n",
    "  <td colspan=\"3\"><img src=\"http://images4.postdirect.com/master-images/404707/bottom.gif\" width=\"582\" height=\"67\" hspace=\"0\" vspace=\"0\" border=\"0\"></td>\n",
    "  </tr>\n",
    "</table>\n",
    "<table border=\"0\" cellpadding=\"0\" cellspacing=\"0\" width=\"582\">\n",
    "  <tr>\n",
    "    <td width=\"54\"><img src=\"http://images4.postdirect.com/master-images/404707/clear.gif\" width=\"54\" height=\"1\" hspace=\"0\" vspace=\"0\" border=\"0\" alt=\"\"></td>\n",
    "    <td width=\"474\"><font face=\"arial, verdana\" size=\"-2\" color=\"#000000\"><br>\n",
    "    * This feature is available on the Palm&#153; IIIx, Palm&#153; IIIxe, and Palm&#153; Vx. <br><br>\n",
    "    ** Note: To use the MIK functionality, you need either a Palm OS&#174; compatible modem or a phone \n",
    "    with  <nobr>built-in</nobr> modem or data capability that has either an infrared port or cable exits.  If you \n",
    "    are using a phone, you must have data services from your mobile service provider.  <a href=\"http://insync-online.p04.com/u.d?RkReaQA5eczXRK=101\">Click here</a> for \n",
    "    a list of tested and supported phones that you can use with the MIK. Cable not provided.\n",
    "    <br><br>\n",
    "    ------------------<br>\n",
    "    To modify your profile or unsubscribe from Palm newsletters, <a href=\"http://insync-online.p04.com/u.d?KkReaQA5eczXRE=121\">click here</a>. \n",
    "    Or, unsubscribe by replying to this message, with \"unsubscribe\" as the subject line of the message. \n",
    "    <br><br>\n",
    "    ------------------<br>\n",
    "    Copyright&#169; 2001 Palm, Inc. Palm OS, Palm Computing, HandFAX, HandSTAMP, HandWEB, Graffiti, \n",
    "    HotSync, iMessenger, MultiMail, Palm.Net, PalmConnect, PalmGlove, PalmModem, PalmPoint, PalmPrint, \n",
    "    and the Palm Platform Compatible Logo are registered trademarks of Palm, Inc. Palm, the Palm logo, \n",
    "    AnyDay, EventClub, HandMAIL, the HotSync Logo, PalmGear, PalmGlove, PalmPix, Palm Powered, the Palm \n",
    "    trade dress, PalmSource, Smartcode, and Simply Palm are trademarks of Palm, Inc. All other brands and \n",
    "    product names may be trademarks or registered trademarks of their respective owners.</font>\n",
    "    <img src=\"http://images4.postdirect.com/master-images/404707/clear.gif\" width=\"474\" height=\"1\" hspace=\"0\" vspace=\"0\" border=\"0\" alt=\"\"></td>\n",
    "    <td width=\"54\"><img src=\"http://images4.postdirect.com/master-images/404707/clear.gif\" width=\"54\" height=\"1\" hspace=\"0\" vspace=\"0\" border=\"0\" alt=\"\"></td>\n",
    "  </tr>\n",
    "</table><br><br><br><br>\n",
    "<!-- The following image is included for message detection -->\n",
    "<img src=\"http://p04.com/1x1.dyn\" border=\"0\" alt=\"\" width=\"1\" height=\"1\">\n",
    "<img src=\"http://p04.com/1x1.dyn?0vEGou8Ig30ba2L2bLn\" width=1 height=1></body>\n",
    "</html>\n",
    "\n",
    "</html>\n",
    "\"\"\"\n",
    "plain_msg_example = plain_msg_example.strip()\n",
    "html_msg_example = html_msg_example.strip()"
   ]
  },
  {
   "cell_type": "code",
   "execution_count": null,
   "metadata": {},
   "outputs": [],
   "source": [
    "def parse_html_payload(payload):\n",
    "    \"\"\"\n",
    "    This function uses Beautiful Soup to read HTML data\n",
    "    and return the text.  If the payload is plain text, then\n",
    "    Beautiful Soup will return the original content\n",
    "    \"\"\"\n",
    "    soup = BeautifulSoup(payload, 'html.parser')\n",
    "    return str(soup.get_text()).encode('utf-8').decode('utf-8')\n",
    "\n",
    "def parse_email(original_msg):\n",
    "    result = {}\n",
    "    msg = Parser(policy=default).parsestr(original_msg)\n",
    "    ## TODO: Use Python's email library to read the payload and the headers\n",
    "    ## https://docs.python.org/3/library/email.examples.html\n",
    "    tuple_result = tuple([str(result.get(column, None)) for column in columns])\n",
    "    return ParsedEmail(*tuple_result)"
   ]
  },
  {
   "cell_type": "code",
   "execution_count": null,
   "metadata": {
    "scrolled": false
   },
   "outputs": [],
   "source": [
    "parsed_msg = parse_email(plain_msg_example)"
   ]
  },
  {
   "cell_type": "code",
   "execution_count": null,
   "metadata": {},
   "outputs": [],
   "source": [
    "print(parsed_msg.text)"
   ]
  },
  {
   "cell_type": "code",
   "execution_count": null,
   "metadata": {
    "scrolled": false
   },
   "outputs": [],
   "source": [
    "parsed_html_msg = parse_email(html_msg_example)"
   ]
  },
  {
   "cell_type": "code",
   "execution_count": null,
   "metadata": {
    "scrolled": true
   },
   "outputs": [],
   "source": [
    "print(parsed_html_msg.text)"
   ]
  },
  {
   "cell_type": "markdown",
   "metadata": {},
   "source": [
    "## Assignment 4.3"
   ]
  },
  {
   "cell_type": "code",
   "execution_count": null,
   "metadata": {},
   "outputs": [],
   "source": [
    "## This creates a schema for the email data\n",
    "email_struct = StructType()\n",
    "\n",
    "for column in columns:\n",
    "    email_struct.add(column, StringType(), True)"
   ]
  },
  {
   "cell_type": "code",
   "execution_count": null,
   "metadata": {
    "scrolled": false
   },
   "outputs": [],
   "source": [
    "## This creates a user-defined function which can be used in Spark\n",
    "parse_email_func = udf(lambda z: parse_email(z), email_struct)\n",
    "\n",
    "def parse_emails(input_df):\n",
    "    new_df = input_df.select(\n",
    "        'username', 'id', 'original_msg', parse_email_func('original_msg').alias('parsed_email')\n",
    "    )\n",
    "    for column in columns:\n",
    "        new_df = new_df.withColumn(column, new_df.parsed_email[column])\n",
    "    \n",
    "    new_df = new_df.drop('parsed_email')\n",
    "    return new_df\n",
    "        \n",
    "class ParseEmailsTransformer(Transformer):\n",
    "    def _transform(self, dataset):\n",
    "        \"\"\"\n",
    "        Transforms the input dataset.\n",
    "\n",
    "        :param dataset: input dataset, which is an instance of :py:class:`pyspark.sql.DataFrame`\n",
    "        :returns: transformed dataset\n",
    "        \"\"\"\n",
    "        return dataset.transform(parse_emails)\n",
    "\n",
    "## Use the custom ParseEmailsTransformer, Tokenizer, and CountVectorizer \n",
    "## to create a spark pipeline \n",
    "email_pipeline = Pipeline(\n",
    "    ## TODO: Complete code\n",
    ")\n",
    "model = email_pipeline.fit(df)\n",
    "result = model.transform(df)"
   ]
  },
  {
   "cell_type": "code",
   "execution_count": null,
   "metadata": {},
   "outputs": [],
   "source": [
    "result.select('id', 'words', 'features').show()"
   ]
  }
 ],
 "metadata": {
  "kernelspec": {
   "display_name": "Python 3",
   "language": "python",
   "name": "python3"
  },
  "language_info": {
   "codemirror_mode": {
    "name": "ipython",
    "version": 3
   },
   "file_extension": ".py",
   "mimetype": "text/x-python",
   "name": "python",
   "nbconvert_exporter": "python",
   "pygments_lexer": "ipython3",
   "version": "3.6.10"
  }
 },
 "nbformat": 4,
 "nbformat_minor": 4
}
