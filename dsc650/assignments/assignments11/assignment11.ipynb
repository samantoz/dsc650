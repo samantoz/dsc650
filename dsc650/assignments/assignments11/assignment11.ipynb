{
 "cells": [
  {
   "cell_type": "markdown",
   "metadata": {},
   "source": [
    "#### Assignment 11\n",
    "Using section 8.1 in Deep Learning with Python as a guide, implement an LSTM text generator. Train the model on the Enron corpus or a text source of your choice. Save the model and generate 20 examples to the results directory of dsc650/assignments/assignment11/"
   ]
  },
  {
   "cell_type": "code",
   "execution_count": 1,
   "metadata": {},
   "outputs": [
    {
     "name": "stderr",
     "output_type": "stream",
     "text": [
      "Using TensorFlow backend.\n"
     ]
    }
   ],
   "source": [
    "import os\n",
    "import json\n",
    "from pathlib import Path\n",
    "\n",
    "import keras\n",
    "import numpy as np\n",
    "\n",
    "import random\n",
    "import sys"
   ]
  },
  {
   "cell_type": "code",
   "execution_count": 2,
   "metadata": {},
   "outputs": [
    {
     "name": "stdout",
     "output_type": "stream",
     "text": [
      "c:\\Users\\saman\\git_repos\\dsc650\\dsc650\\assignments\\assignments11\n",
      "c:\\Users\\saman\\git_repos\\dsc650\\dsc650\\assignments\\assignments11\\results\n",
      "c:\\Users\\saman\\git_repos\\dsc650\\dsc650\\assignments\\assignments11\\data\\corpus\n"
     ]
    }
   ],
   "source": [
    "current_dir = Path(os.getcwd()).absolute()\n",
    "results_dir = current_dir.joinpath('results')\n",
    "results_dir.mkdir(parents=True, exist_ok=True)\n",
    "data_dir = current_dir.joinpath('data')\n",
    "data_dir.mkdir(parents=True, exist_ok=True)\n",
    "corpus_data_dir = data_dir.joinpath('corpus')\n",
    "\n",
    "print(current_dir)\n",
    "print(results_dir)\n",
    "print(corpus_data_dir)"
   ]
  },
  {
   "cell_type": "code",
   "execution_count": 3,
   "metadata": {},
   "outputs": [],
   "source": [
    "# Downloading and parsing the initial text\n",
    "def download_file(tgt_filename, path_to_file):\n",
    "\tpath = keras.utils.get_file(\n",
    "\t\ttgt_filename,\n",
    "\t\torigin=path_to_file)\n",
    "\tprint('Downloaded into: ', path)\n",
    "\tcorpus = open(path,encoding = 'utf-8').read().lower()\n",
    "\treturn(corpus)"
   ]
  },
  {
   "cell_type": "code",
   "execution_count": 4,
   "metadata": {},
   "outputs": [
    {
     "name": "stdout",
     "output_type": "stream",
     "text": [
      "Downloaded into:  C:\\Users\\saman\\.keras\\datasets\\3090-0.txt\n",
      "Corpus length: 2730110\n"
     ]
    }
   ],
   "source": [
    "filename = '3090-0.txt'\n",
    "web_site = 'https://www.gutenberg.org/files/3090/3090-0.txt'\n",
    "\n",
    "# filename = 'nietzsche.txt'\n",
    "# web_site ='https://s3.amazonaws.com/text-datasets/nietzsche.txt'\n",
    "\n",
    "text = download_file(filename, web_site)\n",
    "print('Corpus length:', len(text))"
   ]
  },
  {
   "cell_type": "code",
   "execution_count": null,
   "metadata": {},
   "outputs": [],
   "source": [
    "# text = '''As a boy, the author dreamed of wonderful municipal playgrounds,\n",
    "# of organizations giving the boys opportunity to camp in the open,\n",
    "# of zoological and botanical gardens planned and adapted to the\n",
    "# understanding of youth. His busy life as a civil engineer, surveyor,\n",
    "# and work in the open gave him no opportunity to develop his dreams, but\n",
    "# at the end of a five year tour of the United States and Canada, made\n",
    "# over fifty years ago, he drifted into New York City and was shocked\n",
    "# beyond expression by the almost total lack of breathing spaces for our\n",
    "# boys, in the greatest of American cities. True, it then had Central\n",
    "# Park; but fifty years ago Central Park was out among the goats, only to\n",
    "# be reached by a long and tiresome horse car journey.'''"
   ]
  },
  {
   "cell_type": "code",
   "execution_count": 5,
   "metadata": {},
   "outputs": [
    {
     "name": "stdout",
     "output_type": "stream",
     "text": [
      "Number of sequences: 910017\n"
     ]
    }
   ],
   "source": [
    "# Vectorizing sequences of characters\n",
    "\n",
    "maxlen = 60 # extract sequences of 60 characters\n",
    "step = 3 # sample a new sequence every 3 characters\n",
    "sentences = [] # holds the extracted sequences\n",
    "next_chars = [] # holds the targets (in this case the next character)\n",
    "for i in range(0, len(text) - maxlen, step):\n",
    "\tsentences.append(text[i: i + maxlen])\n",
    "\tnext_chars.append(text[i + maxlen])\n",
    "print('Number of sequences:', len(sentences) )"
   ]
  },
  {
   "cell_type": "code",
   "execution_count": null,
   "metadata": {},
   "outputs": [],
   "source": [
    "sentences[:10]"
   ]
  },
  {
   "cell_type": "code",
   "execution_count": null,
   "metadata": {},
   "outputs": [],
   "source": [
    "next_chars[:10]"
   ]
  },
  {
   "cell_type": "code",
   "execution_count": 6,
   "metadata": {},
   "outputs": [
    {
     "name": "stdout",
     "output_type": "stream",
     "text": [
      "Unique characters: 60\n"
     ]
    }
   ],
   "source": [
    "# list of unique characters in the corpus\n",
    "chars = sorted(list(set(text)))\n",
    "print('Unique characters:', len(chars))\n",
    "# Dictionary that maps unique characters to their index in the list \"chars\"\n",
    "char_indices = dict((char, chars.index(char)) for char in chars)"
   ]
  },
  {
   "cell_type": "code",
   "execution_count": null,
   "metadata": {},
   "outputs": [],
   "source": [
    "'  '.join(chars)"
   ]
  },
  {
   "cell_type": "code",
   "execution_count": null,
   "metadata": {},
   "outputs": [],
   "source": [
    "char_indices"
   ]
  },
  {
   "cell_type": "code",
   "execution_count": 7,
   "metadata": {},
   "outputs": [],
   "source": [
    "# One-hot encodes the characters into binary arrays\n",
    "\n",
    "x = np.zeros((len(sentences), maxlen, len(chars)), dtype=np.bool)\n",
    "y = np.zeros((len(sentences), len(chars)), dtype=np.bool)\n",
    "for i, sentence in enumerate(sentences):\n",
    "\tfor t, char in enumerate(sentence):\n",
    "\t\tx[i, t, char_indices[char]] = 1\n",
    "\ty[i, char_indices[next_chars[i]]] = 1\n"
   ]
  },
  {
   "cell_type": "code",
   "execution_count": 8,
   "metadata": {},
   "outputs": [
    {
     "name": "stdout",
     "output_type": "stream",
     "text": [
      "shape of input (910017, 60, 60)\n",
      "shape of target (910017, 60)\n"
     ]
    }
   ],
   "source": [
    "print('shape of input', x.shape)\n",
    "print('shape of target', y.shape)"
   ]
  },
  {
   "cell_type": "code",
   "execution_count": 9,
   "metadata": {},
   "outputs": [
    {
     "name": "stdout",
     "output_type": "stream",
     "text": [
      "Model: \"sequential_1\"\n",
      "_________________________________________________________________\n",
      "Layer (type)                 Output Shape              Param #   \n",
      "=================================================================\n",
      "lstm_1 (LSTM)                (None, 128)               96768     \n",
      "_________________________________________________________________\n",
      "dense_1 (Dense)              (None, 60)                7740      \n",
      "=================================================================\n",
      "Total params: 104,508\n",
      "Trainable params: 104,508\n",
      "Non-trainable params: 0\n",
      "_________________________________________________________________\n"
     ]
    }
   ],
   "source": [
    "# Single layer LSTM model for next-character prediction\n",
    "# Tis network is a single LSTM layer followed by a Dense classifier and softmax over all possible characters\n",
    "from keras import layers\n",
    "\n",
    "model = keras.models.Sequential()\n",
    "model.add(layers.LSTM(128, input_shape=(maxlen, len(chars))))\n",
    "model.add(layers.Dense(len(chars), activation = 'softmax'))\n",
    "model.summary()"
   ]
  },
  {
   "cell_type": "code",
   "execution_count": 10,
   "metadata": {},
   "outputs": [
    {
     "name": "stdout",
     "output_type": "stream",
     "text": [
      "Epoch 1/1\n",
      "910017/910017 [==============================] - 1196s 1ms/step - loss: 1.6822\n"
     ]
    }
   ],
   "source": [
    "# Model compilation configuration\n",
    "optimizer = keras.optimizers.RMSprop(lr=0.01)\n",
    "model.compile(loss='categorical_crossentropy', optimizer=optimizer)\n",
    "# fits the model for one iteration on the data\n",
    "model.fit(x, y, batch_size=128, epochs=1)\n",
    "#saving the model\n",
    "model.save_weights('LSTM_3090-0.h5')"
   ]
  },
  {
   "cell_type": "code",
   "execution_count": 11,
   "metadata": {},
   "outputs": [],
   "source": [
    "# Function to sample the next character given the model's prediction\n",
    "\n",
    "def sample(preds, temperature):\n",
    "\tpreds = np.asarray(preds).astype('float64')\n",
    "\tpreds = np.log(preds) / temperature\n",
    "\texp_preds = np.exp(preds)\n",
    "\tpreds = exp_preds / np.sum(exp_preds)\n",
    "\tprobas = np.random.multinomial(1, preds, 1)\n",
    "\treturn np.argmax(probas)"
   ]
  },
  {
   "cell_type": "code",
   "execution_count": 12,
   "metadata": {},
   "outputs": [
    {
     "name": "stdout",
     "output_type": "stream",
     "text": [
      "epoch 1\n",
      "--- Generating with seed: \"upply of sap.\n",
      "\n",
      "one morning on waking i saw from my window th\"\n",
      "------ temperature: 0.2\n",
      "------ temperature: 0.5\n",
      "------ temperature: 1.0\n",
      "------ temperature: 1.2\n",
      "epoch 2\n",
      "--- Generating with seed: \", indeed. how is it you do not know these things?”\n",
      "\n",
      "\n",
      "\n",
      "\n",
      "\n",
      "the \"\n",
      "------ temperature: 0.2\n",
      "------ temperature: 0.5\n",
      "------ temperature: 1.0\n",
      "------ temperature: 1.2\n",
      "epoch 3\n",
      "--- Generating with seed: \"again appeared. as soon as he\n",
      "entered the house he looked ro\"\n",
      "------ temperature: 0.2\n",
      "------ temperature: 0.5\n",
      "------ temperature: 1.0\n",
      "------ temperature: 1.2\n",
      "epoch 4\n",
      "--- Generating with seed: \"ied to draw her toward me. she resisted, caught hold of the \"\n",
      "------ temperature: 0.2\n",
      "------ temperature: 0.5\n",
      "------ temperature: 1.0\n",
      "------ temperature: 1.2\n",
      "epoch 5\n",
      "--- Generating with seed: \"though his brother-in-law had taken possession of his portio\"\n",
      "------ temperature: 0.2\n",
      "------ temperature: 0.5\n",
      "------ temperature: 1.0\n",
      "------ temperature: 1.2\n",
      "epoch 6\n",
      "--- Generating with seed: \"ithout her for the rest of their life. one knows\n",
      "that one ha\"\n",
      "------ temperature: 0.2\n",
      "------ temperature: 0.5\n",
      "------ temperature: 1.0\n",
      "------ temperature: 1.2\n",
      "epoch 7\n",
      "--- Generating with seed: \"appiness\n",
      "they might have had together! she saw him again in \"\n",
      "------ temperature: 0.2\n",
      "------ temperature: 0.5\n",
      "------ temperature: 1.0\n",
      "------ temperature: 1.2\n",
      "epoch 8\n",
      "--- Generating with seed: \"r had been gone an hour and a half. he must have reached the\"\n",
      "------ temperature: 0.2\n",
      "------ temperature: 0.5\n",
      "------ temperature: 1.0\n",
      "------ temperature: 1.2\n",
      "epoch 9\n",
      "--- Generating with seed: \"e fishermen woke up with a start, crying out that his\n",
      "father\"\n",
      "------ temperature: 0.2\n",
      "------ temperature: 0.5\n",
      "------ temperature: 1.0\n",
      "------ temperature: 1.2\n",
      "epoch 10\n",
      "--- Generating with seed: \" face that he thought of it\n",
      "even while at sea, when throwing\"\n",
      "------ temperature: 0.2\n",
      "------ temperature: 0.5\n",
      "------ temperature: 1.0\n",
      "------ temperature: 1.2\n",
      "epoch 11\n",
      "--- Generating with seed: \"ejected. nothing was\n",
      "left for him but the imperial pardon. i\"\n",
      "------ temperature: 0.2\n",
      "------ temperature: 0.5\n",
      "------ temperature: 1.0\n",
      "------ temperature: 1.2\n",
      "epoch 12\n",
      "--- Generating with seed: \"look a little\n",
      "vulgar. her regular features had none of the g\"\n",
      "------ temperature: 0.2\n",
      "------ temperature: 0.5\n",
      "------ temperature: 1.0\n",
      "------ temperature: 1.2\n",
      "epoch 13\n",
      "--- Generating with seed: \"ared in the\n",
      "direction of the abbey. for a long time they sti\"\n",
      "------ temperature: 0.2\n",
      "------ temperature: 0.5\n",
      "------ temperature: 1.0\n",
      "------ temperature: 1.2\n",
      "epoch 14\n",
      "--- Generating with seed: \"any money paid for a work or a replacement copy, if a defect\"\n",
      "------ temperature: 0.2\n",
      "------ temperature: 0.5\n",
      "------ temperature: 1.0\n",
      "------ temperature: 1.2\n",
      "epoch 15\n",
      "--- Generating with seed: \"e lifted him up and pushed\n",
      "him against the window, as if to \"\n",
      "------ temperature: 0.2\n",
      "------ temperature: 0.5\n",
      "------ temperature: 1.0\n",
      "------ temperature: 1.2\n",
      "epoch 16\n",
      "--- Generating with seed: \"ng would be\n",
      "worth these tears of his master? they, speak lou\"\n",
      "------ temperature: 0.2\n",
      "------ temperature: 0.5\n",
      "------ temperature: 1.0\n",
      "------ temperature: 1.2\n",
      "epoch 17\n",
      "--- Generating with seed: \" seen her before and as if i had known her a\n",
      "long time. she \"\n",
      "------ temperature: 0.2\n",
      "------ temperature: 0.5\n",
      "------ temperature: 1.0\n",
      "------ temperature: 1.2\n",
      "epoch 18\n",
      "--- Generating with seed: \"ound\n",
      "him. he jumped and landed on his feet, like a cat.\n",
      "\n",
      "“it\"\n",
      "------ temperature: 0.2\n",
      "------ temperature: 0.5\n",
      "------ temperature: 1.0\n",
      "------ temperature: 1.2\n",
      "epoch 19\n",
      "--- Generating with seed: \" a man who has been\n",
      "dishonored, kills. i have been robbed, d\"\n",
      "------ temperature: 0.2\n",
      "------ temperature: 0.5\n",
      "------ temperature: 1.0\n",
      "------ temperature: 1.2\n"
     ]
    }
   ],
   "source": [
    "# Text Generation loop\n",
    "# Trains the model for n epochs\n",
    "for epoch in range(1, 20):\n",
    "\tprint('epoch', epoch)\n",
    "\twith open(f'{results_dir}\\\\file_{epoch}.txt', 'w') as wf:\n",
    "\t\t# fits the model for one iteration on the data\n",
    "\t    # model.fit(x, y, batch_size=128, epochs=1)\n",
    "\t\t\t\t\n",
    "\t\tstart_index = random.randint(0, len(text) - maxlen - 1)\n",
    "\t\tgenerated_text = text[start_index: start_index + maxlen]\n",
    "\t\tprint('--- Generating with seed: \"' + generated_text + '\"')\n",
    "\n",
    "\t\twf.write(f'--- Generating with seed: {generated_text}')\n",
    "\t\tfor temperature in [0.2, 0.5, 1.0, 1.2]:\n",
    "\t\t\tprint('------ temperature:', temperature)\n",
    "\t\t\twf.write(f'\\n ------ temperature: {temperature} \\n')\n",
    "\t\t\t# sys.stdout.write(generated_text)\n",
    "\t\t\t# We generate 400 caracters\n",
    "\n",
    "\t\t\tfor i in range(400):\n",
    "\t\t\t\tsampled = np.zeros((1, maxlen, len(chars)))\n",
    "\t\t\t\tfor t, char in enumerate(generated_text):\n",
    "\t\t\t\t\tsampled[0, t, char_indices[char]] = 1\n",
    "\t\t\t\t# Load and predict using the model on the sampled text\n",
    "\t\t\t\tmodel.load_weights('LSTM_3090-0.h5')\n",
    "\t\t\t\tpreds = model.predict(sampled, verbose=0)[0]\n",
    "\t\t\t\tnext_index = sample(preds, temperature)\n",
    "\t\t\t\tnext_char = chars[next_index]\n",
    "\n",
    "\t\t\t\tgenerated_text += next_char\n",
    "\t\t\t\tgenerated_text = generated_text[1:]\n",
    "\n",
    "\t\t\t\t# sys.stdout.write(next_char)\n",
    "\t\t\t\twf.write(f'{next_char}')\n",
    "\t\t\t\tsys.stdout.flush()\n",
    "\t\t\t#print()"
   ]
  },
  {
   "cell_type": "code",
   "execution_count": null,
   "metadata": {},
   "outputs": [],
   "source": []
  }
 ],
 "metadata": {
  "interpreter": {
   "hash": "d2398cd6c937708e42b80c0dce25ca405d0c6827c5ebcbcac9817d73cd0bc02f"
  },
  "kernelspec": {
   "display_name": "Python 3.6.10 64-bit ('dsc650': conda)",
   "language": "python",
   "name": "python3"
  },
  "language_info": {
   "codemirror_mode": {
    "name": "ipython",
    "version": 3
   },
   "file_extension": ".py",
   "mimetype": "text/x-python",
   "name": "python",
   "nbconvert_exporter": "python",
   "pygments_lexer": "ipython3",
   "version": "3.6.10"
  },
  "orig_nbformat": 4
 },
 "nbformat": 4,
 "nbformat_minor": 2
}
