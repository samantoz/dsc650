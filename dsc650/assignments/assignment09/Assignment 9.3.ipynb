{
 "cells": [
  {
   "cell_type": "markdown",
   "metadata": {},
   "source": [
    "## Assignment 9.3"
   ]
  },
  {
   "cell_type": "code",
   "execution_count": 1,
   "metadata": {},
   "outputs": [],
   "source": [
    "import os\n",
    "import shutil\n",
    "import json\n",
    "from pathlib import Path\n",
    "\n",
    "import pandas as pd\n",
    "\n",
    "from kafka import KafkaProducer, KafkaAdminClient\n",
    "from kafka.admin.new_topic import NewTopic\n",
    "from kafka.errors import TopicAlreadyExistsError\n",
    "\n",
    "from pyspark.sql import SparkSession\n",
    "from pyspark.streaming import StreamingContext\n",
    "from pyspark import SparkConf\n",
    "from pyspark.sql.functions import window, from_json, col, expr, to_json, struct, when\n",
    "from pyspark.sql.types import StringType, TimestampType, DoubleType, StructField, StructType\n",
    "from pyspark.sql.functions import udf\n",
    "\n",
    "current_dir = Path(os.getcwd()).absolute()\n",
    "checkpoint_dir = current_dir.joinpath('checkpoints')\n",
    "joined_checkpoint_dir = checkpoint_dir.joinpath('joined')\n",
    "\n",
    "if joined_checkpoint_dir.exists():\n",
    "    shutil.rmtree(joined_checkpoint_dir)\n",
    "\n",
    "joined_checkpoint_dir.mkdir(parents=True, exist_ok=True)"
   ]
  },
  {
   "cell_type": "markdown",
   "metadata": {},
   "source": [
    "### Configuration Parameters \n",
    "\n",
    "> **TODO:** Change the configuration prameters to the appropriate values for your setup."
   ]
  },
  {
   "cell_type": "code",
   "execution_count": 2,
   "metadata": {},
   "outputs": [
    {
     "data": {
      "text/plain": [
       "{'bootstrap_servers': ['kafka.kafka.svc.cluster.local:9092'],\n",
       " 'first_name': 'Arindam',\n",
       " 'last_name': 'Samanta',\n",
       " 'client_id': 'SamantaArindam',\n",
       " 'topic_prefix': 'SamantaArindam',\n",
       " 'locations_topic': 'SamantaArindam-locations',\n",
       " 'accelerations_topic': 'SamantaArindam-accelerations',\n",
       " 'joined_topic': 'SamantaArindam-joined'}"
      ]
     },
     "execution_count": 2,
     "metadata": {},
     "output_type": "execute_result"
    }
   ],
   "source": [
    "config = dict(\n",
    "    bootstrap_servers=['kafka.kafka.svc.cluster.local:9092'],\n",
    "    first_name='Arindam',\n",
    "    last_name='Samanta'\n",
    ")\n",
    "\n",
    "config['client_id'] = '{}{}'.format(\n",
    "    config['last_name'], \n",
    "    config['first_name']\n",
    ")\n",
    "config['topic_prefix'] = '{}{}'.format(\n",
    "    config['last_name'], \n",
    "    config['first_name']\n",
    ")\n",
    "\n",
    "config['locations_topic'] = '{}-locations'.format(config['topic_prefix'])\n",
    "config['accelerations_topic'] = '{}-accelerations'.format(config['topic_prefix'])\n",
    "config['joined_topic'] = '{}-joined'.format(config['topic_prefix'])\n",
    "\n",
    "config"
   ]
  },
  {
   "cell_type": "markdown",
   "metadata": {},
   "source": [
    "### Create Topic Utility Function\n",
    "\n",
    "The `create_kafka_topic` helps create a Kafka topic based on your configuration settings.  For instance, if your first name is *John* and your last name is *Doe*, `create_kafka_topic('locations')` will create a topic with the name `DoeJohn-locations`.  The function will not create the topic if it already exists. "
   ]
  },
  {
   "cell_type": "code",
   "execution_count": 3,
   "metadata": {},
   "outputs": [
    {
     "name": "stdout",
     "output_type": "stream",
     "text": [
      "Topic \"SamantaArindam-joined\" already exists\n"
     ]
    }
   ],
   "source": [
    "def create_kafka_topic(topic_name, config=config, num_partitions=1, replication_factor=1):\n",
    "    bootstrap_servers = config['bootstrap_servers']\n",
    "    client_id = config['client_id']\n",
    "    topic_prefix = config['topic_prefix']\n",
    "    name = '{}-{}'.format(topic_prefix, topic_name)\n",
    "    \n",
    "    admin_client = KafkaAdminClient(\n",
    "        bootstrap_servers=bootstrap_servers, \n",
    "        client_id=client_id\n",
    "    )\n",
    "    \n",
    "    topic = NewTopic(\n",
    "        name=name,\n",
    "        num_partitions=num_partitions,\n",
    "        replication_factor=replication_factor\n",
    "    )\n",
    "\n",
    "    topic_list = [topic]\n",
    "    try:\n",
    "        admin_client.create_topics(new_topics=topic_list)\n",
    "        print('Created topic \"{}\"'.format(name))\n",
    "    except TopicAlreadyExistsError as e:\n",
    "        print('Topic \"{}\" already exists'.format(name))\n",
    "\n",
    "create_kafka_topic('joined')"
   ]
  },
  {
   "cell_type": "markdown",
   "metadata": {},
   "source": [
    "**TODO:** This code is identical to the code used in 9.1 to publish acceleration and location data to the `LastnameFirstname-simple` topic. You will need to add in the code you used to create the `df_accelerations` dataframe. In order to read data from this topic, make sure that you are running the notebook you created in assignment 8 that publishes acceleration and location data to the LastnameFirstname-simple topic."
   ]
  },
  {
   "cell_type": "code",
   "execution_count": 4,
   "metadata": {},
   "outputs": [],
   "source": [
    "spark = SparkSession\\\n",
    "    .builder\\\n",
    "    .appName(\"Assignment09\")\\\n",
    "    .getOrCreate()\n",
    "\n",
    "df_locations = spark \\\n",
    "  .readStream \\\n",
    "  .format(\"kafka\") \\\n",
    "  .option(\"kafka.bootstrap.servers\", \"kafka.kafka.svc.cluster.local:9092\") \\\n",
    "  .option(\"subscribe\", config['locations_topic']) \\\n",
    "  .load()\n",
    "\n",
    "## TODO: Add code to create the df_accelerations dataframe\n",
    "df_accelerations = spark \\\n",
    "  .readStream \\\n",
    "  .format(\"kafka\") \\\n",
    "  .option(\"kafka.bootstrap.servers\", \"kafka.kafka.svc.cluster.local:9092\") \\\n",
    "  .option(\"subscribe\", config['accelerations_topic']) \\\n",
    "  .load()"
   ]
  },
  {
   "cell_type": "markdown",
   "metadata": {},
   "source": [
    "The following code defines a Spark schema for location and acceleration data as well as a user-defined function (UDF) for parsing the location and acceleration JSON data. "
   ]
  },
  {
   "cell_type": "code",
   "execution_count": 5,
   "metadata": {},
   "outputs": [],
   "source": [
    "location_schema = StructType([\n",
    "    StructField('offset', DoubleType(), nullable=True),\n",
    "    StructField('id', StringType(), nullable=True),\n",
    "    StructField('ride_id', StringType(), nullable=True),\n",
    "    StructField('uuid', StringType(), nullable=True),\n",
    "    StructField('course', DoubleType(), nullable=True),\n",
    "    StructField('latitude', DoubleType(), nullable=True),\n",
    "    StructField('longitude', DoubleType(), nullable=True),\n",
    "    StructField('geohash', StringType(), nullable=True),\n",
    "    StructField('speed', DoubleType(), nullable=True),\n",
    "    StructField('accuracy', DoubleType(), nullable=True),\n",
    "])\n",
    "\n",
    "acceleration_schema = StructType([\n",
    "    StructField('offset', DoubleType(), nullable=True),\n",
    "    StructField('id', StringType(), nullable=True),\n",
    "    StructField('ride_id', StringType(), nullable=True),\n",
    "    StructField('uuid', StringType(), nullable=True),\n",
    "    StructField('x', DoubleType(), nullable=True),\n",
    "    StructField('y', DoubleType(), nullable=True),\n",
    "    StructField('z', DoubleType(), nullable=True),\n",
    "])\n",
    "\n",
    "udf_parse_acceleration = udf(lambda x: json.loads(x.decode('utf-8')), acceleration_schema)\n",
    "udf_parse_location = udf(lambda x: json.loads(x.decode('utf-8')), location_schema)"
   ]
  },
  {
   "cell_type": "markdown",
   "metadata": {},
   "source": [
    "**TODO:**  \n",
    "\n",
    "* Complete the code to create the `accelerationsWithWatermark` dataframe. \n",
    "  * Select the `timestamp` field with the alias `acceleration_timestamp`\n",
    "  * Use the `udf_parse_acceleration` UDF to parse the JSON values\n",
    "  * Select the `ride_id` as `acceleration_ride_id`\n",
    "  * Select the `x`, `y`, and `z` columns\n",
    "  * Use the same watermark timespan used in the `locationsWithWatermark` dataframe"
   ]
  },
  {
   "cell_type": "code",
   "execution_count": 6,
   "metadata": {},
   "outputs": [
    {
     "ename": "AnalysisException",
     "evalue": "cannot resolve '`location_timestamp`' given input columns: [acceleration_ride_id, acceleration_timestamp, x, y, z];;\n'EventTimeWatermark 'location_timestamp, 2 seconds\n+- Project [acceleration_timestamp#66, json_value#68.ride_id AS acceleration_ride_id#71, json_value#68.x AS x#72, json_value#68.y AS y#73, json_value#68.z AS z#74]\n   +- Project [timestamp#33 AS acceleration_timestamp#66, <lambda>(value#29) AS json_value#68]\n      +- StreamingRelationV2 org.apache.spark.sql.kafka010.KafkaSourceProvider@3fe07403, kafka, org.apache.spark.sql.kafka010.KafkaSourceProvider$KafkaTable@34afae78, org.apache.spark.sql.util.CaseInsensitiveStringMap@6af95ba5, [key#28, value#29, topic#30, partition#31, offset#32L, timestamp#33, timestampType#34], StreamingRelation DataSource(org.apache.spark.sql.SparkSession@2e135f13,kafka,List(),None,List(),None,Map(subscribe -> SamantaArindam-accelerations, kafka.bootstrap.servers -> kafka.kafka.svc.cluster.local:9092),None), kafka, [key#21, value#22, topic#23, partition#24, offset#25L, timestamp#26, timestampType#27]\n",
     "output_type": "error",
     "traceback": [
      "\u001b[0;31m---------------------------------------------------------------------------\u001b[0m",
      "\u001b[0;31mAnalysisException\u001b[0m                         Traceback (most recent call last)",
      "\u001b[0;32m<ipython-input-6-20f0100b02d2>\u001b[0m in \u001b[0;36m<module>\u001b[0;34m\u001b[0m\n\u001b[1;32m     15\u001b[0m  \u001b[0;34m.\u001b[0m\u001b[0mwithWatermark\u001b[0m\u001b[0;34m(\u001b[0m\u001b[0;34m'location_timestamp'\u001b[0m\u001b[0;34m,\u001b[0m \u001b[0;34m\"2 seconds\"\u001b[0m\u001b[0;34m)\u001b[0m\u001b[0;34m\u001b[0m\u001b[0;34m\u001b[0m\u001b[0m\n\u001b[1;32m     16\u001b[0m \u001b[0;34m\u001b[0m\u001b[0m\n\u001b[0;32m---> 17\u001b[0;31m \u001b[0maccelerationsWithWatermark\u001b[0m \u001b[0;34m=\u001b[0m \u001b[0mdf_accelerations\u001b[0m\u001b[0;31m \u001b[0m\u001b[0;31m\\\u001b[0m\u001b[0;34m\u001b[0m\u001b[0;34m\u001b[0m\u001b[0m\n\u001b[0m\u001b[1;32m     18\u001b[0m   .select(\n\u001b[1;32m     19\u001b[0m     \u001b[0mcol\u001b[0m\u001b[0;34m(\u001b[0m\u001b[0;34m'timestamp'\u001b[0m\u001b[0;34m)\u001b[0m\u001b[0;34m.\u001b[0m\u001b[0malias\u001b[0m\u001b[0;34m(\u001b[0m\u001b[0;34m'acceleration_timestamp'\u001b[0m\u001b[0;34m)\u001b[0m\u001b[0;34m,\u001b[0m\u001b[0;34m\u001b[0m\u001b[0;34m\u001b[0m\u001b[0m\n",
      "\u001b[0;32m/usr/local/spark/python/pyspark/sql/dataframe.py\u001b[0m in \u001b[0;36mwithWatermark\u001b[0;34m(self, eventTime, delayThreshold)\u001b[0m\n\u001b[1;32m    542\u001b[0m         \u001b[0;32mif\u001b[0m \u001b[0;32mnot\u001b[0m \u001b[0mdelayThreshold\u001b[0m \u001b[0;32mor\u001b[0m \u001b[0mtype\u001b[0m\u001b[0;34m(\u001b[0m\u001b[0mdelayThreshold\u001b[0m\u001b[0;34m)\u001b[0m \u001b[0;32mis\u001b[0m \u001b[0;32mnot\u001b[0m \u001b[0mstr\u001b[0m\u001b[0;34m:\u001b[0m\u001b[0;34m\u001b[0m\u001b[0;34m\u001b[0m\u001b[0m\n\u001b[1;32m    543\u001b[0m             \u001b[0;32mraise\u001b[0m \u001b[0mTypeError\u001b[0m\u001b[0;34m(\u001b[0m\u001b[0;34m\"delayThreshold should be provided as a string interval\"\u001b[0m\u001b[0;34m)\u001b[0m\u001b[0;34m\u001b[0m\u001b[0;34m\u001b[0m\u001b[0m\n\u001b[0;32m--> 544\u001b[0;31m         \u001b[0mjdf\u001b[0m \u001b[0;34m=\u001b[0m \u001b[0mself\u001b[0m\u001b[0;34m.\u001b[0m\u001b[0m_jdf\u001b[0m\u001b[0;34m.\u001b[0m\u001b[0mwithWatermark\u001b[0m\u001b[0;34m(\u001b[0m\u001b[0meventTime\u001b[0m\u001b[0;34m,\u001b[0m \u001b[0mdelayThreshold\u001b[0m\u001b[0;34m)\u001b[0m\u001b[0;34m\u001b[0m\u001b[0;34m\u001b[0m\u001b[0m\n\u001b[0m\u001b[1;32m    545\u001b[0m         \u001b[0;32mreturn\u001b[0m \u001b[0mDataFrame\u001b[0m\u001b[0;34m(\u001b[0m\u001b[0mjdf\u001b[0m\u001b[0;34m,\u001b[0m \u001b[0mself\u001b[0m\u001b[0;34m.\u001b[0m\u001b[0msql_ctx\u001b[0m\u001b[0;34m)\u001b[0m\u001b[0;34m\u001b[0m\u001b[0;34m\u001b[0m\u001b[0m\n\u001b[1;32m    546\u001b[0m \u001b[0;34m\u001b[0m\u001b[0m\n",
      "\u001b[0;32m/usr/local/spark/python/lib/py4j-0.10.9-src.zip/py4j/java_gateway.py\u001b[0m in \u001b[0;36m__call__\u001b[0;34m(self, *args)\u001b[0m\n\u001b[1;32m   1302\u001b[0m \u001b[0;34m\u001b[0m\u001b[0m\n\u001b[1;32m   1303\u001b[0m         \u001b[0manswer\u001b[0m \u001b[0;34m=\u001b[0m \u001b[0mself\u001b[0m\u001b[0;34m.\u001b[0m\u001b[0mgateway_client\u001b[0m\u001b[0;34m.\u001b[0m\u001b[0msend_command\u001b[0m\u001b[0;34m(\u001b[0m\u001b[0mcommand\u001b[0m\u001b[0;34m)\u001b[0m\u001b[0;34m\u001b[0m\u001b[0;34m\u001b[0m\u001b[0m\n\u001b[0;32m-> 1304\u001b[0;31m         return_value = get_return_value(\n\u001b[0m\u001b[1;32m   1305\u001b[0m             answer, self.gateway_client, self.target_id, self.name)\n\u001b[1;32m   1306\u001b[0m \u001b[0;34m\u001b[0m\u001b[0m\n",
      "\u001b[0;32m/usr/local/spark/python/pyspark/sql/utils.py\u001b[0m in \u001b[0;36mdeco\u001b[0;34m(*a, **kw)\u001b[0m\n\u001b[1;32m    135\u001b[0m                 \u001b[0;31m# Hide where the exception came from that shows a non-Pythonic\u001b[0m\u001b[0;34m\u001b[0m\u001b[0;34m\u001b[0m\u001b[0;34m\u001b[0m\u001b[0m\n\u001b[1;32m    136\u001b[0m                 \u001b[0;31m# JVM exception message.\u001b[0m\u001b[0;34m\u001b[0m\u001b[0;34m\u001b[0m\u001b[0;34m\u001b[0m\u001b[0m\n\u001b[0;32m--> 137\u001b[0;31m                 \u001b[0mraise_from\u001b[0m\u001b[0;34m(\u001b[0m\u001b[0mconverted\u001b[0m\u001b[0;34m)\u001b[0m\u001b[0;34m\u001b[0m\u001b[0;34m\u001b[0m\u001b[0m\n\u001b[0m\u001b[1;32m    138\u001b[0m             \u001b[0;32melse\u001b[0m\u001b[0;34m:\u001b[0m\u001b[0;34m\u001b[0m\u001b[0;34m\u001b[0m\u001b[0m\n\u001b[1;32m    139\u001b[0m                 \u001b[0;32mraise\u001b[0m\u001b[0;34m\u001b[0m\u001b[0;34m\u001b[0m\u001b[0m\n",
      "\u001b[0;32m/usr/local/spark/python/pyspark/sql/utils.py\u001b[0m in \u001b[0;36mraise_from\u001b[0;34m(e)\u001b[0m\n",
      "\u001b[0;31mAnalysisException\u001b[0m: cannot resolve '`location_timestamp`' given input columns: [acceleration_ride_id, acceleration_timestamp, x, y, z];;\n'EventTimeWatermark 'location_timestamp, 2 seconds\n+- Project [acceleration_timestamp#66, json_value#68.ride_id AS acceleration_ride_id#71, json_value#68.x AS x#72, json_value#68.y AS y#73, json_value#68.z AS z#74]\n   +- Project [timestamp#33 AS acceleration_timestamp#66, <lambda>(value#29) AS json_value#68]\n      +- StreamingRelationV2 org.apache.spark.sql.kafka010.KafkaSourceProvider@3fe07403, kafka, org.apache.spark.sql.kafka010.KafkaSourceProvider$KafkaTable@34afae78, org.apache.spark.sql.util.CaseInsensitiveStringMap@6af95ba5, [key#28, value#29, topic#30, partition#31, offset#32L, timestamp#33, timestampType#34], StreamingRelation DataSource(org.apache.spark.sql.SparkSession@2e135f13,kafka,List(),None,List(),None,Map(subscribe -> SamantaArindam-accelerations, kafka.bootstrap.servers -> kafka.kafka.svc.cluster.local:9092),None), kafka, [key#21, value#22, topic#23, partition#24, offset#25L, timestamp#26, timestampType#27]\n"
     ]
    }
   ],
   "source": [
    "locationsWithWatermark = df_locations \\\n",
    "  .select(\n",
    "    col('timestamp').alias('location_timestamp'), \n",
    "    udf_parse_location(df_locations['value']).alias('json_value')\n",
    "   ) \\\n",
    "  .select(\n",
    "    col('location_timestamp'), \n",
    "    col('json_value.ride_id').alias('location_ride_id'),\n",
    "    col('json_value.speed').alias('speed'),\n",
    "    col('json_value.latitude').alias('latitude'),\n",
    "    col('json_value.longitude').alias('longitude'),\n",
    "    col('json_value.geohash').alias('geohash'),\n",
    "    col('json_value.accuracy').alias('accuracy')\n",
    "  ) \\\n",
    " .withWatermark('location_timestamp', \"2 seconds\")\n",
    "\n",
    "accelerationsWithWatermark = df_accelerations \\\n",
    "  .select(\n",
    "    col('timestamp').alias('acceleration_timestamp'), \n",
    "    udf_parse_acceleration(df_accelerations['value']).alias('json_value')\n",
    "   ) \\\n",
    "  .select(\n",
    "    col('acceleration_timestamp'), \n",
    "    col('json_value.ride_id').alias('acceleration_ride_id'),\n",
    "    col('json_value.x').alias('x'),\n",
    "    col('json_value.y').alias('y'),\n",
    "    col('json_value.z').alias('z')\n",
    "  ) \\\n",
    " .withWatermark('location_timestamp', \"2 seconds\")"
   ]
  },
  {
   "cell_type": "markdown",
   "metadata": {},
   "source": [
    "**TODO:**  \n",
    "\n",
    "* Complete the code to create the `df_joined` dataframe. See http://spark.apache.org/docs/latest/structured-streaming-programming-guide.html#stream-stream-joins for additional information. "
   ]
  },
  {
   "cell_type": "code",
   "execution_count": null,
   "metadata": {},
   "outputs": [],
   "source": [
    "df_joined = ''\n",
    "df_joined"
   ]
  },
  {
   "cell_type": "markdown",
   "metadata": {},
   "source": [
    "If you correctly created the `df_joined` dataframe, you should be able to use the following code to create a streaming query that outputs results to the `LastnameFirstname-joined` topic. "
   ]
  },
  {
   "cell_type": "code",
   "execution_count": null,
   "metadata": {},
   "outputs": [],
   "source": [
    "ds_joined = df_joined \\\n",
    "  .withColumn(\n",
    "    'value', \n",
    "    to_json(\n",
    "        struct(\n",
    "            'ride_id', 'location_timestamp', 'speed', \n",
    "            'latitude', 'longitude', 'geohash', 'accuracy', \n",
    "            'acceleration_timestamp', 'x', 'y', 'z'\n",
    "        )\n",
    "    )\n",
    "    ).withColumn(\n",
    "     'key', col('ride_id')\n",
    "    ) \\\n",
    "  .selectExpr(\"CAST(key AS STRING)\", \"CAST(value AS STRING)\") \\\n",
    "  .writeStream \\\n",
    "  .format(\"kafka\") \\\n",
    "  .option(\"kafka.bootstrap.servers\", \"kafka.kafka.svc.cluster.local:9092\") \\\n",
    "  .option(\"topic\", config['joined_topic']) \\\n",
    "  .option(\"checkpointLocation\", str(joined_checkpoint_dir)) \\\n",
    "  .start()\n",
    "\n",
    "try:\n",
    "    ds_joined.awaitTermination()\n",
    "except KeyboardInterrupt:\n",
    "    print(\"STOPPING STREAMING DATA\")"
   ]
  }
 ],
 "metadata": {
  "kernelspec": {
   "display_name": "Python 3",
   "language": "python",
   "name": "python3"
  },
  "language_info": {
   "codemirror_mode": {
    "name": "ipython",
    "version": 3
   },
   "file_extension": ".py",
   "mimetype": "text/x-python",
   "name": "python",
   "nbconvert_exporter": "python",
   "pygments_lexer": "ipython3",
   "version": "3.6.10"
  }
 },
 "nbformat": 4,
 "nbformat_minor": 4
}
