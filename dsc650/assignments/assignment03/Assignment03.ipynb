{
 "cells": [
  {
   "cell_type": "markdown",
   "metadata": {},
   "source": [
    "# Assignment 3"
   ]
  },
  {
   "cell_type": "markdown",
   "metadata": {},
   "source": [
    "Import libraries and define common helper functions"
   ]
  },
  {
   "cell_type": "code",
   "execution_count": 2,
   "metadata": {
    "scrolled": true
   },
   "outputs": [],
   "source": [
    "import os\n",
    "import sys\n",
    "import gzip\n",
    "import json\n",
    "from pathlib import Path\n",
    "import csv\n",
    "\n",
    "import pandas as pd\n",
    "# import s3fs\n",
    "import pyarrow as pa\n",
    "\n",
    "import pyarrow.parquet as pq\n",
    "\n",
    "import fastavro\n",
    "import pygeohash\n",
    "import snappy\n",
    "import jsonschema\n",
    "from jsonschema import ValidationError, validate, SchemaError"
   ]
  },
  {
   "cell_type": "markdown",
   "metadata": {},
   "source": [
    "Load the records from https://storage.budsc.midwest-datascience.com/data/processed/openflights/routes.jsonl.gz "
   ]
  },
  {
   "cell_type": "code",
   "execution_count": 3,
   "metadata": {},
   "outputs": [
    {
     "name": "stdout",
     "output_type": "stream",
     "text": [
      "/home/jovyan/dsc650/dsc650/assignments/assignment03\n",
      "/home/jovyan/dsc650/dsc650/assignments/assignment03/schemas\n",
      "/home/jovyan/dsc650/data/processed/openflights/routes.jsonl.gz\n"
     ]
    }
   ],
   "source": [
    "# Setting up the directory structure\n",
    "current_dir = Path(os.getcwd()).absolute()\n",
    "schema_dir = current_dir.joinpath('schemas')\n",
    "results_dir = current_dir.joinpath('results')\n",
    "results_dir.mkdir(parents=True, exist_ok=True)\n",
    "\n",
    "src_data_dir = current_dir.parent.parent.parent.joinpath('data/processed/openflights//routes.jsonl.gz')\n",
    "\n",
    "print(current_dir)\n",
    "print(schema_dir)\n",
    "print(src_data_dir)"
   ]
  },
  {
   "cell_type": "code",
   "execution_count": 4,
   "metadata": {},
   "outputs": [],
   "source": [
    "def read_jsonl_data():\n",
    "    with gzip.open(src_data_dir, 'rb') as f:\n",
    "            records = [json.loads(line) for line in f.readlines()]\n",
    "    return records"
   ]
  },
  {
   "cell_type": "code",
   "execution_count": 8,
   "metadata": {},
   "outputs": [],
   "source": [
    "# This exercise is to flatten the json files.\n",
    "myRec = read_jsonl_data()\n",
    "df_myRec = pd.DataFrame(myRec)\n",
    "# Create separate dataframes for each of the nested dicts\n",
    "# df_airline = pd.json_normalize(df_myRec['airline'])\n",
    "# df_src_airport = pd.json_normalize(df_myRec['src_airport'])\n",
    "# df_dst_airport = pd.json_normalize(df_myRec['dst_airport'])\n",
    "# Concatinating them together to be flattened out\n",
    "# df_final = pd.concat([df_airline,df_src_airport,df_dst_airport,df_myRec['codeshare'],df_myRec['equipment']], axis=1)\n",
    "# df_final.describe\n"
   ]
  },
  {
   "cell_type": "code",
   "execution_count": null,
   "metadata": {},
   "outputs": [],
   "source": [
    "myRec[0]['src_airport']['latitude']"
   ]
  },
  {
   "cell_type": "code",
   "execution_count": 9,
   "metadata": {},
   "outputs": [
    {
     "data": {
      "text/html": [
       "<div>\n",
       "<style scoped>\n",
       "    .dataframe tbody tr th:only-of-type {\n",
       "        vertical-align: middle;\n",
       "    }\n",
       "\n",
       "    .dataframe tbody tr th {\n",
       "        vertical-align: top;\n",
       "    }\n",
       "\n",
       "    .dataframe thead th {\n",
       "        text-align: right;\n",
       "    }\n",
       "</style>\n",
       "<table border=\"1\" class=\"dataframe\">\n",
       "  <thead>\n",
       "    <tr style=\"text-align: right;\">\n",
       "      <th></th>\n",
       "      <th>airline</th>\n",
       "      <th>src_airport</th>\n",
       "      <th>dst_airport</th>\n",
       "      <th>codeshare</th>\n",
       "      <th>equipment</th>\n",
       "    </tr>\n",
       "  </thead>\n",
       "  <tbody>\n",
       "    <tr>\n",
       "      <th>0</th>\n",
       "      <td>{'airline_id': 410, 'name': 'Aerocondor', 'ali...</td>\n",
       "      <td>{'airport_id': 2965, 'name': 'Sochi Internatio...</td>\n",
       "      <td>{'airport_id': 2990, 'name': 'Kazan Internatio...</td>\n",
       "      <td>False</td>\n",
       "      <td>[CR2]</td>\n",
       "    </tr>\n",
       "    <tr>\n",
       "      <th>1</th>\n",
       "      <td>{'airline_id': 410, 'name': 'Aerocondor', 'ali...</td>\n",
       "      <td>{'airport_id': 2966, 'name': 'Astrakhan Airpor...</td>\n",
       "      <td>{'airport_id': 2990, 'name': 'Kazan Internatio...</td>\n",
       "      <td>False</td>\n",
       "      <td>[CR2]</td>\n",
       "    </tr>\n",
       "    <tr>\n",
       "      <th>2</th>\n",
       "      <td>{'airline_id': 410, 'name': 'Aerocondor', 'ali...</td>\n",
       "      <td>{'airport_id': 2966, 'name': 'Astrakhan Airpor...</td>\n",
       "      <td>{'airport_id': 2962, 'name': 'Mineralnyye Vody...</td>\n",
       "      <td>False</td>\n",
       "      <td>[CR2]</td>\n",
       "    </tr>\n",
       "    <tr>\n",
       "      <th>3</th>\n",
       "      <td>{'airline_id': 410, 'name': 'Aerocondor', 'ali...</td>\n",
       "      <td>{'airport_id': 2968, 'name': 'Chelyabinsk Bala...</td>\n",
       "      <td>{'airport_id': 2990, 'name': 'Kazan Internatio...</td>\n",
       "      <td>False</td>\n",
       "      <td>[CR2]</td>\n",
       "    </tr>\n",
       "    <tr>\n",
       "      <th>4</th>\n",
       "      <td>{'airline_id': 410, 'name': 'Aerocondor', 'ali...</td>\n",
       "      <td>{'airport_id': 2968, 'name': 'Chelyabinsk Bala...</td>\n",
       "      <td>{'airport_id': 4078, 'name': 'Tolmachevo Airpo...</td>\n",
       "      <td>False</td>\n",
       "      <td>[CR2]</td>\n",
       "    </tr>\n",
       "  </tbody>\n",
       "</table>\n",
       "</div>"
      ],
      "text/plain": [
       "                                             airline  \\\n",
       "0  {'airline_id': 410, 'name': 'Aerocondor', 'ali...   \n",
       "1  {'airline_id': 410, 'name': 'Aerocondor', 'ali...   \n",
       "2  {'airline_id': 410, 'name': 'Aerocondor', 'ali...   \n",
       "3  {'airline_id': 410, 'name': 'Aerocondor', 'ali...   \n",
       "4  {'airline_id': 410, 'name': 'Aerocondor', 'ali...   \n",
       "\n",
       "                                         src_airport  \\\n",
       "0  {'airport_id': 2965, 'name': 'Sochi Internatio...   \n",
       "1  {'airport_id': 2966, 'name': 'Astrakhan Airpor...   \n",
       "2  {'airport_id': 2966, 'name': 'Astrakhan Airpor...   \n",
       "3  {'airport_id': 2968, 'name': 'Chelyabinsk Bala...   \n",
       "4  {'airport_id': 2968, 'name': 'Chelyabinsk Bala...   \n",
       "\n",
       "                                         dst_airport  codeshare equipment  \n",
       "0  {'airport_id': 2990, 'name': 'Kazan Internatio...      False     [CR2]  \n",
       "1  {'airport_id': 2990, 'name': 'Kazan Internatio...      False     [CR2]  \n",
       "2  {'airport_id': 2962, 'name': 'Mineralnyye Vody...      False     [CR2]  \n",
       "3  {'airport_id': 2990, 'name': 'Kazan Internatio...      False     [CR2]  \n",
       "4  {'airport_id': 4078, 'name': 'Tolmachevo Airpo...      False     [CR2]  "
      ]
     },
     "execution_count": 9,
     "metadata": {},
     "output_type": "execute_result"
    }
   ],
   "source": [
    "df_myRec.head()"
   ]
  },
  {
   "cell_type": "markdown",
   "metadata": {},
   "source": [
    "### 3.1.a JSON Schema"
   ]
  },
  {
   "cell_type": "code",
   "execution_count": 5,
   "metadata": {},
   "outputs": [],
   "source": [
    "def validate_jsonl_data(records):\n",
    "    schema_path = schema_dir.joinpath('routes-schema.json')\n",
    "    with open(schema_path) as f:\n",
    "        schema = json.load(f)\n",
    "    validation_csv_path = results_dir.joinpath('validate_json.csv')    \n",
    "    with open(validation_csv_path, 'w') as f:    \n",
    "        for i, record in enumerate(records):\n",
    "            try:\n",
    "                ## TODO: Validate record \n",
    "                jsonschema.validate(instance=record, schema=schema)\n",
    "            except ValidationError as e:\n",
    "                ## Print message if invalid record\n",
    "                pass\n",
    "\n",
    "records = read_jsonl_data()         \n",
    "validate_jsonl_data(records)"
   ]
  },
  {
   "cell_type": "markdown",
   "metadata": {},
   "source": [
    "### 3.1.b Avro"
   ]
  },
  {
   "cell_type": "code",
   "execution_count": 6,
   "metadata": {},
   "outputs": [],
   "source": [
    "from fastavro import writer, reader, schema\n",
    "\n",
    "def create_avro_dataset():\n",
    "    schema_path = schema_dir.joinpath('routes.avsc')\n",
    "    data_path = results_dir.joinpath('routes.avro')\n",
    "\n",
    "    with open(schema_path) as f:\n",
    "        myschema = json.load(f)\n",
    "\n",
    "    records = read_jsonl_data()\n",
    "    with open(data_path, 'wb') as f_out:\n",
    "            writer(f_out, schema.parse_schema(myschema), records)\n",
    "\n",
    "create_avro_dataset()"
   ]
  },
  {
   "cell_type": "markdown",
   "metadata": {},
   "source": [
    "### 3.1.c Parquet"
   ]
  },
  {
   "cell_type": "code",
   "execution_count": 7,
   "metadata": {},
   "outputs": [],
   "source": [
    "def create_parquet_dataset():\n",
    "        parquet_output_path = results_dir.joinpath('routes.parquet')\n",
    "\n",
    "        records = read_jsonl_data()\n",
    "        df = pd.DataFrame(records)        \n",
    "        # df.head()\n",
    "        table = pa.Table.from_pandas(df)\n",
    "        pq.write_table(table,parquet_output_path, compression=None)\n",
    "\n",
    "create_parquet_dataset()"
   ]
  },
  {
   "cell_type": "markdown",
   "metadata": {},
   "source": [
    "### 3.1.d Protocol Buffers"
   ]
  },
  {
   "cell_type": "code",
   "execution_count": 12,
   "metadata": {},
   "outputs": [],
   "source": [
    "sys.path.insert(0, os.path.abspath('routes_pb2'))\n",
    "\n",
    "import routes_pb2\n",
    "\n",
    "def _airport_to_proto_obj(airport):\n",
    "    obj = routes_pb2.Airport()\n",
    "    if airport is None:\n",
    "        return None\n",
    "    if airport.get('airport_id') is None:\n",
    "        return None\n",
    "\n",
    "    obj.airport_id = airport.get('airport_id')\n",
    "    if airport.get('name'):\n",
    "        obj.name = airport.get('name')\n",
    "    if airport.get('city'):\n",
    "        obj.city = airport.get('city')\n",
    "    if airport.get('iata'):\n",
    "        obj.iata = airport.get('iata')\n",
    "    if airport.get('icao'):\n",
    "        obj.icao = airport.get('icao')\n",
    "    if airport.get('altitude'):\n",
    "        obj.altitude = airport.get('altitude')\n",
    "    if airport.get('timezone'):\n",
    "        obj.timezone = airport.get('timezone')\n",
    "    if airport.get('dst'):\n",
    "        obj.dst = airport.get('dst')\n",
    "    if airport.get('tz_id'):\n",
    "        obj.tz_id = airport.get('tz_id')\n",
    "    if airport.get('type'):\n",
    "        obj.type = airport.get('type')\n",
    "    if airport.get('source'):\n",
    "        obj.source = airport.get('source')\n",
    "\n",
    "    obj.latitude = airport.get('latitude')\n",
    "    obj.longitude = airport.get('longitude')\n",
    "\n",
    "    return obj\n",
    "\n",
    "\n",
    "def _airline_to_proto_obj(airline):\n",
    "    obj = routes_pb2.Airline()\n",
    "    ## TODO: Create an Airline obj using Protocol Buffers API\n",
    "    if not airline.get('name'):\n",
    "        return None\n",
    "    if not airline.get('airline_id'):\n",
    "        return None\n",
    "    if not airline.get('active'):\n",
    "        return None\n",
    "\n",
    "    obj.airline_id = airline.get('airline_id')\n",
    "    obj.name = airline.get('name')\n",
    "    if airline.get('alias'):\n",
    "\t    obj.alias = airline.get('alias')\n",
    "    if airline.get('iata'):\n",
    "        obj.iata = airline.get('iata')\n",
    "    if airline.get('icao'):\n",
    "\t    obj.icao = airline.get('icao')\n",
    "    if airline.get('callsign'):\n",
    "        obj.callsign = airline.get('callsign')\n",
    "    if airline.get('country'):\n",
    "        obj.country = airline.get('country')\n",
    "    if airline.get('active'):\n",
    "        obj.active = airline.get('active')\n",
    "\n",
    "    return obj\n",
    "\n",
    "\n",
    "def create_protobuf_dataset(records):\n",
    "    routes = routes_pb2.Routes()\n",
    "    for record in records:\n",
    "        route = routes_pb2.Route()\n",
    "        ## TODO: Implement the code to create the Protocol Buffers Dataset\n",
    "        airline = _airline_to_proto_obj(record.get('airline', {}))\n",
    "        if airline:\n",
    "            route.airline.CopyFrom(airline)\n",
    "        src_airport = _airport_to_proto_obj(record.get('src_airport', {}))\n",
    "        if src_airport:\n",
    "            route.src_airport.CopyFrom(src_airport)\n",
    "        dst_airport = _airport_to_proto_obj(record.get('dst_airport', {}))\n",
    "        if dst_airport:\n",
    "            route.dst_airport.CopyFrom(dst_airport)            \n",
    "        route.codeshare = record.get('codeshare')\n",
    "        # route.equipment = record.get('equipment')\n",
    "        routes.route.append(route)\n",
    "\n",
    "    data_path = results_dir.joinpath('routes.pb')\n",
    "\n",
    "    with open(data_path, 'wb') as f:\n",
    "        f.write(routes.SerializeToString())\n",
    "        \n",
    "    compressed_path = results_dir.joinpath('routes.pb.snappy')\n",
    "    \n",
    "    with open(compressed_path, 'wb') as f:\n",
    "        f.write(snappy.compress(routes.SerializeToString()))\n",
    "\n",
    "records = read_jsonl_data()        \n",
    "create_protobuf_dataset(records)"
   ]
  },
  {
   "cell_type": "markdown",
   "metadata": {},
   "source": [
    "### 3.2.a Simple Geohash Index"
   ]
  },
  {
   "cell_type": "code",
   "execution_count": 13,
   "metadata": {},
   "outputs": [],
   "source": [
    "# Assignment 3.2.a\n",
    "def create_hash_dirs(records):\n",
    "    geoindex_dir = results_dir.joinpath('geoindex')\n",
    "    geoindex_dir.mkdir(exist_ok=True, parents=True)\n",
    "    hashes = []\n",
    "    for record in records:\n",
    "        src_airport = record.get('src_airport', {})\n",
    "        if src_airport:\n",
    "            latitude = src_airport.get('latitude')\n",
    "            longitude = src_airport.get('longitude')\n",
    "            if latitude and longitude:\n",
    "                ## TODO: use pygeohash.encode() to assign geohashes to the records and complete the hashes list\n",
    "                hash_ind = pygeohash.encode(latitude=latitude, longitude=longitude)\n",
    "                hashes.append(hash_ind)\n",
    "    hashes.sort()\n",
    "    three_letter = sorted(list(set([entry[:3] for entry in hashes])))\n",
    "    hash_index = {value: [] for value in three_letter}\n",
    "    for record in records:\n",
    "        geohash = record.get('geohash')\n",
    "        if geohash:\n",
    "            hash_index[geohash[:3]].append(record)\n",
    "    for key, values in hash_index.items():\n",
    "        output_dir = geoindex_dir.joinpath(str(key[:1])).joinpath(str(key[:2]))\n",
    "        output_dir.mkdir(exist_ok=True, parents=True)\n",
    "        output_path = output_dir.joinpath('{}.jsonl.gz'.format(key))\n",
    "        with gzip.open(output_path, 'w') as f:\n",
    "            json_output = '\\n'.join([json.dumps(value) for value in values])\n",
    "            f.write(json_output.encode('utf-8'))\n",
    "\n",
    "records = read_jsonl_data()            \n",
    "create_hash_dirs(records)"
   ]
  },
  {
   "cell_type": "markdown",
   "metadata": {},
   "source": [
    "### 3.2.b Simple Search Feature"
   ]
  },
  {
   "cell_type": "code",
   "execution_count": null,
   "metadata": {},
   "outputs": [],
   "source": [
    "def airport_search(latitude, longitude):\n",
    "    ## TODO: Create simple search to return nearest airport\n",
    "    pass\n",
    "    \n",
    "airport_search(41.1499988, -95.91779)"
   ]
  },
  {
   "cell_type": "code",
   "execution_count": null,
   "metadata": {},
   "outputs": [],
   "source": [
    "records = read_jsonl_data()\n",
    "for record in records:\n",
    "\tairline = record['airline']\n",
    "print(airline)"
   ]
  },
  {
   "cell_type": "code",
   "execution_count": null,
   "metadata": {},
   "outputs": [],
   "source": [
    "# Open the compressed zip file\n",
    "with open(src_data_dir, 'rb') as fread:\n",
    "\t# Now open the file to write to\n",
    "\tjson_out = results_dir.joinpath('routes.jsonl')\n",
    "\twith open(json_out, 'wb') as fwrite:\n",
    "\t\tfwrite.write(gzip.decompress(fread.read()))"
   ]
  }
 ],
 "metadata": {
  "kernelspec": {
   "display_name": "Python 3",
   "language": "python",
   "name": "python3"
  },
  "language_info": {
   "codemirror_mode": {
    "name": "ipython",
    "version": 3
   },
   "file_extension": ".py",
   "mimetype": "text/x-python",
   "name": "python",
   "nbconvert_exporter": "python",
   "pygments_lexer": "ipython3",
   "version": "3.8.3"
  }
 },
 "nbformat": 4,
 "nbformat_minor": 4
}
