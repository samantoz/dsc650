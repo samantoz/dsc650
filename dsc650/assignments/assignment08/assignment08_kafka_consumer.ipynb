{
 "cells": [
  {
   "cell_type": "code",
   "execution_count": 1,
   "metadata": {
    "scrolled": false
   },
   "outputs": [],
   "source": [
    "import json\n",
    "\n",
    "from kafka import KafkaConsumer"
   ]
  },
  {
   "cell_type": "markdown",
   "metadata": {},
   "source": [
    "### Configuration Parameters \n",
    "\n",
    "> **TODO:** Change the configuration prameters to the appropriate values for your setup."
   ]
  },
  {
   "cell_type": "code",
   "execution_count": 2,
   "metadata": {},
   "outputs": [
    {
     "data": {
      "text/plain": [
       "{'bootstrap_servers': ['kafka.kafka.svc.cluster.local:9092'],\n",
       " 'first_name': 'Arindam',\n",
       " 'last_name': 'Samanta',\n",
       " 'client_id': 'SamantaArindam',\n",
       " 'topic_prefix': 'SamantaArindam'}"
      ]
     },
     "execution_count": 2,
     "metadata": {},
     "output_type": "execute_result"
    }
   ],
   "source": [
    "config = dict(\n",
    "    bootstrap_servers=['kafka.kafka.svc.cluster.local:9092'],\n",
    "    first_name='Arindam',\n",
    "    last_name='Samanta'\n",
    ")\n",
    "\n",
    "config['client_id'] = '{}{}'.format(\n",
    "    config['last_name'], \n",
    "    config['first_name']\n",
    ")\n",
    "config['topic_prefix'] = '{}{}'.format(\n",
    "    config['last_name'], \n",
    "    config['first_name']\n",
    ")\n",
    "\n",
    "config"
   ]
  },
  {
   "cell_type": "markdown",
   "metadata": {},
   "source": [
    "Create a consumer without subscribing to any particular topic"
   ]
  },
  {
   "cell_type": "code",
   "execution_count": 3,
   "metadata": {},
   "outputs": [],
   "source": [
    "general_consumer = KafkaConsumer(\n",
    "    bootstrap_servers=config['bootstrap_servers']\n",
    ")"
   ]
  },
  {
   "cell_type": "markdown",
   "metadata": {},
   "source": [
    "List all topics you are currently allowed to view"
   ]
  },
  {
   "cell_type": "code",
   "execution_count": 4,
   "metadata": {},
   "outputs": [
    {
     "data": {
      "text/plain": [
       "{'ChougulePushkar-accelerations',\n",
       " 'ChougulePushkar-locations',\n",
       " 'DoeJohn-accelerations',\n",
       " 'DoeJohn-joined',\n",
       " 'DoeJohn-locations',\n",
       " 'DoeJohn-simple',\n",
       " 'DoeJohn-windowed',\n",
       " 'GonzalezKimberly-accelerations',\n",
       " 'GonzalezKimberly-joined',\n",
       " 'GonzalezKimberly-locations',\n",
       " 'GonzalezKimberly-simple',\n",
       " 'GonzalezKimberly-windowed',\n",
       " 'HoffmannLaura-accelerations',\n",
       " 'HoffmannLaura-locations',\n",
       " 'KaakatyRoni-accelerations',\n",
       " 'KaakatyRoni-locations',\n",
       " 'KalaikkovanVasanthakumar-accelerations',\n",
       " 'KalaikkovanVasanthakumar-locations',\n",
       " 'KanaparthiVenkata-accelerations',\n",
       " 'KanaparthiVenkata-locations',\n",
       " 'KarlovicPatrik-accelerations',\n",
       " 'KarlovicPatrik-locations',\n",
       " 'KohnAaron-accelerations',\n",
       " 'KohnAaron-locations',\n",
       " 'KolekarShilpa-accelerations',\n",
       " 'KolekarShilpa-locations',\n",
       " 'Last_Name_testFirst_Name_test-locations',\n",
       " 'MandalAbhijit-accelerations',\n",
       " 'MandalAbhijit-locations',\n",
       " 'MohammedShabuddinRamizuddin-accelerations',\n",
       " 'MohammedShabuddinRamizuddin-locations',\n",
       " 'MuleyTushar-accelerations',\n",
       " 'MuleyTushar-accelrations',\n",
       " 'MuleyTushar-locations',\n",
       " 'MuthusamyGaneshkumar-accelerations',\n",
       " 'MuthusamyGaneshkumar-locations',\n",
       " 'NagarajVinay-accelerations',\n",
       " 'NagarajVinay-locations',\n",
       " 'NelsonRachel-accelerations',\n",
       " 'NelsonRachel-locations',\n",
       " 'PalomoCarlos-accelerations',\n",
       " 'PalomoCarlos-locations',\n",
       " 'PickCameron-accelerations',\n",
       " 'PickCameron-locations',\n",
       " 'ReynaArnold-accelerations',\n",
       " 'ReynaArnold-locations',\n",
       " 'RickordJake-accelerations',\n",
       " 'RickordJake-locations',\n",
       " 'RileyMarc-accelerations',\n",
       " 'RileyMarc-locations',\n",
       " 'SamantaArindam-accelerations',\n",
       " 'SamantaArindam-locations',\n",
       " 'SelvarajDavid-SelvarajDavid',\n",
       " 'SelvarajDavid-accelerations',\n",
       " 'SelvarajDavid-locations',\n",
       " 'SumbarajuAditya-accelerations',\n",
       " 'SumbarajuAditya-locations',\n",
       " 'TaylorDominick-accelerations',\n",
       " 'TaylorDominick-locations',\n",
       " 'ValderRohan-accelerations',\n",
       " 'ValderRohan-locations',\n",
       " 'karlovicpatrik-accelerations',\n",
       " 'karlovicpatrik-locations'}"
      ]
     },
     "execution_count": 4,
     "metadata": {},
     "output_type": "execute_result"
    }
   ],
   "source": [
    "general_consumer.topics()"
   ]
  },
  {
   "cell_type": "markdown",
   "metadata": {},
   "source": [
    "Close the consumer, waiting indefinitely for any needed cleanup."
   ]
  },
  {
   "cell_type": "code",
   "execution_count": 5,
   "metadata": {},
   "outputs": [],
   "source": [
    "general_consumer.close()"
   ]
  },
  {
   "cell_type": "code",
   "execution_count": 6,
   "metadata": {},
   "outputs": [],
   "source": [
    "def create_kafka_consumer(topics, config=config):\n",
    "    bootstrap_servers = config['bootstrap_servers']\n",
    "    client_id = config['client_id']\n",
    "    topic_prefix = config['topic_prefix']    \n",
    "    topic_list = ['{}-{}'.format(topic_prefix, topic) for topic in topics]\n",
    "    \n",
    "    return KafkaConsumer(\n",
    "        *topic_list,\n",
    "        client_id=client_id,\n",
    "        bootstrap_servers=bootstrap_servers,\n",
    "        auto_offset_reset='earliest',\n",
    "        enable_auto_commit=False,\n",
    "        value_deserializer=lambda x: json.loads(x)\n",
    "    )\n",
    "\n",
    "# consumer = create_kafka_consumer(['locations', 'accelerations'])\n",
    "consumer = create_kafka_consumer(['accelerations'])"
   ]
  },
  {
   "cell_type": "markdown",
   "metadata": {},
   "source": [
    "Gets a list of this consumer's current subscriptions"
   ]
  },
  {
   "cell_type": "code",
   "execution_count": 7,
   "metadata": {},
   "outputs": [
    {
     "data": {
      "text/plain": [
       "{'SamantaArindam-accelerations'}"
      ]
     },
     "execution_count": 7,
     "metadata": {},
     "output_type": "execute_result"
    }
   ],
   "source": [
    "consumer.subscription()"
   ]
  },
  {
   "cell_type": "markdown",
   "metadata": {},
   "source": [
    "The following function prints messages from the current consumer subscriptions. It will continue until manually stopped. "
   ]
  },
  {
   "cell_type": "code",
   "execution_count": null,
   "metadata": {
    "scrolled": false
   },
   "outputs": [],
   "source": [
    "def print_messages(consumer=consumer):\n",
    "    try:\n",
    "        for message in consumer:\n",
    "                msg_metadata = 'Message metadata: {}:{}:{}'.format(\n",
    "                    message.topic, message.partition, message.offset\n",
    "                )\n",
    "\n",
    "                if message.key is not None:\n",
    "                    msg_key = message.key.decode('utf-8')\n",
    "                else:\n",
    "                    msg_key = ''\n",
    "                msg_value = json.dumps(message.value, indent=2)\n",
    "                msg_value = '\\n'.join(['  {}'.format(value) for value in msg_value.split('\\n')])\n",
    "\n",
    "                print('Message metadata:')\n",
    "                print('  Topic: {}'.format(message.topic))\n",
    "                print('  Partition: {}'.format(message.partition))\n",
    "                print('  Offset: {}'.format(message.offset))\n",
    "                print('Message Key: {}'.format(msg_key))\n",
    "                print('Message Value:')\n",
    "                print(msg_value)\n",
    "                print()\n",
    "    except KeyboardInterrupt:\n",
    "        print(\"STOPPING MESSAGE CONSUMER\")\n",
    "        \n",
    "print_messages()"
   ]
  },
  {
   "cell_type": "markdown",
   "metadata": {},
   "source": [
    "Close the consumer, waiting indefinitely for any needed cleanup."
   ]
  },
  {
   "cell_type": "code",
   "execution_count": null,
   "metadata": {},
   "outputs": [],
   "source": [
    "consumer.close()"
   ]
  },
  {
   "cell_type": "code",
   "execution_count": null,
   "metadata": {},
   "outputs": [],
   "source": []
  }
 ],
 "metadata": {
  "kernelspec": {
   "display_name": "Python 3",
   "language": "python",
   "name": "python3"
  },
  "language_info": {
   "codemirror_mode": {
    "name": "ipython",
    "version": 3
   },
   "file_extension": ".py",
   "mimetype": "text/x-python",
   "name": "python",
   "nbconvert_exporter": "python",
   "pygments_lexer": "ipython3",
   "version": "3.8.3"
  }
 },
 "nbformat": 4,
 "nbformat_minor": 4
}
