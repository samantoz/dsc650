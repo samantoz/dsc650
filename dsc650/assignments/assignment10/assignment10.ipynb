{
 "cells": [
  {
   "cell_type": "code",
   "execution_count": 1,
   "metadata": {},
   "outputs": [],
   "source": [
    "import os\n",
    "import string\n",
    "import re\n",
    "from pathlib import Path"
   ]
  },
  {
   "cell_type": "code",
   "execution_count": 5,
   "metadata": {},
   "outputs": [
    {
     "name": "stdout",
     "output_type": "stream",
     "text": [
      "/home/jovyan/dsc650/dsc650/assignments/assignment10\n",
      "/home/jovyan/dsc650/dsc650/assignments/assignment10/results\n",
      "/home/jovyan/dsc650/dsc650/assignments/assignment10/data\n",
      "/home/jovyan/dsc650/data/external/imdb/aclImdb\n"
     ]
    }
   ],
   "source": [
    "current_dir = Path(os.getcwd()).absolute()\n",
    "results_dir = current_dir.joinpath('results')\n",
    "results_dir.mkdir(parents=True, exist_ok=True)\n",
    "data_dir = current_dir.joinpath('data')\n",
    "data_dir.mkdir(parents=True, exist_ok=True)\n",
    "external_data_dir = current_dir.parent.parent.parent.joinpath('data')\n",
    "imdb_dir = external_data_dir.joinpath(r'external/imdb/aclImdb')\n",
    "\n",
    "\n",
    "\n",
    "\n",
    "print(current_dir)\n",
    "print(results_dir)\n",
    "print(data_dir)\n",
    "print(imdb_dir)"
   ]
  },
  {
   "cell_type": "markdown",
   "metadata": {},
   "source": [
    "#### Assignment 10.1.a  \n",
    "\n",
    "Create a tokenize function that splits a sentence into words. Ensure that your tokenizer removes basic punctuation."
   ]
  },
  {
   "cell_type": "code",
   "execution_count": 32,
   "metadata": {},
   "outputs": [
    {
     "data": {
      "text/plain": [
       "'c:\\\\Users\\\\saman\\\\git_repos\\\\dsc650\\\\dsc650\\\\assignments\\\\assignment10\\\\data\\\\sample.txt'"
      ]
     },
     "execution_count": 32,
     "metadata": {},
     "output_type": "execute_result"
    }
   ],
   "source": [
    "file_name = \"sample.txt\"\n",
    "file_path = f\"{data_dir}\\{file_name}\"\n",
    "file_path"
   ]
  },
  {
   "cell_type": "code",
   "execution_count": null,
   "metadata": {},
   "outputs": [],
   "source": [
    "def tokenize(sentence):\n",
    "    tokens = []\n",
    "    words = sentence.split()\n",
    "    # tokenize the sentence\n",
    "    for word in words:\n",
    "        # allowing only alphabets\n",
    "        word = re.sub(\"[^a-zA-Z]\", \"\", word)\n",
    "        tokens.append(word)\n",
    "    return tokens"
   ]
  },
  {
   "cell_type": "code",
   "execution_count": null,
   "metadata": {},
   "outputs": [],
   "source": [
    "def call_tokenize():\n",
    "\twith open(f'{file_path}','r') as f:\n",
    "\t\tfor line in f:\n",
    "\t\t\tline = line.lower()\n",
    "\t\t\t# print(line, end = 'XX')\n",
    "\t\t\treturn tokenize(line)\n",
    "\n",
    "call_tokenize()"
   ]
  },
  {
   "cell_type": "markdown",
   "metadata": {},
   "source": [
    "#### Assignment 10.1.b\n",
    "\n",
    "Implement an `ngram` function that splits tokens into N-grams. "
   ]
  },
  {
   "cell_type": "code",
   "execution_count": null,
   "metadata": {},
   "outputs": [],
   "source": [
    "def ngram(tokens, n):\n",
    "    # ngrams = []\n",
    "    # Create ngrams\n",
    "    # return ngrams\n",
    "    return print(list(zip(*[tokens[i:] for i in range(n)])))"
   ]
  },
  {
   "cell_type": "code",
   "execution_count": null,
   "metadata": {},
   "outputs": [],
   "source": [
    "def call_ngram():\n",
    "\twith open(f'{file_path}','r') as f:\n",
    "\t\tfor line in f:\n",
    "\t\t\tline = line.lower()\n",
    "\t\t\t# print(line, end = 'XX')\n",
    "\t\t\treturn ngram(tokenize(line),3)\n",
    "\n",
    "call_ngram()"
   ]
  },
  {
   "cell_type": "markdown",
   "metadata": {},
   "source": [
    "#### Assignment 10.1.c\n",
    "\n",
    "Implement an one_hot_encode function to create a vector from a numerical vector from a list of tokens."
   ]
  },
  {
   "cell_type": "code",
   "execution_count": null,
   "metadata": {},
   "outputs": [],
   "source": [
    "def one_hot_encode(tokens, num_words):\n",
    "    token_index = {}\n",
    "    results = ''\n",
    "    return results"
   ]
  },
  {
   "cell_type": "markdown",
   "metadata": {},
   "source": [
    "#### 10.2\n",
    "\n",
    "Using listings 6.16, 6.17, and 6.18 in Deep Learning with Python as a guide, train a sequential model with embeddings on the IMDB data found in data/external/imdb/. Produce the model performance metrics and training and validation accuracy curves within the Jupyter notebook."
   ]
  },
  {
   "cell_type": "code",
   "execution_count": 6,
   "metadata": {},
   "outputs": [],
   "source": [
    "# Processing the labels of the raw IMDB data\n",
    "train_dir = imdb_dir.joinpath('train')\n",
    "labels = []\n",
    "texts = []\n",
    "\n",
    "for label_type in ['neg','pos']:\n",
    "\tdir_name = train_dir.joinpath(label_type) \n",
    "\tfor fname in os.listdir(dir_name):\n",
    "\t\tif fname[-4:] == '.txt':\n",
    "\t\t\tf = open(dir_name.joinpath(fname))\n",
    "\t\t\ttexts.append(f.read())\n",
    "\t\t\tf.close()\n",
    "\t\t\tif label_type == 'neg':\n",
    "\t\t\t\tlabels.append(0)\n",
    "\t\t\telse:\n",
    "\t\t\t\tlabels.append(1)"
   ]
  },
  {
   "cell_type": "code",
   "execution_count": null,
   "metadata": {},
   "outputs": [],
   "source": [
    "# Tokenizing the text of the raw IMDB data\n",
    "\n",
    "from keras.preprocessing.text import Tokenizer\n",
    "from keras.preprocessing.sequence import pad_sequences\n",
    "import numpy as np"
   ]
  },
  {
   "cell_type": "code",
   "execution_count": null,
   "metadata": {},
   "outputs": [],
   "source": []
  }
 ],
 "metadata": {
  "interpreter": {
   "hash": "eaa595ef62feebb7391c21f4631d0608c59ea8040a4240c26bcafde459863554"
  },
  "kernelspec": {
   "display_name": "Python 3",
   "language": "python",
   "name": "python3"
  },
  "language_info": {
   "codemirror_mode": {
    "name": "ipython",
    "version": 3
   },
   "file_extension": ".py",
   "mimetype": "text/x-python",
   "name": "python",
   "nbconvert_exporter": "python",
   "pygments_lexer": "ipython3",
   "version": "3.8.3"
  }
 },
 "nbformat": 4,
 "nbformat_minor": 2
}
