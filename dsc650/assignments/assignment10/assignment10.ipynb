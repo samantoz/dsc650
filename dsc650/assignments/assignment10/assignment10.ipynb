{
 "cells": [
  {
   "cell_type": "code",
   "execution_count": 1,
   "metadata": {},
   "outputs": [],
   "source": [
    "import os\n",
    "import string\n",
    "import re\n",
    "from pathlib import Path"
   ]
  },
  {
   "cell_type": "code",
   "execution_count": 3,
   "metadata": {},
   "outputs": [
    {
     "name": "stdout",
     "output_type": "stream",
     "text": [
      "/home/jovyan/dsc650/dsc650/assignments/assignment10\n",
      "/home/jovyan/dsc650/dsc650/assignments/assignment10/results\n",
      "/home/jovyan/dsc650/dsc650/assignments/assignment10/data\n",
      "/home/jovyan/dsc650/data/external/imdb/aclImdb\n"
     ]
    }
   ],
   "source": [
    "current_dir = Path(os.getcwd()).absolute()\n",
    "results_dir = current_dir.joinpath('results')\n",
    "results_dir.mkdir(parents=True, exist_ok=True)\n",
    "data_dir = current_dir.joinpath('data')\n",
    "data_dir.mkdir(parents=True, exist_ok=True)\n",
    "external_data_dir = current_dir.parent.parent.parent.joinpath('data')\n",
    "imdb_dir = external_data_dir.joinpath(r'external/imdb/aclImdb')\n",
    "\n",
    "\n",
    "\n",
    "\n",
    "print(current_dir)\n",
    "print(results_dir)\n",
    "print(data_dir)\n",
    "print(imdb_dir)"
   ]
  },
  {
   "cell_type": "markdown",
   "metadata": {},
   "source": [
    "#### Assignment 10.1.a  \n",
    "\n",
    "Create a tokenize function that splits a sentence into words. Ensure that your tokenizer removes basic punctuation."
   ]
  },
  {
   "cell_type": "code",
   "execution_count": 5,
   "metadata": {},
   "outputs": [
    {
     "data": {
      "text/plain": [
       "'/home/jovyan/dsc650/dsc650/assignments/assignment10/data/sample.txt'"
      ]
     },
     "execution_count": 5,
     "metadata": {},
     "output_type": "execute_result"
    }
   ],
   "source": [
    "file_name = \"sample.txt\"\n",
    "file_path = f\"{data_dir}/{file_name}\"\n",
    "file_path"
   ]
  },
  {
   "cell_type": "code",
   "execution_count": 6,
   "metadata": {},
   "outputs": [],
   "source": [
    "def tokenize(sentence):\n",
    "    tokens = []\n",
    "    words = sentence.split()\n",
    "    # tokenize the sentence\n",
    "    for word in words:\n",
    "        # allowing only alphabets\n",
    "        word = re.sub(\"[^a-zA-Z]\", \"\", word)\n",
    "        tokens.append(word)\n",
    "    return tokens"
   ]
  },
  {
   "cell_type": "code",
   "execution_count": 7,
   "metadata": {},
   "outputs": [
    {
     "data": {
      "text/plain": [
       "['it',\n",
       " 'was',\n",
       " '',\n",
       " 'minutes',\n",
       " 'after',\n",
       " 'midnight',\n",
       " 'the',\n",
       " 'dog',\n",
       " 'was',\n",
       " 'lying',\n",
       " 'on',\n",
       " 'the',\n",
       " 'grass',\n",
       " 'in',\n",
       " 'the',\n",
       " 'middle',\n",
       " 'of',\n",
       " 'the',\n",
       " 'lawn',\n",
       " 'in',\n",
       " 'front',\n",
       " 'of',\n",
       " 'mrs',\n",
       " 'shears',\n",
       " 'house',\n",
       " 'its',\n",
       " 'eyes',\n",
       " 'were',\n",
       " 'closed',\n",
       " 'it',\n",
       " 'looked',\n",
       " 'as',\n",
       " 'if',\n",
       " 'it',\n",
       " 'was',\n",
       " 'running',\n",
       " 'on',\n",
       " 'its',\n",
       " 'side',\n",
       " 'the',\n",
       " 'way',\n",
       " 'dogs',\n",
       " 'run',\n",
       " 'when',\n",
       " 'they',\n",
       " 'think',\n",
       " 'they',\n",
       " 'are',\n",
       " 'chasing',\n",
       " 'a',\n",
       " 'cat',\n",
       " 'in',\n",
       " 'a',\n",
       " 'dream',\n",
       " 'but',\n",
       " 'the',\n",
       " 'dog',\n",
       " 'was',\n",
       " 'not',\n",
       " 'running',\n",
       " 'or',\n",
       " 'asleep',\n",
       " 'the',\n",
       " 'dog',\n",
       " 'was',\n",
       " 'dead',\n",
       " 'there',\n",
       " 'was',\n",
       " 'a',\n",
       " 'garden',\n",
       " 'fork',\n",
       " 'sticking',\n",
       " 'out',\n",
       " 'of',\n",
       " 'the',\n",
       " 'dog',\n",
       " 'the',\n",
       " 'points',\n",
       " 'of',\n",
       " 'the',\n",
       " 'fork',\n",
       " 'must',\n",
       " 'have',\n",
       " 'gone',\n",
       " 'all',\n",
       " 'the',\n",
       " 'way',\n",
       " 'through',\n",
       " 'the',\n",
       " 'dog',\n",
       " 'and',\n",
       " 'into',\n",
       " 'the',\n",
       " 'ground',\n",
       " 'because',\n",
       " 'the',\n",
       " 'fork',\n",
       " 'had',\n",
       " 'not',\n",
       " 'fallen',\n",
       " 'over',\n",
       " 'i',\n",
       " 'decided',\n",
       " 'that',\n",
       " 'the',\n",
       " 'dog',\n",
       " 'was',\n",
       " 'probably',\n",
       " 'killed',\n",
       " 'with',\n",
       " 'the',\n",
       " 'fork',\n",
       " 'because',\n",
       " 'i',\n",
       " 'could',\n",
       " 'not',\n",
       " 'see',\n",
       " 'any',\n",
       " 'other',\n",
       " 'wounds',\n",
       " 'in',\n",
       " 'the',\n",
       " 'dog',\n",
       " 'and',\n",
       " 'i',\n",
       " 'do',\n",
       " 'not',\n",
       " 'think',\n",
       " 'you',\n",
       " 'would',\n",
       " 'stick',\n",
       " 'a',\n",
       " 'garden',\n",
       " 'fork',\n",
       " 'into',\n",
       " 'a',\n",
       " 'dog',\n",
       " 'after',\n",
       " 'it',\n",
       " 'had',\n",
       " 'died',\n",
       " 'for',\n",
       " 'some',\n",
       " 'other',\n",
       " 'reason',\n",
       " 'like',\n",
       " 'cancer',\n",
       " 'for',\n",
       " 'example',\n",
       " 'or',\n",
       " 'a',\n",
       " 'road',\n",
       " 'accident',\n",
       " 'but',\n",
       " 'i',\n",
       " 'could',\n",
       " 'not',\n",
       " 'be',\n",
       " 'certain',\n",
       " 'about',\n",
       " 'this']"
      ]
     },
     "execution_count": 7,
     "metadata": {},
     "output_type": "execute_result"
    }
   ],
   "source": [
    "def call_tokenize():\n",
    "    with open(f'{file_path}','r') as f:\n",
    "        for line in f:\n",
    "            line = line.lower()\n",
    "                        \n",
    "            return tokenize(line)\n",
    "\n",
    "call_tokenize()"
   ]
  },
  {
   "cell_type": "markdown",
   "metadata": {},
   "source": [
    "#### Assignment 10.1.b\n",
    "\n",
    "Implement an `ngram` function that splits tokens into N-grams. "
   ]
  },
  {
   "cell_type": "code",
   "execution_count": 8,
   "metadata": {},
   "outputs": [],
   "source": [
    "def ngram(tokens, n):\n",
    "    # ngrams = []\n",
    "    # Create ngrams\n",
    "    # return ngrams\n",
    "    return print(list(zip(*[tokens[i:] for i in range(n)])))"
   ]
  },
  {
   "cell_type": "code",
   "execution_count": 9,
   "metadata": {},
   "outputs": [
    {
     "name": "stdout",
     "output_type": "stream",
     "text": [
      "[('it', 'was', ''), ('was', '', 'minutes'), ('', 'minutes', 'after'), ('minutes', 'after', 'midnight'), ('after', 'midnight', 'the'), ('midnight', 'the', 'dog'), ('the', 'dog', 'was'), ('dog', 'was', 'lying'), ('was', 'lying', 'on'), ('lying', 'on', 'the'), ('on', 'the', 'grass'), ('the', 'grass', 'in'), ('grass', 'in', 'the'), ('in', 'the', 'middle'), ('the', 'middle', 'of'), ('middle', 'of', 'the'), ('of', 'the', 'lawn'), ('the', 'lawn', 'in'), ('lawn', 'in', 'front'), ('in', 'front', 'of'), ('front', 'of', 'mrs'), ('of', 'mrs', 'shears'), ('mrs', 'shears', 'house'), ('shears', 'house', 'its'), ('house', 'its', 'eyes'), ('its', 'eyes', 'were'), ('eyes', 'were', 'closed'), ('were', 'closed', 'it'), ('closed', 'it', 'looked'), ('it', 'looked', 'as'), ('looked', 'as', 'if'), ('as', 'if', 'it'), ('if', 'it', 'was'), ('it', 'was', 'running'), ('was', 'running', 'on'), ('running', 'on', 'its'), ('on', 'its', 'side'), ('its', 'side', 'the'), ('side', 'the', 'way'), ('the', 'way', 'dogs'), ('way', 'dogs', 'run'), ('dogs', 'run', 'when'), ('run', 'when', 'they'), ('when', 'they', 'think'), ('they', 'think', 'they'), ('think', 'they', 'are'), ('they', 'are', 'chasing'), ('are', 'chasing', 'a'), ('chasing', 'a', 'cat'), ('a', 'cat', 'in'), ('cat', 'in', 'a'), ('in', 'a', 'dream'), ('a', 'dream', 'but'), ('dream', 'but', 'the'), ('but', 'the', 'dog'), ('the', 'dog', 'was'), ('dog', 'was', 'not'), ('was', 'not', 'running'), ('not', 'running', 'or'), ('running', 'or', 'asleep'), ('or', 'asleep', 'the'), ('asleep', 'the', 'dog'), ('the', 'dog', 'was'), ('dog', 'was', 'dead'), ('was', 'dead', 'there'), ('dead', 'there', 'was'), ('there', 'was', 'a'), ('was', 'a', 'garden'), ('a', 'garden', 'fork'), ('garden', 'fork', 'sticking'), ('fork', 'sticking', 'out'), ('sticking', 'out', 'of'), ('out', 'of', 'the'), ('of', 'the', 'dog'), ('the', 'dog', 'the'), ('dog', 'the', 'points'), ('the', 'points', 'of'), ('points', 'of', 'the'), ('of', 'the', 'fork'), ('the', 'fork', 'must'), ('fork', 'must', 'have'), ('must', 'have', 'gone'), ('have', 'gone', 'all'), ('gone', 'all', 'the'), ('all', 'the', 'way'), ('the', 'way', 'through'), ('way', 'through', 'the'), ('through', 'the', 'dog'), ('the', 'dog', 'and'), ('dog', 'and', 'into'), ('and', 'into', 'the'), ('into', 'the', 'ground'), ('the', 'ground', 'because'), ('ground', 'because', 'the'), ('because', 'the', 'fork'), ('the', 'fork', 'had'), ('fork', 'had', 'not'), ('had', 'not', 'fallen'), ('not', 'fallen', 'over'), ('fallen', 'over', 'i'), ('over', 'i', 'decided'), ('i', 'decided', 'that'), ('decided', 'that', 'the'), ('that', 'the', 'dog'), ('the', 'dog', 'was'), ('dog', 'was', 'probably'), ('was', 'probably', 'killed'), ('probably', 'killed', 'with'), ('killed', 'with', 'the'), ('with', 'the', 'fork'), ('the', 'fork', 'because'), ('fork', 'because', 'i'), ('because', 'i', 'could'), ('i', 'could', 'not'), ('could', 'not', 'see'), ('not', 'see', 'any'), ('see', 'any', 'other'), ('any', 'other', 'wounds'), ('other', 'wounds', 'in'), ('wounds', 'in', 'the'), ('in', 'the', 'dog'), ('the', 'dog', 'and'), ('dog', 'and', 'i'), ('and', 'i', 'do'), ('i', 'do', 'not'), ('do', 'not', 'think'), ('not', 'think', 'you'), ('think', 'you', 'would'), ('you', 'would', 'stick'), ('would', 'stick', 'a'), ('stick', 'a', 'garden'), ('a', 'garden', 'fork'), ('garden', 'fork', 'into'), ('fork', 'into', 'a'), ('into', 'a', 'dog'), ('a', 'dog', 'after'), ('dog', 'after', 'it'), ('after', 'it', 'had'), ('it', 'had', 'died'), ('had', 'died', 'for'), ('died', 'for', 'some'), ('for', 'some', 'other'), ('some', 'other', 'reason'), ('other', 'reason', 'like'), ('reason', 'like', 'cancer'), ('like', 'cancer', 'for'), ('cancer', 'for', 'example'), ('for', 'example', 'or'), ('example', 'or', 'a'), ('or', 'a', 'road'), ('a', 'road', 'accident'), ('road', 'accident', 'but'), ('accident', 'but', 'i'), ('but', 'i', 'could'), ('i', 'could', 'not'), ('could', 'not', 'be'), ('not', 'be', 'certain'), ('be', 'certain', 'about'), ('certain', 'about', 'this')]\n"
     ]
    }
   ],
   "source": [
    "def call_ngram():\n",
    "    with open(f'{file_path}','r') as f:\n",
    "        for line in f:\n",
    "            line = line.lower()\n",
    "            # print(line, end = 'XX')\n",
    "            return ngram(tokenize(line),3)\n",
    "\n",
    "call_ngram()"
   ]
  },
  {
   "cell_type": "markdown",
   "metadata": {},
   "source": [
    "#### Assignment 10.1.c\n",
    "\n",
    "Implement an one_hot_encode function to create a vector from a numerical vector from a list of tokens."
   ]
  },
  {
   "cell_type": "code",
   "execution_count": 10,
   "metadata": {},
   "outputs": [],
   "source": [
    "def one_hot_encode(tokens, num_words):\n",
    "    token_index = {}\n",
    "    results = ''\n",
    "    return results"
   ]
  },
  {
   "cell_type": "markdown",
   "metadata": {},
   "source": [
    "#### 10.2\n",
    "\n",
    "Using listings 6.16, 6.17, and 6.18 in Deep Learning with Python as a guide, train a sequential model with embeddings on the IMDB data found in data/external/imdb/. Produce the model performance metrics and training and validation accuracy curves within the Jupyter notebook."
   ]
  },
  {
   "cell_type": "code",
   "execution_count": 11,
   "metadata": {},
   "outputs": [],
   "source": [
    "# Processing the labels of the raw IMDB data\n",
    "\n",
    "def load_raw_imdb(source_dir):\n",
    "\n",
    "    labels = []\n",
    "    texts = []\n",
    "\n",
    "    for label_type in ['neg','pos']:\n",
    "        dir_name = source_dir.joinpath(label_type) \n",
    "        for fname in os.listdir(dir_name):\n",
    "            if fname[-4:] == '.txt':\n",
    "                f = open(dir_name.joinpath(fname), encoding=\"utf8\")\n",
    "                texts.append(f.read())\n",
    "                f.close()\n",
    "                if label_type == 'neg':\n",
    "                    labels.append(0)\n",
    "                else:\n",
    "                    labels.append(1)\n",
    "    \n",
    "    labels = np.asarray(labels)\n",
    "    return texts,labels"
   ]
  },
  {
   "cell_type": "code",
   "execution_count": 12,
   "metadata": {},
   "outputs": [],
   "source": [
    "# Plotting the results from the training and validation set\n",
    "\n",
    "import matplotlib.pyplot as plt\n",
    "\n",
    "def plot_train_val(acc,val_acc,loss, val_loss):\n",
    "\n",
    "    epochs = range(1, len(acc) + 1)\n",
    "\n",
    "    plt.plot(epochs, acc, 'bo', label='Training acc')\n",
    "    if len(val_acc) == 0:\n",
    "        plt.title('Training Accuracy')\n",
    "    else:\n",
    "        plt.plot(epochs, val_acc, 'b', label='Validation acc')\n",
    "        plt.title('Training and validation accuracy')        \n",
    "        \n",
    "    plt.legend()\n",
    "    plt.figure()\n",
    "    \n",
    "    plt.plot(epochs, loss, 'bo', label='Training loss')\n",
    "    if len(val_loss) == 0:\n",
    "        plt.title('Training loss')\n",
    "    else:\n",
    "        plt.plot(epochs, val_loss, 'b', label='Validation loss')\n",
    "        plt.title('Training and validation loss')        \n",
    "        \n",
    "    plt.legend()\n",
    "    plt.show()"
   ]
  },
  {
   "cell_type": "code",
   "execution_count": 13,
   "metadata": {},
   "outputs": [
    {
     "name": "stdout",
     "output_type": "stream",
     "text": [
      "Found 88582 unique tokens.\n",
      "Shape of data tensor: (25000, 100)\n",
      "Shape of label tensor: (25000,)\n"
     ]
    }
   ],
   "source": [
    "# Tokenizing the text of the raw IMDB data\n",
    "\n",
    "from keras.preprocessing.text import Tokenizer\n",
    "from keras.preprocessing.sequence import pad_sequences\n",
    "import numpy as np\n",
    "\n",
    "\n",
    "train_dir = imdb_dir.joinpath('train')\n",
    "(texts,labels) = load_raw_imdb(train_dir)\n",
    "    \n",
    "# cuts off reviews after 100 words\n",
    "maxlen = 100\n",
    "# trains 200 samples\n",
    "training_samples = 200\n",
    "#validates on 10,000 samples\n",
    "validation_samples = 10000\n",
    "# considers only the top 10,000 words in the dataset\n",
    "max_words = 10000\n",
    "\n",
    "tokenizer = Tokenizer(num_words=max_words)\n",
    "tokenizer.fit_on_texts(texts)\n",
    "sequences = tokenizer.texts_to_sequences(texts)\n",
    "word_index = tokenizer.word_index\n",
    "print('Found %s unique tokens.' % len(word_index))\n",
    "data = pad_sequences(sequences, maxlen=maxlen)\n",
    "labels = np.asarray(labels)\n",
    "print('Shape of data tensor:', data.shape)\n",
    "print('Shape of label tensor:', labels.shape)\n",
    "\n",
    "# Splits the data into a training set and a validation set, but first shuffles the data,\n",
    "# because you’re starting with data in which samples are ordered (all negative first, then all positive)\n",
    "\n",
    "indices = np.arange(data.shape[0])\n",
    "np.random.shuffle(indices)\n",
    "data = data[indices]\n",
    "labels = labels[indices]\n",
    "\n",
    "x_train = data[:training_samples]\n",
    "y_train = labels[:training_samples]\n",
    "x_val = data[training_samples: training_samples + validation_samples]\n",
    "y_val = labels[training_samples: training_samples + validation_samples]"
   ]
  },
  {
   "cell_type": "code",
   "execution_count": 14,
   "metadata": {},
   "outputs": [
    {
     "name": "stdout",
     "output_type": "stream",
     "text": [
      "Found 400000 word vectors.\n",
      "Model: \"sequential\"\n",
      "_________________________________________________________________\n",
      "Layer (type)                 Output Shape              Param #   \n",
      "=================================================================\n",
      "embedding (Embedding)        (None, 100, 100)          1000000   \n",
      "_________________________________________________________________\n",
      "flatten (Flatten)            (None, 10000)             0         \n",
      "_________________________________________________________________\n",
      "dense (Dense)                (None, 32)                320032    \n",
      "_________________________________________________________________\n",
      "dense_1 (Dense)              (None, 1)                 33        \n",
      "=================================================================\n",
      "Total params: 1,320,065\n",
      "Trainable params: 1,320,065\n",
      "Non-trainable params: 0\n",
      "_________________________________________________________________\n"
     ]
    }
   ],
   "source": [
    "# Parsing the GloVe word-embeddings file\n",
    "glove_dir = '/home/jovyan/glove.6B'\n",
    "\n",
    "embeddings_index = {}\n",
    "f = open(os.path.join(glove_dir, 'glove.6B.100d.txt'))\n",
    "for line in f:\n",
    "    values = line.split()\n",
    "    word = values[0]\n",
    "    coefs = np.asarray(values[1:], dtype='float32')\n",
    "    embeddings_index[word] = coefs\n",
    "f.close()\n",
    "\n",
    "print('Found %s word vectors.' % len(embeddings_index))\n",
    "\n",
    "# Preparing the GloVe word-embeddings matrix\n",
    "\n",
    "embedding_dim = 100\n",
    "embedding_matrix = np.zeros((max_words, embedding_dim))\n",
    "for word, i in word_index.items():\n",
    "    if i < max_words:\n",
    "        embedding_vector = embeddings_index.get(word)\n",
    "        if embedding_vector is not None:\n",
    "            embedding_matrix[i] = embedding_vector\n",
    "            \n",
    "# Training the same model without pretrained word embeddings\n",
    "# Model Definition\n",
    "\n",
    "from keras.models import Sequential\n",
    "from keras.layers import Embedding, Flatten, Dense\n",
    "\n",
    "model = Sequential()\n",
    "model.add(Embedding(max_words, embedding_dim, input_length=maxlen))\n",
    "model.add(Flatten())\n",
    "model.add(Dense(32, activation='relu'))\n",
    "model.add(Dense(1, activation='sigmoid'))\n",
    "model.summary()\n"
   ]
  },
  {
   "cell_type": "code",
   "execution_count": 15,
   "metadata": {},
   "outputs": [
    {
     "name": "stdout",
     "output_type": "stream",
     "text": [
      "Epoch 1/10\n",
      "7/7 [==============================] - 1s 124ms/step - loss: 0.6924 - acc: 0.5100 - val_loss: 0.6936 - val_acc: 0.5075\n",
      "Epoch 2/10\n",
      "7/7 [==============================] - 1s 107ms/step - loss: 0.4739 - acc: 0.9950 - val_loss: 0.6922 - val_acc: 0.5223\n",
      "Epoch 3/10\n",
      "7/7 [==============================] - 1s 106ms/step - loss: 0.2491 - acc: 1.0000 - val_loss: 0.7039 - val_acc: 0.5111\n",
      "Epoch 4/10\n",
      "7/7 [==============================] - 1s 102ms/step - loss: 0.1051 - acc: 1.0000 - val_loss: 0.7021 - val_acc: 0.5253\n",
      "Epoch 5/10\n",
      "7/7 [==============================] - 1s 101ms/step - loss: 0.0485 - acc: 1.0000 - val_loss: 0.7085 - val_acc: 0.5244\n",
      "Epoch 6/10\n",
      "7/7 [==============================] - 1s 107ms/step - loss: 0.0250 - acc: 1.0000 - val_loss: 0.7173 - val_acc: 0.5230\n",
      "Epoch 7/10\n",
      "7/7 [==============================] - 1s 102ms/step - loss: 0.0138 - acc: 1.0000 - val_loss: 0.7189 - val_acc: 0.5257\n",
      "Epoch 8/10\n",
      "7/7 [==============================] - 1s 103ms/step - loss: 0.0081 - acc: 1.0000 - val_loss: 0.7262 - val_acc: 0.5264\n",
      "Epoch 9/10\n",
      "7/7 [==============================] - 1s 99ms/step - loss: 0.0048 - acc: 1.0000 - val_loss: 0.7332 - val_acc: 0.5257\n",
      "Epoch 10/10\n",
      "7/7 [==============================] - 1s 103ms/step - loss: 0.0030 - acc: 1.0000 - val_loss: 0.7359 - val_acc: 0.5270\n"
     ]
    }
   ],
   "source": [
    "# Training and Evaluating the model\n",
    "\n",
    "model.compile(optimizer='rmsprop',\n",
    "              loss='binary_crossentropy',\n",
    "              metrics=['acc'])\n",
    "history = model.fit(x_train, y_train,\n",
    "                    epochs=10,\n",
    "                    batch_size=32,\n",
    "                    validation_data=(x_val, y_val))\n"
   ]
  },
  {
   "cell_type": "markdown",
   "metadata": {},
   "source": [
    "#### The accuracy = 1.0"
   ]
  },
  {
   "cell_type": "code",
   "execution_count": 16,
   "metadata": {},
   "outputs": [],
   "source": [
    "#saving the model\n",
    "model.save_weights('glove_model.h5')"
   ]
  },
  {
   "cell_type": "code",
   "execution_count": 17,
   "metadata": {},
   "outputs": [
    {
     "data": {
      "image/png": "[encoded data removed]",
      "text/plain": [
       "<Figure size 432x288 with 1 Axes>"
      ]
     },
     "metadata": {
      "needs_background": "light"
     },
     "output_type": "display_data"
    },
    {
     "data": {
      "image/png": "[encoded data removed]",
      "text/plain": [
       "<Figure size 432x288 with 1 Axes>"
      ]
     },
     "metadata": {
      "needs_background": "light"
     },
     "output_type": "display_data"
    }
   ],
   "source": [
    "acc = history.history['acc']\n",
    "val_acc = history.history['val_acc']\n",
    "loss = history.history['loss']\n",
    "val_loss = history.history['val_loss']\n",
    "\n",
    "plot_train_val(acc,val_acc,loss,val_loss)"
   ]
  },
  {
   "cell_type": "code",
   "execution_count": 18,
   "metadata": {},
   "outputs": [
    {
     "name": "stdout",
     "output_type": "stream",
     "text": [
      "Shape of data tensor: (25000, 100)\n",
      "Shape of label tensor: (25000,)\n"
     ]
    }
   ],
   "source": [
    "# Tokenizing the data for the test set\n",
    "test_dir = imdb_dir.joinpath('test')\n",
    "(texts,labels) = load_raw_imdb(test_dir)\n",
    "                \n",
    "sequences = tokenizer.texts_to_sequences(texts)\n",
    "x_test = pad_sequences(sequences, maxlen=maxlen)\n",
    "y_test = np.asarray(labels)\n",
    "print('Shape of data tensor:', x_test.shape)\n",
    "print('Shape of label tensor:', y_test.shape)"
   ]
  },
  {
   "cell_type": "code",
   "execution_count": 19,
   "metadata": {},
   "outputs": [
    {
     "name": "stdout",
     "output_type": "stream",
     "text": [
      "782/782 [==============================] - 2s 2ms/step - loss: 0.7387 - acc: 0.5227\n"
     ]
    },
    {
     "data": {
      "text/plain": [
       "[0.7387346029281616, 0.5227199792861938]"
      ]
     },
     "execution_count": 19,
     "metadata": {},
     "output_type": "execute_result"
    }
   ],
   "source": [
    "# Load and evaluate the model on the test set\n",
    "model.load_weights('glove_model.h5')\n",
    "model.evaluate(x_test, y_test)"
   ]
  },
  {
   "cell_type": "code",
   "execution_count": 20,
   "metadata": {},
   "outputs": [],
   "source": [
    "#### The accuracy is 53.68 / 52.34 / 55.11"
   ]
  },
  {
   "cell_type": "code",
   "execution_count": 21,
   "metadata": {},
   "outputs": [
    {
     "data": {
      "image/png": "[encoded data removed]",
      "text/plain": [
       "<Figure size 432x288 with 1 Axes>"
      ]
     },
     "metadata": {
      "needs_background": "light"
     },
     "output_type": "display_data"
    },
    {
     "data": {
      "image/png": "[encoded data removed]",
      "text/plain": [
       "<Figure size 432x288 with 1 Axes>"
      ]
     },
     "metadata": {
      "needs_background": "light"
     },
     "output_type": "display_data"
    }
   ],
   "source": [
    "# Plotting the results from the test set\n",
    "\n",
    "acc = history.history['acc']\n",
    "loss = history.history['loss']\n",
    "val_acc = []\n",
    "val_loss = []\n",
    "\n",
    "plot_train_val(acc,val_acc,loss,val_loss)"
   ]
  },
  {
   "cell_type": "markdown",
   "metadata": {},
   "source": [
    "#### 10.3\n",
    "Using listing 6.27 in Deep Learning with Python as a guide, fit the same data with an LSTM layer. Produce the model performance metrics and training and validation accuracy curves within the Jupyter notebook."
   ]
  },
  {
   "cell_type": "code",
   "execution_count": 22,
   "metadata": {},
   "outputs": [
    {
     "name": "stdout",
     "output_type": "stream",
     "text": [
      "Loading Training data...\n",
      "25000 train sequences\n",
      "Loading Test data...\n",
      "25000 test sequences\n"
     ]
    }
   ],
   "source": [
    "# Processing the labels of the raw IMDB data\n",
    "train_dir = imdb_dir.joinpath('train')\n",
    "print('Loading Training data...')\n",
    " \n",
    "(input_train, y_train) = load_raw_imdb(train_dir)\n",
    "print(len(input_train), 'train sequences')\n",
    "\n",
    "test_dir = imdb_dir.joinpath('test')\n",
    "print('Loading Test data...')\n",
    " \n",
    "(input_test, y_test) = load_raw_imdb(test_dir)\n",
    "print(len(input_test), 'test sequences')"
   ]
  },
  {
   "cell_type": "code",
   "execution_count": 23,
   "metadata": {},
   "outputs": [
    {
     "name": "stdout",
     "output_type": "stream",
     "text": [
      "Loading data...\n",
      "25000 train sequences\n",
      "25000 test sequences\n",
      "Pad sequences (samples x time)\n",
      "input_train shape: (25000, 500)\n",
      "input_test shape: (25000, 500)\n"
     ]
    }
   ],
   "source": [
    "# Using the same train and test data set from the above dataset\n",
    "# Preparing the dataset differently\n",
    "from keras.preprocessing.text import Tokenizer\n",
    "from keras.preprocessing import sequence\n",
    "\n",
    "# Number of words to consider in the features\n",
    "max_features = 10000\n",
    "# Cuts off texts after this many words \n",
    "# (among the max_features most common words)\n",
    "maxlen = 500\n",
    "batch_size = 32\n",
    "\n",
    "train_dir = imdb_dir.joinpath('train')\n",
    "test_dir = imdb_dir.joinpath('test')\n",
    "print('Loading data...')\n",
    "(input_train, y_train) =  load_raw_imdb(train_dir)\n",
    "(input_test, y_test) = load_raw_imdb(test_dir)\n",
    "print(len(input_train), 'train sequences')\n",
    "print(len(input_test), 'test sequences')\n",
    "\n",
    "tokenizer = Tokenizer(num_words=max_features)\n",
    "\n",
    "print('Pad sequences (samples x time)')\n",
    "tokenizer.fit_on_texts(input_train)\n",
    "sequences = tokenizer.texts_to_sequences(input_train)\n",
    "input_train = sequence.pad_sequences(sequences, maxlen=maxlen)\n",
    "\n",
    "tokenizer.fit_on_texts(input_test)\n",
    "sequences = tokenizer.texts_to_sequences(input_test)\n",
    "input_test = sequence.pad_sequences(sequences, maxlen=maxlen)\n",
    "print('input_train shape:', input_train.shape)\n",
    "print('input_test shape:', input_test.shape)"
   ]
  },
  {
   "cell_type": "code",
   "execution_count": 24,
   "metadata": {},
   "outputs": [
    {
     "name": "stdout",
     "output_type": "stream",
     "text": [
      "Model: \"sequential_1\"\n",
      "_________________________________________________________________\n",
      "Layer (type)                 Output Shape              Param #   \n",
      "=================================================================\n",
      "embedding_1 (Embedding)      (None, None, 32)          320000    \n",
      "_________________________________________________________________\n",
      "lstm (LSTM)                  (None, 32)                8320      \n",
      "_________________________________________________________________\n",
      "dense_2 (Dense)              (None, 1)                 33        \n",
      "=================================================================\n",
      "Total params: 328,353\n",
      "Trainable params: 328,353\n",
      "Non-trainable params: 0\n",
      "_________________________________________________________________\n"
     ]
    }
   ],
   "source": [
    "# Using LSTM layers in keras\n",
    "# Model summary\n",
    "\n",
    "from keras.models import Sequential\n",
    "from keras.layers import Embedding, Flatten, Dense\n",
    "from keras.layers import LSTM\n",
    "\n",
    "model = Sequential()\n",
    "model.add(Embedding(max_features, 32))\n",
    "model.add(LSTM(32))\n",
    "model.add(Dense(1, activation='sigmoid'))\n",
    "model.summary()"
   ]
  },
  {
   "cell_type": "code",
   "execution_count": 25,
   "metadata": {},
   "outputs": [
    {
     "name": "stdout",
     "output_type": "stream",
     "text": [
      "Epoch 1/10\n",
      "157/157 [==============================] - 68s 434ms/step - loss: 0.5133 - acc: 0.7466 - val_loss: 0.4263 - val_acc: 0.9150\n",
      "Epoch 2/10\n",
      "157/157 [==============================] - 67s 426ms/step - loss: 0.2955 - acc: 0.8846 - val_loss: 0.5512 - val_acc: 0.7664\n",
      "Epoch 3/10\n",
      "157/157 [==============================] - 66s 424ms/step - loss: 0.2331 - acc: 0.9118 - val_loss: 0.2378 - val_acc: 0.9088\n",
      "Epoch 4/10\n",
      "157/157 [==============================] - 67s 426ms/step - loss: 0.1982 - acc: 0.9261 - val_loss: 0.4095 - val_acc: 0.8612\n",
      "Epoch 5/10\n",
      "157/157 [==============================] - 68s 433ms/step - loss: 0.1721 - acc: 0.9380 - val_loss: 0.7598 - val_acc: 0.7462\n",
      "Epoch 6/10\n",
      "157/157 [==============================] - 67s 424ms/step - loss: 0.1592 - acc: 0.9423 - val_loss: 1.0047 - val_acc: 0.6344\n",
      "Epoch 7/10\n",
      "157/157 [==============================] - 68s 430ms/step - loss: 0.1386 - acc: 0.9508 - val_loss: 0.3880 - val_acc: 0.8498\n",
      "Epoch 8/10\n",
      "157/157 [==============================] - 74s 472ms/step - loss: 0.1242 - acc: 0.9576 - val_loss: 0.6583 - val_acc: 0.7432\n",
      "Epoch 9/10\n",
      "157/157 [==============================] - 74s 473ms/step - loss: 0.1172 - acc: 0.9605 - val_loss: 0.4909 - val_acc: 0.8358\n",
      "Epoch 10/10\n",
      "157/157 [==============================] - 74s 474ms/step - loss: 0.1061 - acc: 0.9645 - val_loss: 0.6454 - val_acc: 0.7912\n"
     ]
    }
   ],
   "source": [
    "# Training and evaluating the model\n",
    "\n",
    "model.compile(optimizer='rmsprop',\n",
    "              loss='binary_crossentropy',\n",
    "              metrics=['acc'])\n",
    "history = model.fit(input_train, y_train,\n",
    "                    epochs=10,\n",
    "                    batch_size=128,\n",
    "                    validation_split=0.2)"
   ]
  },
  {
   "cell_type": "markdown",
   "metadata": {},
   "source": [
    "#### Accuracy = 96.45"
   ]
  },
  {
   "cell_type": "code",
   "execution_count": 26,
   "metadata": {},
   "outputs": [],
   "source": [
    "#saving the model\n",
    "model.save_weights('LSTM_model.h5')"
   ]
  },
  {
   "cell_type": "code",
   "execution_count": 27,
   "metadata": {},
   "outputs": [
    {
     "data": {
      "image/png": "[encoded data removed]",
      "text/plain": [
       "<Figure size 432x288 with 1 Axes>"
      ]
     },
     "metadata": {
      "needs_background": "light"
     },
     "output_type": "display_data"
    },
    {
     "data": {
      "image/png": "[encoded data removed]",
      "text/plain": [
       "<Figure size 432x288 with 1 Axes>"
      ]
     },
     "metadata": {
      "needs_background": "light"
     },
     "output_type": "display_data"
    }
   ],
   "source": [
    "# Plotting the results from Training and validation accurary\n",
    "\n",
    "acc = history.history['acc']\n",
    "loss = history.history['loss']\n",
    "val_acc = history.history['val_acc']\n",
    "val_loss = history.history['val_loss']\n",
    "\n",
    "plot_train_val(acc,val_acc,loss,val_loss)"
   ]
  },
  {
   "cell_type": "markdown",
   "metadata": {},
   "source": [
    "#### 10.4\n",
    "Using listing 6.46 in Deep Learning with Python as a guide, fit the same data with a simple 1D convnet. Produce the model performance metrics and training and validation accuracy curves within the Jupyter notebook."
   ]
  },
  {
   "cell_type": "code",
   "execution_count": 28,
   "metadata": {},
   "outputs": [
    {
     "name": "stdout",
     "output_type": "stream",
     "text": [
      "Model: \"sequential_2\"\n",
      "_________________________________________________________________\n",
      "Layer (type)                 Output Shape              Param #   \n",
      "=================================================================\n",
      "embedding_2 (Embedding)      (None, 500, 128)          1280000   \n",
      "_________________________________________________________________\n",
      "conv1d (Conv1D)              (None, 494, 32)           28704     \n",
      "_________________________________________________________________\n",
      "max_pooling1d (MaxPooling1D) (None, 98, 32)            0         \n",
      "_________________________________________________________________\n",
      "conv1d_1 (Conv1D)            (None, 92, 32)            7200      \n",
      "_________________________________________________________________\n",
      "global_max_pooling1d (Global (None, 32)                0         \n",
      "_________________________________________________________________\n",
      "dense_3 (Dense)              (None, 1)                 33        \n",
      "=================================================================\n",
      "Total params: 1,315,937\n",
      "Trainable params: 1,315,937\n",
      "Non-trainable params: 0\n",
      "_________________________________________________________________\n"
     ]
    }
   ],
   "source": [
    "# Defining a model with simple 1D convnet on the same IMDB raw data\n",
    "\n",
    "from keras.models import Sequential\n",
    "from keras import layers\n",
    "from keras.optimizers import RMSprop\n",
    "\n",
    "model = Sequential()\n",
    "model.add(layers.Embedding(max_features, 128, input_length=maxlen))\n",
    "model.add(layers.Conv1D(32, 7, activation='relu'))\n",
    "model.add(layers.MaxPooling1D(5))\n",
    "model.add(layers.Conv1D(32, 7, activation='relu'))\n",
    "model.add(layers.GlobalMaxPooling1D())\n",
    "model.add(layers.Dense(1, activation='sigmoid'))\n",
    "model.summary()"
   ]
  },
  {
   "cell_type": "code",
   "execution_count": 29,
   "metadata": {},
   "outputs": [
    {
     "name": "stdout",
     "output_type": "stream",
     "text": [
      "Epoch 1/10\n",
      "157/157 [==============================] - 15s 98ms/step - loss: 0.6636 - acc: 0.6239 - val_loss: 0.9732 - val_acc: 0.0000e+00\n",
      "Epoch 2/10\n",
      "157/157 [==============================] - 16s 101ms/step - loss: 0.6522 - acc: 0.6250 - val_loss: 0.9588 - val_acc: 0.0000e+00\n",
      "Epoch 3/10\n",
      "157/157 [==============================] - 16s 101ms/step - loss: 0.6306 - acc: 0.6251 - val_loss: 0.9168 - val_acc: 0.0014\n",
      "Epoch 4/10\n",
      "157/157 [==============================] - 16s 105ms/step - loss: 0.5666 - acc: 0.6758 - val_loss: 0.8132 - val_acc: 0.3312\n",
      "Epoch 5/10\n",
      "157/157 [==============================] - 16s 104ms/step - loss: 0.4559 - acc: 0.8142 - val_loss: 0.5637 - val_acc: 0.7414\n",
      "Epoch 6/10\n",
      "157/157 [==============================] - 16s 103ms/step - loss: 0.3622 - acc: 0.8589 - val_loss: 0.4786 - val_acc: 0.7946\n",
      "Epoch 7/10\n",
      "157/157 [==============================] - 16s 100ms/step - loss: 0.3033 - acc: 0.8810 - val_loss: 0.5067 - val_acc: 0.7698\n",
      "Epoch 8/10\n",
      "157/157 [==============================] - 15s 96ms/step - loss: 0.2674 - acc: 0.8954 - val_loss: 0.3735 - val_acc: 0.8486\n",
      "Epoch 9/10\n",
      "157/157 [==============================] - 13s 82ms/step - loss: 0.2416 - acc: 0.9087 - val_loss: 0.3900 - val_acc: 0.8378\n",
      "Epoch 10/10\n",
      "157/157 [==============================] - 11s 72ms/step - loss: 0.2213 - acc: 0.9144 - val_loss: 0.3765 - val_acc: 0.8418\n"
     ]
    }
   ],
   "source": [
    "# Training and evaluating the model\n",
    "\n",
    "model.compile(optimizer=RMSprop(lr=1e-4),\n",
    "              loss='binary_crossentropy',\n",
    "              metrics=['acc'])\n",
    "\n",
    "history = model.fit(input_train, y_train,\n",
    "                    epochs=10,\n",
    "                    batch_size=128,\n",
    "                    validation_split=0.2)"
   ]
  },
  {
   "cell_type": "code",
   "execution_count": 30,
   "metadata": {},
   "outputs": [],
   "source": [
    "#saving the model\n",
    "model.save_weights('Conv1D_model.h5')"
   ]
  },
  {
   "cell_type": "code",
   "execution_count": 31,
   "metadata": {},
   "outputs": [
    {
     "data": {
      "image/png": "[encoded data removed]",
      "text/plain": [
       "<Figure size 432x288 with 1 Axes>"
      ]
     },
     "metadata": {
      "needs_background": "light"
     },
     "output_type": "display_data"
    },
    {
     "data": {
      "image/png": "[encoded data removed]",
      "text/plain": [
       "<Figure size 432x288 with 1 Axes>"
      ]
     },
     "metadata": {
      "needs_background": "light"
     },
     "output_type": "display_data"
    }
   ],
   "source": [
    "# Plotting the results from Training and validation accurary\n",
    "\n",
    "acc = history.history['acc']\n",
    "loss = history.history['loss']\n",
    "val_acc = history.history['val_acc']\n",
    "val_loss = history.history['val_loss']\n",
    "\n",
    "plot_train_val(acc,val_acc,loss,val_loss)"
   ]
  },
  {
   "cell_type": "code",
   "execution_count": null,
   "metadata": {},
   "outputs": [],
   "source": []
  }
 ],
 "metadata": {
  "interpreter": {
   "hash": "eaa595ef62feebb7391c21f4631d0608c59ea8040a4240c26bcafde459863554"
  },
  "kernelspec": {
   "display_name": "Python 3",
   "language": "python",
   "name": "python3"
  },
  "language_info": {
   "codemirror_mode": {
    "name": "ipython",
    "version": 3
   },
   "file_extension": ".py",
   "mimetype": "text/x-python",
   "name": "python",
   "nbconvert_exporter": "python",
   "pygments_lexer": "ipython3",
   "version": "3.8.3"
  }
 },
 "nbformat": 4,
 "nbformat_minor": 2
}
