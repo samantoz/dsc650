{
 "cells": [
  {
   "cell_type": "code",
   "execution_count": null,
   "metadata": {},
   "outputs": [],
   "source": [
    "import os\n",
    "import string\n",
    "import re\n",
    "from pathlib import Path"
   ]
  },
  {
   "cell_type": "code",
   "execution_count": null,
   "metadata": {},
   "outputs": [],
   "source": [
    "current_dir = Path(os.getcwd()).absolute()\n",
    "results_dir = current_dir.joinpath('results')\n",
    "results_dir.mkdir(parents=True, exist_ok=True)\n",
    "data_dir = current_dir.joinpath('data')\n",
    "data_dir.mkdir(parents=True, exist_ok=True)\n",
    "external_data_dir = current_dir.parent.parent.parent.joinpath('data')\n",
    "imdb_dir = external_data_dir.joinpath(r'external/imdb/aclImdb')\n",
    "\n",
    "\n",
    "\n",
    "\n",
    "print(current_dir)\n",
    "print(results_dir)\n",
    "print(data_dir)\n",
    "print(imdb_dir)"
   ]
  },
  {
   "cell_type": "markdown",
   "metadata": {},
   "source": [
    "#### Assignment 10.1.a  \n",
    "\n",
    "Create a tokenize function that splits a sentence into words. Ensure that your tokenizer removes basic punctuation."
   ]
  },
  {
   "cell_type": "code",
   "execution_count": null,
   "metadata": {},
   "outputs": [],
   "source": [
    "file_name = \"sample.txt\"\n",
    "file_path = f\"{data_dir}/{file_name}\"\n",
    "file_path"
   ]
  },
  {
   "cell_type": "code",
   "execution_count": null,
   "metadata": {},
   "outputs": [],
   "source": [
    "def tokenize(sentence):\n",
    "    tokens = []\n",
    "    words = sentence.split()\n",
    "    # tokenize the sentence\n",
    "    for word in words:\n",
    "        # allowing only alphabets\n",
    "        word = re.sub(\"[^a-zA-Z]\", \"\", word)\n",
    "        tokens.append(word)\n",
    "    return tokens"
   ]
  },
  {
   "cell_type": "code",
   "execution_count": null,
   "metadata": {},
   "outputs": [],
   "source": [
    "def call_tokenize():\n",
    "    with open(f'{file_path}','r') as f:\n",
    "        for line in f:\n",
    "            line = line.lower()\n",
    "                        \n",
    "            return tokenize(line)\n",
    "\n",
    "call_tokenize()"
   ]
  },
  {
   "cell_type": "markdown",
   "metadata": {},
   "source": [
    "#### Assignment 10.1.b\n",
    "\n",
    "Implement an `ngram` function that splits tokens into N-grams. "
   ]
  },
  {
   "cell_type": "code",
   "execution_count": null,
   "metadata": {},
   "outputs": [],
   "source": [
    "def ngram(tokens, n):\n",
    "    # ngrams = []\n",
    "    # Create ngrams\n",
    "    # return ngrams\n",
    "    return print(list(zip(*[tokens[i:] for i in range(n)])))"
   ]
  },
  {
   "cell_type": "code",
   "execution_count": null,
   "metadata": {},
   "outputs": [],
   "source": [
    "def call_ngram():\n",
    "    with open(f'{file_path}','r') as f:\n",
    "        for line in f:\n",
    "            line = line.lower()\n",
    "            # print(line, end = 'XX')\n",
    "            return ngram(tokenize(line),3)\n",
    "\n",
    "call_ngram()"
   ]
  },
  {
   "cell_type": "markdown",
   "metadata": {},
   "source": [
    "#### Assignment 10.1.c\n",
    "\n",
    "Implement an one_hot_encode function to create a vector from a numerical vector from a list of tokens."
   ]
  },
  {
   "cell_type": "code",
   "execution_count": null,
   "metadata": {},
   "outputs": [],
   "source": [
    "def one_hot_encode(tokens, num_words):\n",
    "    token_index = {}\n",
    "    results = ''\n",
    "    return results"
   ]
  },
  {
   "cell_type": "markdown",
   "metadata": {},
   "source": [
    "#### 10.2\n",
    "\n",
    "Using listings 6.16, 6.17, and 6.18 in Deep Learning with Python as a guide, train a sequential model with embeddings on the IMDB data found in data/external/imdb/. Produce the model performance metrics and training and validation accuracy curves within the Jupyter notebook."
   ]
  },
  {
   "cell_type": "code",
   "execution_count": null,
   "metadata": {},
   "outputs": [],
   "source": [
    "# Processing the labels of the raw IMDB data\n",
    "\n",
    "def load_raw_imdb(source_dir):\n",
    "\n",
    "    labels = []\n",
    "    texts = []\n",
    "\n",
    "    for label_type in ['neg','pos']:\n",
    "        dir_name = source_dir.joinpath(label_type) \n",
    "        for fname in os.listdir(dir_name):\n",
    "            if fname[-4:] == '.txt':\n",
    "                f = open(dir_name.joinpath(fname), encoding=\"utf8\")\n",
    "                texts.append(f.read())\n",
    "                f.close()\n",
    "                if label_type == 'neg':\n",
    "                    labels.append(0)\n",
    "                else:\n",
    "                    labels.append(1)\n",
    "    \n",
    "    labels = np.asarray(labels)\n",
    "    return texts,labels"
   ]
  },
  {
   "cell_type": "code",
   "execution_count": null,
   "metadata": {},
   "outputs": [],
   "source": [
    "# Plotting the results from the training and validation set\n",
    "\n",
    "import matplotlib.pyplot as plt\n",
    "\n",
    "def plot_train_val(acc,val_acc,loss, val_loss):\n",
    "\n",
    "    epochs = range(1, len(acc) + 1)\n",
    "\n",
    "    plt.plot(epochs, acc, 'bo', label='Training acc')\n",
    "    if len(val_acc) == 0:\n",
    "        plt.title('Training Accuracy')\n",
    "    else:\n",
    "        plt.plot(epochs, val_acc, 'b', label='Validation acc')\n",
    "        plt.title('Training and validation accuracy')        \n",
    "        \n",
    "    plt.legend()\n",
    "    plt.figure()\n",
    "    \n",
    "    plt.plot(epochs, loss, 'bo', label='Training loss')\n",
    "    if len(val_loss) == 0:\n",
    "        plt.title('Training loss')\n",
    "    else:\n",
    "        plt.plot(epochs, val_loss, 'b', label='Validation loss')\n",
    "        plt.title('Training and validation loss')        \n",
    "        \n",
    "    plt.legend()\n",
    "    plt.show()"
   ]
  },
  {
   "cell_type": "code",
   "execution_count": null,
   "metadata": {},
   "outputs": [],
   "source": [
    "# Tokenizing the text of the raw IMDB data\n",
    "\n",
    "from keras.preprocessing.text import Tokenizer\n",
    "from keras.preprocessing.sequence import pad_sequences\n",
    "import numpy as np\n",
    "\n",
    "\n",
    "train_dir = imdb_dir.joinpath('train')\n",
    "(texts,labels) = load_raw_imdb(train_dir)\n",
    "    \n",
    "# cuts off reviews after 100 words\n",
    "maxlen = 100\n",
    "# trains 200 samples\n",
    "training_samples = 200\n",
    "#validates on 10,000 samples\n",
    "validation_samples = 10000\n",
    "# considers only the top 10,000 words in the dataset\n",
    "max_words = 10000\n",
    "\n",
    "tokenizer = Tokenizer(num_words=max_words)\n",
    "tokenizer.fit_on_texts(texts)\n",
    "sequences = tokenizer.texts_to_sequences(texts)\n",
    "word_index = tokenizer.word_index\n",
    "print('Found %s unique tokens.' % len(word_index))\n",
    "data = pad_sequences(sequences, maxlen=maxlen)\n",
    "labels = np.asarray(labels)\n",
    "print('Shape of data tensor:', data.shape)\n",
    "print('Shape of label tensor:', labels.shape)\n",
    "\n",
    "# Splits the data into a training set and a validation set, but first shuffles the data,\n",
    "# because you’re starting with data in which samples are ordered (all negative first, then all positive)\n",
    "\n",
    "indices = np.arange(data.shape[0])\n",
    "np.random.shuffle(indices)\n",
    "data = data[indices]\n",
    "labels = labels[indices]\n",
    "\n",
    "x_train = data[:training_samples]\n",
    "y_train = labels[:training_samples]\n",
    "x_val = data[training_samples: training_samples + validation_samples]\n",
    "y_val = labels[training_samples: training_samples + validation_samples]"
   ]
  },
  {
   "cell_type": "code",
   "execution_count": null,
   "metadata": {},
   "outputs": [],
   "source": [
    "# Parsing the GloVe word-embeddings file\n",
    "glove_dir = '/home/jovyan/glove.6B'\n",
    "\n",
    "embeddings_index = {}\n",
    "f = open(os.path.join(glove_dir, 'glove.6B.100d.txt'))\n",
    "for line in f:\n",
    "    values = line.split()\n",
    "    word = values[0]\n",
    "    coefs = np.asarray(values[1:], dtype='float32')\n",
    "    embeddings_index[word] = coefs\n",
    "f.close()\n",
    "\n",
    "print('Found %s word vectors.' % len(embeddings_index))\n",
    "\n",
    "# Preparing the GloVe word-embeddings matrix\n",
    "\n",
    "embedding_dim = 100\n",
    "embedding_matrix = np.zeros((max_words, embedding_dim))\n",
    "for word, i in word_index.items():\n",
    "    if i < max_words:\n",
    "        embedding_vector = embeddings_index.get(word)\n",
    "        if embedding_vector is not None:\n",
    "            embedding_matrix[i] = embedding_vector\n",
    "            \n",
    "# Training the same model without pretrained word embeddings\n",
    "# Model Definition\n",
    "\n",
    "from keras.models import Sequential\n",
    "from keras.layers import Embedding, Flatten, Dense\n",
    "\n",
    "model = Sequential()\n",
    "model.add(Embedding(max_words, embedding_dim, input_length=maxlen))\n",
    "model.add(Flatten())\n",
    "model.add(Dense(32, activation='relu'))\n",
    "model.add(Dense(1, activation='sigmoid'))\n",
    "model.summary()\n"
   ]
  },
  {
   "cell_type": "code",
   "execution_count": null,
   "metadata": {},
   "outputs": [],
   "source": [
    "# Training and Evaluating the model\n",
    "\n",
    "model.compile(optimizer='rmsprop',\n",
    "              loss='binary_crossentropy',\n",
    "              metrics=['acc'])\n",
    "history = model.fit(x_train, y_train,\n",
    "                    epochs=10,\n",
    "                    batch_size=32,\n",
    "                    validation_data=(x_val, y_val))\n"
   ]
  },
  {
   "cell_type": "markdown",
   "metadata": {},
   "source": [
    "#### The accuracy = 1.0"
   ]
  },
  {
   "cell_type": "code",
   "execution_count": null,
   "metadata": {},
   "outputs": [],
   "source": [
    "#saving the model\n",
    "model.save_weights('glove_model.h5')"
   ]
  },
  {
   "cell_type": "code",
   "execution_count": null,
   "metadata": {},
   "outputs": [],
   "source": [
    "acc = history.history['acc']\n",
    "val_acc = history.history['val_acc']\n",
    "loss = history.history['loss']\n",
    "val_loss = history.history['val_loss']\n",
    "\n",
    "plot_train_val(acc,val_acc,loss,val_loss)"
   ]
  },
  {
   "cell_type": "code",
   "execution_count": null,
   "metadata": {},
   "outputs": [],
   "source": [
    "# Tokenizing the data for the test set\n",
    "test_dir = imdb_dir.joinpath('test')\n",
    "(texts,labels) = load_raw_imdb(test_dir)\n",
    "                \n",
    "sequences = tokenizer.texts_to_sequences(texts)\n",
    "x_test = pad_sequences(sequences, maxlen=maxlen)\n",
    "y_test = np.asarray(labels)\n",
    "print('Shape of data tensor:', x_test.shape)\n",
    "print('Shape of label tensor:', y_test.shape)"
   ]
  },
  {
   "cell_type": "code",
   "execution_count": null,
   "metadata": {},
   "outputs": [],
   "source": [
    "# Load and evaluate the model on the test set\n",
    "model.load_weights('glove_model.h5')\n",
    "model.evaluate(x_test, y_test)"
   ]
  },
  {
   "cell_type": "code",
   "execution_count": null,
   "metadata": {},
   "outputs": [],
   "source": [
    "#### The accuracy is 53.68 / 52.34 / 55.11"
   ]
  },
  {
   "cell_type": "code",
   "execution_count": null,
   "metadata": {},
   "outputs": [],
   "source": [
    "# Plotting the results from the test set\n",
    "\n",
    "acc = history.history['acc']\n",
    "loss = history.history['loss']\n",
    "val_acc = []\n",
    "val_loss = []\n",
    "\n",
    "plot_train_val(acc,val_acc,loss,val_loss)"
   ]
  },
  {
   "cell_type": "markdown",
   "metadata": {},
   "source": [
    "#### 10.3\n",
    "Using listing 6.27 in Deep Learning with Python as a guide, fit the same data with an LSTM layer. Produce the model performance metrics and training and validation accuracy curves within the Jupyter notebook."
   ]
  },
  {
   "cell_type": "code",
   "execution_count": null,
   "metadata": {},
   "outputs": [],
   "source": [
    "# Processing the labels of the raw IMDB data\n",
    "train_dir = imdb_dir.joinpath('train')\n",
    "print('Loading Training data...')\n",
    " \n",
    "(input_train, y_train) = load_raw_imdb(train_dir)\n",
    "print(len(input_train), 'train sequences')\n",
    "\n",
    "test_dir = imdb_dir.joinpath('test')\n",
    "print('Loading Test data...')\n",
    " \n",
    "(input_test, y_test) = load_raw_imdb(test_dir)\n",
    "print(len(input_test), 'test sequences')"
   ]
  },
  {
   "cell_type": "code",
   "execution_count": null,
   "metadata": {},
   "outputs": [],
   "source": [
    "# Using the same train and test data set from the above dataset\n",
    "# Preparing the dataset differently\n",
    "from keras.preprocessing.text import Tokenizer\n",
    "from keras.preprocessing import sequence\n",
    "\n",
    "# Number of words to consider in the features\n",
    "max_features = 10000\n",
    "# Cuts off texts after this many words \n",
    "# (among the max_features most common words)\n",
    "maxlen = 500\n",
    "batch_size = 32\n",
    "\n",
    "train_dir = imdb_dir.joinpath('train')\n",
    "test_dir = imdb_dir.joinpath('test')\n",
    "print('Loading data...')\n",
    "(input_train, y_train) =  load_raw_imdb(train_dir)\n",
    "(input_test, y_test) = load_raw_imdb(test_dir)\n",
    "print(len(input_train), 'train sequences')\n",
    "print(len(input_test), 'test sequences')\n",
    "\n",
    "tokenizer = Tokenizer(num_words=max_features)\n",
    "\n",
    "print('Pad sequences (samples x time)')\n",
    "tokenizer.fit_on_texts(input_train)\n",
    "sequences = tokenizer.texts_to_sequences(input_train)\n",
    "input_train = sequence.pad_sequences(sequences, maxlen=maxlen)\n",
    "\n",
    "tokenizer.fit_on_texts(input_test)\n",
    "sequences = tokenizer.texts_to_sequences(input_test)\n",
    "input_test = sequence.pad_sequences(sequences, maxlen=maxlen)\n",
    "print('input_train shape:', input_train.shape)\n",
    "print('input_test shape:', input_test.shape)"
   ]
  },
  {
   "cell_type": "code",
   "execution_count": null,
   "metadata": {},
   "outputs": [],
   "source": [
    "# Using LSTM layers in keras\n",
    "# Model summary\n",
    "\n",
    "from keras.models import Sequential\n",
    "from keras.layers import Embedding, Flatten, Dense\n",
    "from keras.layers import LSTM\n",
    "\n",
    "model = Sequential()\n",
    "model.add(Embedding(max_features, 32))\n",
    "model.add(LSTM(32))\n",
    "model.add(Dense(1, activation='sigmoid'))\n",
    "model.summary()"
   ]
  },
  {
   "cell_type": "code",
   "execution_count": null,
   "metadata": {},
   "outputs": [],
   "source": [
    "# Training and evaluating the model\n",
    "\n",
    "model.compile(optimizer='rmsprop',\n",
    "              loss='binary_crossentropy',\n",
    "              metrics=['acc'])\n",
    "history = model.fit(input_train, y_train,\n",
    "                    epochs=10,\n",
    "                    batch_size=128,\n",
    "                    validation_split=0.2)"
   ]
  },
  {
   "cell_type": "markdown",
   "metadata": {},
   "source": [
    "#### Accuracy = 96.45"
   ]
  },
  {
   "cell_type": "code",
   "execution_count": null,
   "metadata": {},
   "outputs": [],
   "source": [
    "#saving the model\n",
    "model.save_weights('LSTM_model.h5')"
   ]
  },
  {
   "cell_type": "code",
   "execution_count": null,
   "metadata": {},
   "outputs": [],
   "source": [
    "# Plotting the results from Training and validation accurary\n",
    "\n",
    "acc = history.history['acc']\n",
    "loss = history.history['loss']\n",
    "val_acc = history.history['val_acc']\n",
    "val_loss = history.history['val_loss']\n",
    "\n",
    "plot_train_val(acc,val_acc,loss,val_loss)"
   ]
  },
  {
   "cell_type": "markdown",
   "metadata": {},
   "source": [
    "#### 10.4\n",
    "Using listing 6.46 in Deep Learning with Python as a guide, fit the same data with a simple 1D convnet. Produce the model performance metrics and training and validation accuracy curves within the Jupyter notebook."
   ]
  },
  {
   "cell_type": "code",
   "execution_count": null,
   "metadata": {},
   "outputs": [],
   "source": [
    "# Defining a model with simple 1D convnet on the same IMDB raw data\n",
    "\n",
    "from keras.models import Sequential\n",
    "from keras import layers\n",
    "from keras.optimizers import RMSprop\n",
    "\n",
    "model = Sequential()\n",
    "model.add(layers.Embedding(max_features, 128, input_length=maxlen))\n",
    "model.add(layers.Conv1D(32, 7, activation='relu'))\n",
    "model.add(layers.MaxPooling1D(5))\n",
    "model.add(layers.Conv1D(32, 7, activation='relu'))\n",
    "model.add(layers.GlobalMaxPooling1D())\n",
    "model.add(layers.Dense(1, activation='sigmoid'))\n",
    "model.summary()"
   ]
  },
  {
   "cell_type": "code",
   "execution_count": null,
   "metadata": {},
   "outputs": [],
   "source": [
    "# Training and evaluating the model\n",
    "\n",
    "model.compile(optimizer=RMSprop(lr=1e-4),\n",
    "              loss='binary_crossentropy',\n",
    "              metrics=['acc'])\n",
    "\n",
    "history = model.fit(input_train, y_train,\n",
    "                    epochs=10,\n",
    "                    batch_size=128,\n",
    "                    validation_split=0.2)"
   ]
  },
  {
   "cell_type": "code",
   "execution_count": null,
   "metadata": {},
   "outputs": [],
   "source": [
    "#saving the model\n",
    "model.save_weights('Conv1D_model.h5')"
   ]
  },
  {
   "cell_type": "code",
   "execution_count": null,
   "metadata": {},
   "outputs": [],
   "source": [
    "# Plotting the results from Training and validation accurary\n",
    "\n",
    "acc = history.history['acc']\n",
    "loss = history.history['loss']\n",
    "val_acc = history.history['val_acc']\n",
    "val_loss = history.history['val_loss']\n",
    "\n",
    "plot_train_val(acc,val_acc,loss,val_loss)"
   ]
  },
  {
   "cell_type": "code",
   "execution_count": null,
   "metadata": {},
   "outputs": [],
   "source": []
  }
 ],
 "metadata": {
  "interpreter": {
   "hash": "eaa595ef62feebb7391c21f4631d0608c59ea8040a4240c26bcafde459863554"
  },
  "kernelspec": {
   "display_name": "Python 3",
   "language": "python",
   "name": "python3"
  },
  "language_info": {
   "codemirror_mode": {
    "name": "ipython",
    "version": 3
   },
   "file_extension": ".py",
   "mimetype": "text/x-python",
   "name": "python",
   "nbconvert_exporter": "python",
   "pygments_lexer": "ipython3",
   "version": "3.6.10"
  }
 },
 "nbformat": 4,
 "nbformat_minor": 2
}
