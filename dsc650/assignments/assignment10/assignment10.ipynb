{
 "cells": [
  {
   "cell_type": "code",
   "execution_count": 5,
   "metadata": {},
   "outputs": [],
   "source": [
    "import os\n",
    "import string\n",
    "import re\n",
    "from pathlib import Path"
   ]
  },
  {
   "cell_type": "code",
   "execution_count": 6,
   "metadata": {},
   "outputs": [
    {
     "name": "stdout",
     "output_type": "stream",
     "text": [
      "/home/jovyan/dsc650/dsc650/assignments/assignment10\n",
      "/home/jovyan/dsc650/dsc650/assignments/assignment10/results\n",
      "/home/jovyan/dsc650/dsc650/assignments/assignment10/data\n",
      "/home/jovyan/dsc650/data/external/imdb/aclImdb\n"
     ]
    }
   ],
   "source": [
    "current_dir = Path(os.getcwd()).absolute()\n",
    "results_dir = current_dir.joinpath('results')\n",
    "results_dir.mkdir(parents=True, exist_ok=True)\n",
    "data_dir = current_dir.joinpath('data')\n",
    "data_dir.mkdir(parents=True, exist_ok=True)\n",
    "external_data_dir = current_dir.parent.parent.parent.joinpath('data')\n",
    "imdb_dir = external_data_dir.joinpath(r'external/imdb/aclImdb')\n",
    "\n",
    "\n",
    "\n",
    "\n",
    "print(current_dir)\n",
    "print(results_dir)\n",
    "print(data_dir)\n",
    "print(imdb_dir)"
   ]
  },
  {
   "cell_type": "markdown",
   "metadata": {},
   "source": [
    "#### Assignment 10.1.a  \n",
    "\n",
    "Create a tokenize function that splits a sentence into words. Ensure that your tokenizer removes basic punctuation."
   ]
  },
  {
   "cell_type": "code",
   "execution_count": 8,
   "metadata": {},
   "outputs": [
    {
     "data": {
      "text/plain": [
       "'/home/jovyan/dsc650/dsc650/assignments/assignment10/data/sample.txt'"
      ]
     },
     "execution_count": 8,
     "metadata": {},
     "output_type": "execute_result"
    }
   ],
   "source": [
    "file_name = \"sample.txt\"\n",
    "file_path = f\"{data_dir}/{file_name}\"\n",
    "file_path"
   ]
  },
  {
   "cell_type": "code",
   "execution_count": 9,
   "metadata": {},
   "outputs": [],
   "source": [
    "def tokenize(sentence):\n",
    "    tokens = []\n",
    "    words = sentence.split()\n",
    "    # tokenize the sentence\n",
    "    for word in words:\n",
    "        # allowing only alphabets\n",
    "        word = re.sub(\"[^a-zA-Z]\", \"\", word)\n",
    "        tokens.append(word)\n",
    "    return tokens"
   ]
  },
  {
   "cell_type": "code",
   "execution_count": 10,
   "metadata": {},
   "outputs": [
    {
     "data": {
      "text/plain": [
       "['it',\n",
       " 'was',\n",
       " '',\n",
       " 'minutes',\n",
       " 'after',\n",
       " 'midnight',\n",
       " 'the',\n",
       " 'dog',\n",
       " 'was',\n",
       " 'lying',\n",
       " 'on',\n",
       " 'the',\n",
       " 'grass',\n",
       " 'in',\n",
       " 'the',\n",
       " 'middle',\n",
       " 'of',\n",
       " 'the',\n",
       " 'lawn',\n",
       " 'in',\n",
       " 'front',\n",
       " 'of',\n",
       " 'mrs',\n",
       " 'shears',\n",
       " 'house',\n",
       " 'its',\n",
       " 'eyes',\n",
       " 'were',\n",
       " 'closed',\n",
       " 'it',\n",
       " 'looked',\n",
       " 'as',\n",
       " 'if',\n",
       " 'it',\n",
       " 'was',\n",
       " 'running',\n",
       " 'on',\n",
       " 'its',\n",
       " 'side',\n",
       " 'the',\n",
       " 'way',\n",
       " 'dogs',\n",
       " 'run',\n",
       " 'when',\n",
       " 'they',\n",
       " 'think',\n",
       " 'they',\n",
       " 'are',\n",
       " 'chasing',\n",
       " 'a',\n",
       " 'cat',\n",
       " 'in',\n",
       " 'a',\n",
       " 'dream',\n",
       " 'but',\n",
       " 'the',\n",
       " 'dog',\n",
       " 'was',\n",
       " 'not',\n",
       " 'running',\n",
       " 'or',\n",
       " 'asleep',\n",
       " 'the',\n",
       " 'dog',\n",
       " 'was',\n",
       " 'dead',\n",
       " 'there',\n",
       " 'was',\n",
       " 'a',\n",
       " 'garden',\n",
       " 'fork',\n",
       " 'sticking',\n",
       " 'out',\n",
       " 'of',\n",
       " 'the',\n",
       " 'dog',\n",
       " 'the',\n",
       " 'points',\n",
       " 'of',\n",
       " 'the',\n",
       " 'fork',\n",
       " 'must',\n",
       " 'have',\n",
       " 'gone',\n",
       " 'all',\n",
       " 'the',\n",
       " 'way',\n",
       " 'through',\n",
       " 'the',\n",
       " 'dog',\n",
       " 'and',\n",
       " 'into',\n",
       " 'the',\n",
       " 'ground',\n",
       " 'because',\n",
       " 'the',\n",
       " 'fork',\n",
       " 'had',\n",
       " 'not',\n",
       " 'fallen',\n",
       " 'over',\n",
       " 'i',\n",
       " 'decided',\n",
       " 'that',\n",
       " 'the',\n",
       " 'dog',\n",
       " 'was',\n",
       " 'probably',\n",
       " 'killed',\n",
       " 'with',\n",
       " 'the',\n",
       " 'fork',\n",
       " 'because',\n",
       " 'i',\n",
       " 'could',\n",
       " 'not',\n",
       " 'see',\n",
       " 'any',\n",
       " 'other',\n",
       " 'wounds',\n",
       " 'in',\n",
       " 'the',\n",
       " 'dog',\n",
       " 'and',\n",
       " 'i',\n",
       " 'do',\n",
       " 'not',\n",
       " 'think',\n",
       " 'you',\n",
       " 'would',\n",
       " 'stick',\n",
       " 'a',\n",
       " 'garden',\n",
       " 'fork',\n",
       " 'into',\n",
       " 'a',\n",
       " 'dog',\n",
       " 'after',\n",
       " 'it',\n",
       " 'had',\n",
       " 'died',\n",
       " 'for',\n",
       " 'some',\n",
       " 'other',\n",
       " 'reason',\n",
       " 'like',\n",
       " 'cancer',\n",
       " 'for',\n",
       " 'example',\n",
       " 'or',\n",
       " 'a',\n",
       " 'road',\n",
       " 'accident',\n",
       " 'but',\n",
       " 'i',\n",
       " 'could',\n",
       " 'not',\n",
       " 'be',\n",
       " 'certain',\n",
       " 'about',\n",
       " 'this']"
      ]
     },
     "execution_count": 10,
     "metadata": {},
     "output_type": "execute_result"
    }
   ],
   "source": [
    "def call_tokenize():\n",
    "\twith open(f'{file_path}','r') as f:\n",
    "\t\tfor line in f:\n",
    "\t\t\tline = line.lower()\n",
    "\t\t\t# print(line, end = 'XX')\n",
    "\t\t\treturn tokenize(line)\n",
    "\n",
    "call_tokenize()"
   ]
  },
  {
   "cell_type": "markdown",
   "metadata": {},
   "source": [
    "#### Assignment 10.1.b\n",
    "\n",
    "Implement an `ngram` function that splits tokens into N-grams. "
   ]
  },
  {
   "cell_type": "code",
   "execution_count": 11,
   "metadata": {},
   "outputs": [],
   "source": [
    "def ngram(tokens, n):\n",
    "    # ngrams = []\n",
    "    # Create ngrams\n",
    "    # return ngrams\n",
    "    return print(list(zip(*[tokens[i:] for i in range(n)])))"
   ]
  },
  {
   "cell_type": "code",
   "execution_count": 12,
   "metadata": {},
   "outputs": [
    {
     "name": "stdout",
     "output_type": "stream",
     "text": [
      "[('it', 'was', ''), ('was', '', 'minutes'), ('', 'minutes', 'after'), ('minutes', 'after', 'midnight'), ('after', 'midnight', 'the'), ('midnight', 'the', 'dog'), ('the', 'dog', 'was'), ('dog', 'was', 'lying'), ('was', 'lying', 'on'), ('lying', 'on', 'the'), ('on', 'the', 'grass'), ('the', 'grass', 'in'), ('grass', 'in', 'the'), ('in', 'the', 'middle'), ('the', 'middle', 'of'), ('middle', 'of', 'the'), ('of', 'the', 'lawn'), ('the', 'lawn', 'in'), ('lawn', 'in', 'front'), ('in', 'front', 'of'), ('front', 'of', 'mrs'), ('of', 'mrs', 'shears'), ('mrs', 'shears', 'house'), ('shears', 'house', 'its'), ('house', 'its', 'eyes'), ('its', 'eyes', 'were'), ('eyes', 'were', 'closed'), ('were', 'closed', 'it'), ('closed', 'it', 'looked'), ('it', 'looked', 'as'), ('looked', 'as', 'if'), ('as', 'if', 'it'), ('if', 'it', 'was'), ('it', 'was', 'running'), ('was', 'running', 'on'), ('running', 'on', 'its'), ('on', 'its', 'side'), ('its', 'side', 'the'), ('side', 'the', 'way'), ('the', 'way', 'dogs'), ('way', 'dogs', 'run'), ('dogs', 'run', 'when'), ('run', 'when', 'they'), ('when', 'they', 'think'), ('they', 'think', 'they'), ('think', 'they', 'are'), ('they', 'are', 'chasing'), ('are', 'chasing', 'a'), ('chasing', 'a', 'cat'), ('a', 'cat', 'in'), ('cat', 'in', 'a'), ('in', 'a', 'dream'), ('a', 'dream', 'but'), ('dream', 'but', 'the'), ('but', 'the', 'dog'), ('the', 'dog', 'was'), ('dog', 'was', 'not'), ('was', 'not', 'running'), ('not', 'running', 'or'), ('running', 'or', 'asleep'), ('or', 'asleep', 'the'), ('asleep', 'the', 'dog'), ('the', 'dog', 'was'), ('dog', 'was', 'dead'), ('was', 'dead', 'there'), ('dead', 'there', 'was'), ('there', 'was', 'a'), ('was', 'a', 'garden'), ('a', 'garden', 'fork'), ('garden', 'fork', 'sticking'), ('fork', 'sticking', 'out'), ('sticking', 'out', 'of'), ('out', 'of', 'the'), ('of', 'the', 'dog'), ('the', 'dog', 'the'), ('dog', 'the', 'points'), ('the', 'points', 'of'), ('points', 'of', 'the'), ('of', 'the', 'fork'), ('the', 'fork', 'must'), ('fork', 'must', 'have'), ('must', 'have', 'gone'), ('have', 'gone', 'all'), ('gone', 'all', 'the'), ('all', 'the', 'way'), ('the', 'way', 'through'), ('way', 'through', 'the'), ('through', 'the', 'dog'), ('the', 'dog', 'and'), ('dog', 'and', 'into'), ('and', 'into', 'the'), ('into', 'the', 'ground'), ('the', 'ground', 'because'), ('ground', 'because', 'the'), ('because', 'the', 'fork'), ('the', 'fork', 'had'), ('fork', 'had', 'not'), ('had', 'not', 'fallen'), ('not', 'fallen', 'over'), ('fallen', 'over', 'i'), ('over', 'i', 'decided'), ('i', 'decided', 'that'), ('decided', 'that', 'the'), ('that', 'the', 'dog'), ('the', 'dog', 'was'), ('dog', 'was', 'probably'), ('was', 'probably', 'killed'), ('probably', 'killed', 'with'), ('killed', 'with', 'the'), ('with', 'the', 'fork'), ('the', 'fork', 'because'), ('fork', 'because', 'i'), ('because', 'i', 'could'), ('i', 'could', 'not'), ('could', 'not', 'see'), ('not', 'see', 'any'), ('see', 'any', 'other'), ('any', 'other', 'wounds'), ('other', 'wounds', 'in'), ('wounds', 'in', 'the'), ('in', 'the', 'dog'), ('the', 'dog', 'and'), ('dog', 'and', 'i'), ('and', 'i', 'do'), ('i', 'do', 'not'), ('do', 'not', 'think'), ('not', 'think', 'you'), ('think', 'you', 'would'), ('you', 'would', 'stick'), ('would', 'stick', 'a'), ('stick', 'a', 'garden'), ('a', 'garden', 'fork'), ('garden', 'fork', 'into'), ('fork', 'into', 'a'), ('into', 'a', 'dog'), ('a', 'dog', 'after'), ('dog', 'after', 'it'), ('after', 'it', 'had'), ('it', 'had', 'died'), ('had', 'died', 'for'), ('died', 'for', 'some'), ('for', 'some', 'other'), ('some', 'other', 'reason'), ('other', 'reason', 'like'), ('reason', 'like', 'cancer'), ('like', 'cancer', 'for'), ('cancer', 'for', 'example'), ('for', 'example', 'or'), ('example', 'or', 'a'), ('or', 'a', 'road'), ('a', 'road', 'accident'), ('road', 'accident', 'but'), ('accident', 'but', 'i'), ('but', 'i', 'could'), ('i', 'could', 'not'), ('could', 'not', 'be'), ('not', 'be', 'certain'), ('be', 'certain', 'about'), ('certain', 'about', 'this')]\n"
     ]
    }
   ],
   "source": [
    "def call_ngram():\n",
    "\twith open(f'{file_path}','r') as f:\n",
    "\t\tfor line in f:\n",
    "\t\t\tline = line.lower()\n",
    "\t\t\t# print(line, end = 'XX')\n",
    "\t\t\treturn ngram(tokenize(line),3)\n",
    "\n",
    "call_ngram()"
   ]
  },
  {
   "cell_type": "markdown",
   "metadata": {},
   "source": [
    "#### Assignment 10.1.c\n",
    "\n",
    "Implement an one_hot_encode function to create a vector from a numerical vector from a list of tokens."
   ]
  },
  {
   "cell_type": "code",
   "execution_count": 13,
   "metadata": {},
   "outputs": [],
   "source": [
    "def one_hot_encode(tokens, num_words):\n",
    "    token_index = {}\n",
    "    results = ''\n",
    "    return results"
   ]
  },
  {
   "cell_type": "markdown",
   "metadata": {},
   "source": [
    "#### 10.2\n",
    "\n",
    "Using listings 6.16, 6.17, and 6.18 in Deep Learning with Python as a guide, train a sequential model with embeddings on the IMDB data found in data/external/imdb/. Produce the model performance metrics and training and validation accuracy curves within the Jupyter notebook."
   ]
  },
  {
   "cell_type": "code",
   "execution_count": 14,
   "metadata": {},
   "outputs": [],
   "source": [
    "# Processing the labels of the raw IMDB data\n",
    "train_dir = imdb_dir.joinpath('train')\n",
    "labels_train = []\n",
    "texts_train = []\n",
    "\n",
    "for label_type in ['neg','pos']:\n",
    "\tdir_name = train_dir.joinpath(label_type) \n",
    "\tfor fname in os.listdir(dir_name):\n",
    "\t\tif fname[-4:] == '.txt':\n",
    "\t\t\tf = open(dir_name.joinpath(fname))\n",
    "\t\t\ttexts_train.append(f.read())\n",
    "\t\t\tf.close()\n",
    "\t\t\tif label_type == 'neg':\n",
    "\t\t\t\tlabels_train.append(0)\n",
    "\t\t\telse:\n",
    "\t\t\t\tlabels_train.append(1)"
   ]
  },
  {
   "cell_type": "code",
   "execution_count": 15,
   "metadata": {},
   "outputs": [
    {
     "name": "stdout",
     "output_type": "stream",
     "text": [
      "Found 88582 unique tokens.\n",
      "Shape of data tensor: (25000, 100)\n",
      "Shape of label tensor: (25000,)\n"
     ]
    }
   ],
   "source": [
    "# Tokenizing the text of the raw IMDB data\n",
    "\n",
    "from keras.preprocessing.text import Tokenizer\n",
    "from keras.preprocessing.sequence import pad_sequences\n",
    "import numpy as np\n",
    "\n",
    "# cuts off reviews after 100 words\n",
    "maxlen = 100\n",
    "# trains 200 samples\n",
    "training_samples = 200\n",
    "#validates on 10,000 samples\n",
    "validation_samples = 10000\n",
    "# considers only the top 10,000 words in the dataset\n",
    "max_words = 10000\n",
    "\n",
    "tokenizer = Tokenizer(num_words=max_words)\n",
    "tokenizer.fit_on_texts(texts_train)\n",
    "sequences = tokenizer.texts_to_sequences(texts_train)\n",
    "word_index = tokenizer.word_index\n",
    "print('Found %s unique tokens.' % len(word_index))\n",
    "data = pad_sequences(sequences, maxlen=maxlen)\n",
    "labels = np.asarray(labels_train)\n",
    "print('Shape of data tensor:', data.shape)\n",
    "print('Shape of label tensor:', labels.shape)\n",
    "\n",
    "# Splits the data into a training set and a validation set, but first shuffles the data,\n",
    "# because you’re starting with data in which samples are ordered (all negative first, then all positive)\n",
    "\n",
    "indices = np.arange(data.shape[0])\n",
    "np.random.shuffle(indices)\n",
    "data = data[indices]\n",
    "labels = labels[indices]\n",
    "\n",
    "x_train = data[:training_samples]\n",
    "y_train = labels[:training_samples]\n",
    "x_val = data[training_samples: training_samples + validation_samples]\n",
    "y_val = labels[training_samples: training_samples + validation_samples]"
   ]
  },
  {
   "cell_type": "code",
   "execution_count": 16,
   "metadata": {},
   "outputs": [
    {
     "name": "stdout",
     "output_type": "stream",
     "text": [
      "Found 400000 word vectors.\n",
      "Model: \"sequential\"\n",
      "_________________________________________________________________\n",
      "Layer (type)                 Output Shape              Param #   \n",
      "=================================================================\n",
      "embedding (Embedding)        (None, 100, 100)          1000000   \n",
      "_________________________________________________________________\n",
      "flatten (Flatten)            (None, 10000)             0         \n",
      "_________________________________________________________________\n",
      "dense (Dense)                (None, 32)                320032    \n",
      "_________________________________________________________________\n",
      "dense_1 (Dense)              (None, 1)                 33        \n",
      "=================================================================\n",
      "Total params: 1,320,065\n",
      "Trainable params: 1,320,065\n",
      "Non-trainable params: 0\n",
      "_________________________________________________________________\n"
     ]
    }
   ],
   "source": [
    "# Parsing the GloVe word-embeddings file\n",
    "glove_dir = '/home/jovyan/glove.6B'\n",
    "\n",
    "embeddings_index = {}\n",
    "f = open(os.path.join(glove_dir, 'glove.6B.100d.txt'))\n",
    "for line in f:\n",
    "    values = line.split()\n",
    "    word = values[0]\n",
    "    coefs = np.asarray(values[1:], dtype='float32')\n",
    "    embeddings_index[word] = coefs\n",
    "f.close()\n",
    "\n",
    "print('Found %s word vectors.' % len(embeddings_index))\n",
    "\n",
    "# Preparing the GloVe word-embeddings matrix\n",
    "\n",
    "embedding_dim = 100\n",
    "embedding_matrix = np.zeros((max_words, embedding_dim))\n",
    "for word, i in word_index.items():\n",
    "    if i < max_words:\n",
    "        embedding_vector = embeddings_index.get(word)\n",
    "        if embedding_vector is not None:\n",
    "            embedding_matrix[i] = embedding_vector\n",
    "            \n",
    "# Training the same model without pretrained word embeddings\n",
    "# Model Definition\n",
    "\n",
    "from keras.models import Sequential\n",
    "from keras.layers import Embedding, Flatten, Dense\n",
    "\n",
    "model = Sequential()\n",
    "model.add(Embedding(max_words, embedding_dim, input_length=maxlen))\n",
    "model.add(Flatten())\n",
    "model.add(Dense(32, activation='relu'))\n",
    "model.add(Dense(1, activation='sigmoid'))\n",
    "model.summary()\n"
   ]
  },
  {
   "cell_type": "code",
   "execution_count": 17,
   "metadata": {},
   "outputs": [
    {
     "name": "stdout",
     "output_type": "stream",
     "text": [
      "Epoch 1/10\n",
      "7/7 [==============================] - 1s 155ms/step - loss: 0.6905 - acc: 0.4900 - val_loss: 0.7009 - val_acc: 0.5121\n",
      "Epoch 2/10\n",
      "7/7 [==============================] - 1s 120ms/step - loss: 0.4820 - acc: 0.9750 - val_loss: 0.7136 - val_acc: 0.5242\n",
      "Epoch 3/10\n",
      "7/7 [==============================] - 1s 108ms/step - loss: 0.2592 - acc: 0.9950 - val_loss: 0.7174 - val_acc: 0.5362\n",
      "Epoch 4/10\n",
      "7/7 [==============================] - 1s 116ms/step - loss: 0.1063 - acc: 1.0000 - val_loss: 0.7318 - val_acc: 0.5408\n",
      "Epoch 5/10\n",
      "7/7 [==============================] - 1s 112ms/step - loss: 0.0483 - acc: 1.0000 - val_loss: 0.7349 - val_acc: 0.5401\n",
      "Epoch 6/10\n",
      "7/7 [==============================] - 1s 114ms/step - loss: 0.0245 - acc: 1.0000 - val_loss: 0.7433 - val_acc: 0.5423\n",
      "Epoch 7/10\n",
      "7/7 [==============================] - 1s 113ms/step - loss: 0.0137 - acc: 1.0000 - val_loss: 0.7493 - val_acc: 0.5446\n",
      "Epoch 8/10\n",
      "7/7 [==============================] - 1s 109ms/step - loss: 0.0079 - acc: 1.0000 - val_loss: 0.7558 - val_acc: 0.5429\n",
      "Epoch 9/10\n",
      "7/7 [==============================] - 1s 108ms/step - loss: 0.0047 - acc: 1.0000 - val_loss: 0.7773 - val_acc: 0.5469\n",
      "Epoch 10/10\n",
      "7/7 [==============================] - 1s 111ms/step - loss: 0.0029 - acc: 1.0000 - val_loss: 0.7853 - val_acc: 0.5456\n"
     ]
    }
   ],
   "source": [
    "# Training and Evaluating the model\n",
    "\n",
    "model.compile(optimizer='rmsprop',\n",
    "              loss='binary_crossentropy',\n",
    "              metrics=['acc'])\n",
    "history = model.fit(x_train, y_train,\n",
    "                    epochs=10,\n",
    "                    batch_size=32,\n",
    "                    validation_data=(x_val, y_val))\n"
   ]
  },
  {
   "cell_type": "markdown",
   "metadata": {},
   "source": [
    "#### The accuracy = 1.0"
   ]
  },
  {
   "cell_type": "code",
   "execution_count": 18,
   "metadata": {},
   "outputs": [],
   "source": [
    "#saving the model\n",
    "model.save_weights('glove_model.h5')"
   ]
  },
  {
   "cell_type": "code",
   "execution_count": 19,
   "metadata": {},
   "outputs": [
    {
     "data": {
      "image/png": "[encoded data removed]",
      "text/plain": [
       "<Figure size 432x288 with 1 Axes>"
      ]
     },
     "metadata": {
      "needs_background": "light"
     },
     "output_type": "display_data"
    },
    {
     "data": {
      "image/png": "[encoded data removed]",
      "text/plain": [
       "<Figure size 432x288 with 1 Axes>"
      ]
     },
     "metadata": {
      "needs_background": "light"
     },
     "output_type": "display_data"
    }
   ],
   "source": [
    "# Plotting the results from the training and validation set\n",
    "\n",
    "import matplotlib.pyplot as plt\n",
    "\n",
    "acc = history.history['acc']\n",
    "val_acc = history.history['val_acc']\n",
    "loss = history.history['loss']\n",
    "val_loss = history.history['val_loss']\n",
    "\n",
    "epochs = range(1, len(acc) + 1)\n",
    "\n",
    "plt.plot(epochs, acc, 'bo', label='Training acc')\n",
    "plt.plot(epochs, val_acc, 'b', label='Validation acc')\n",
    "plt.title('Training and validation accuracy')\n",
    "plt.legend()\n",
    "plt.figure()\n",
    "plt.plot(epochs, loss, 'bo', label='Training loss')\n",
    "plt.plot(epochs, val_loss, 'b', label='Validation loss')\n",
    "plt.title('Training and validation loss')\n",
    "plt.legend()\n",
    "plt.show()"
   ]
  },
  {
   "cell_type": "code",
   "execution_count": 20,
   "metadata": {},
   "outputs": [
    {
     "name": "stdout",
     "output_type": "stream",
     "text": [
      "Shape of data tensor: (25000, 100)\n",
      "Shape of label tensor: (25000,)\n"
     ]
    }
   ],
   "source": [
    "# Tokenizing the data for the test set\n",
    "test_dir = imdb_dir.joinpath('test')\n",
    "labels = []\n",
    "texts = []\n",
    "\n",
    "for label_type in ['neg','pos']:\n",
    "\tdir_name = test_dir.joinpath(label_type) \n",
    "\tfor fname in os.listdir(dir_name):\n",
    "\t\tif fname[-4:] == '.txt':\n",
    "\t\t\tf = open(dir_name.joinpath(fname))\n",
    "\t\t\ttexts.append(f.read())\n",
    "\t\t\tf.close()\n",
    "\t\t\tif label_type == 'neg':\n",
    "\t\t\t\tlabels.append(0)\n",
    "\t\t\telse:\n",
    "\t\t\t\tlabels.append(1)\n",
    "                \n",
    "sequences = tokenizer.texts_to_sequences(texts)\n",
    "x_test = pad_sequences(sequences, maxlen=maxlen)\n",
    "y_test = np.asarray(labels)\n",
    "print('Shape of data tensor:', x_test.shape)\n",
    "print('Shape of label tensor:', y_test.shape)"
   ]
  },
  {
   "cell_type": "code",
   "execution_count": 21,
   "metadata": {},
   "outputs": [
    {
     "name": "stdout",
     "output_type": "stream",
     "text": [
      "782/782 [==============================] - 2s 2ms/step - loss: 0.7890 - acc: 0.5368\n"
     ]
    },
    {
     "data": {
      "text/plain": [
       "[0.7890199422836304, 0.5367599725723267]"
      ]
     },
     "execution_count": 21,
     "metadata": {},
     "output_type": "execute_result"
    }
   ],
   "source": [
    "# Load and evaluate the model on the test set\n",
    "model.load_weights('glove_model.h5')\n",
    "model.evaluate(x_test, y_test)"
   ]
  },
  {
   "cell_type": "code",
   "execution_count": 22,
   "metadata": {},
   "outputs": [],
   "source": [
    "#### The accuracy is 53.68"
   ]
  },
  {
   "cell_type": "code",
   "execution_count": 23,
   "metadata": {},
   "outputs": [
    {
     "data": {
      "image/png": "[encoded data removed]",
      "text/plain": [
       "<Figure size 432x288 with 1 Axes>"
      ]
     },
     "metadata": {
      "needs_background": "light"
     },
     "output_type": "display_data"
    },
    {
     "data": {
      "image/png": "[encoded data removed]",
      "text/plain": [
       "<Figure size 432x288 with 1 Axes>"
      ]
     },
     "metadata": {
      "needs_background": "light"
     },
     "output_type": "display_data"
    }
   ],
   "source": [
    "# Plotting the results from the test set\n",
    "\n",
    "acc = history.history['acc']\n",
    "loss = history.history['loss']\n",
    "\n",
    "epochs = range(1, len(acc) + 1)\n",
    "\n",
    "plt.plot(epochs, acc, 'bo', label='Test acc')\n",
    "plt.title('Test accuracy')\n",
    "plt.legend()\n",
    "plt.figure()\n",
    "plt.plot(epochs, loss, 'bo', label='Test loss')\n",
    "plt.title('Test loss')\n",
    "plt.legend()\n",
    "plt.show()"
   ]
  },
  {
   "cell_type": "markdown",
   "metadata": {},
   "source": [
    "#### 10.3\n",
    "Using listing 6.27 in Deep Learning with Python as a guide, fit the same data with an LSTM layer. Produce the model performance metrics and training and validation accuracy curves within the Jupyter notebook."
   ]
  },
  {
   "cell_type": "code",
   "execution_count": 24,
   "metadata": {},
   "outputs": [],
   "source": [
    "def load_raw_imdb(source_dir):\n",
    "    labels = []\n",
    "    texts = []\n",
    "\n",
    "    for label_type in ['neg','pos']:\n",
    "        dir_name = source_dir.joinpath(label_type) \n",
    "        for fname in os.listdir(dir_name):\n",
    "            if fname[-4:] == '.txt':\n",
    "                f = open(dir_name.joinpath(fname))\n",
    "                texts.append(f.read())\n",
    "                f.close()\n",
    "                if label_type == 'neg':\n",
    "                    labels.append(0)\n",
    "                else:\n",
    "                    labels.append(1)\n",
    "    \n",
    "    labels = np.asarray(labels)\n",
    "    return texts,labels"
   ]
  },
  {
   "cell_type": "code",
   "execution_count": 25,
   "metadata": {},
   "outputs": [
    {
     "name": "stdout",
     "output_type": "stream",
     "text": [
      "Loading Training data...\n",
      "25000 train sequences\n",
      "Loading Test data...\n",
      "25000 test sequences\n"
     ]
    }
   ],
   "source": [
    "# Processing the labels of the raw IMDB data\n",
    "train_dir = imdb_dir.joinpath('train')\n",
    "print('Loading Training data...')\n",
    " \n",
    "(input_train, y_train) = load_raw_imdb(train_dir)\n",
    "print(len(input_train), 'train sequences')\n",
    "\n",
    "test_dir = imdb_dir.joinpath('test')\n",
    "print('Loading Test data...')\n",
    " \n",
    "(input_test, y_test) = load_raw_imdb(test_dir)\n",
    "print(len(input_test), 'test sequences')"
   ]
  },
  {
   "cell_type": "code",
   "execution_count": 26,
   "metadata": {},
   "outputs": [
    {
     "name": "stdout",
     "output_type": "stream",
     "text": [
      "Loading data...\n",
      "25000 train sequences\n",
      "25000 test sequences\n",
      "Pad sequences (samples x time)\n",
      "input_train shape: (25000, 500)\n",
      "input_test shape: (25000, 500)\n"
     ]
    }
   ],
   "source": [
    "# Using the same train and test data set from the above dataset\n",
    "# Preparing the dataset differently\n",
    "from keras.preprocessing.text import Tokenizer\n",
    "from keras.preprocessing import sequence\n",
    "\n",
    "# Number of words to consider in the features\n",
    "max_features = 10000\n",
    "# Cuts off texts after this many words \n",
    "# (among the max_features most common words)\n",
    "maxlen = 500\n",
    "batch_size = 32\n",
    "\n",
    "train_dir = imdb_dir.joinpath('train')\n",
    "test_dir = imdb_dir.joinpath('test')\n",
    "print('Loading data...')\n",
    "(input_train, y_train) =  load_raw_imdb(train_dir)\n",
    "(input_test, y_test) = load_raw_imdb(test_dir)\n",
    "print(len(input_train), 'train sequences')\n",
    "print(len(input_test), 'test sequences')\n",
    "\n",
    "tokenizer = Tokenizer(num_words=max_features)\n",
    "\n",
    "print('Pad sequences (samples x time)')\n",
    "tokenizer.fit_on_texts(input_train)\n",
    "sequences = tokenizer.texts_to_sequences(input_train)\n",
    "input_train = sequence.pad_sequences(sequences, maxlen=maxlen)\n",
    "\n",
    "tokenizer.fit_on_texts(input_test)\n",
    "sequences = tokenizer.texts_to_sequences(input_test)\n",
    "input_test = sequence.pad_sequences(sequences, maxlen=maxlen)\n",
    "print('input_train shape:', input_train.shape)\n",
    "print('input_test shape:', input_test.shape)"
   ]
  },
  {
   "cell_type": "code",
   "execution_count": 27,
   "metadata": {},
   "outputs": [
    {
     "name": "stdout",
     "output_type": "stream",
     "text": [
      "Model: \"sequential_1\"\n",
      "_________________________________________________________________\n",
      "Layer (type)                 Output Shape              Param #   \n",
      "=================================================================\n",
      "embedding_1 (Embedding)      (None, None, 32)          320000    \n",
      "_________________________________________________________________\n",
      "lstm (LSTM)                  (None, 32)                8320      \n",
      "_________________________________________________________________\n",
      "dense_2 (Dense)              (None, 1)                 33        \n",
      "=================================================================\n",
      "Total params: 328,353\n",
      "Trainable params: 328,353\n",
      "Non-trainable params: 0\n",
      "_________________________________________________________________\n"
     ]
    }
   ],
   "source": [
    "# Using LSTM layers in keras\n",
    "# Model summary\n",
    "\n",
    "from keras.layers import Embedding\n",
    "from keras.layers import LSTM\n",
    "\n",
    "model = Sequential()\n",
    "model.add(Embedding(max_features, 32))\n",
    "model.add(LSTM(32))\n",
    "model.add(Dense(1, activation='sigmoid'))\n",
    "model.summary()"
   ]
  },
  {
   "cell_type": "code",
   "execution_count": 28,
   "metadata": {},
   "outputs": [
    {
     "name": "stdout",
     "output_type": "stream",
     "text": [
      "Epoch 1/10\n",
      "157/157 [==============================] - 70s 447ms/step - loss: 0.5088 - acc: 0.7531 - val_loss: 0.5543 - val_acc: 0.8182\n",
      "Epoch 2/10\n",
      "157/157 [==============================] - 68s 436ms/step - loss: 0.2978 - acc: 0.8850 - val_loss: 0.7962 - val_acc: 0.6596\n",
      "Epoch 3/10\n",
      "157/157 [==============================] - 67s 430ms/step - loss: 0.2310 - acc: 0.9127 - val_loss: 0.5821 - val_acc: 0.7720\n",
      "Epoch 4/10\n",
      "157/157 [==============================] - 68s 434ms/step - loss: 0.1951 - acc: 0.9275 - val_loss: 0.5471 - val_acc: 0.7854\n",
      "Epoch 5/10\n",
      "157/157 [==============================] - 68s 435ms/step - loss: 0.1699 - acc: 0.9403 - val_loss: 0.7198 - val_acc: 0.7648\n",
      "Epoch 6/10\n",
      "157/157 [==============================] - 71s 449ms/step - loss: 0.1531 - acc: 0.9446 - val_loss: 0.6924 - val_acc: 0.7324\n",
      "Epoch 7/10\n",
      "157/157 [==============================] - 68s 431ms/step - loss: 0.1349 - acc: 0.9507 - val_loss: 0.2784 - val_acc: 0.8928\n",
      "Epoch 8/10\n",
      "157/157 [==============================] - 68s 433ms/step - loss: 0.1247 - acc: 0.9556 - val_loss: 0.1839 - val_acc: 0.9304\n",
      "Epoch 9/10\n",
      "157/157 [==============================] - 68s 436ms/step - loss: 0.1137 - acc: 0.9597 - val_loss: 0.0779 - val_acc: 0.9728\n",
      "Epoch 10/10\n",
      "157/157 [==============================] - 67s 429ms/step - loss: 0.1056 - acc: 0.9655 - val_loss: 0.8432 - val_acc: 0.6900\n"
     ]
    }
   ],
   "source": [
    "# Training and evaluating the model\n",
    "\n",
    "model.compile(optimizer='rmsprop',\n",
    "              loss='binary_crossentropy',\n",
    "              metrics=['acc'])\n",
    "history = model.fit(input_train, y_train,\n",
    "                    epochs=10,\n",
    "                    batch_size=128,\n",
    "                    validation_split=0.2)"
   ]
  },
  {
   "cell_type": "markdown",
   "metadata": {},
   "source": [
    "#### Accuracy = 96.63 / 96.55"
   ]
  },
  {
   "cell_type": "code",
   "execution_count": 29,
   "metadata": {},
   "outputs": [],
   "source": [
    "#saving the model\n",
    "model.save_weights('LSTM_model.h5')"
   ]
  },
  {
   "cell_type": "code",
   "execution_count": 30,
   "metadata": {},
   "outputs": [
    {
     "data": {
      "image/png": "[encoded data removed]",
      "text/plain": [
       "<Figure size 432x288 with 1 Axes>"
      ]
     },
     "metadata": {
      "needs_background": "light"
     },
     "output_type": "display_data"
    },
    {
     "data": {
      "image/png": "[encoded data removed]",
      "text/plain": [
       "<Figure size 432x288 with 1 Axes>"
      ]
     },
     "metadata": {
      "needs_background": "light"
     },
     "output_type": "display_data"
    }
   ],
   "source": [
    "# Plotting the results from the test set\n",
    "\n",
    "acc = history.history['acc']\n",
    "loss = history.history['loss']\n",
    "\n",
    "epochs = range(1, len(acc) + 1)\n",
    "\n",
    "plt.plot(epochs, acc, 'bo', label='Test acc')\n",
    "plt.title('Test accuracy')\n",
    "plt.legend()\n",
    "plt.figure()\n",
    "plt.plot(epochs, loss, 'bo', label='Test loss')\n",
    "plt.title('Test loss')\n",
    "plt.legend()\n",
    "plt.show()"
   ]
  },
  {
   "cell_type": "code",
   "execution_count": null,
   "metadata": {},
   "outputs": [],
   "source": []
  }
 ],
 "metadata": {
  "interpreter": {
   "hash": "eaa595ef62feebb7391c21f4631d0608c59ea8040a4240c26bcafde459863554"
  },
  "kernelspec": {
   "display_name": "Python 3",
   "language": "python",
   "name": "python3"
  },
  "language_info": {
   "codemirror_mode": {
    "name": "ipython",
    "version": 3
   },
   "file_extension": ".py",
   "mimetype": "text/x-python",
   "name": "python",
   "nbconvert_exporter": "python",
   "pygments_lexer": "ipython3",
   "version": "3.8.3"
  }
 },
 "nbformat": 4,
 "nbformat_minor": 2
}
