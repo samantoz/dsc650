{
 "cells": [
  {
   "cell_type": "code",
   "execution_count": 13,
   "metadata": {},
   "outputs": [],
   "source": [
    "from keras.datasets import imdb\n",
    "import numpy as np"
   ]
  },
  {
   "cell_type": "code",
   "execution_count": 14,
   "metadata": {},
   "outputs": [],
   "source": [
    "# Loading the IMDB Data set\n",
    "# num_words=10000 means keeping the top 10,000 most frequently occurring words in the training data\n",
    " \n",
    "(train_data, train_labels), (test_data, test_labels) = imdb.load_data(num_words=10000)"
   ]
  },
  {
   "cell_type": "code",
   "execution_count": null,
   "metadata": {},
   "outputs": [],
   "source": [
    "train_data[0]"
   ]
  },
  {
   "cell_type": "code",
   "execution_count": null,
   "metadata": {},
   "outputs": [],
   "source": [
    "train_labels[0]"
   ]
  },
  {
   "cell_type": "code",
   "execution_count": null,
   "metadata": {},
   "outputs": [],
   "source": [
    "max([max(sequence) for sequence in train_data])"
   ]
  },
  {
   "cell_type": "code",
   "execution_count": 15,
   "metadata": {},
   "outputs": [],
   "source": [
    "# Preparing the data and making it ready to be fed into a neural network\n",
    "# Encoding the integer sequences into a binary matrix\n",
    "\n",
    "def vectorize_sequences(sequences, dimension=10000):\n",
    "\t# creates an all-zero matrix of shape \n",
    "\tresults = np.zeros((len(sequences), dimension))\n",
    "\tfor i, sequence in enumerate(sequences):\n",
    "\t\t# sets specific indices of results[i] to 1s\n",
    "\t\tresults[i, sequence] = 1\n",
    "\treturn results\n",
    "\n",
    "# Vectorize Training data\n",
    "x_train = vectorize_sequences(train_data)\n",
    "\n",
    "#Vectorize test data\n",
    "x_test = vectorize_sequences(test_data)\n",
    "\n",
    "# Vectorize the labels\n",
    "y_train = np.asarray(train_labels).astype('float32')\n",
    "y_test = np.asarray(test_labels).astype('float32')\n"
   ]
  },
  {
   "cell_type": "code",
   "execution_count": 16,
   "metadata": {},
   "outputs": [
    {
     "name": "stdout",
     "output_type": "stream",
     "text": [
      "Epoch 1/4\n",
      "25000/25000 [==============================] - 2s 82us/step - loss: 0.4362 - accuracy: 0.8256\n",
      "Epoch 2/4\n",
      "25000/25000 [==============================] - 2s 73us/step - loss: 0.2516 - accuracy: 0.9097\n",
      "Epoch 3/4\n",
      "25000/25000 [==============================] - 2s 69us/step - loss: 0.1953 - accuracy: 0.9295\n",
      "Epoch 4/4\n",
      "25000/25000 [==============================] - 2s 69us/step - loss: 0.1664 - accuracy: 0.9382\n",
      "25000/25000 [==============================] - 3s 101us/step\n"
     ]
    }
   ],
   "source": [
    "# The model definition\n",
    "\n",
    "from keras import models\n",
    "from keras import layers\n",
    "\n",
    "model = models.Sequential()\n",
    "model.add(layers.Dense(16, activation='relu', input_shape=(10000,)))\n",
    "model.add(layers.Dense(16, activation='relu'))\n",
    "model.add(layers.Dense(1, activation='sigmoid'))\n",
    "\n",
    "# compiling the model\n",
    "model.compile(\n",
    "\toptimizer='rmsprop',\n",
    "\tloss='binary_crossentropy',\n",
    "\tmetrics=['accuracy']\n",
    "\t)\n",
    "model.fit(x_train, y_train, epochs=4, batch_size=512)\n",
    "results = model.evaluate(x_test, y_test)"
   ]
  },
  {
   "cell_type": "code",
   "execution_count": 17,
   "metadata": {},
   "outputs": [
    {
     "data": {
      "text/plain": [
       "[0.29697418256759645, 0.8825600147247314]"
      ]
     },
     "execution_count": 17,
     "metadata": {},
     "output_type": "execute_result"
    }
   ],
   "source": [
    "# This fairly naive approach achieves an accuracy of 88%. With state-of-the-art approaches, you should be able to get close to 95%.\n",
    "results\n"
   ]
  },
  {
   "cell_type": "code",
   "execution_count": 18,
   "metadata": {},
   "outputs": [
    {
     "data": {
      "text/plain": [
       "array([[0.16538502],\n",
       "       [0.9999002 ],\n",
       "       [0.77290714],\n",
       "       ...,\n",
       "       [0.09522235],\n",
       "       [0.07184319],\n",
       "       [0.647887  ]], dtype=float32)"
      ]
     },
     "execution_count": 18,
     "metadata": {},
     "output_type": "execute_result"
    }
   ],
   "source": [
    "# generate predictions\n",
    "model.predict(x_test)"
   ]
  }
 ],
 "metadata": {
  "interpreter": {
   "hash": "d18a9889dea234ea0a2ae94165273cf00045647714b4daa7d07ae97b3e052eb7"
  },
  "kernelspec": {
   "display_name": "Python 3.6.10 64-bit ('BU_DSC': conda)",
   "language": "python",
   "name": "python3"
  },
  "language_info": {
   "codemirror_mode": {
    "name": "ipython",
    "version": 3
   },
   "file_extension": ".py",
   "mimetype": "text/x-python",
   "name": "python",
   "nbconvert_exporter": "python",
   "pygments_lexer": "ipython3",
   "version": "3.6.10"
  },
  "orig_nbformat": 4
 },
 "nbformat": 4,
 "nbformat_minor": 2
}
