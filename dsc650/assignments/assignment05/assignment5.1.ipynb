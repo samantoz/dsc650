{
 "cells": [
  {
   "cell_type": "code",
   "execution_count": 1,
   "metadata": {},
   "outputs": [
    {
     "name": "stderr",
     "output_type": "stream",
     "text": [
      "Using TensorFlow backend.\n"
     ]
    }
   ],
   "source": [
    "from keras.datasets import imdb\n",
    "import numpy as np"
   ]
  },
  {
   "cell_type": "code",
   "execution_count": 2,
   "metadata": {},
   "outputs": [],
   "source": [
    "# Loading the IMDB Data set\n",
    "# num_words=10000 means keeping the top 10,000 most frequently occurring words in the training data\n",
    " \n",
    "(train_data, train_labels), (test_data, test_labels) = imdb.load_data(num_words=10000)"
   ]
  },
  {
   "cell_type": "code",
   "execution_count": null,
   "metadata": {},
   "outputs": [],
   "source": [
    "train_data[0]"
   ]
  },
  {
   "cell_type": "code",
   "execution_count": null,
   "metadata": {},
   "outputs": [],
   "source": [
    "train_labels[0]"
   ]
  },
  {
   "cell_type": "code",
   "execution_count": null,
   "metadata": {},
   "outputs": [],
   "source": [
    "max([max(sequence) for sequence in train_data])"
   ]
  },
  {
   "cell_type": "code",
   "execution_count": 3,
   "metadata": {},
   "outputs": [],
   "source": [
    "# Preparing the data and making it ready to be fed into a neural network\n",
    "# Encoding the integer sequences into a binary matrix\n",
    "\n",
    "def vectorize_sequences(sequences, dimension=10000):\n",
    "\t# creates an all-zero matrix of shape \n",
    "\tresults = np.zeros((len(sequences), dimension))\n",
    "\tfor i, sequence in enumerate(sequences):\n",
    "\t\t# sets specific indices of results[i] to 1s\n",
    "\t\tresults[i, sequence] = 1\n",
    "\treturn results\n",
    "\n",
    "# Vectorize Training data\n",
    "x_train = vectorize_sequences(train_data)\n",
    "\n",
    "#Vectorize test data\n",
    "x_test = vectorize_sequences(test_data)\n",
    "\n",
    "# Vectorize the labels\n",
    "y_train = np.asarray(train_labels).astype('float32')\n",
    "y_test = np.asarray(test_labels).astype('float32')\n"
   ]
  },
  {
   "cell_type": "code",
   "execution_count": 9,
   "metadata": {},
   "outputs": [
    {
     "name": "stdout",
     "output_type": "stream",
     "text": [
      "Epoch 1/4\n",
      "25000/25000 [==============================] - 3s 140us/step - loss: 0.5033 - accuracy: 0.7875\n",
      "Epoch 2/4\n",
      "25000/25000 [==============================] - 2s 77us/step - loss: 0.2787 - accuracy: 0.9076\n",
      "Epoch 3/4\n",
      "25000/25000 [==============================] - 2s 74us/step - loss: 0.2069 - accuracy: 0.9274\n",
      "Epoch 4/4\n",
      "25000/25000 [==============================] - 2s 70us/step - loss: 0.1709 - accuracy: 0.9400\n",
      "25000/25000 [==============================] - 5s 185us/step\n"
     ]
    }
   ],
   "source": [
    "# The model definition\n",
    "\n",
    "from keras import models\n",
    "from keras import layers\n",
    "\n",
    "model = models.Sequential()\n",
    "model.add(layers.Dense(16, activation='relu', input_shape=(10000,)))\n",
    "model.add(layers.Dense(16, activation='relu'))\n",
    "model.add(layers.Dense(1, activation='sigmoid'))\n",
    "\n",
    "# compiling the model\n",
    "model.compile(\n",
    "\toptimizer='rmsprop',\n",
    "\tloss='binary_crossentropy',\n",
    "\tmetrics=['accuracy']\n",
    "\t)\n",
    "model.fit(x_train, y_train, epochs=4, batch_size=512)\n",
    "results = model.evaluate(x_test, y_test)"
   ]
  },
  {
   "cell_type": "code",
   "execution_count": 10,
   "metadata": {},
   "outputs": [
    {
     "data": {
      "text/plain": [
       "[0.2918996464443207, 0.8858799934387207]"
      ]
     },
     "execution_count": 10,
     "metadata": {},
     "output_type": "execute_result"
    }
   ],
   "source": [
    "results"
   ]
  },
  {
   "cell_type": "code",
   "execution_count": 11,
   "metadata": {},
   "outputs": [
    {
     "data": {
      "text/plain": [
       "array([[0.18984903],\n",
       "       [0.99997246],\n",
       "       [0.88403714],\n",
       "       ...,\n",
       "       [0.15993348],\n",
       "       [0.07543217],\n",
       "       [0.68449146]], dtype=float32)"
      ]
     },
     "execution_count": 11,
     "metadata": {},
     "output_type": "execute_result"
    }
   ],
   "source": [
    "# generate predictions\n",
    "model.predict(x_test)"
   ]
  }
 ],
 "metadata": {
  "interpreter": {
   "hash": "d18a9889dea234ea0a2ae94165273cf00045647714b4daa7d07ae97b3e052eb7"
  },
  "kernelspec": {
   "display_name": "Python 3.6.10 64-bit ('BU_DSC': conda)",
   "language": "python",
   "name": "python3"
  },
  "language_info": {
   "codemirror_mode": {
    "name": "ipython",
    "version": 3
   },
   "file_extension": ".py",
   "mimetype": "text/x-python",
   "name": "python",
   "nbconvert_exporter": "python",
   "pygments_lexer": "ipython3",
   "version": "3.6.10"
  },
  "orig_nbformat": 4
 },
 "nbformat": 4,
 "nbformat_minor": 2
}
