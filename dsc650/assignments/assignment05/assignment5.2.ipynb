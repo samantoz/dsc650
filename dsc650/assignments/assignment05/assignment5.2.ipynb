{
 "cells": [
  {
   "cell_type": "code",
   "execution_count": 1,
   "metadata": {},
   "outputs": [
    {
     "name": "stderr",
     "output_type": "stream",
     "text": [
      "Using TensorFlow backend.\n"
     ]
    },
    {
     "data": {
      "text/plain": [
       "'2.3.1'"
      ]
     },
     "execution_count": 1,
     "metadata": {},
     "output_type": "execute_result"
    }
   ],
   "source": [
    "# A multi-class classification\n",
    "import keras\n",
    "keras.__version__"
   ]
  },
  {
   "cell_type": "code",
   "execution_count": 2,
   "metadata": {},
   "outputs": [],
   "source": [
    "from keras.datasets import reuters\n",
    "\n",
    "(train_data, train_labels), (test_data, test_labels) = reuters.load_data(num_words=10000)"
   ]
  },
  {
   "cell_type": "markdown",
   "metadata": {},
   "source": [
    "We have 8982 training data and 2246 test data"
   ]
  },
  {
   "cell_type": "code",
   "execution_count": 3,
   "metadata": {},
   "outputs": [
    {
     "name": "stdout",
     "output_type": "stream",
     "text": [
      "train_data 8982\n",
      "test_data 2246\n"
     ]
    }
   ],
   "source": [
    "print('train_data', len(train_data))\n",
    "print('test_data', len(test_data))"
   ]
  },
  {
   "cell_type": "code",
   "execution_count": 4,
   "metadata": {},
   "outputs": [],
   "source": [
    "# Preparing the data\n",
    "import numpy as np\n",
    "\n",
    "def vectorize_sequences(sequences, dimension=10000):\n",
    "    results = np.zeros((len(sequences), dimension))\n",
    "    for i, sequence in enumerate(sequences):\n",
    "        results[i, sequence] = 1.\n",
    "    return results\n",
    "\n",
    "# Our vectorized training data\n",
    "x_train = vectorize_sequences(train_data)\n",
    "# Our vectorized test data\n",
    "x_test = vectorize_sequences(test_data)"
   ]
  },
  {
   "cell_type": "code",
   "execution_count": 5,
   "metadata": {},
   "outputs": [],
   "source": [
    "from keras.utils.np_utils import to_categorical\n",
    "\n",
    "one_hot_train_labels = to_categorical(train_labels)\n",
    "one_hot_test_labels = to_categorical(test_labels)"
   ]
  },
  {
   "cell_type": "code",
   "execution_count": 6,
   "metadata": {},
   "outputs": [],
   "source": [
    "# Building the network\n",
    "from keras import models\n",
    "from keras import layers\n",
    "\n",
    "model = models.Sequential()\n",
    "model.add(layers.Dense(64, activation='relu', input_shape=(10000,)))\n",
    "model.add(layers.Dense(64, activation='relu'))\n",
    "model.add(layers.Dense(46, activation='softmax'))\n"
   ]
  },
  {
   "cell_type": "code",
   "execution_count": 7,
   "metadata": {},
   "outputs": [],
   "source": [
    "model.compile(optimizer='rmsprop',\n",
    "              loss='categorical_crossentropy',\n",
    "              metrics=['accuracy'])"
   ]
  },
  {
   "cell_type": "code",
   "execution_count": 8,
   "metadata": {},
   "outputs": [],
   "source": [
    "# Validating our approach\n",
    "x_val = x_train[:1000]\n",
    "partial_x_train = x_train[1000:]\n",
    "\n",
    "y_val = one_hot_train_labels[:1000]\n",
    "partial_y_train = one_hot_train_labels[1000:]\n"
   ]
  },
  {
   "cell_type": "code",
   "execution_count": 9,
   "metadata": {},
   "outputs": [
    {
     "name": "stdout",
     "output_type": "stream",
     "text": [
      "Train on 7982 samples, validate on 1000 samples\n",
      "Epoch 1/20\n",
      "7982/7982 [==============================] - 1s 124us/step - loss: 2.5492 - accuracy: 0.5175 - val_loss: 1.7229 - val_accuracy: 0.6350\n",
      "Epoch 2/20\n",
      "7982/7982 [==============================] - 1s 91us/step - loss: 1.4146 - accuracy: 0.7090 - val_loss: 1.3197 - val_accuracy: 0.7100\n",
      "Epoch 3/20\n",
      "7982/7982 [==============================] - 1s 94us/step - loss: 1.0551 - accuracy: 0.7764 - val_loss: 1.1530 - val_accuracy: 0.7530\n",
      "Epoch 4/20\n",
      "7982/7982 [==============================] - 1s 96us/step - loss: 0.8284 - accuracy: 0.8217 - val_loss: 1.0334 - val_accuracy: 0.7870\n",
      "Epoch 5/20\n",
      "7982/7982 [==============================] - 1s 93us/step - loss: 0.6554 - accuracy: 0.8629 - val_loss: 0.9619 - val_accuracy: 0.8080\n",
      "Epoch 6/20\n",
      "7982/7982 [==============================] - 1s 90us/step - loss: 0.5230 - accuracy: 0.8909 - val_loss: 0.9274 - val_accuracy: 0.8080\n",
      "Epoch 7/20\n",
      "7982/7982 [==============================] - 1s 90us/step - loss: 0.4182 - accuracy: 0.9108 - val_loss: 0.9188 - val_accuracy: 0.8100\n",
      "Epoch 8/20\n",
      "7982/7982 [==============================] - 1s 101us/step - loss: 0.3364 - accuracy: 0.9315 - val_loss: 0.9031 - val_accuracy: 0.8160\n",
      "Epoch 9/20\n",
      "7982/7982 [==============================] - 1s 104us/step - loss: 0.2790 - accuracy: 0.9386 - val_loss: 0.9630 - val_accuracy: 0.8020\n",
      "Epoch 10/20\n",
      "7982/7982 [==============================] - 1s 103us/step - loss: 0.2402 - accuracy: 0.9440 - val_loss: 0.9003 - val_accuracy: 0.8280\n",
      "Epoch 11/20\n",
      "7982/7982 [==============================] - 1s 95us/step - loss: 0.2009 - accuracy: 0.9470 - val_loss: 0.9436 - val_accuracy: 0.8160\n",
      "Epoch 12/20\n",
      "7982/7982 [==============================] - 1s 96us/step - loss: 0.1798 - accuracy: 0.9510 - val_loss: 0.9486 - val_accuracy: 0.8220\n",
      "Epoch 13/20\n",
      "7982/7982 [==============================] - 1s 96us/step - loss: 0.1626 - accuracy: 0.9526 - val_loss: 0.9917 - val_accuracy: 0.8140\n",
      "Epoch 14/20\n",
      "7982/7982 [==============================] - 1s 112us/step - loss: 0.1503 - accuracy: 0.9534 - val_loss: 0.9516 - val_accuracy: 0.8340\n",
      "Epoch 15/20\n",
      "7982/7982 [==============================] - 1s 179us/step - loss: 0.1379 - accuracy: 0.9544 - val_loss: 1.0441 - val_accuracy: 0.8090\n",
      "Epoch 16/20\n",
      "7982/7982 [==============================] - 1s 142us/step - loss: 0.1301 - accuracy: 0.9582 - val_loss: 0.9809 - val_accuracy: 0.8150\n",
      "Epoch 17/20\n",
      "7982/7982 [==============================] - 1s 149us/step - loss: 0.1231 - accuracy: 0.9579 - val_loss: 1.0358 - val_accuracy: 0.8160\n",
      "Epoch 18/20\n",
      "7982/7982 [==============================] - 1s 94us/step - loss: 0.1178 - accuracy: 0.9588 - val_loss: 1.0535 - val_accuracy: 0.8190\n",
      "Epoch 19/20\n",
      "7982/7982 [==============================] - 1s 96us/step - loss: 0.1127 - accuracy: 0.9579 - val_loss: 1.0812 - val_accuracy: 0.8070\n",
      "Epoch 20/20\n",
      "7982/7982 [==============================] - 1s 98us/step - loss: 0.1129 - accuracy: 0.9570 - val_loss: 1.1299 - val_accuracy: 0.8030\n"
     ]
    }
   ],
   "source": [
    "# train the network for 20 epochs\n",
    "history = model.fit(partial_x_train,\n",
    "                    partial_y_train,\n",
    "                    epochs=20,\n",
    "                    batch_size=512,\n",
    "                    validation_data=(x_val, y_val))"
   ]
  },
  {
   "cell_type": "code",
   "execution_count": 10,
   "metadata": {},
   "outputs": [
    {
     "data": {
      "image/png": "[encoded data removed]",
      "text/plain": [
       "<Figure size 432x288 with 1 Axes>"
      ]
     },
     "metadata": {
      "needs_background": "light"
     },
     "output_type": "display_data"
    }
   ],
   "source": [
    "# loss and accuracy curves\n",
    "\n",
    "import matplotlib.pyplot as plt\n",
    "\n",
    "loss = history.history['loss']\n",
    "val_loss = history.history['val_loss']\n",
    "\n",
    "epochs = range(1, len(loss) + 1)\n",
    "\n",
    "plt.plot(epochs, loss, 'bo', label='Training loss')\n",
    "plt.plot(epochs, val_loss, 'b', label='Validation loss')\n",
    "plt.title('Training and validation loss')\n",
    "plt.xlabel('Epochs')\n",
    "plt.ylabel('Loss')\n",
    "plt.legend()\n",
    "\n",
    "plt.show()"
   ]
  },
  {
   "cell_type": "code",
   "execution_count": 11,
   "metadata": {},
   "outputs": [
    {
     "data": {
      "image/png": "[encoded data removed]",
      "text/plain": [
       "<Figure size 432x288 with 1 Axes>"
      ]
     },
     "metadata": {
      "needs_background": "light"
     },
     "output_type": "display_data"
    }
   ],
   "source": [
    "plt.clf()   # clear figure\n",
    "\n",
    "acc = history.history['accuracy']\n",
    "val_acc = history.history['val_accuracy']\n",
    "\n",
    "plt.plot(epochs, acc, 'bo', label='Training acc')\n",
    "plt.plot(epochs, val_acc, 'b', label='Validation acc')\n",
    "plt.title('Training and validation accuracy')\n",
    "plt.xlabel('Epochs')\n",
    "plt.ylabel('Loss')\n",
    "plt.legend()\n",
    "\n",
    "plt.show()\n"
   ]
  },
  {
   "cell_type": "code",
   "execution_count": 13,
   "metadata": {},
   "outputs": [
    {
     "name": "stdout",
     "output_type": "stream",
     "text": [
      "2246/2246 [==============================] - 0s 108us/step\n"
     ]
    },
    {
     "data": {
      "text/plain": [
       "[1.256862762031657, 0.7831701040267944]"
      ]
     },
     "execution_count": 13,
     "metadata": {},
     "output_type": "execute_result"
    }
   ],
   "source": [
    "results = model.evaluate(x_test, one_hot_test_labels)\n",
    "results"
   ]
  },
  {
   "cell_type": "markdown",
   "metadata": {},
   "source": [
    "### accuracy reached is ~78% \n",
    "### Generating predictions on new data"
   ]
  },
  {
   "cell_type": "code",
   "execution_count": 16,
   "metadata": {},
   "outputs": [
    {
     "data": {
      "text/plain": [
       "(46,)"
      ]
     },
     "execution_count": 16,
     "metadata": {},
     "output_type": "execute_result"
    }
   ],
   "source": [
    "predictions = model.predict(x_test)\n",
    "predictions[0].shape"
   ]
  }
 ],
 "metadata": {
  "interpreter": {
   "hash": "d18a9889dea234ea0a2ae94165273cf00045647714b4daa7d07ae97b3e052eb7"
  },
  "kernelspec": {
   "display_name": "Python 3",
   "language": "python",
   "name": "python3"
  },
  "language_info": {
   "codemirror_mode": {
    "name": "ipython",
    "version": 3
   },
   "file_extension": ".py",
   "mimetype": "text/x-python",
   "name": "python",
   "nbconvert_exporter": "python",
   "pygments_lexer": "ipython3",
   "version": "3.6.10"
  }
 },
 "nbformat": 4,
 "nbformat_minor": 2
}
